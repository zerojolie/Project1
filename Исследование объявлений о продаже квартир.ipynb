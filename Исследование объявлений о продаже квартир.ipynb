{
 "cells": [
  {
   "cell_type": "markdown",
   "metadata": {},
   "source": [
    "# Исследование объявлений о продаже квартир\n",
    "\n",
    "В вашем распоряжении данные сервиса Яндекс.Недвижимость — архив объявлений о продаже квартир в Санкт-Петербурге и соседних населённых пунктов за несколько лет. Нужно научиться определять рыночную стоимость объектов недвижимости. Ваша задача — установить параметры. Это позволит построить автоматизированную систему: она отследит аномалии и мошенническую деятельность. \n",
    "\n",
    "По каждой квартире на продажу доступны два вида данных. Первые вписаны пользователем, вторые — получены автоматически на основе картографических данных. Например, расстояние до центра, аэропорта, ближайшего парка и водоёма. "
   ]
  },
  {
   "cell_type": "markdown",
   "metadata": {},
   "source": [
    "### Откройте файл с данными и изучите общую информацию. "
   ]
  },
  {
   "cell_type": "code",
   "execution_count": 1,
   "metadata": {},
   "outputs": [
    {
     "name": "stdout",
     "output_type": "stream",
     "text": [
      "<class 'pandas.core.frame.DataFrame'>\n",
      "RangeIndex: 23699 entries, 0 to 23698\n",
      "Data columns (total 22 columns):\n",
      " #   Column                Non-Null Count  Dtype  \n",
      "---  ------                --------------  -----  \n",
      " 0   total_images          23699 non-null  int64  \n",
      " 1   last_price            23699 non-null  float64\n",
      " 2   total_area            23699 non-null  float64\n",
      " 3   first_day_exposition  23699 non-null  object \n",
      " 4   rooms                 23699 non-null  int64  \n",
      " 5   ceiling_height        14504 non-null  float64\n",
      " 6   floors_total          23613 non-null  float64\n",
      " 7   living_area           21796 non-null  float64\n",
      " 8   floor                 23699 non-null  int64  \n",
      " 9   is_apartment          2775 non-null   object \n",
      " 10  studio                23699 non-null  bool   \n",
      " 11  open_plan             23699 non-null  bool   \n",
      " 12  kitchen_area          21421 non-null  float64\n",
      " 13  balcony               12180 non-null  float64\n",
      " 14  locality_name         23650 non-null  object \n",
      " 15  airports_nearest      18157 non-null  float64\n",
      " 16  cityCenters_nearest   18180 non-null  float64\n",
      " 17  parks_around3000      18181 non-null  float64\n",
      " 18  parks_nearest         8079 non-null   float64\n",
      " 19  ponds_around3000      18181 non-null  float64\n",
      " 20  ponds_nearest         9110 non-null   float64\n",
      " 21  days_exposition       20518 non-null  float64\n",
      "dtypes: bool(2), float64(14), int64(3), object(3)\n",
      "memory usage: 3.7+ MB\n"
     ]
    }
   ],
   "source": [
    "import pandas as pd\n",
    "from matplotlib import pyplot as plt\n",
    "import seaborn as sns\n",
    "data = pd.read_csv('/datasets/real_estate_data.csv',sep='\\t')\n",
    "data.info()"
   ]
  },
  {
   "cell_type": "code",
   "execution_count": 2,
   "metadata": {},
   "outputs": [
    {
     "data": {
      "text/html": [
       "<div>\n",
       "<style scoped>\n",
       "    .dataframe tbody tr th:only-of-type {\n",
       "        vertical-align: middle;\n",
       "    }\n",
       "\n",
       "    .dataframe tbody tr th {\n",
       "        vertical-align: top;\n",
       "    }\n",
       "\n",
       "    .dataframe thead th {\n",
       "        text-align: right;\n",
       "    }\n",
       "</style>\n",
       "<table border=\"1\" class=\"dataframe\">\n",
       "  <thead>\n",
       "    <tr style=\"text-align: right;\">\n",
       "      <th></th>\n",
       "      <th>total_images</th>\n",
       "      <th>last_price</th>\n",
       "      <th>total_area</th>\n",
       "      <th>first_day_exposition</th>\n",
       "      <th>rooms</th>\n",
       "      <th>ceiling_height</th>\n",
       "      <th>floors_total</th>\n",
       "      <th>living_area</th>\n",
       "      <th>floor</th>\n",
       "      <th>is_apartment</th>\n",
       "      <th>...</th>\n",
       "      <th>kitchen_area</th>\n",
       "      <th>balcony</th>\n",
       "      <th>locality_name</th>\n",
       "      <th>airports_nearest</th>\n",
       "      <th>cityCenters_nearest</th>\n",
       "      <th>parks_around3000</th>\n",
       "      <th>parks_nearest</th>\n",
       "      <th>ponds_around3000</th>\n",
       "      <th>ponds_nearest</th>\n",
       "      <th>days_exposition</th>\n",
       "    </tr>\n",
       "  </thead>\n",
       "  <tbody>\n",
       "    <tr>\n",
       "      <th>0</th>\n",
       "      <td>20</td>\n",
       "      <td>13000000.0</td>\n",
       "      <td>108.00</td>\n",
       "      <td>2019-03-07T00:00:00</td>\n",
       "      <td>3</td>\n",
       "      <td>2.70</td>\n",
       "      <td>16.0</td>\n",
       "      <td>51.00</td>\n",
       "      <td>8</td>\n",
       "      <td>NaN</td>\n",
       "      <td>...</td>\n",
       "      <td>25.00</td>\n",
       "      <td>NaN</td>\n",
       "      <td>Санкт-Петербург</td>\n",
       "      <td>18863.0</td>\n",
       "      <td>16028.0</td>\n",
       "      <td>1.0</td>\n",
       "      <td>482.0</td>\n",
       "      <td>2.0</td>\n",
       "      <td>755.0</td>\n",
       "      <td>NaN</td>\n",
       "    </tr>\n",
       "    <tr>\n",
       "      <th>1</th>\n",
       "      <td>7</td>\n",
       "      <td>3350000.0</td>\n",
       "      <td>40.40</td>\n",
       "      <td>2018-12-04T00:00:00</td>\n",
       "      <td>1</td>\n",
       "      <td>NaN</td>\n",
       "      <td>11.0</td>\n",
       "      <td>18.60</td>\n",
       "      <td>1</td>\n",
       "      <td>NaN</td>\n",
       "      <td>...</td>\n",
       "      <td>11.00</td>\n",
       "      <td>2.0</td>\n",
       "      <td>посёлок Шушары</td>\n",
       "      <td>12817.0</td>\n",
       "      <td>18603.0</td>\n",
       "      <td>0.0</td>\n",
       "      <td>NaN</td>\n",
       "      <td>0.0</td>\n",
       "      <td>NaN</td>\n",
       "      <td>81.0</td>\n",
       "    </tr>\n",
       "    <tr>\n",
       "      <th>2</th>\n",
       "      <td>10</td>\n",
       "      <td>5196000.0</td>\n",
       "      <td>56.00</td>\n",
       "      <td>2015-08-20T00:00:00</td>\n",
       "      <td>2</td>\n",
       "      <td>NaN</td>\n",
       "      <td>5.0</td>\n",
       "      <td>34.30</td>\n",
       "      <td>4</td>\n",
       "      <td>NaN</td>\n",
       "      <td>...</td>\n",
       "      <td>8.30</td>\n",
       "      <td>0.0</td>\n",
       "      <td>Санкт-Петербург</td>\n",
       "      <td>21741.0</td>\n",
       "      <td>13933.0</td>\n",
       "      <td>1.0</td>\n",
       "      <td>90.0</td>\n",
       "      <td>2.0</td>\n",
       "      <td>574.0</td>\n",
       "      <td>558.0</td>\n",
       "    </tr>\n",
       "    <tr>\n",
       "      <th>3</th>\n",
       "      <td>0</td>\n",
       "      <td>64900000.0</td>\n",
       "      <td>159.00</td>\n",
       "      <td>2015-07-24T00:00:00</td>\n",
       "      <td>3</td>\n",
       "      <td>NaN</td>\n",
       "      <td>14.0</td>\n",
       "      <td>NaN</td>\n",
       "      <td>9</td>\n",
       "      <td>NaN</td>\n",
       "      <td>...</td>\n",
       "      <td>NaN</td>\n",
       "      <td>0.0</td>\n",
       "      <td>Санкт-Петербург</td>\n",
       "      <td>28098.0</td>\n",
       "      <td>6800.0</td>\n",
       "      <td>2.0</td>\n",
       "      <td>84.0</td>\n",
       "      <td>3.0</td>\n",
       "      <td>234.0</td>\n",
       "      <td>424.0</td>\n",
       "    </tr>\n",
       "    <tr>\n",
       "      <th>4</th>\n",
       "      <td>2</td>\n",
       "      <td>10000000.0</td>\n",
       "      <td>100.00</td>\n",
       "      <td>2018-06-19T00:00:00</td>\n",
       "      <td>2</td>\n",
       "      <td>3.03</td>\n",
       "      <td>14.0</td>\n",
       "      <td>32.00</td>\n",
       "      <td>13</td>\n",
       "      <td>NaN</td>\n",
       "      <td>...</td>\n",
       "      <td>41.00</td>\n",
       "      <td>NaN</td>\n",
       "      <td>Санкт-Петербург</td>\n",
       "      <td>31856.0</td>\n",
       "      <td>8098.0</td>\n",
       "      <td>2.0</td>\n",
       "      <td>112.0</td>\n",
       "      <td>1.0</td>\n",
       "      <td>48.0</td>\n",
       "      <td>121.0</td>\n",
       "    </tr>\n",
       "    <tr>\n",
       "      <th>5</th>\n",
       "      <td>10</td>\n",
       "      <td>2890000.0</td>\n",
       "      <td>30.40</td>\n",
       "      <td>2018-09-10T00:00:00</td>\n",
       "      <td>1</td>\n",
       "      <td>NaN</td>\n",
       "      <td>12.0</td>\n",
       "      <td>14.40</td>\n",
       "      <td>5</td>\n",
       "      <td>NaN</td>\n",
       "      <td>...</td>\n",
       "      <td>9.10</td>\n",
       "      <td>NaN</td>\n",
       "      <td>городской посёлок Янино-1</td>\n",
       "      <td>NaN</td>\n",
       "      <td>NaN</td>\n",
       "      <td>NaN</td>\n",
       "      <td>NaN</td>\n",
       "      <td>NaN</td>\n",
       "      <td>NaN</td>\n",
       "      <td>55.0</td>\n",
       "    </tr>\n",
       "    <tr>\n",
       "      <th>6</th>\n",
       "      <td>6</td>\n",
       "      <td>3700000.0</td>\n",
       "      <td>37.30</td>\n",
       "      <td>2017-11-02T00:00:00</td>\n",
       "      <td>1</td>\n",
       "      <td>NaN</td>\n",
       "      <td>26.0</td>\n",
       "      <td>10.60</td>\n",
       "      <td>6</td>\n",
       "      <td>NaN</td>\n",
       "      <td>...</td>\n",
       "      <td>14.40</td>\n",
       "      <td>1.0</td>\n",
       "      <td>посёлок Парголово</td>\n",
       "      <td>52996.0</td>\n",
       "      <td>19143.0</td>\n",
       "      <td>0.0</td>\n",
       "      <td>NaN</td>\n",
       "      <td>0.0</td>\n",
       "      <td>NaN</td>\n",
       "      <td>155.0</td>\n",
       "    </tr>\n",
       "    <tr>\n",
       "      <th>7</th>\n",
       "      <td>5</td>\n",
       "      <td>7915000.0</td>\n",
       "      <td>71.60</td>\n",
       "      <td>2019-04-18T00:00:00</td>\n",
       "      <td>2</td>\n",
       "      <td>NaN</td>\n",
       "      <td>24.0</td>\n",
       "      <td>NaN</td>\n",
       "      <td>22</td>\n",
       "      <td>NaN</td>\n",
       "      <td>...</td>\n",
       "      <td>18.90</td>\n",
       "      <td>2.0</td>\n",
       "      <td>Санкт-Петербург</td>\n",
       "      <td>23982.0</td>\n",
       "      <td>11634.0</td>\n",
       "      <td>0.0</td>\n",
       "      <td>NaN</td>\n",
       "      <td>0.0</td>\n",
       "      <td>NaN</td>\n",
       "      <td>NaN</td>\n",
       "    </tr>\n",
       "    <tr>\n",
       "      <th>8</th>\n",
       "      <td>20</td>\n",
       "      <td>2900000.0</td>\n",
       "      <td>33.16</td>\n",
       "      <td>2018-05-23T00:00:00</td>\n",
       "      <td>1</td>\n",
       "      <td>NaN</td>\n",
       "      <td>27.0</td>\n",
       "      <td>15.43</td>\n",
       "      <td>26</td>\n",
       "      <td>NaN</td>\n",
       "      <td>...</td>\n",
       "      <td>8.81</td>\n",
       "      <td>NaN</td>\n",
       "      <td>посёлок Мурино</td>\n",
       "      <td>NaN</td>\n",
       "      <td>NaN</td>\n",
       "      <td>NaN</td>\n",
       "      <td>NaN</td>\n",
       "      <td>NaN</td>\n",
       "      <td>NaN</td>\n",
       "      <td>189.0</td>\n",
       "    </tr>\n",
       "    <tr>\n",
       "      <th>9</th>\n",
       "      <td>18</td>\n",
       "      <td>5400000.0</td>\n",
       "      <td>61.00</td>\n",
       "      <td>2017-02-26T00:00:00</td>\n",
       "      <td>3</td>\n",
       "      <td>2.50</td>\n",
       "      <td>9.0</td>\n",
       "      <td>43.60</td>\n",
       "      <td>7</td>\n",
       "      <td>NaN</td>\n",
       "      <td>...</td>\n",
       "      <td>6.50</td>\n",
       "      <td>2.0</td>\n",
       "      <td>Санкт-Петербург</td>\n",
       "      <td>50898.0</td>\n",
       "      <td>15008.0</td>\n",
       "      <td>0.0</td>\n",
       "      <td>NaN</td>\n",
       "      <td>0.0</td>\n",
       "      <td>NaN</td>\n",
       "      <td>289.0</td>\n",
       "    </tr>\n",
       "    <tr>\n",
       "      <th>10</th>\n",
       "      <td>5</td>\n",
       "      <td>5050000.0</td>\n",
       "      <td>39.60</td>\n",
       "      <td>2017-11-16T00:00:00</td>\n",
       "      <td>1</td>\n",
       "      <td>2.67</td>\n",
       "      <td>12.0</td>\n",
       "      <td>20.30</td>\n",
       "      <td>3</td>\n",
       "      <td>NaN</td>\n",
       "      <td>...</td>\n",
       "      <td>8.50</td>\n",
       "      <td>NaN</td>\n",
       "      <td>Санкт-Петербург</td>\n",
       "      <td>38357.0</td>\n",
       "      <td>13878.0</td>\n",
       "      <td>1.0</td>\n",
       "      <td>310.0</td>\n",
       "      <td>2.0</td>\n",
       "      <td>553.0</td>\n",
       "      <td>137.0</td>\n",
       "    </tr>\n",
       "    <tr>\n",
       "      <th>11</th>\n",
       "      <td>9</td>\n",
       "      <td>3300000.0</td>\n",
       "      <td>44.00</td>\n",
       "      <td>2018-08-27T00:00:00</td>\n",
       "      <td>2</td>\n",
       "      <td>NaN</td>\n",
       "      <td>5.0</td>\n",
       "      <td>31.00</td>\n",
       "      <td>4</td>\n",
       "      <td>False</td>\n",
       "      <td>...</td>\n",
       "      <td>6.00</td>\n",
       "      <td>1.0</td>\n",
       "      <td>Ломоносов</td>\n",
       "      <td>48252.0</td>\n",
       "      <td>51677.0</td>\n",
       "      <td>0.0</td>\n",
       "      <td>NaN</td>\n",
       "      <td>0.0</td>\n",
       "      <td>NaN</td>\n",
       "      <td>7.0</td>\n",
       "    </tr>\n",
       "    <tr>\n",
       "      <th>12</th>\n",
       "      <td>10</td>\n",
       "      <td>3890000.0</td>\n",
       "      <td>54.00</td>\n",
       "      <td>2016-06-30T00:00:00</td>\n",
       "      <td>2</td>\n",
       "      <td>NaN</td>\n",
       "      <td>5.0</td>\n",
       "      <td>30.00</td>\n",
       "      <td>5</td>\n",
       "      <td>NaN</td>\n",
       "      <td>...</td>\n",
       "      <td>9.00</td>\n",
       "      <td>0.0</td>\n",
       "      <td>Сертолово</td>\n",
       "      <td>NaN</td>\n",
       "      <td>NaN</td>\n",
       "      <td>NaN</td>\n",
       "      <td>NaN</td>\n",
       "      <td>NaN</td>\n",
       "      <td>NaN</td>\n",
       "      <td>90.0</td>\n",
       "    </tr>\n",
       "    <tr>\n",
       "      <th>13</th>\n",
       "      <td>20</td>\n",
       "      <td>3550000.0</td>\n",
       "      <td>42.80</td>\n",
       "      <td>2017-07-01T00:00:00</td>\n",
       "      <td>2</td>\n",
       "      <td>2.56</td>\n",
       "      <td>5.0</td>\n",
       "      <td>27.00</td>\n",
       "      <td>5</td>\n",
       "      <td>NaN</td>\n",
       "      <td>...</td>\n",
       "      <td>5.20</td>\n",
       "      <td>1.0</td>\n",
       "      <td>Петергоф</td>\n",
       "      <td>37868.0</td>\n",
       "      <td>33058.0</td>\n",
       "      <td>1.0</td>\n",
       "      <td>294.0</td>\n",
       "      <td>3.0</td>\n",
       "      <td>298.0</td>\n",
       "      <td>366.0</td>\n",
       "    </tr>\n",
       "    <tr>\n",
       "      <th>14</th>\n",
       "      <td>1</td>\n",
       "      <td>4400000.0</td>\n",
       "      <td>36.00</td>\n",
       "      <td>2016-06-23T00:00:00</td>\n",
       "      <td>1</td>\n",
       "      <td>NaN</td>\n",
       "      <td>6.0</td>\n",
       "      <td>17.00</td>\n",
       "      <td>1</td>\n",
       "      <td>NaN</td>\n",
       "      <td>...</td>\n",
       "      <td>8.00</td>\n",
       "      <td>0.0</td>\n",
       "      <td>Пушкин</td>\n",
       "      <td>20782.0</td>\n",
       "      <td>30759.0</td>\n",
       "      <td>0.0</td>\n",
       "      <td>NaN</td>\n",
       "      <td>1.0</td>\n",
       "      <td>96.0</td>\n",
       "      <td>203.0</td>\n",
       "    </tr>\n",
       "    <tr>\n",
       "      <th>15</th>\n",
       "      <td>16</td>\n",
       "      <td>4650000.0</td>\n",
       "      <td>39.00</td>\n",
       "      <td>2017-11-18T00:00:00</td>\n",
       "      <td>1</td>\n",
       "      <td>NaN</td>\n",
       "      <td>14.0</td>\n",
       "      <td>20.50</td>\n",
       "      <td>5</td>\n",
       "      <td>NaN</td>\n",
       "      <td>...</td>\n",
       "      <td>7.60</td>\n",
       "      <td>1.0</td>\n",
       "      <td>Санкт-Петербург</td>\n",
       "      <td>12900.0</td>\n",
       "      <td>14259.0</td>\n",
       "      <td>1.0</td>\n",
       "      <td>590.0</td>\n",
       "      <td>1.0</td>\n",
       "      <td>296.0</td>\n",
       "      <td>19.0</td>\n",
       "    </tr>\n",
       "    <tr>\n",
       "      <th>16</th>\n",
       "      <td>11</td>\n",
       "      <td>6700000.0</td>\n",
       "      <td>82.00</td>\n",
       "      <td>2017-11-23T00:00:00</td>\n",
       "      <td>3</td>\n",
       "      <td>3.05</td>\n",
       "      <td>5.0</td>\n",
       "      <td>55.60</td>\n",
       "      <td>1</td>\n",
       "      <td>NaN</td>\n",
       "      <td>...</td>\n",
       "      <td>9.00</td>\n",
       "      <td>NaN</td>\n",
       "      <td>Санкт-Петербург</td>\n",
       "      <td>22108.0</td>\n",
       "      <td>10698.0</td>\n",
       "      <td>3.0</td>\n",
       "      <td>420.0</td>\n",
       "      <td>0.0</td>\n",
       "      <td>NaN</td>\n",
       "      <td>397.0</td>\n",
       "    </tr>\n",
       "    <tr>\n",
       "      <th>17</th>\n",
       "      <td>6</td>\n",
       "      <td>4180000.0</td>\n",
       "      <td>36.00</td>\n",
       "      <td>2016-09-09T00:00:00</td>\n",
       "      <td>1</td>\n",
       "      <td>NaN</td>\n",
       "      <td>17.0</td>\n",
       "      <td>16.50</td>\n",
       "      <td>7</td>\n",
       "      <td>NaN</td>\n",
       "      <td>...</td>\n",
       "      <td>11.00</td>\n",
       "      <td>1.0</td>\n",
       "      <td>Санкт-Петербург</td>\n",
       "      <td>33564.0</td>\n",
       "      <td>14616.0</td>\n",
       "      <td>0.0</td>\n",
       "      <td>NaN</td>\n",
       "      <td>1.0</td>\n",
       "      <td>859.0</td>\n",
       "      <td>571.0</td>\n",
       "    </tr>\n",
       "    <tr>\n",
       "      <th>18</th>\n",
       "      <td>8</td>\n",
       "      <td>3250000.0</td>\n",
       "      <td>31.00</td>\n",
       "      <td>2017-01-27T00:00:00</td>\n",
       "      <td>1</td>\n",
       "      <td>2.50</td>\n",
       "      <td>5.0</td>\n",
       "      <td>19.40</td>\n",
       "      <td>2</td>\n",
       "      <td>NaN</td>\n",
       "      <td>...</td>\n",
       "      <td>5.60</td>\n",
       "      <td>1.0</td>\n",
       "      <td>Санкт-Петербург</td>\n",
       "      <td>44060.0</td>\n",
       "      <td>10842.0</td>\n",
       "      <td>1.0</td>\n",
       "      <td>759.0</td>\n",
       "      <td>0.0</td>\n",
       "      <td>NaN</td>\n",
       "      <td>168.0</td>\n",
       "    </tr>\n",
       "    <tr>\n",
       "      <th>19</th>\n",
       "      <td>16</td>\n",
       "      <td>14200000.0</td>\n",
       "      <td>121.00</td>\n",
       "      <td>2019-01-09T00:00:00</td>\n",
       "      <td>3</td>\n",
       "      <td>2.75</td>\n",
       "      <td>16.0</td>\n",
       "      <td>76.00</td>\n",
       "      <td>8</td>\n",
       "      <td>NaN</td>\n",
       "      <td>...</td>\n",
       "      <td>12.00</td>\n",
       "      <td>NaN</td>\n",
       "      <td>Санкт-Петербург</td>\n",
       "      <td>38900.0</td>\n",
       "      <td>12843.0</td>\n",
       "      <td>0.0</td>\n",
       "      <td>NaN</td>\n",
       "      <td>0.0</td>\n",
       "      <td>NaN</td>\n",
       "      <td>97.0</td>\n",
       "    </tr>\n",
       "  </tbody>\n",
       "</table>\n",
       "<p>20 rows × 22 columns</p>\n",
       "</div>"
      ],
      "text/plain": [
       "    total_images  last_price  total_area first_day_exposition  rooms  \\\n",
       "0             20  13000000.0      108.00  2019-03-07T00:00:00      3   \n",
       "1              7   3350000.0       40.40  2018-12-04T00:00:00      1   \n",
       "2             10   5196000.0       56.00  2015-08-20T00:00:00      2   \n",
       "3              0  64900000.0      159.00  2015-07-24T00:00:00      3   \n",
       "4              2  10000000.0      100.00  2018-06-19T00:00:00      2   \n",
       "5             10   2890000.0       30.40  2018-09-10T00:00:00      1   \n",
       "6              6   3700000.0       37.30  2017-11-02T00:00:00      1   \n",
       "7              5   7915000.0       71.60  2019-04-18T00:00:00      2   \n",
       "8             20   2900000.0       33.16  2018-05-23T00:00:00      1   \n",
       "9             18   5400000.0       61.00  2017-02-26T00:00:00      3   \n",
       "10             5   5050000.0       39.60  2017-11-16T00:00:00      1   \n",
       "11             9   3300000.0       44.00  2018-08-27T00:00:00      2   \n",
       "12            10   3890000.0       54.00  2016-06-30T00:00:00      2   \n",
       "13            20   3550000.0       42.80  2017-07-01T00:00:00      2   \n",
       "14             1   4400000.0       36.00  2016-06-23T00:00:00      1   \n",
       "15            16   4650000.0       39.00  2017-11-18T00:00:00      1   \n",
       "16            11   6700000.0       82.00  2017-11-23T00:00:00      3   \n",
       "17             6   4180000.0       36.00  2016-09-09T00:00:00      1   \n",
       "18             8   3250000.0       31.00  2017-01-27T00:00:00      1   \n",
       "19            16  14200000.0      121.00  2019-01-09T00:00:00      3   \n",
       "\n",
       "    ceiling_height  floors_total  living_area  floor is_apartment  ...  \\\n",
       "0             2.70          16.0        51.00      8          NaN  ...   \n",
       "1              NaN          11.0        18.60      1          NaN  ...   \n",
       "2              NaN           5.0        34.30      4          NaN  ...   \n",
       "3              NaN          14.0          NaN      9          NaN  ...   \n",
       "4             3.03          14.0        32.00     13          NaN  ...   \n",
       "5              NaN          12.0        14.40      5          NaN  ...   \n",
       "6              NaN          26.0        10.60      6          NaN  ...   \n",
       "7              NaN          24.0          NaN     22          NaN  ...   \n",
       "8              NaN          27.0        15.43     26          NaN  ...   \n",
       "9             2.50           9.0        43.60      7          NaN  ...   \n",
       "10            2.67          12.0        20.30      3          NaN  ...   \n",
       "11             NaN           5.0        31.00      4        False  ...   \n",
       "12             NaN           5.0        30.00      5          NaN  ...   \n",
       "13            2.56           5.0        27.00      5          NaN  ...   \n",
       "14             NaN           6.0        17.00      1          NaN  ...   \n",
       "15             NaN          14.0        20.50      5          NaN  ...   \n",
       "16            3.05           5.0        55.60      1          NaN  ...   \n",
       "17             NaN          17.0        16.50      7          NaN  ...   \n",
       "18            2.50           5.0        19.40      2          NaN  ...   \n",
       "19            2.75          16.0        76.00      8          NaN  ...   \n",
       "\n",
       "    kitchen_area  balcony              locality_name  airports_nearest  \\\n",
       "0          25.00      NaN            Санкт-Петербург           18863.0   \n",
       "1          11.00      2.0             посёлок Шушары           12817.0   \n",
       "2           8.30      0.0            Санкт-Петербург           21741.0   \n",
       "3            NaN      0.0            Санкт-Петербург           28098.0   \n",
       "4          41.00      NaN            Санкт-Петербург           31856.0   \n",
       "5           9.10      NaN  городской посёлок Янино-1               NaN   \n",
       "6          14.40      1.0          посёлок Парголово           52996.0   \n",
       "7          18.90      2.0            Санкт-Петербург           23982.0   \n",
       "8           8.81      NaN             посёлок Мурино               NaN   \n",
       "9           6.50      2.0            Санкт-Петербург           50898.0   \n",
       "10          8.50      NaN            Санкт-Петербург           38357.0   \n",
       "11          6.00      1.0                  Ломоносов           48252.0   \n",
       "12          9.00      0.0                  Сертолово               NaN   \n",
       "13          5.20      1.0                   Петергоф           37868.0   \n",
       "14          8.00      0.0                     Пушкин           20782.0   \n",
       "15          7.60      1.0            Санкт-Петербург           12900.0   \n",
       "16          9.00      NaN            Санкт-Петербург           22108.0   \n",
       "17         11.00      1.0            Санкт-Петербург           33564.0   \n",
       "18          5.60      1.0            Санкт-Петербург           44060.0   \n",
       "19         12.00      NaN            Санкт-Петербург           38900.0   \n",
       "\n",
       "   cityCenters_nearest  parks_around3000  parks_nearest  ponds_around3000  \\\n",
       "0              16028.0               1.0          482.0               2.0   \n",
       "1              18603.0               0.0            NaN               0.0   \n",
       "2              13933.0               1.0           90.0               2.0   \n",
       "3               6800.0               2.0           84.0               3.0   \n",
       "4               8098.0               2.0          112.0               1.0   \n",
       "5                  NaN               NaN            NaN               NaN   \n",
       "6              19143.0               0.0            NaN               0.0   \n",
       "7              11634.0               0.0            NaN               0.0   \n",
       "8                  NaN               NaN            NaN               NaN   \n",
       "9              15008.0               0.0            NaN               0.0   \n",
       "10             13878.0               1.0          310.0               2.0   \n",
       "11             51677.0               0.0            NaN               0.0   \n",
       "12                 NaN               NaN            NaN               NaN   \n",
       "13             33058.0               1.0          294.0               3.0   \n",
       "14             30759.0               0.0            NaN               1.0   \n",
       "15             14259.0               1.0          590.0               1.0   \n",
       "16             10698.0               3.0          420.0               0.0   \n",
       "17             14616.0               0.0            NaN               1.0   \n",
       "18             10842.0               1.0          759.0               0.0   \n",
       "19             12843.0               0.0            NaN               0.0   \n",
       "\n",
       "    ponds_nearest  days_exposition  \n",
       "0           755.0              NaN  \n",
       "1             NaN             81.0  \n",
       "2           574.0            558.0  \n",
       "3           234.0            424.0  \n",
       "4            48.0            121.0  \n",
       "5             NaN             55.0  \n",
       "6             NaN            155.0  \n",
       "7             NaN              NaN  \n",
       "8             NaN            189.0  \n",
       "9             NaN            289.0  \n",
       "10          553.0            137.0  \n",
       "11            NaN              7.0  \n",
       "12            NaN             90.0  \n",
       "13          298.0            366.0  \n",
       "14           96.0            203.0  \n",
       "15          296.0             19.0  \n",
       "16            NaN            397.0  \n",
       "17          859.0            571.0  \n",
       "18            NaN            168.0  \n",
       "19            NaN             97.0  \n",
       "\n",
       "[20 rows x 22 columns]"
      ]
     },
     "execution_count": 2,
     "metadata": {},
     "output_type": "execute_result"
    }
   ],
   "source": [
    "data.head(20)"
   ]
  },
  {
   "cell_type": "code",
   "execution_count": 3,
   "metadata": {},
   "outputs": [
    {
     "data": {
      "image/png": "[encoded data removed]",
      "text/plain": [
       "<Figure size 1080x1440 with 20 Axes>"
      ]
     },
     "metadata": {
      "needs_background": "light"
     },
     "output_type": "display_data"
    }
   ],
   "source": [
    "data.hist(figsize=(15, 20))\n",
    "plt.show()"
   ]
  },
  {
   "cell_type": "markdown",
   "metadata": {},
   "source": [
    "**Вывод:**\n",
    "\n",
    "Загрузили файл, исходя из данных имеем датафрейм с 23699 строк и 22 столбцами.\n",
    "Построили гистаграмы для всем числовых столбцов."
   ]
  },
  {
   "cell_type": "markdown",
   "metadata": {},
   "source": [
    "### Предобработка данных"
   ]
  },
  {
   "cell_type": "code",
   "execution_count": 4,
   "metadata": {},
   "outputs": [
    {
     "data": {
      "text/plain": [
       "total_images                0\n",
       "last_price                  0\n",
       "total_area                  0\n",
       "first_day_exposition        0\n",
       "rooms                       0\n",
       "ceiling_height           9195\n",
       "floors_total               86\n",
       "living_area              1903\n",
       "floor                       0\n",
       "is_apartment            20924\n",
       "studio                      0\n",
       "open_plan                   0\n",
       "kitchen_area             2278\n",
       "balcony                 11519\n",
       "locality_name              49\n",
       "airports_nearest         5542\n",
       "cityCenters_nearest      5519\n",
       "parks_around3000         5518\n",
       "parks_nearest           15620\n",
       "ponds_around3000         5518\n",
       "ponds_nearest           14589\n",
       "days_exposition          3181\n",
       "dtype: int64"
      ]
     },
     "execution_count": 4,
     "metadata": {},
     "output_type": "execute_result"
    }
   ],
   "source": [
    "data.isna().sum()"
   ]
  },
  {
   "cell_type": "code",
   "execution_count": 5,
   "metadata": {},
   "outputs": [],
   "source": [
    "data['balcony']  = data['balcony'].fillna(data['balcony'].median())"
   ]
  },
  {
   "cell_type": "code",
   "execution_count": 6,
   "metadata": {},
   "outputs": [],
   "source": [
    "data['locality_name'] = data['locality_name'].fillna('Неизвестно')"
   ]
  },
  {
   "cell_type": "code",
   "execution_count": 7,
   "metadata": {},
   "outputs": [],
   "source": [
    "data['is_apartment'] = data['is_apartment'].fillna(False)"
   ]
  },
  {
   "cell_type": "code",
   "execution_count": 8,
   "metadata": {},
   "outputs": [],
   "source": [
    "data['ceiling_height'] = data['ceiling_height'].fillna(data['ceiling_height'].median())"
   ]
  },
  {
   "cell_type": "code",
   "execution_count": 9,
   "metadata": {},
   "outputs": [
    {
     "data": {
      "text/plain": [
       "total_images                0\n",
       "last_price                  0\n",
       "total_area                  0\n",
       "first_day_exposition        0\n",
       "rooms                       0\n",
       "ceiling_height              0\n",
       "floors_total               86\n",
       "living_area              1903\n",
       "floor                       0\n",
       "is_apartment                0\n",
       "studio                      0\n",
       "open_plan                   0\n",
       "kitchen_area             2278\n",
       "balcony                     0\n",
       "locality_name               0\n",
       "airports_nearest         5542\n",
       "cityCenters_nearest      5519\n",
       "parks_around3000         5518\n",
       "parks_nearest           15620\n",
       "ponds_around3000         5518\n",
       "ponds_nearest           14589\n",
       "days_exposition          3181\n",
       "dtype: int64"
      ]
     },
     "execution_count": 9,
     "metadata": {},
     "output_type": "execute_result"
    }
   ],
   "source": [
    "data.isna().sum()"
   ]
  },
  {
   "cell_type": "markdown",
   "metadata": {},
   "source": [
    "В датафрейме имеем пропущенные данные по стобцам ceiling_height , floors_total, living_area, is_apartment, kitchen_area, locality_name и во всех картографических данных добавленных автоматически.\n",
    "Заменим пропущенные значения в балконах на '0' , потому что возможно ,если пропущены, значит они могут отсутствовать.\n",
    "С потолками, заменим на медианное значение, имеются неявные дубликаты, окоторые присреднем исказят данные."
   ]
  },
  {
   "cell_type": "code",
   "execution_count": 10,
   "metadata": {},
   "outputs": [],
   "source": [
    "data['first_day_exposition'] = pd.to_datetime(data['first_day_exposition'], format='%Y.%m.%d %H:%M:%S')"
   ]
  },
  {
   "cell_type": "code",
   "execution_count": 11,
   "metadata": {},
   "outputs": [],
   "source": [
    "data['balcony'] = data['balcony'].astype('int')\n",
    "data['rooms'] = data['rooms'].astype('int')\n",
    "data['floor'] = data['floor'].astype('int')\n"
   ]
  },
  {
   "cell_type": "code",
   "execution_count": 12,
   "metadata": {},
   "outputs": [
    {
     "data": {
      "text/plain": [
       "total_images                     int64\n",
       "last_price                     float64\n",
       "total_area                     float64\n",
       "first_day_exposition    datetime64[ns]\n",
       "rooms                            int64\n",
       "ceiling_height                 float64\n",
       "floors_total                   float64\n",
       "living_area                    float64\n",
       "floor                            int64\n",
       "is_apartment                      bool\n",
       "studio                            bool\n",
       "open_plan                         bool\n",
       "kitchen_area                   float64\n",
       "balcony                          int64\n",
       "locality_name                   object\n",
       "airports_nearest               float64\n",
       "cityCenters_nearest            float64\n",
       "parks_around3000               float64\n",
       "parks_nearest                  float64\n",
       "ponds_around3000               float64\n",
       "ponds_nearest                  float64\n",
       "days_exposition                float64\n",
       "dtype: object"
      ]
     },
     "execution_count": 12,
     "metadata": {},
     "output_type": "execute_result"
    }
   ],
   "source": [
    "data.dtypes"
   ]
  },
  {
   "cell_type": "code",
   "execution_count": null,
   "metadata": {},
   "outputs": [],
   "source": []
  },
  {
   "cell_type": "markdown",
   "metadata": {},
   "source": [
    "Изменили тип столбца 'first_day_exposition' с object  на тип формата даты. И столбцы с целыми числами без пропусков на int."
   ]
  },
  {
   "cell_type": "code",
   "execution_count": 13,
   "metadata": {},
   "outputs": [
    {
     "data": {
      "text/plain": [
       "Санкт-Петербург               15721\n",
       "посёлок Мурино                  522\n",
       "посёлок Шушары                  440\n",
       "Всеволожск                      398\n",
       "Пушкин                          369\n",
       "                              ...  \n",
       "поселок Севастьяново              1\n",
       "деревня Трубников Бор             1\n",
       "коттеджный поселок Счастье        1\n",
       "деревня Пикколово                 1\n",
       "посёлок Мыза-Ивановка             1\n",
       "Name: locality_name, Length: 365, dtype: int64"
      ]
     },
     "execution_count": 13,
     "metadata": {},
     "output_type": "execute_result"
    }
   ],
   "source": [
    "data['locality_name'].value_counts()"
   ]
  },
  {
   "cell_type": "code",
   "execution_count": 14,
   "metadata": {},
   "outputs": [
    {
     "data": {
      "text/plain": [
       "array(['Санкт-Петербург', 'посёлок Шушары', 'городской посёлок Янино-1',\n",
       "       'посёлок Парголово', 'посёлок Мурино', 'Ломоносов', 'Сертолово',\n",
       "       'Петергоф', 'Пушкин', 'деревня Кудрово', 'Коммунар', 'Колпино',\n",
       "       'поселок городского типа Красный Бор', 'Гатчина', 'поселок Мурино',\n",
       "       'деревня Фёдоровское', 'Выборг', 'Кронштадт', 'Кировск',\n",
       "       'деревня Новое Девяткино', 'посёлок Металлострой',\n",
       "       'посёлок городского типа Лебяжье',\n",
       "       'посёлок городского типа Сиверский', 'поселок Молодцово',\n",
       "       'поселок городского типа Кузьмоловский',\n",
       "       'садовое товарищество Новая Ропша', 'Павловск',\n",
       "       'деревня Пикколово', 'Всеволожск', 'Волхов', 'Кингисепп',\n",
       "       'Приозерск', 'Сестрорецк', 'деревня Куттузи', 'посёлок Аннино',\n",
       "       'поселок городского типа Ефимовский', 'посёлок Плодовое',\n",
       "       'деревня Заклинье', 'поселок Торковичи', 'поселок Первомайское',\n",
       "       'Красное Село', 'посёлок Понтонный', 'Сясьстрой', 'деревня Старая',\n",
       "       'деревня Лесколово', 'посёлок Новый Свет', 'Сланцы',\n",
       "       'село Путилово', 'Ивангород', 'Мурино', 'Шлиссельбург',\n",
       "       'Никольское', 'Зеленогорск', 'Сосновый Бор', 'поселок Новый Свет',\n",
       "       'деревня Оржицы', 'деревня Кальтино', 'Кудрово',\n",
       "       'поселок Романовка', 'посёлок Бугры', 'поселок Бугры',\n",
       "       'поселок городского типа Рощино', 'Кириши', 'Луга', 'Волосово',\n",
       "       'Отрадное', 'село Павлово', 'поселок Оредеж', 'село Копорье',\n",
       "       'посёлок городского типа Красный Бор', 'посёлок Молодёжное',\n",
       "       'Тихвин', 'посёлок Победа', 'деревня Нурма',\n",
       "       'поселок городского типа Синявино', 'Тосно',\n",
       "       'посёлок городского типа Кузьмоловский', 'посёлок Стрельна',\n",
       "       'Бокситогорск', 'посёлок Александровская', 'деревня Лопухинка',\n",
       "       'Пикалёво', 'поселок Терволово',\n",
       "       'поселок городского типа Советский', 'Подпорожье',\n",
       "       'посёлок Петровское', 'посёлок городского типа Токсово',\n",
       "       'поселок Сельцо', 'посёлок городского типа Вырица',\n",
       "       'деревня Кипень', 'деревня Келози', 'деревня Вартемяги',\n",
       "       'посёлок Тельмана', 'поселок Севастьяново',\n",
       "       'городской поселок Большая Ижора', 'Неизвестно',\n",
       "       'городской посёлок Павлово', 'деревня Агалатово',\n",
       "       'посёлок Новогорелово', 'городской посёлок Лесогорский',\n",
       "       'деревня Лаголово', 'поселок Цвелодубово',\n",
       "       'поселок городского типа Рахья', 'поселок городского типа Вырица',\n",
       "       'деревня Белогорка', 'поселок Заводской',\n",
       "       'городской посёлок Новоселье', 'деревня Большие Колпаны',\n",
       "       'деревня Горбунки', 'деревня Батово', 'деревня Заневка',\n",
       "       'деревня Иссад', 'Приморск', 'городской посёлок Фёдоровское',\n",
       "       'деревня Мистолово', 'Новая Ладога', 'поселок Зимитицы',\n",
       "       'поселок Барышево', 'деревня Разметелево',\n",
       "       'поселок городского типа имени Свердлова', 'деревня Пеники',\n",
       "       'поселок Рябово', 'деревня Пудомяги', 'поселок станции Корнево',\n",
       "       'деревня Низино', 'деревня Бегуницы', 'посёлок Поляны',\n",
       "       'городской посёлок Мга', 'поселок Елизаветино',\n",
       "       'посёлок городского типа Кузнечное', 'деревня Колтуши',\n",
       "       'поселок Запорожское', 'посёлок городского типа Рощино',\n",
       "       'деревня Гостилицы', 'деревня Малое Карлино',\n",
       "       'посёлок Мичуринское', 'посёлок городского типа имени Морозова',\n",
       "       'посёлок Песочный', 'посёлок Сосново', 'деревня Аро',\n",
       "       'поселок Ильичёво', 'посёлок городского типа Тайцы',\n",
       "       'деревня Малое Верево', 'деревня Извара', 'поселок станции Вещево',\n",
       "       'село Паша', 'деревня Калитино',\n",
       "       'посёлок городского типа Ульяновка', 'деревня Чудской Бор',\n",
       "       'поселок городского типа Дубровка', 'деревня Мины',\n",
       "       'поселок Войсковицы', 'посёлок городского типа имени Свердлова',\n",
       "       'деревня Коркино', 'посёлок Ропша',\n",
       "       'поселок городского типа Приладожский', 'посёлок Щеглово',\n",
       "       'посёлок Гаврилово', 'Лодейное Поле', 'деревня Рабитицы',\n",
       "       'поселок городского типа Никольский', 'деревня Кузьмолово',\n",
       "       'деревня Малые Колпаны', 'поселок Тельмана',\n",
       "       'посёлок Петро-Славянка', 'городской посёлок Назия',\n",
       "       'посёлок Репино', 'посёлок Ильичёво', 'поселок Углово',\n",
       "       'поселок Старая Малукса', 'садовое товарищество Рахья',\n",
       "       'поселок Аннино', 'поселок Победа', 'деревня Меньково',\n",
       "       'деревня Старые Бегуницы', 'посёлок Сапёрный', 'поселок Семрино',\n",
       "       'поселок Гаврилово', 'поселок Глажево', 'поселок Кобринское',\n",
       "       'деревня Гарболово', 'деревня Юкки',\n",
       "       'поселок станции Приветнинское', 'деревня Мануйлово',\n",
       "       'деревня Пчева', 'поселок Поляны', 'поселок Цвылёво',\n",
       "       'поселок Мельниково', 'посёлок Пудость', 'посёлок Усть-Луга',\n",
       "       'Светогорск', 'Любань', 'поселок Селезнёво',\n",
       "       'поселок городского типа Рябово', 'Каменногорск', 'деревня Кривко',\n",
       "       'поселок Глебычево', 'деревня Парицы', 'поселок Жилпосёлок',\n",
       "       'посёлок городского типа Мга', 'городской поселок Янино-1',\n",
       "       'посёлок Войскорово', 'село Никольское', 'посёлок Терволово',\n",
       "       'поселок Стеклянный', 'посёлок городского типа Важины',\n",
       "       'посёлок Мыза-Ивановка', 'село Русско-Высоцкое',\n",
       "       'поселок городского типа Лебяжье',\n",
       "       'поселок городского типа Форносово', 'село Старая Ладога',\n",
       "       'поселок Житково', 'городской посёлок Виллози', 'деревня Лампово',\n",
       "       'деревня Шпаньково', 'деревня Лаврики', 'посёлок Сумино',\n",
       "       'посёлок Возрождение', 'деревня Старосиверская',\n",
       "       'посёлок Кикерино', 'поселок Возрождение',\n",
       "       'деревня Старое Хинколово', 'посёлок Пригородный',\n",
       "       'посёлок Торфяное', 'городской посёлок Будогощь',\n",
       "       'поселок Суходолье', 'поселок Красная Долина', 'деревня Хапо-Ое',\n",
       "       'поселок городского типа Дружная Горка', 'поселок Лисий Нос',\n",
       "       'деревня Яльгелево', 'посёлок Стеклянный', 'село Рождествено',\n",
       "       'деревня Старополье', 'посёлок Левашово', 'деревня Сяськелево',\n",
       "       'деревня Камышовка',\n",
       "       'садоводческое некоммерческое товарищество Лесная Поляна',\n",
       "       'деревня Хязельки', 'поселок Жилгородок',\n",
       "       'посёлок городского типа Павлово', 'деревня Ялгино',\n",
       "       'поселок Новый Учхоз', 'городской посёлок Рощино',\n",
       "       'поселок Гончарово', 'поселок Почап', 'посёлок Сапёрное',\n",
       "       'посёлок Платформа 69-й километр', 'поселок Каложицы',\n",
       "       'деревня Фалилеево', 'деревня Пельгора',\n",
       "       'поселок городского типа Лесогорский', 'деревня Торошковичи',\n",
       "       'посёлок Белоостров', 'посёлок Алексеевка', 'поселок Серебрянский',\n",
       "       'поселок Лукаши', 'поселок Петровское', 'деревня Щеглово',\n",
       "       'поселок Мичуринское', 'деревня Тарасово', 'поселок Кингисеппский',\n",
       "       'посёлок при железнодорожной станции Вещево', 'поселок Ушаки',\n",
       "       'деревня Котлы', 'деревня Сижно', 'деревня Торосово',\n",
       "       'посёлок Форт Красная Горка', 'поселок городского типа Токсово',\n",
       "       'деревня Новолисино', 'посёлок станции Громово', 'деревня Глинка',\n",
       "       'посёлок Мельниково', 'поселок городского типа Назия',\n",
       "       'деревня Старая Пустошь', 'поселок Коммунары', 'поселок Починок',\n",
       "       'посёлок городского типа Вознесенье', 'деревня Разбегаево',\n",
       "       'посёлок городского типа Рябово', 'поселок Гладкое',\n",
       "       'посёлок при железнодорожной станции Приветнинское',\n",
       "       'поселок Тёсово-4', 'посёлок Жилгородок', 'деревня Бор',\n",
       "       'посёлок Коробицыно', 'деревня Большая Вруда', 'деревня Курковицы',\n",
       "       'посёлок Лисий Нос', 'городской посёлок Советский',\n",
       "       'посёлок Кобралово', 'деревня Суоранда', 'поселок Кобралово',\n",
       "       'поселок городского типа Кондратьево',\n",
       "       'коттеджный поселок Счастье', 'поселок Любань', 'деревня Реброво',\n",
       "       'деревня Зимитицы', 'деревня Тойворово', 'поселок Семиозерье',\n",
       "       'поселок Лесное', 'поселок Совхозный', 'поселок Усть-Луга',\n",
       "       'посёлок Ленинское', 'посёлок Суйда',\n",
       "       'посёлок городского типа Форносово', 'деревня Нижние Осельки',\n",
       "       'посёлок станции Свирь', 'поселок Перово', 'Высоцк',\n",
       "       'поселок Гарболово', 'село Шум', 'поселок Котельский',\n",
       "       'поселок станции Лужайка', 'деревня Большая Пустомержа',\n",
       "       'поселок Красносельское', 'деревня Вахнова Кара', 'деревня Пижма',\n",
       "       'коттеджный поселок Кивеннапа Север', 'поселок Коробицыно',\n",
       "       'поселок Ромашки', 'посёлок Перово', 'деревня Каськово',\n",
       "       'деревня Куровицы', 'посёлок Плоское', 'поселок Сумино',\n",
       "       'поселок городского типа Большая Ижора', 'поселок Кирпичное',\n",
       "       'деревня Ям-Тесово', 'деревня Раздолье', 'деревня Терпилицы',\n",
       "       'посёлок Шугозеро', 'деревня Ваганово', 'поселок Пушное',\n",
       "       'садовое товарищество Садко', 'посёлок Усть-Ижора',\n",
       "       'деревня Выскатка', 'городской посёлок Свирьстрой',\n",
       "       'поселок Громово', 'деревня Кисельня', 'посёлок Старая Малукса',\n",
       "       'деревня Трубников Бор', 'поселок Калитино',\n",
       "       'посёлок Высокоключевой', 'садовое товарищество Приладожский',\n",
       "       'посёлок Пансионат Зелёный Бор', 'деревня Ненимяки',\n",
       "       'поселок Пансионат Зелёный Бор', 'деревня Снегирёвка',\n",
       "       'деревня Рапполово', 'деревня Пустынка', 'поселок Рабитицы',\n",
       "       'деревня Большой Сабск', 'деревня Русско', 'деревня Лупполово',\n",
       "       'деревня Большое Рейзино', 'деревня Малая Романовка',\n",
       "       'поселок Дружноселье', 'поселок Пчевжа', 'поселок Володарское',\n",
       "       'деревня Нижняя', 'коттеджный посёлок Лесное', 'деревня Тихковицы',\n",
       "       'деревня Борисова Грива', 'посёлок Дзержинского'], dtype=object)"
      ]
     },
     "execution_count": 14,
     "metadata": {},
     "output_type": "execute_result"
    }
   ],
   "source": [
    "data['locality_name'].unique()"
   ]
  },
  {
   "cell_type": "code",
   "execution_count": 15,
   "metadata": {},
   "outputs": [],
   "source": [
    "data['locality_name'] = data['locality_name'].str.replace('ё','е')\n"
   ]
  },
  {
   "cell_type": "code",
   "execution_count": 16,
   "metadata": {},
   "outputs": [],
   "source": [
    "data['locality_name'] = data['locality_name'].str.replace('поселок городского типа', 'поселок')"
   ]
  },
  {
   "cell_type": "code",
   "execution_count": 17,
   "metadata": {},
   "outputs": [],
   "source": [
    "data['locality_name'] = data['locality_name'].str.replace('городской посёлок', 'поселок')"
   ]
  },
  {
   "cell_type": "code",
   "execution_count": 18,
   "metadata": {},
   "outputs": [],
   "source": [
    "data['locality_name'] = data['locality_name'].str.replace('посёлок городского типа', 'поселок')"
   ]
  },
  {
   "cell_type": "code",
   "execution_count": 19,
   "metadata": {},
   "outputs": [],
   "source": [
    "data['locality_name'] = data['locality_name'].str.replace('городской поселок', 'поселок')\n",
    "#я пытался сделать листом, словарем, кортежом, но выдает ошибку.unhasheble list или ошибку с патерном в случае с кортежом"
   ]
  },
  {
   "cell_type": "code",
   "execution_count": 20,
   "metadata": {},
   "outputs": [
    {
     "data": {
      "text/plain": [
       "array(['Санкт-Петербург', 'поселок Шушары', 'поселок Янино-1',\n",
       "       'поселок Парголово', 'поселок Мурино', 'Ломоносов', 'Сертолово',\n",
       "       'Петергоф', 'Пушкин', 'деревня Кудрово', 'Коммунар', 'Колпино',\n",
       "       'поселок Красный Бор', 'Гатчина', 'деревня Федоровское', 'Выборг',\n",
       "       'Кронштадт', 'Кировск', 'деревня Новое Девяткино',\n",
       "       'поселок Металлострой', 'поселок Лебяжье', 'поселок Сиверский',\n",
       "       'поселок Молодцово', 'поселок Кузьмоловский',\n",
       "       'садовое товарищество Новая Ропша', 'Павловск',\n",
       "       'деревня Пикколово', 'Всеволожск', 'Волхов', 'Кингисепп',\n",
       "       'Приозерск', 'Сестрорецк', 'деревня Куттузи', 'поселок Аннино',\n",
       "       'поселок Ефимовский', 'поселок Плодовое', 'деревня Заклинье',\n",
       "       'поселок Торковичи', 'поселок Первомайское', 'Красное Село',\n",
       "       'поселок Понтонный', 'Сясьстрой', 'деревня Старая',\n",
       "       'деревня Лесколово', 'поселок Новый Свет', 'Сланцы',\n",
       "       'село Путилово', 'Ивангород', 'Мурино', 'Шлиссельбург',\n",
       "       'Никольское', 'Зеленогорск', 'Сосновый Бор', 'деревня Оржицы',\n",
       "       'деревня Кальтино', 'Кудрово', 'поселок Романовка',\n",
       "       'поселок Бугры', 'поселок Рощино', 'Кириши', 'Луга', 'Волосово',\n",
       "       'Отрадное', 'село Павлово', 'поселок Оредеж', 'село Копорье',\n",
       "       'поселок Молодежное', 'Тихвин', 'поселок Победа', 'деревня Нурма',\n",
       "       'поселок Синявино', 'Тосно', 'поселок Стрельна', 'Бокситогорск',\n",
       "       'поселок Александровская', 'деревня Лопухинка', 'Пикалево',\n",
       "       'поселок Терволово', 'поселок Советский', 'Подпорожье',\n",
       "       'поселок Петровское', 'поселок Токсово', 'поселок Сельцо',\n",
       "       'поселок Вырица', 'деревня Кипень', 'деревня Келози',\n",
       "       'деревня Вартемяги', 'поселок Тельмана', 'поселок Севастьяново',\n",
       "       'поселок Большая Ижора', 'Неизвестно', 'поселок Павлово',\n",
       "       'деревня Агалатово', 'поселок Новогорелово', 'поселок Лесогорский',\n",
       "       'деревня Лаголово', 'поселок Цвелодубово', 'поселок Рахья',\n",
       "       'деревня Белогорка', 'поселок Заводской', 'поселок Новоселье',\n",
       "       'деревня Большие Колпаны', 'деревня Горбунки', 'деревня Батово',\n",
       "       'деревня Заневка', 'деревня Иссад', 'Приморск',\n",
       "       'поселок Федоровское', 'деревня Мистолово', 'Новая Ладога',\n",
       "       'поселок Зимитицы', 'поселок Барышево', 'деревня Разметелево',\n",
       "       'поселок имени Свердлова', 'деревня Пеники', 'поселок Рябово',\n",
       "       'деревня Пудомяги', 'поселок станции Корнево', 'деревня Низино',\n",
       "       'деревня Бегуницы', 'поселок Поляны', 'поселок Мга',\n",
       "       'поселок Елизаветино', 'поселок Кузнечное', 'деревня Колтуши',\n",
       "       'поселок Запорожское', 'деревня Гостилицы',\n",
       "       'деревня Малое Карлино', 'поселок Мичуринское',\n",
       "       'поселок имени Морозова', 'поселок Песочный', 'поселок Сосново',\n",
       "       'деревня Аро', 'поселок Ильичево', 'поселок Тайцы',\n",
       "       'деревня Малое Верево', 'деревня Извара', 'поселок станции Вещево',\n",
       "       'село Паша', 'деревня Калитино', 'поселок Ульяновка',\n",
       "       'деревня Чудской Бор', 'поселок Дубровка', 'деревня Мины',\n",
       "       'поселок Войсковицы', 'деревня Коркино', 'поселок Ропша',\n",
       "       'поселок Приладожский', 'поселок Щеглово', 'поселок Гаврилово',\n",
       "       'Лодейное Поле', 'деревня Рабитицы', 'поселок Никольский',\n",
       "       'деревня Кузьмолово', 'деревня Малые Колпаны',\n",
       "       'поселок Петро-Славянка', 'поселок Назия', 'поселок Репино',\n",
       "       'поселок Углово', 'поселок Старая Малукса',\n",
       "       'садовое товарищество Рахья', 'деревня Меньково',\n",
       "       'деревня Старые Бегуницы', 'поселок Саперный', 'поселок Семрино',\n",
       "       'поселок Глажево', 'поселок Кобринское', 'деревня Гарболово',\n",
       "       'деревня Юкки', 'поселок станции Приветнинское',\n",
       "       'деревня Мануйлово', 'деревня Пчева', 'поселок Цвылево',\n",
       "       'поселок Мельниково', 'поселок Пудость', 'поселок Усть-Луга',\n",
       "       'Светогорск', 'Любань', 'поселок Селезнево', 'Каменногорск',\n",
       "       'деревня Кривко', 'поселок Глебычево', 'деревня Парицы',\n",
       "       'поселок Жилпоселок', 'поселок Войскорово', 'село Никольское',\n",
       "       'поселок Стеклянный', 'поселок Важины', 'поселок Мыза-Ивановка',\n",
       "       'село Русско-Высоцкое', 'поселок Форносово', 'село Старая Ладога',\n",
       "       'поселок Житково', 'поселок Виллози', 'деревня Лампово',\n",
       "       'деревня Шпаньково', 'деревня Лаврики', 'поселок Сумино',\n",
       "       'поселок Возрождение', 'деревня Старосиверская',\n",
       "       'поселок Кикерино', 'деревня Старое Хинколово',\n",
       "       'поселок Пригородный', 'поселок Торфяное', 'поселок Будогощь',\n",
       "       'поселок Суходолье', 'поселок Красная Долина', 'деревня Хапо-Ое',\n",
       "       'поселок Дружная Горка', 'поселок Лисий Нос', 'деревня Яльгелево',\n",
       "       'село Рождествено', 'деревня Старополье', 'поселок Левашово',\n",
       "       'деревня Сяськелево', 'деревня Камышовка',\n",
       "       'садоводческое некоммерческое товарищество Лесная Поляна',\n",
       "       'деревня Хязельки', 'поселок Жилгородок', 'деревня Ялгино',\n",
       "       'поселок Новый Учхоз', 'поселок Гончарово', 'поселок Почап',\n",
       "       'поселок Саперное', 'поселок Платформа 69-й километр',\n",
       "       'поселок Каложицы', 'деревня Фалилеево', 'деревня Пельгора',\n",
       "       'деревня Торошковичи', 'поселок Белоостров', 'поселок Алексеевка',\n",
       "       'поселок Серебрянский', 'поселок Лукаши', 'деревня Щеглово',\n",
       "       'деревня Тарасово', 'поселок Кингисеппский',\n",
       "       'поселок при железнодорожной станции Вещево', 'поселок Ушаки',\n",
       "       'деревня Котлы', 'деревня Сижно', 'деревня Торосово',\n",
       "       'поселок Форт Красная Горка', 'деревня Новолисино',\n",
       "       'поселок станции Громово', 'деревня Глинка',\n",
       "       'деревня Старая Пустошь', 'поселок Коммунары', 'поселок Починок',\n",
       "       'поселок Вознесенье', 'деревня Разбегаево', 'поселок Гладкое',\n",
       "       'поселок при железнодорожной станции Приветнинское',\n",
       "       'поселок Тесово-4', 'деревня Бор', 'поселок Коробицыно',\n",
       "       'деревня Большая Вруда', 'деревня Курковицы', 'поселок Кобралово',\n",
       "       'деревня Суоранда', 'поселок Кондратьево',\n",
       "       'коттеджный поселок Счастье', 'поселок Любань', 'деревня Реброво',\n",
       "       'деревня Зимитицы', 'деревня Тойворово', 'поселок Семиозерье',\n",
       "       'поселок Лесное', 'поселок Совхозный', 'поселок Ленинское',\n",
       "       'поселок Суйда', 'деревня Нижние Осельки', 'поселок станции Свирь',\n",
       "       'поселок Перово', 'Высоцк', 'поселок Гарболово', 'село Шум',\n",
       "       'поселок Котельский', 'поселок станции Лужайка',\n",
       "       'деревня Большая Пустомержа', 'поселок Красносельское',\n",
       "       'деревня Вахнова Кара', 'деревня Пижма',\n",
       "       'коттеджный поселок Кивеннапа Север', 'поселок Ромашки',\n",
       "       'деревня Каськово', 'деревня Куровицы', 'поселок Плоское',\n",
       "       'поселок Кирпичное', 'деревня Ям-Тесово', 'деревня Раздолье',\n",
       "       'деревня Терпилицы', 'поселок Шугозеро', 'деревня Ваганово',\n",
       "       'поселок Пушное', 'садовое товарищество Садко',\n",
       "       'поселок Усть-Ижора', 'деревня Выскатка', 'поселок Свирьстрой',\n",
       "       'поселок Громово', 'деревня Кисельня', 'деревня Трубников Бор',\n",
       "       'поселок Калитино', 'поселок Высокоключевой',\n",
       "       'садовое товарищество Приладожский',\n",
       "       'поселок Пансионат Зеленый Бор', 'деревня Ненимяки',\n",
       "       'деревня Снегиревка', 'деревня Рапполово', 'деревня Пустынка',\n",
       "       'поселок Рабитицы', 'деревня Большой Сабск', 'деревня Русско',\n",
       "       'деревня Лупполово', 'деревня Большое Рейзино',\n",
       "       'деревня Малая Романовка', 'поселок Дружноселье', 'поселок Пчевжа',\n",
       "       'поселок Володарское', 'деревня Нижняя',\n",
       "       'коттеджный поселок Лесное', 'деревня Тихковицы',\n",
       "       'деревня Борисова Грива', 'поселок Дзержинского'], dtype=object)"
      ]
     },
     "execution_count": 20,
     "metadata": {},
     "output_type": "execute_result"
    }
   ],
   "source": [
    "data['locality_name'].unique()"
   ]
  },
  {
   "cell_type": "markdown",
   "metadata": {},
   "source": [
    "Работа с неявными дубликатами в столбце 'locality_name'. "
   ]
  },
  {
   "cell_type": "code",
   "execution_count": 21,
   "metadata": {},
   "outputs": [
    {
     "data": {
      "text/plain": [
       "array([  2.7 ,   2.65,   3.03,   2.5 ,   2.67,   2.56,   3.05,   2.75,\n",
       "         2.6 ,   2.9 ,   2.8 ,   2.55,   3.  ,   3.2 ,   2.61,   3.25,\n",
       "         3.45,   2.77,   2.85,   2.64,   2.57,   4.15,   3.5 ,   3.3 ,\n",
       "         2.71,   4.  ,   2.47,   2.73,   2.84,   3.1 ,   2.34,   3.4 ,\n",
       "         3.06,   2.72,   2.54,   2.51,   2.78,   2.76,  25.  ,   2.58,\n",
       "         3.7 ,   2.52,   5.2 ,   2.87,   2.66,   2.59,   2.  ,   2.45,\n",
       "         3.6 ,   2.92,   3.11,   3.13,   3.8 ,   3.15,   3.55,   3.16,\n",
       "         3.62,   3.12,   2.53,   2.74,   2.96,   2.46,   5.3 ,   5.  ,\n",
       "         2.79,   2.95,   4.06,   2.94,   3.82,   3.54,   3.53,   2.83,\n",
       "         4.7 ,   2.4 ,   3.38,   3.01,   5.6 ,   3.65,   3.9 ,   3.18,\n",
       "         3.35,   2.3 ,   3.57,   2.48,   2.62,   2.82,   3.98,   2.63,\n",
       "         3.83,   3.52,   3.95,   3.75,   2.88,   3.67,   3.87,   3.66,\n",
       "         3.85,   3.86,   4.19,   3.24,   4.8 ,   4.5 ,   4.2 ,   3.36,\n",
       "        32.  ,   3.08,   3.68,   3.07,   3.37,   3.09,   8.  ,   3.26,\n",
       "         3.34,   2.81,   3.44,   2.97,   3.14,   4.37,   2.68,   3.22,\n",
       "         3.27,  27.  ,   4.1 ,   2.93,   3.46,  24.  ,   3.47,   3.33,\n",
       "         3.63,   3.32,  26.  ,   1.2 ,   8.3 ,   2.98,   2.86,   3.17,\n",
       "         4.4 ,   3.28,   3.04,   4.45,   5.5 ,   3.84,   3.23,   3.02,\n",
       "         3.21,   3.43,   3.78,   4.3 ,   3.39,   2.69,   3.31,   4.65,\n",
       "         3.56,   2.2 ,   3.51,   3.93,   3.42,   2.99,   3.49,  14.  ,\n",
       "         4.14,   2.91,   3.88,   1.75,   4.25,   3.29,  20.  ,   2.25,\n",
       "         3.76,   3.69,   6.  ,  22.6 ,   2.89,   3.58,   5.8 ,  27.5 ,\n",
       "         2.49,   4.9 ,   3.48,  10.3 ,   1.  , 100.  ,   3.59])"
      ]
     },
     "execution_count": 21,
     "metadata": {},
     "output_type": "execute_result"
    }
   ],
   "source": [
    "data['ceiling_height'].unique()"
   ]
  },
  {
   "cell_type": "code",
   "execution_count": 22,
   "metadata": {},
   "outputs": [],
   "source": [
    "data.loc[data['ceiling_height']>10,'ceiling_height'] = data['ceiling_height'] / 10"
   ]
  },
  {
   "cell_type": "markdown",
   "metadata": {},
   "source": [
    "В столбце 'ceiling_height' встретились ошибочно записанные данные по типу высота потолка 32 метра, такие данные разделили на 10, очедвино , что тут ошибка"
   ]
  },
  {
   "cell_type": "code",
   "execution_count": 23,
   "metadata": {},
   "outputs": [
    {
     "data": {
      "text/plain": [
       "2.0"
      ]
     },
     "execution_count": 23,
     "metadata": {},
     "output_type": "execute_result"
    }
   ],
   "source": [
    "data['rooms'].median()"
   ]
  },
  {
   "cell_type": "code",
   "execution_count": 24,
   "metadata": {},
   "outputs": [],
   "source": [
    "data['rooms'] = data['rooms'].replace(0,2)"
   ]
  },
  {
   "cell_type": "code",
   "execution_count": 25,
   "metadata": {},
   "outputs": [],
   "source": [
    "data = data.query('12<total_area<900')\n",
    "data = data.query('300000<last_price<10000000')\n",
    "data = data.query('2<ceiling_height<8')\n",
    "data = data.query('floors_total<50')\n",
    "data = data.query('rooms<8')"
   ]
  },
  {
   "cell_type": "code",
   "execution_count": 26,
   "metadata": {},
   "outputs": [
    {
     "data": {
      "text/plain": [
       "(20822, 22)"
      ]
     },
     "execution_count": 26,
     "metadata": {},
     "output_type": "execute_result"
    }
   ],
   "source": [
    "data.shape"
   ]
  },
  {
   "cell_type": "markdown",
   "metadata": {},
   "source": [
    "**Вывод**\n",
    "\n",
    "**1.** Выявили пропущенные значения, изменили их, где это уместно.\n",
    "\n",
    "**2.** Изменили неявные дубликаты в столбцах 'locality_name' , 'ceiling_height' , 'rooms'.\n",
    "\n",
    "**3.** Отфильтрофали данные в стобцах с жилой площадью, ценой квартир , высотой потлков, и общик количество этажей в доме, исключая выбросы"
   ]
  },
  {
   "cell_type": "markdown",
   "metadata": {},
   "source": [
    "### Посчитайте и добавьте в таблицу новые столбцы"
   ]
  },
  {
   "cell_type": "code",
   "execution_count": 27,
   "metadata": {},
   "outputs": [
    {
     "data": {
      "text/html": [
       "<div>\n",
       "<style scoped>\n",
       "    .dataframe tbody tr th:only-of-type {\n",
       "        vertical-align: middle;\n",
       "    }\n",
       "\n",
       "    .dataframe tbody tr th {\n",
       "        vertical-align: top;\n",
       "    }\n",
       "\n",
       "    .dataframe thead th {\n",
       "        text-align: right;\n",
       "    }\n",
       "</style>\n",
       "<table border=\"1\" class=\"dataframe\">\n",
       "  <thead>\n",
       "    <tr style=\"text-align: right;\">\n",
       "      <th></th>\n",
       "      <th>total_images</th>\n",
       "      <th>last_price</th>\n",
       "      <th>total_area</th>\n",
       "      <th>first_day_exposition</th>\n",
       "      <th>rooms</th>\n",
       "      <th>ceiling_height</th>\n",
       "      <th>floors_total</th>\n",
       "      <th>living_area</th>\n",
       "      <th>floor</th>\n",
       "      <th>is_apartment</th>\n",
       "      <th>...</th>\n",
       "      <th>balcony</th>\n",
       "      <th>locality_name</th>\n",
       "      <th>airports_nearest</th>\n",
       "      <th>cityCenters_nearest</th>\n",
       "      <th>parks_around3000</th>\n",
       "      <th>parks_nearest</th>\n",
       "      <th>ponds_around3000</th>\n",
       "      <th>ponds_nearest</th>\n",
       "      <th>days_exposition</th>\n",
       "      <th>price_one_square_meter</th>\n",
       "    </tr>\n",
       "  </thead>\n",
       "  <tbody>\n",
       "    <tr>\n",
       "      <th>1</th>\n",
       "      <td>7</td>\n",
       "      <td>3350000.0</td>\n",
       "      <td>40.40</td>\n",
       "      <td>2018-12-04</td>\n",
       "      <td>1</td>\n",
       "      <td>2.65</td>\n",
       "      <td>11.0</td>\n",
       "      <td>18.6</td>\n",
       "      <td>1</td>\n",
       "      <td>False</td>\n",
       "      <td>...</td>\n",
       "      <td>2</td>\n",
       "      <td>поселок Шушары</td>\n",
       "      <td>12817.0</td>\n",
       "      <td>18603.0</td>\n",
       "      <td>0.0</td>\n",
       "      <td>NaN</td>\n",
       "      <td>0.0</td>\n",
       "      <td>NaN</td>\n",
       "      <td>81.0</td>\n",
       "      <td>82920.79</td>\n",
       "    </tr>\n",
       "    <tr>\n",
       "      <th>2</th>\n",
       "      <td>10</td>\n",
       "      <td>5196000.0</td>\n",
       "      <td>56.00</td>\n",
       "      <td>2015-08-20</td>\n",
       "      <td>2</td>\n",
       "      <td>2.65</td>\n",
       "      <td>5.0</td>\n",
       "      <td>34.3</td>\n",
       "      <td>4</td>\n",
       "      <td>False</td>\n",
       "      <td>...</td>\n",
       "      <td>0</td>\n",
       "      <td>Санкт-Петербург</td>\n",
       "      <td>21741.0</td>\n",
       "      <td>13933.0</td>\n",
       "      <td>1.0</td>\n",
       "      <td>90.0</td>\n",
       "      <td>2.0</td>\n",
       "      <td>574.0</td>\n",
       "      <td>558.0</td>\n",
       "      <td>92785.71</td>\n",
       "    </tr>\n",
       "    <tr>\n",
       "      <th>5</th>\n",
       "      <td>10</td>\n",
       "      <td>2890000.0</td>\n",
       "      <td>30.40</td>\n",
       "      <td>2018-09-10</td>\n",
       "      <td>1</td>\n",
       "      <td>2.65</td>\n",
       "      <td>12.0</td>\n",
       "      <td>14.4</td>\n",
       "      <td>5</td>\n",
       "      <td>False</td>\n",
       "      <td>...</td>\n",
       "      <td>1</td>\n",
       "      <td>поселок Янино-1</td>\n",
       "      <td>NaN</td>\n",
       "      <td>NaN</td>\n",
       "      <td>NaN</td>\n",
       "      <td>NaN</td>\n",
       "      <td>NaN</td>\n",
       "      <td>NaN</td>\n",
       "      <td>55.0</td>\n",
       "      <td>95065.79</td>\n",
       "    </tr>\n",
       "    <tr>\n",
       "      <th>6</th>\n",
       "      <td>6</td>\n",
       "      <td>3700000.0</td>\n",
       "      <td>37.30</td>\n",
       "      <td>2017-11-02</td>\n",
       "      <td>1</td>\n",
       "      <td>2.65</td>\n",
       "      <td>26.0</td>\n",
       "      <td>10.6</td>\n",
       "      <td>6</td>\n",
       "      <td>False</td>\n",
       "      <td>...</td>\n",
       "      <td>1</td>\n",
       "      <td>поселок Парголово</td>\n",
       "      <td>52996.0</td>\n",
       "      <td>19143.0</td>\n",
       "      <td>0.0</td>\n",
       "      <td>NaN</td>\n",
       "      <td>0.0</td>\n",
       "      <td>NaN</td>\n",
       "      <td>155.0</td>\n",
       "      <td>99195.71</td>\n",
       "    </tr>\n",
       "    <tr>\n",
       "      <th>7</th>\n",
       "      <td>5</td>\n",
       "      <td>7915000.0</td>\n",
       "      <td>71.60</td>\n",
       "      <td>2019-04-18</td>\n",
       "      <td>2</td>\n",
       "      <td>2.65</td>\n",
       "      <td>24.0</td>\n",
       "      <td>NaN</td>\n",
       "      <td>22</td>\n",
       "      <td>False</td>\n",
       "      <td>...</td>\n",
       "      <td>2</td>\n",
       "      <td>Санкт-Петербург</td>\n",
       "      <td>23982.0</td>\n",
       "      <td>11634.0</td>\n",
       "      <td>0.0</td>\n",
       "      <td>NaN</td>\n",
       "      <td>0.0</td>\n",
       "      <td>NaN</td>\n",
       "      <td>NaN</td>\n",
       "      <td>110544.69</td>\n",
       "    </tr>\n",
       "    <tr>\n",
       "      <th>...</th>\n",
       "      <td>...</td>\n",
       "      <td>...</td>\n",
       "      <td>...</td>\n",
       "      <td>...</td>\n",
       "      <td>...</td>\n",
       "      <td>...</td>\n",
       "      <td>...</td>\n",
       "      <td>...</td>\n",
       "      <td>...</td>\n",
       "      <td>...</td>\n",
       "      <td>...</td>\n",
       "      <td>...</td>\n",
       "      <td>...</td>\n",
       "      <td>...</td>\n",
       "      <td>...</td>\n",
       "      <td>...</td>\n",
       "      <td>...</td>\n",
       "      <td>...</td>\n",
       "      <td>...</td>\n",
       "      <td>...</td>\n",
       "      <td>...</td>\n",
       "    </tr>\n",
       "    <tr>\n",
       "      <th>23693</th>\n",
       "      <td>9</td>\n",
       "      <td>4600000.0</td>\n",
       "      <td>62.40</td>\n",
       "      <td>2016-08-05</td>\n",
       "      <td>3</td>\n",
       "      <td>2.60</td>\n",
       "      <td>9.0</td>\n",
       "      <td>40.0</td>\n",
       "      <td>8</td>\n",
       "      <td>False</td>\n",
       "      <td>...</td>\n",
       "      <td>0</td>\n",
       "      <td>Петергоф</td>\n",
       "      <td>45602.0</td>\n",
       "      <td>34104.0</td>\n",
       "      <td>1.0</td>\n",
       "      <td>352.0</td>\n",
       "      <td>1.0</td>\n",
       "      <td>675.0</td>\n",
       "      <td>239.0</td>\n",
       "      <td>73717.95</td>\n",
       "    </tr>\n",
       "    <tr>\n",
       "      <th>23694</th>\n",
       "      <td>9</td>\n",
       "      <td>9700000.0</td>\n",
       "      <td>133.81</td>\n",
       "      <td>2017-03-21</td>\n",
       "      <td>3</td>\n",
       "      <td>3.70</td>\n",
       "      <td>5.0</td>\n",
       "      <td>73.3</td>\n",
       "      <td>3</td>\n",
       "      <td>False</td>\n",
       "      <td>...</td>\n",
       "      <td>1</td>\n",
       "      <td>Санкт-Петербург</td>\n",
       "      <td>24665.0</td>\n",
       "      <td>4232.0</td>\n",
       "      <td>1.0</td>\n",
       "      <td>796.0</td>\n",
       "      <td>3.0</td>\n",
       "      <td>381.0</td>\n",
       "      <td>NaN</td>\n",
       "      <td>72490.85</td>\n",
       "    </tr>\n",
       "    <tr>\n",
       "      <th>23695</th>\n",
       "      <td>14</td>\n",
       "      <td>3100000.0</td>\n",
       "      <td>59.00</td>\n",
       "      <td>2018-01-15</td>\n",
       "      <td>3</td>\n",
       "      <td>2.65</td>\n",
       "      <td>5.0</td>\n",
       "      <td>38.0</td>\n",
       "      <td>4</td>\n",
       "      <td>False</td>\n",
       "      <td>...</td>\n",
       "      <td>1</td>\n",
       "      <td>Тосно</td>\n",
       "      <td>NaN</td>\n",
       "      <td>NaN</td>\n",
       "      <td>NaN</td>\n",
       "      <td>NaN</td>\n",
       "      <td>NaN</td>\n",
       "      <td>NaN</td>\n",
       "      <td>45.0</td>\n",
       "      <td>52542.37</td>\n",
       "    </tr>\n",
       "    <tr>\n",
       "      <th>23696</th>\n",
       "      <td>18</td>\n",
       "      <td>2500000.0</td>\n",
       "      <td>56.70</td>\n",
       "      <td>2018-02-11</td>\n",
       "      <td>2</td>\n",
       "      <td>2.65</td>\n",
       "      <td>3.0</td>\n",
       "      <td>29.7</td>\n",
       "      <td>1</td>\n",
       "      <td>False</td>\n",
       "      <td>...</td>\n",
       "      <td>1</td>\n",
       "      <td>село Рождествено</td>\n",
       "      <td>NaN</td>\n",
       "      <td>NaN</td>\n",
       "      <td>NaN</td>\n",
       "      <td>NaN</td>\n",
       "      <td>NaN</td>\n",
       "      <td>NaN</td>\n",
       "      <td>NaN</td>\n",
       "      <td>44091.71</td>\n",
       "    </tr>\n",
       "    <tr>\n",
       "      <th>23698</th>\n",
       "      <td>4</td>\n",
       "      <td>1350000.0</td>\n",
       "      <td>32.30</td>\n",
       "      <td>2017-07-21</td>\n",
       "      <td>1</td>\n",
       "      <td>2.50</td>\n",
       "      <td>5.0</td>\n",
       "      <td>12.3</td>\n",
       "      <td>1</td>\n",
       "      <td>False</td>\n",
       "      <td>...</td>\n",
       "      <td>1</td>\n",
       "      <td>поселок Новый Учхоз</td>\n",
       "      <td>NaN</td>\n",
       "      <td>NaN</td>\n",
       "      <td>NaN</td>\n",
       "      <td>NaN</td>\n",
       "      <td>NaN</td>\n",
       "      <td>NaN</td>\n",
       "      <td>NaN</td>\n",
       "      <td>41795.67</td>\n",
       "    </tr>\n",
       "  </tbody>\n",
       "</table>\n",
       "<p>20822 rows × 23 columns</p>\n",
       "</div>"
      ],
      "text/plain": [
       "       total_images  last_price  total_area first_day_exposition  rooms  \\\n",
       "1                 7   3350000.0       40.40           2018-12-04      1   \n",
       "2                10   5196000.0       56.00           2015-08-20      2   \n",
       "5                10   2890000.0       30.40           2018-09-10      1   \n",
       "6                 6   3700000.0       37.30           2017-11-02      1   \n",
       "7                 5   7915000.0       71.60           2019-04-18      2   \n",
       "...             ...         ...         ...                  ...    ...   \n",
       "23693             9   4600000.0       62.40           2016-08-05      3   \n",
       "23694             9   9700000.0      133.81           2017-03-21      3   \n",
       "23695            14   3100000.0       59.00           2018-01-15      3   \n",
       "23696            18   2500000.0       56.70           2018-02-11      2   \n",
       "23698             4   1350000.0       32.30           2017-07-21      1   \n",
       "\n",
       "       ceiling_height  floors_total  living_area  floor  is_apartment  ...  \\\n",
       "1                2.65          11.0         18.6      1         False  ...   \n",
       "2                2.65           5.0         34.3      4         False  ...   \n",
       "5                2.65          12.0         14.4      5         False  ...   \n",
       "6                2.65          26.0         10.6      6         False  ...   \n",
       "7                2.65          24.0          NaN     22         False  ...   \n",
       "...               ...           ...          ...    ...           ...  ...   \n",
       "23693            2.60           9.0         40.0      8         False  ...   \n",
       "23694            3.70           5.0         73.3      3         False  ...   \n",
       "23695            2.65           5.0         38.0      4         False  ...   \n",
       "23696            2.65           3.0         29.7      1         False  ...   \n",
       "23698            2.50           5.0         12.3      1         False  ...   \n",
       "\n",
       "       balcony        locality_name  airports_nearest  cityCenters_nearest  \\\n",
       "1            2       поселок Шушары           12817.0              18603.0   \n",
       "2            0      Санкт-Петербург           21741.0              13933.0   \n",
       "5            1      поселок Янино-1               NaN                  NaN   \n",
       "6            1    поселок Парголово           52996.0              19143.0   \n",
       "7            2      Санкт-Петербург           23982.0              11634.0   \n",
       "...        ...                  ...               ...                  ...   \n",
       "23693        0             Петергоф           45602.0              34104.0   \n",
       "23694        1      Санкт-Петербург           24665.0               4232.0   \n",
       "23695        1                Тосно               NaN                  NaN   \n",
       "23696        1     село Рождествено               NaN                  NaN   \n",
       "23698        1  поселок Новый Учхоз               NaN                  NaN   \n",
       "\n",
       "      parks_around3000  parks_nearest  ponds_around3000  ponds_nearest  \\\n",
       "1                  0.0            NaN               0.0            NaN   \n",
       "2                  1.0           90.0               2.0          574.0   \n",
       "5                  NaN            NaN               NaN            NaN   \n",
       "6                  0.0            NaN               0.0            NaN   \n",
       "7                  0.0            NaN               0.0            NaN   \n",
       "...                ...            ...               ...            ...   \n",
       "23693              1.0          352.0               1.0          675.0   \n",
       "23694              1.0          796.0               3.0          381.0   \n",
       "23695              NaN            NaN               NaN            NaN   \n",
       "23696              NaN            NaN               NaN            NaN   \n",
       "23698              NaN            NaN               NaN            NaN   \n",
       "\n",
       "       days_exposition  price_one_square_meter  \n",
       "1                 81.0                82920.79  \n",
       "2                558.0                92785.71  \n",
       "5                 55.0                95065.79  \n",
       "6                155.0                99195.71  \n",
       "7                  NaN               110544.69  \n",
       "...                ...                     ...  \n",
       "23693            239.0                73717.95  \n",
       "23694              NaN                72490.85  \n",
       "23695             45.0                52542.37  \n",
       "23696              NaN                44091.71  \n",
       "23698              NaN                41795.67  \n",
       "\n",
       "[20822 rows x 23 columns]"
      ]
     },
     "execution_count": 27,
     "metadata": {},
     "output_type": "execute_result"
    }
   ],
   "source": [
    "data['price_one_square_meter'] = data['last_price'] / data['total_area']\n",
    "data['price_one_square_meter'] = data['price_one_square_meter'].round(2)\n",
    "data"
   ]
  },
  {
   "cell_type": "markdown",
   "metadata": {},
   "source": [
    "Добавлен новый столбец 'price_one_square_meter'. Имеет данные о цене квадратного метра."
   ]
  },
  {
   "cell_type": "code",
   "execution_count": 28,
   "metadata": {},
   "outputs": [],
   "source": [
    "data['week_days'] = data['first_day_exposition'].dt.weekday"
   ]
  },
  {
   "cell_type": "markdown",
   "metadata": {},
   "source": [
    "Добавлен новый столбец 'week_days'. Отоброжает дни недели, где начало понедельник - '0' , конец воскресеьне - '6'"
   ]
  },
  {
   "cell_type": "code",
   "execution_count": 29,
   "metadata": {},
   "outputs": [],
   "source": [
    "data['month_exposition'] = pd.DatetimeIndex(data['first_day_exposition']).month"
   ]
  },
  {
   "cell_type": "markdown",
   "metadata": {},
   "source": [
    "Добавлен новый столбец 'month_exposition'. Нумерация месяцев в году."
   ]
  },
  {
   "cell_type": "code",
   "execution_count": 30,
   "metadata": {},
   "outputs": [],
   "source": [
    "data['year_exposition'] = pd.DatetimeIndex(data['first_day_exposition']).year"
   ]
  },
  {
   "cell_type": "markdown",
   "metadata": {},
   "source": [
    "Добавлен новый столбец 'year_exposition' , который отображает год."
   ]
  },
  {
   "cell_type": "code",
   "execution_count": 31,
   "metadata": {},
   "outputs": [
    {
     "data": {
      "text/html": [
       "<div>\n",
       "<style scoped>\n",
       "    .dataframe tbody tr th:only-of-type {\n",
       "        vertical-align: middle;\n",
       "    }\n",
       "\n",
       "    .dataframe tbody tr th {\n",
       "        vertical-align: top;\n",
       "    }\n",
       "\n",
       "    .dataframe thead th {\n",
       "        text-align: right;\n",
       "    }\n",
       "</style>\n",
       "<table border=\"1\" class=\"dataframe\">\n",
       "  <thead>\n",
       "    <tr style=\"text-align: right;\">\n",
       "      <th></th>\n",
       "      <th>total_images</th>\n",
       "      <th>last_price</th>\n",
       "      <th>total_area</th>\n",
       "      <th>first_day_exposition</th>\n",
       "      <th>rooms</th>\n",
       "      <th>ceiling_height</th>\n",
       "      <th>floors_total</th>\n",
       "      <th>living_area</th>\n",
       "      <th>floor</th>\n",
       "      <th>is_apartment</th>\n",
       "      <th>...</th>\n",
       "      <th>cityCenters_nearest</th>\n",
       "      <th>parks_around3000</th>\n",
       "      <th>parks_nearest</th>\n",
       "      <th>ponds_around3000</th>\n",
       "      <th>ponds_nearest</th>\n",
       "      <th>days_exposition</th>\n",
       "      <th>price_one_square_meter</th>\n",
       "      <th>week_days</th>\n",
       "      <th>month_exposition</th>\n",
       "      <th>year_exposition</th>\n",
       "    </tr>\n",
       "  </thead>\n",
       "  <tbody>\n",
       "    <tr>\n",
       "      <th>1</th>\n",
       "      <td>7</td>\n",
       "      <td>3350000.0</td>\n",
       "      <td>40.40</td>\n",
       "      <td>2018-12-04</td>\n",
       "      <td>1</td>\n",
       "      <td>2.65</td>\n",
       "      <td>11.0</td>\n",
       "      <td>18.60</td>\n",
       "      <td>1</td>\n",
       "      <td>False</td>\n",
       "      <td>...</td>\n",
       "      <td>18603.0</td>\n",
       "      <td>0.0</td>\n",
       "      <td>NaN</td>\n",
       "      <td>0.0</td>\n",
       "      <td>NaN</td>\n",
       "      <td>81.0</td>\n",
       "      <td>82920.79</td>\n",
       "      <td>1</td>\n",
       "      <td>12</td>\n",
       "      <td>2018</td>\n",
       "    </tr>\n",
       "    <tr>\n",
       "      <th>2</th>\n",
       "      <td>10</td>\n",
       "      <td>5196000.0</td>\n",
       "      <td>56.00</td>\n",
       "      <td>2015-08-20</td>\n",
       "      <td>2</td>\n",
       "      <td>2.65</td>\n",
       "      <td>5.0</td>\n",
       "      <td>34.30</td>\n",
       "      <td>4</td>\n",
       "      <td>False</td>\n",
       "      <td>...</td>\n",
       "      <td>13933.0</td>\n",
       "      <td>1.0</td>\n",
       "      <td>90.0</td>\n",
       "      <td>2.0</td>\n",
       "      <td>574.0</td>\n",
       "      <td>558.0</td>\n",
       "      <td>92785.71</td>\n",
       "      <td>3</td>\n",
       "      <td>8</td>\n",
       "      <td>2015</td>\n",
       "    </tr>\n",
       "    <tr>\n",
       "      <th>5</th>\n",
       "      <td>10</td>\n",
       "      <td>2890000.0</td>\n",
       "      <td>30.40</td>\n",
       "      <td>2018-09-10</td>\n",
       "      <td>1</td>\n",
       "      <td>2.65</td>\n",
       "      <td>12.0</td>\n",
       "      <td>14.40</td>\n",
       "      <td>5</td>\n",
       "      <td>False</td>\n",
       "      <td>...</td>\n",
       "      <td>NaN</td>\n",
       "      <td>NaN</td>\n",
       "      <td>NaN</td>\n",
       "      <td>NaN</td>\n",
       "      <td>NaN</td>\n",
       "      <td>55.0</td>\n",
       "      <td>95065.79</td>\n",
       "      <td>0</td>\n",
       "      <td>9</td>\n",
       "      <td>2018</td>\n",
       "    </tr>\n",
       "    <tr>\n",
       "      <th>6</th>\n",
       "      <td>6</td>\n",
       "      <td>3700000.0</td>\n",
       "      <td>37.30</td>\n",
       "      <td>2017-11-02</td>\n",
       "      <td>1</td>\n",
       "      <td>2.65</td>\n",
       "      <td>26.0</td>\n",
       "      <td>10.60</td>\n",
       "      <td>6</td>\n",
       "      <td>False</td>\n",
       "      <td>...</td>\n",
       "      <td>19143.0</td>\n",
       "      <td>0.0</td>\n",
       "      <td>NaN</td>\n",
       "      <td>0.0</td>\n",
       "      <td>NaN</td>\n",
       "      <td>155.0</td>\n",
       "      <td>99195.71</td>\n",
       "      <td>3</td>\n",
       "      <td>11</td>\n",
       "      <td>2017</td>\n",
       "    </tr>\n",
       "    <tr>\n",
       "      <th>7</th>\n",
       "      <td>5</td>\n",
       "      <td>7915000.0</td>\n",
       "      <td>71.60</td>\n",
       "      <td>2019-04-18</td>\n",
       "      <td>2</td>\n",
       "      <td>2.65</td>\n",
       "      <td>24.0</td>\n",
       "      <td>NaN</td>\n",
       "      <td>22</td>\n",
       "      <td>False</td>\n",
       "      <td>...</td>\n",
       "      <td>11634.0</td>\n",
       "      <td>0.0</td>\n",
       "      <td>NaN</td>\n",
       "      <td>0.0</td>\n",
       "      <td>NaN</td>\n",
       "      <td>NaN</td>\n",
       "      <td>110544.69</td>\n",
       "      <td>3</td>\n",
       "      <td>4</td>\n",
       "      <td>2019</td>\n",
       "    </tr>\n",
       "    <tr>\n",
       "      <th>8</th>\n",
       "      <td>20</td>\n",
       "      <td>2900000.0</td>\n",
       "      <td>33.16</td>\n",
       "      <td>2018-05-23</td>\n",
       "      <td>1</td>\n",
       "      <td>2.65</td>\n",
       "      <td>27.0</td>\n",
       "      <td>15.43</td>\n",
       "      <td>26</td>\n",
       "      <td>False</td>\n",
       "      <td>...</td>\n",
       "      <td>NaN</td>\n",
       "      <td>NaN</td>\n",
       "      <td>NaN</td>\n",
       "      <td>NaN</td>\n",
       "      <td>NaN</td>\n",
       "      <td>189.0</td>\n",
       "      <td>87454.76</td>\n",
       "      <td>2</td>\n",
       "      <td>5</td>\n",
       "      <td>2018</td>\n",
       "    </tr>\n",
       "    <tr>\n",
       "      <th>9</th>\n",
       "      <td>18</td>\n",
       "      <td>5400000.0</td>\n",
       "      <td>61.00</td>\n",
       "      <td>2017-02-26</td>\n",
       "      <td>3</td>\n",
       "      <td>2.50</td>\n",
       "      <td>9.0</td>\n",
       "      <td>43.60</td>\n",
       "      <td>7</td>\n",
       "      <td>False</td>\n",
       "      <td>...</td>\n",
       "      <td>15008.0</td>\n",
       "      <td>0.0</td>\n",
       "      <td>NaN</td>\n",
       "      <td>0.0</td>\n",
       "      <td>NaN</td>\n",
       "      <td>289.0</td>\n",
       "      <td>88524.59</td>\n",
       "      <td>6</td>\n",
       "      <td>2</td>\n",
       "      <td>2017</td>\n",
       "    </tr>\n",
       "    <tr>\n",
       "      <th>10</th>\n",
       "      <td>5</td>\n",
       "      <td>5050000.0</td>\n",
       "      <td>39.60</td>\n",
       "      <td>2017-11-16</td>\n",
       "      <td>1</td>\n",
       "      <td>2.67</td>\n",
       "      <td>12.0</td>\n",
       "      <td>20.30</td>\n",
       "      <td>3</td>\n",
       "      <td>False</td>\n",
       "      <td>...</td>\n",
       "      <td>13878.0</td>\n",
       "      <td>1.0</td>\n",
       "      <td>310.0</td>\n",
       "      <td>2.0</td>\n",
       "      <td>553.0</td>\n",
       "      <td>137.0</td>\n",
       "      <td>127525.25</td>\n",
       "      <td>3</td>\n",
       "      <td>11</td>\n",
       "      <td>2017</td>\n",
       "    </tr>\n",
       "    <tr>\n",
       "      <th>11</th>\n",
       "      <td>9</td>\n",
       "      <td>3300000.0</td>\n",
       "      <td>44.00</td>\n",
       "      <td>2018-08-27</td>\n",
       "      <td>2</td>\n",
       "      <td>2.65</td>\n",
       "      <td>5.0</td>\n",
       "      <td>31.00</td>\n",
       "      <td>4</td>\n",
       "      <td>False</td>\n",
       "      <td>...</td>\n",
       "      <td>51677.0</td>\n",
       "      <td>0.0</td>\n",
       "      <td>NaN</td>\n",
       "      <td>0.0</td>\n",
       "      <td>NaN</td>\n",
       "      <td>7.0</td>\n",
       "      <td>75000.00</td>\n",
       "      <td>0</td>\n",
       "      <td>8</td>\n",
       "      <td>2018</td>\n",
       "    </tr>\n",
       "    <tr>\n",
       "      <th>12</th>\n",
       "      <td>10</td>\n",
       "      <td>3890000.0</td>\n",
       "      <td>54.00</td>\n",
       "      <td>2016-06-30</td>\n",
       "      <td>2</td>\n",
       "      <td>2.65</td>\n",
       "      <td>5.0</td>\n",
       "      <td>30.00</td>\n",
       "      <td>5</td>\n",
       "      <td>False</td>\n",
       "      <td>...</td>\n",
       "      <td>NaN</td>\n",
       "      <td>NaN</td>\n",
       "      <td>NaN</td>\n",
       "      <td>NaN</td>\n",
       "      <td>NaN</td>\n",
       "      <td>90.0</td>\n",
       "      <td>72037.04</td>\n",
       "      <td>3</td>\n",
       "      <td>6</td>\n",
       "      <td>2016</td>\n",
       "    </tr>\n",
       "    <tr>\n",
       "      <th>13</th>\n",
       "      <td>20</td>\n",
       "      <td>3550000.0</td>\n",
       "      <td>42.80</td>\n",
       "      <td>2017-07-01</td>\n",
       "      <td>2</td>\n",
       "      <td>2.56</td>\n",
       "      <td>5.0</td>\n",
       "      <td>27.00</td>\n",
       "      <td>5</td>\n",
       "      <td>False</td>\n",
       "      <td>...</td>\n",
       "      <td>33058.0</td>\n",
       "      <td>1.0</td>\n",
       "      <td>294.0</td>\n",
       "      <td>3.0</td>\n",
       "      <td>298.0</td>\n",
       "      <td>366.0</td>\n",
       "      <td>82943.93</td>\n",
       "      <td>5</td>\n",
       "      <td>7</td>\n",
       "      <td>2017</td>\n",
       "    </tr>\n",
       "    <tr>\n",
       "      <th>14</th>\n",
       "      <td>1</td>\n",
       "      <td>4400000.0</td>\n",
       "      <td>36.00</td>\n",
       "      <td>2016-06-23</td>\n",
       "      <td>1</td>\n",
       "      <td>2.65</td>\n",
       "      <td>6.0</td>\n",
       "      <td>17.00</td>\n",
       "      <td>1</td>\n",
       "      <td>False</td>\n",
       "      <td>...</td>\n",
       "      <td>30759.0</td>\n",
       "      <td>0.0</td>\n",
       "      <td>NaN</td>\n",
       "      <td>1.0</td>\n",
       "      <td>96.0</td>\n",
       "      <td>203.0</td>\n",
       "      <td>122222.22</td>\n",
       "      <td>3</td>\n",
       "      <td>6</td>\n",
       "      <td>2016</td>\n",
       "    </tr>\n",
       "    <tr>\n",
       "      <th>15</th>\n",
       "      <td>16</td>\n",
       "      <td>4650000.0</td>\n",
       "      <td>39.00</td>\n",
       "      <td>2017-11-18</td>\n",
       "      <td>1</td>\n",
       "      <td>2.65</td>\n",
       "      <td>14.0</td>\n",
       "      <td>20.50</td>\n",
       "      <td>5</td>\n",
       "      <td>False</td>\n",
       "      <td>...</td>\n",
       "      <td>14259.0</td>\n",
       "      <td>1.0</td>\n",
       "      <td>590.0</td>\n",
       "      <td>1.0</td>\n",
       "      <td>296.0</td>\n",
       "      <td>19.0</td>\n",
       "      <td>119230.77</td>\n",
       "      <td>5</td>\n",
       "      <td>11</td>\n",
       "      <td>2017</td>\n",
       "    </tr>\n",
       "    <tr>\n",
       "      <th>16</th>\n",
       "      <td>11</td>\n",
       "      <td>6700000.0</td>\n",
       "      <td>82.00</td>\n",
       "      <td>2017-11-23</td>\n",
       "      <td>3</td>\n",
       "      <td>3.05</td>\n",
       "      <td>5.0</td>\n",
       "      <td>55.60</td>\n",
       "      <td>1</td>\n",
       "      <td>False</td>\n",
       "      <td>...</td>\n",
       "      <td>10698.0</td>\n",
       "      <td>3.0</td>\n",
       "      <td>420.0</td>\n",
       "      <td>0.0</td>\n",
       "      <td>NaN</td>\n",
       "      <td>397.0</td>\n",
       "      <td>81707.32</td>\n",
       "      <td>3</td>\n",
       "      <td>11</td>\n",
       "      <td>2017</td>\n",
       "    </tr>\n",
       "    <tr>\n",
       "      <th>17</th>\n",
       "      <td>6</td>\n",
       "      <td>4180000.0</td>\n",
       "      <td>36.00</td>\n",
       "      <td>2016-09-09</td>\n",
       "      <td>1</td>\n",
       "      <td>2.65</td>\n",
       "      <td>17.0</td>\n",
       "      <td>16.50</td>\n",
       "      <td>7</td>\n",
       "      <td>False</td>\n",
       "      <td>...</td>\n",
       "      <td>14616.0</td>\n",
       "      <td>0.0</td>\n",
       "      <td>NaN</td>\n",
       "      <td>1.0</td>\n",
       "      <td>859.0</td>\n",
       "      <td>571.0</td>\n",
       "      <td>116111.11</td>\n",
       "      <td>4</td>\n",
       "      <td>9</td>\n",
       "      <td>2016</td>\n",
       "    </tr>\n",
       "    <tr>\n",
       "      <th>18</th>\n",
       "      <td>8</td>\n",
       "      <td>3250000.0</td>\n",
       "      <td>31.00</td>\n",
       "      <td>2017-01-27</td>\n",
       "      <td>1</td>\n",
       "      <td>2.50</td>\n",
       "      <td>5.0</td>\n",
       "      <td>19.40</td>\n",
       "      <td>2</td>\n",
       "      <td>False</td>\n",
       "      <td>...</td>\n",
       "      <td>10842.0</td>\n",
       "      <td>1.0</td>\n",
       "      <td>759.0</td>\n",
       "      <td>0.0</td>\n",
       "      <td>NaN</td>\n",
       "      <td>168.0</td>\n",
       "      <td>104838.71</td>\n",
       "      <td>4</td>\n",
       "      <td>1</td>\n",
       "      <td>2017</td>\n",
       "    </tr>\n",
       "    <tr>\n",
       "      <th>20</th>\n",
       "      <td>12</td>\n",
       "      <td>6120000.0</td>\n",
       "      <td>80.00</td>\n",
       "      <td>2017-09-28</td>\n",
       "      <td>3</td>\n",
       "      <td>2.70</td>\n",
       "      <td>27.0</td>\n",
       "      <td>48.00</td>\n",
       "      <td>11</td>\n",
       "      <td>False</td>\n",
       "      <td>...</td>\n",
       "      <td>19311.0</td>\n",
       "      <td>0.0</td>\n",
       "      <td>NaN</td>\n",
       "      <td>0.0</td>\n",
       "      <td>NaN</td>\n",
       "      <td>74.0</td>\n",
       "      <td>76500.00</td>\n",
       "      <td>3</td>\n",
       "      <td>9</td>\n",
       "      <td>2017</td>\n",
       "    </tr>\n",
       "    <tr>\n",
       "      <th>21</th>\n",
       "      <td>13</td>\n",
       "      <td>3200000.0</td>\n",
       "      <td>31.60</td>\n",
       "      <td>2018-03-14</td>\n",
       "      <td>1</td>\n",
       "      <td>2.65</td>\n",
       "      <td>5.0</td>\n",
       "      <td>16.90</td>\n",
       "      <td>2</td>\n",
       "      <td>False</td>\n",
       "      <td>...</td>\n",
       "      <td>9722.0</td>\n",
       "      <td>1.0</td>\n",
       "      <td>248.0</td>\n",
       "      <td>0.0</td>\n",
       "      <td>NaN</td>\n",
       "      <td>310.0</td>\n",
       "      <td>101265.82</td>\n",
       "      <td>2</td>\n",
       "      <td>3</td>\n",
       "      <td>2018</td>\n",
       "    </tr>\n",
       "    <tr>\n",
       "      <th>22</th>\n",
       "      <td>20</td>\n",
       "      <td>5000000.0</td>\n",
       "      <td>58.00</td>\n",
       "      <td>2017-04-24</td>\n",
       "      <td>2</td>\n",
       "      <td>2.75</td>\n",
       "      <td>25.0</td>\n",
       "      <td>30.00</td>\n",
       "      <td>15</td>\n",
       "      <td>False</td>\n",
       "      <td>...</td>\n",
       "      <td>NaN</td>\n",
       "      <td>NaN</td>\n",
       "      <td>NaN</td>\n",
       "      <td>NaN</td>\n",
       "      <td>NaN</td>\n",
       "      <td>60.0</td>\n",
       "      <td>86206.90</td>\n",
       "      <td>0</td>\n",
       "      <td>4</td>\n",
       "      <td>2017</td>\n",
       "    </tr>\n",
       "    <tr>\n",
       "      <th>23</th>\n",
       "      <td>11</td>\n",
       "      <td>2950000.0</td>\n",
       "      <td>32.00</td>\n",
       "      <td>2016-10-29</td>\n",
       "      <td>1</td>\n",
       "      <td>2.60</td>\n",
       "      <td>9.0</td>\n",
       "      <td>17.70</td>\n",
       "      <td>9</td>\n",
       "      <td>False</td>\n",
       "      <td>...</td>\n",
       "      <td>14211.0</td>\n",
       "      <td>2.0</td>\n",
       "      <td>517.0</td>\n",
       "      <td>1.0</td>\n",
       "      <td>190.0</td>\n",
       "      <td>615.0</td>\n",
       "      <td>92187.50</td>\n",
       "      <td>5</td>\n",
       "      <td>10</td>\n",
       "      <td>2016</td>\n",
       "    </tr>\n",
       "  </tbody>\n",
       "</table>\n",
       "<p>20 rows × 26 columns</p>\n",
       "</div>"
      ],
      "text/plain": [
       "    total_images  last_price  total_area first_day_exposition  rooms  \\\n",
       "1              7   3350000.0       40.40           2018-12-04      1   \n",
       "2             10   5196000.0       56.00           2015-08-20      2   \n",
       "5             10   2890000.0       30.40           2018-09-10      1   \n",
       "6              6   3700000.0       37.30           2017-11-02      1   \n",
       "7              5   7915000.0       71.60           2019-04-18      2   \n",
       "8             20   2900000.0       33.16           2018-05-23      1   \n",
       "9             18   5400000.0       61.00           2017-02-26      3   \n",
       "10             5   5050000.0       39.60           2017-11-16      1   \n",
       "11             9   3300000.0       44.00           2018-08-27      2   \n",
       "12            10   3890000.0       54.00           2016-06-30      2   \n",
       "13            20   3550000.0       42.80           2017-07-01      2   \n",
       "14             1   4400000.0       36.00           2016-06-23      1   \n",
       "15            16   4650000.0       39.00           2017-11-18      1   \n",
       "16            11   6700000.0       82.00           2017-11-23      3   \n",
       "17             6   4180000.0       36.00           2016-09-09      1   \n",
       "18             8   3250000.0       31.00           2017-01-27      1   \n",
       "20            12   6120000.0       80.00           2017-09-28      3   \n",
       "21            13   3200000.0       31.60           2018-03-14      1   \n",
       "22            20   5000000.0       58.00           2017-04-24      2   \n",
       "23            11   2950000.0       32.00           2016-10-29      1   \n",
       "\n",
       "    ceiling_height  floors_total  living_area  floor  is_apartment  ...  \\\n",
       "1             2.65          11.0        18.60      1         False  ...   \n",
       "2             2.65           5.0        34.30      4         False  ...   \n",
       "5             2.65          12.0        14.40      5         False  ...   \n",
       "6             2.65          26.0        10.60      6         False  ...   \n",
       "7             2.65          24.0          NaN     22         False  ...   \n",
       "8             2.65          27.0        15.43     26         False  ...   \n",
       "9             2.50           9.0        43.60      7         False  ...   \n",
       "10            2.67          12.0        20.30      3         False  ...   \n",
       "11            2.65           5.0        31.00      4         False  ...   \n",
       "12            2.65           5.0        30.00      5         False  ...   \n",
       "13            2.56           5.0        27.00      5         False  ...   \n",
       "14            2.65           6.0        17.00      1         False  ...   \n",
       "15            2.65          14.0        20.50      5         False  ...   \n",
       "16            3.05           5.0        55.60      1         False  ...   \n",
       "17            2.65          17.0        16.50      7         False  ...   \n",
       "18            2.50           5.0        19.40      2         False  ...   \n",
       "20            2.70          27.0        48.00     11         False  ...   \n",
       "21            2.65           5.0        16.90      2         False  ...   \n",
       "22            2.75          25.0        30.00     15         False  ...   \n",
       "23            2.60           9.0        17.70      9         False  ...   \n",
       "\n",
       "    cityCenters_nearest  parks_around3000  parks_nearest  ponds_around3000  \\\n",
       "1               18603.0               0.0            NaN               0.0   \n",
       "2               13933.0               1.0           90.0               2.0   \n",
       "5                   NaN               NaN            NaN               NaN   \n",
       "6               19143.0               0.0            NaN               0.0   \n",
       "7               11634.0               0.0            NaN               0.0   \n",
       "8                   NaN               NaN            NaN               NaN   \n",
       "9               15008.0               0.0            NaN               0.0   \n",
       "10              13878.0               1.0          310.0               2.0   \n",
       "11              51677.0               0.0            NaN               0.0   \n",
       "12                  NaN               NaN            NaN               NaN   \n",
       "13              33058.0               1.0          294.0               3.0   \n",
       "14              30759.0               0.0            NaN               1.0   \n",
       "15              14259.0               1.0          590.0               1.0   \n",
       "16              10698.0               3.0          420.0               0.0   \n",
       "17              14616.0               0.0            NaN               1.0   \n",
       "18              10842.0               1.0          759.0               0.0   \n",
       "20              19311.0               0.0            NaN               0.0   \n",
       "21               9722.0               1.0          248.0               0.0   \n",
       "22                  NaN               NaN            NaN               NaN   \n",
       "23              14211.0               2.0          517.0               1.0   \n",
       "\n",
       "   ponds_nearest  days_exposition  price_one_square_meter  week_days  \\\n",
       "1            NaN             81.0                82920.79          1   \n",
       "2          574.0            558.0                92785.71          3   \n",
       "5            NaN             55.0                95065.79          0   \n",
       "6            NaN            155.0                99195.71          3   \n",
       "7            NaN              NaN               110544.69          3   \n",
       "8            NaN            189.0                87454.76          2   \n",
       "9            NaN            289.0                88524.59          6   \n",
       "10         553.0            137.0               127525.25          3   \n",
       "11           NaN              7.0                75000.00          0   \n",
       "12           NaN             90.0                72037.04          3   \n",
       "13         298.0            366.0                82943.93          5   \n",
       "14          96.0            203.0               122222.22          3   \n",
       "15         296.0             19.0               119230.77          5   \n",
       "16           NaN            397.0                81707.32          3   \n",
       "17         859.0            571.0               116111.11          4   \n",
       "18           NaN            168.0               104838.71          4   \n",
       "20           NaN             74.0                76500.00          3   \n",
       "21           NaN            310.0               101265.82          2   \n",
       "22           NaN             60.0                86206.90          0   \n",
       "23         190.0            615.0                92187.50          5   \n",
       "\n",
       "    month_exposition  year_exposition  \n",
       "1                 12             2018  \n",
       "2                  8             2015  \n",
       "5                  9             2018  \n",
       "6                 11             2017  \n",
       "7                  4             2019  \n",
       "8                  5             2018  \n",
       "9                  2             2017  \n",
       "10                11             2017  \n",
       "11                 8             2018  \n",
       "12                 6             2016  \n",
       "13                 7             2017  \n",
       "14                 6             2016  \n",
       "15                11             2017  \n",
       "16                11             2017  \n",
       "17                 9             2016  \n",
       "18                 1             2017  \n",
       "20                 9             2017  \n",
       "21                 3             2018  \n",
       "22                 4             2017  \n",
       "23                10             2016  \n",
       "\n",
       "[20 rows x 26 columns]"
      ]
     },
     "execution_count": 31,
     "metadata": {},
     "output_type": "execute_result"
    }
   ],
   "source": [
    "data.head(20)"
   ]
  },
  {
   "cell_type": "code",
   "execution_count": 32,
   "metadata": {},
   "outputs": [],
   "source": [
    "def floor_type(x):\n",
    "    if x['floor'] == 1:\n",
    "        return 'Первый'\n",
    "    elif x['floor']==x['floors_total']:\n",
    "        return 'Последний'\n",
    "    return 'Другой'"
   ]
  },
  {
   "cell_type": "markdown",
   "metadata": {},
   "source": [
    "Объявляем функцию, с помощью которой будем категоризировать столбец 'floor'"
   ]
  },
  {
   "cell_type": "code",
   "execution_count": 33,
   "metadata": {},
   "outputs": [
    {
     "data": {
      "text/plain": [
       "Другой       15173\n",
       "Последний     2891\n",
       "Первый        2758\n",
       "Name: floors_type, dtype: int64"
      ]
     },
     "execution_count": 33,
     "metadata": {},
     "output_type": "execute_result"
    }
   ],
   "source": [
    "data['floors_type'] = data.apply(floor_type,axis=1)\n",
    "data['floors_type'].value_counts()"
   ]
  },
  {
   "cell_type": "markdown",
   "metadata": {},
   "source": [
    "Добавляем новый столбец 'floors_type' , с категориями столбца 'floor'"
   ]
  },
  {
   "cell_type": "code",
   "execution_count": 34,
   "metadata": {},
   "outputs": [
    {
     "data": {
      "text/plain": [
       "1    19.0\n",
       "2    14.0\n",
       "5     NaN\n",
       "6    19.0\n",
       "7    12.0\n",
       "Name: cityCenters_nearest_km, dtype: float64"
      ]
     },
     "execution_count": 34,
     "metadata": {},
     "output_type": "execute_result"
    }
   ],
   "source": [
    "data['cityCenters_nearest_km'] = data['cityCenters_nearest'] / 1000\n",
    "data['cityCenters_nearest_km'] = data['cityCenters_nearest_km'].round(0)\n",
    "data['cityCenters_nearest_km'].head()"
   ]
  },
  {
   "cell_type": "markdown",
   "metadata": {},
   "source": [
    "Добавляем новый столбец 'cityCenters_nearest_km', где мы конвертировали метры из столбца 'cityCenters_nearest' в км."
   ]
  },
  {
   "cell_type": "markdown",
   "metadata": {},
   "source": [
    "**Вывод**\n",
    "\n",
    "**1.** Добавили столбцы с днями неделями, месяцами, и годами.\n",
    "\n",
    "**2.** Рассчитали цену за квадратный метр и результаты добавили в новый столбец.\n",
    "\n",
    "**3.** Сделали категоризацию данных из столбца 'floors' на \"Первый, Последний, Другие\" и добавили результат в столбец 'floors_type'"
   ]
  },
  {
   "cell_type": "markdown",
   "metadata": {},
   "source": [
    "### Проведите исследовательский анализ данных"
   ]
  },
  {
   "cell_type": "code",
   "execution_count": 35,
   "metadata": {},
   "outputs": [
    {
     "data": {
      "image/png": "[encoded data removed]",
      "text/plain": [
       "<Figure size 432x288 with 1 Axes>"
      ]
     },
     "metadata": {
      "needs_background": "light"
     },
     "output_type": "display_data"
    },
    {
     "data": {
      "text/plain": [
       "count    20822.000000\n",
       "mean        52.025033\n",
       "std         17.710422\n",
       "min         13.000000\n",
       "25%         38.700000\n",
       "50%         48.000000\n",
       "75%         62.000000\n",
       "max        201.500000\n",
       "Name: total_area, dtype: float64"
      ]
     },
     "execution_count": 35,
     "metadata": {},
     "output_type": "execute_result"
    }
   ],
   "source": [
    "\n",
    "data['total_area'].hist(bins=30,range=(0,201))\n",
    "plt.show()\n",
    "data['total_area'].describe()"
   ]
  },
  {
   "cell_type": "markdown",
   "metadata": {},
   "source": [
    "По данным видим , что большинство квартир в нашем датафрейме имеют общую площадь около 50м2.\n",
    "После 60ти м2 идет спад."
   ]
  },
  {
   "cell_type": "code",
   "execution_count": 36,
   "metadata": {},
   "outputs": [
    {
     "data": {
      "image/png": "[encoded data removed]",
      "text/plain": [
       "<Figure size 432x288 with 1 Axes>"
      ]
     },
     "metadata": {
      "needs_background": "light"
     },
     "output_type": "display_data"
    },
    {
     "data": {
      "text/plain": [
       "count    19226.000000\n",
       "mean        29.842524\n",
       "std         12.741089\n",
       "min          2.000000\n",
       "25%         18.000000\n",
       "50%         29.000000\n",
       "75%         38.400000\n",
       "max        112.000000\n",
       "Name: living_area, dtype: float64"
      ]
     },
     "execution_count": 36,
     "metadata": {},
     "output_type": "execute_result"
    }
   ],
   "source": [
    "data['living_area'].hist(bins=30,range=(0,112))\n",
    "plt.show()\n",
    "data['living_area'].describe()\n",
    "\n"
   ]
  },
  {
   "cell_type": "markdown",
   "metadata": {},
   "source": [
    "На гистограмме видно , что большинство жилой площади имеют 18 м2, в два раза меньше 30 м2  и идет спад  на 40 м2."
   ]
  },
  {
   "cell_type": "code",
   "execution_count": 37,
   "metadata": {},
   "outputs": [
    {
     "data": {
      "image/png": "[encoded data removed]",
      "text/plain": [
       "<Figure size 432x288 with 1 Axes>"
      ]
     },
     "metadata": {
      "needs_background": "light"
     },
     "output_type": "display_data"
    },
    {
     "data": {
      "text/plain": [
       "count    18856.000000\n",
       "mean         9.431402\n",
       "std          3.617187\n",
       "min          1.300000\n",
       "25%          7.000000\n",
       "50%          9.000000\n",
       "75%         11.000000\n",
       "max         64.000000\n",
       "Name: kitchen_area, dtype: float64"
      ]
     },
     "execution_count": 37,
     "metadata": {},
     "output_type": "execute_result"
    }
   ],
   "source": [
    "\n",
    "data['kitchen_area'].hist(bins=30,range=(0,64))\n",
    "plt.show()\n",
    "data['kitchen_area'].describe()\n"
   ]
  },
  {
   "cell_type": "markdown",
   "metadata": {},
   "source": [
    "Исходя из данных наблюдаем ,что явное большиство объектов имеют кухонную площадь 9-10 м2."
   ]
  },
  {
   "cell_type": "code",
   "execution_count": 38,
   "metadata": {},
   "outputs": [
    {
     "data": {
      "image/png": "[encoded data removed]",
      "text/plain": [
       "<Figure size 432x288 with 1 Axes>"
      ]
     },
     "metadata": {
      "needs_background": "light"
     },
     "output_type": "display_data"
    },
    {
     "data": {
      "text/plain": [
       "count    2.082200e+04\n",
       "mean     4.634154e+06\n",
       "std      1.948235e+06\n",
       "min      4.300000e+05\n",
       "25%      3.300000e+06\n",
       "50%      4.300000e+06\n",
       "75%      5.800000e+06\n",
       "max      9.999999e+06\n",
       "Name: last_price, dtype: float64"
      ]
     },
     "execution_count": 38,
     "metadata": {},
     "output_type": "execute_result"
    }
   ],
   "source": [
    "data['last_price'].hist(range=(1200000,10000000))\n",
    "plt.show()\n",
    "data['last_price'].describe()"
   ]
  },
  {
   "cell_type": "markdown",
   "metadata": {},
   "source": [
    "\n",
    "Большинство стоимость квартир составляет 4.3 миллиона, есть и самая дорогая за почти 10 миллионов."
   ]
  },
  {
   "cell_type": "code",
   "execution_count": 39,
   "metadata": {},
   "outputs": [
    {
     "data": {
      "image/png": "[encoded data removed]",
      "text/plain": [
       "<Figure size 432x288 with 1 Axes>"
      ]
     },
     "metadata": {
      "needs_background": "light"
     },
     "output_type": "display_data"
    },
    {
     "data": {
      "text/plain": [
       "count    20822.000000\n",
       "mean         1.917059\n",
       "std          0.874360\n",
       "min          1.000000\n",
       "25%          1.000000\n",
       "50%          2.000000\n",
       "75%          3.000000\n",
       "max          7.000000\n",
       "Name: rooms, dtype: float64"
      ]
     },
     "execution_count": 39,
     "metadata": {},
     "output_type": "execute_result"
    }
   ],
   "source": [
    "data['rooms'].hist(bins=30,range=(0,7))\n",
    "plt.show()\n",
    "data['rooms'].describe()"
   ]
  },
  {
   "cell_type": "markdown",
   "metadata": {},
   "source": [
    "Однокомнатные и двухкомнатные квартиры доминируют."
   ]
  },
  {
   "cell_type": "code",
   "execution_count": 40,
   "metadata": {},
   "outputs": [
    {
     "data": {
      "image/png": "[encoded data removed]",
      "text/plain": [
       "<Figure size 432x288 with 1 Axes>"
      ]
     },
     "metadata": {
      "needs_background": "light"
     },
     "output_type": "display_data"
    },
    {
     "data": {
      "text/plain": [
       "count    20822.000000\n",
       "mean         2.667171\n",
       "std          0.175015\n",
       "min          2.200000\n",
       "25%          2.600000\n",
       "50%          2.650000\n",
       "75%          2.650000\n",
       "max          5.800000\n",
       "Name: ceiling_height, dtype: float64"
      ]
     },
     "execution_count": 40,
     "metadata": {},
     "output_type": "execute_result"
    }
   ],
   "source": [
    "data['ceiling_height'].hist(bins=30,range=(2,6))\n",
    "plt.show()\n",
    "data['ceiling_height'].describe()"
   ]
  },
  {
   "cell_type": "markdown",
   "metadata": {},
   "source": [
    "Большое количество квартир с высотой потолков выходит на 2.6, что являеется нормой."
   ]
  },
  {
   "cell_type": "code",
   "execution_count": 41,
   "metadata": {},
   "outputs": [
    {
     "data": {
      "image/png": "[encoded data removed]",
      "text/plain": [
       "<Figure size 432x288 with 1 Axes>"
      ]
     },
     "metadata": {
      "needs_background": "light"
     },
     "output_type": "display_data"
    },
    {
     "data": {
      "text/plain": [
       "count      20822\n",
       "unique         3\n",
       "top       Другой\n",
       "freq       15173\n",
       "Name: floors_type, dtype: object"
      ]
     },
     "execution_count": 41,
     "metadata": {},
     "output_type": "execute_result"
    }
   ],
   "source": [
    "data['floors_type'].hist(bins=10,range=(0,3))\n",
    "plt.show()\n",
    "data['floors_type'].describe()"
   ]
  },
  {
   "cell_type": "markdown",
   "metadata": {},
   "source": [
    "Квартиры на первом и последнем этажах почти одинаково, но сильно отличается от количества квартир на других этажах."
   ]
  },
  {
   "cell_type": "code",
   "execution_count": 42,
   "metadata": {},
   "outputs": [
    {
     "data": {
      "image/png": "[encoded data removed]",
      "text/plain": [
       "<Figure size 432x288 with 1 Axes>"
      ]
     },
     "metadata": {
      "needs_background": "light"
     },
     "output_type": "display_data"
    },
    {
     "data": {
      "text/plain": [
       "count    20822.000000\n",
       "mean        10.726107\n",
       "std          6.605122\n",
       "min          1.000000\n",
       "25%          5.000000\n",
       "50%          9.000000\n",
       "75%         16.000000\n",
       "max         36.000000\n",
       "Name: floors_total, dtype: float64"
      ]
     },
     "execution_count": 42,
     "metadata": {},
     "output_type": "execute_result"
    }
   ],
   "source": [
    "data['floors_total'].hist(bins=20,range=(0,36))\n",
    "plt.show()\n",
    "data['floors_total'].describe()"
   ]
  },
  {
   "cell_type": "markdown",
   "metadata": {},
   "source": [
    "\n",
    "Большинство квартир продается 5ти и 10ти этажных зданиях."
   ]
  },
  {
   "cell_type": "code",
   "execution_count": 43,
   "metadata": {},
   "outputs": [
    {
     "data": {
      "image/png": "[encoded data removed]",
      "text/plain": [
       "<Figure size 432x288 with 1 Axes>"
      ]
     },
     "metadata": {
      "needs_background": "light"
     },
     "output_type": "display_data"
    },
    {
     "data": {
      "text/plain": [
       "count    15367.000000\n",
       "mean     15223.879026\n",
       "std       8549.151232\n",
       "min        208.000000\n",
       "25%      10875.500000\n",
       "50%      13801.000000\n",
       "75%      16804.000000\n",
       "max      65968.000000\n",
       "Name: cityCenters_nearest, dtype: float64"
      ]
     },
     "execution_count": 43,
     "metadata": {},
     "output_type": "execute_result"
    }
   ],
   "source": [
    "data['cityCenters_nearest'].hist(bins=20,range=(0,67000))\n",
    "plt.show()\n",
    "data['cityCenters_nearest'].describe()"
   ]
  },
  {
   "cell_type": "markdown",
   "metadata": {},
   "source": [
    "Большинство квартир находятся в 13-15 км от центра."
   ]
  },
  {
   "cell_type": "code",
   "execution_count": 44,
   "metadata": {},
   "outputs": [
    {
     "data": {
      "image/png": "[encoded data removed]",
      "text/plain": [
       "<Figure size 432x288 with 1 Axes>"
      ]
     },
     "metadata": {
      "needs_background": "light"
     },
     "output_type": "display_data"
    },
    {
     "data": {
      "text/plain": [
       "count    15355.000000\n",
       "mean     28981.904135\n",
       "std      13080.543139\n",
       "min          0.000000\n",
       "25%      17951.500000\n",
       "50%      27179.000000\n",
       "75%      37864.000000\n",
       "max      84869.000000\n",
       "Name: airports_nearest, dtype: float64"
      ]
     },
     "execution_count": 44,
     "metadata": {},
     "output_type": "execute_result"
    }
   ],
   "source": [
    "data['airports_nearest'].hist(bins=20,range=(6450,67000))\n",
    "plt.show()\n",
    "data['airports_nearest'].describe()"
   ]
  },
  {
   "cell_type": "code",
   "execution_count": 45,
   "metadata": {},
   "outputs": [
    {
     "data": {
      "image/png": "[encoded data removed]",
      "text/plain": [
       "<Figure size 432x288 with 1 Axes>"
      ]
     },
     "metadata": {
      "needs_background": "light"
     },
     "output_type": "display_data"
    },
    {
     "data": {
      "text/plain": [
       "count    6290.00000\n",
       "mean      486.66248\n",
       "std       321.62705\n",
       "min         1.00000\n",
       "25%       290.00000\n",
       "50%       456.00000\n",
       "75%       612.00000\n",
       "max      3190.00000\n",
       "Name: parks_nearest, dtype: float64"
      ]
     },
     "execution_count": 45,
     "metadata": {},
     "output_type": "execute_result"
    }
   ],
   "source": [
    "data['parks_nearest'].hist(bins=20,range=(11,3200))\n",
    "plt.show()\n",
    "data['parks_nearest'].describe()"
   ]
  },
  {
   "cell_type": "markdown",
   "metadata": {},
   "source": [
    "Отфильтровали столбец более 10ти метров.\n",
    "Пик приходится на квартиры в 400 метрах от парка."
   ]
  },
  {
   "cell_type": "code",
   "execution_count": 46,
   "metadata": {},
   "outputs": [
    {
     "data": {
      "image/png": "[encoded data removed]",
      "text/plain": [
       "<Figure size 432x288 with 1 Axes>"
      ]
     },
     "metadata": {
      "needs_background": "light"
     },
     "output_type": "display_data"
    },
    {
     "data": {
      "text/plain": [
       "count    18343.00000\n",
       "mean       170.89222\n",
       "std        208.27780\n",
       "min          1.00000\n",
       "25%         43.00000\n",
       "50%         90.00000\n",
       "75%        217.00000\n",
       "max       1580.00000\n",
       "Name: days_exposition, dtype: float64"
      ]
     },
     "execution_count": 46,
     "metadata": {},
     "output_type": "execute_result"
    }
   ],
   "source": [
    "data['days_exposition'].hist(bins=20,range=(0,3200))\n",
    "plt.show()\n",
    "data['days_exposition'].describe()"
   ]
  },
  {
   "cell_type": "markdown",
   "metadata": {},
   "source": [
    "В этом столбце имеем необычно долгие продажи и по данным становится понятно, что среднее значение сильно отличается от медианы.\n"
   ]
  },
  {
   "cell_type": "code",
   "execution_count": 47,
   "metadata": {},
   "outputs": [
    {
     "data": {
      "image/png": "[encoded data removed]",
      "text/plain": [
       "<Figure size 432x288 with 1 Axes>"
      ]
     },
     "metadata": {
      "needs_background": "light"
     },
     "output_type": "display_data"
    },
    {
     "data": {
      "text/plain": [
       "count    20822.000000\n",
       "mean         2.574729\n",
       "std          1.794216\n",
       "min          0.000000\n",
       "25%          1.000000\n",
       "50%          3.000000\n",
       "75%          4.000000\n",
       "max          6.000000\n",
       "Name: week_days, dtype: float64"
      ]
     },
     "execution_count": 47,
     "metadata": {},
     "output_type": "execute_result"
    }
   ],
   "source": [
    "data['week_days'].hist(bins=20,range=(0,6))\n",
    "plt.show()\n",
    "data['week_days'].describe()"
   ]
  },
  {
   "cell_type": "markdown",
   "metadata": {},
   "source": [
    "В выходные публикуют объявления реже чем в будни."
   ]
  },
  {
   "cell_type": "code",
   "execution_count": 48,
   "metadata": {},
   "outputs": [
    {
     "data": {
      "image/png": "[encoded data removed]",
      "text/plain": [
       "<Figure size 432x288 with 1 Axes>"
      ]
     },
     "metadata": {
      "needs_background": "light"
     },
     "output_type": "display_data"
    },
    {
     "data": {
      "text/plain": [
       "count    20822.000000\n",
       "mean         6.394919\n",
       "std          3.490879\n",
       "min          1.000000\n",
       "25%          3.000000\n",
       "50%          6.000000\n",
       "75%         10.000000\n",
       "max         12.000000\n",
       "Name: month_exposition, dtype: float64"
      ]
     },
     "execution_count": 48,
     "metadata": {},
     "output_type": "execute_result"
    }
   ],
   "source": [
    "data['month_exposition'].hist(bins=30,range=(1,12))\n",
    "plt.show()\n",
    "data['month_exposition'].describe() "
   ]
  },
  {
   "cell_type": "markdown",
   "metadata": {},
   "source": [
    "В феврале больше всего публикаций , в мае наоборот."
   ]
  },
  {
   "cell_type": "code",
   "execution_count": 49,
   "metadata": {},
   "outputs": [
    {
     "data": {
      "image/png": "[encoded data removed]",
      "text/plain": [
       "<Figure size 432x288 with 1 Axes>"
      ]
     },
     "metadata": {
      "needs_background": "light"
     },
     "output_type": "display_data"
    },
    {
     "data": {
      "text/html": [
       "<div>\n",
       "<style scoped>\n",
       "    .dataframe tbody tr th:only-of-type {\n",
       "        vertical-align: middle;\n",
       "    }\n",
       "\n",
       "    .dataframe tbody tr th {\n",
       "        vertical-align: top;\n",
       "    }\n",
       "\n",
       "    .dataframe thead th {\n",
       "        text-align: right;\n",
       "    }\n",
       "</style>\n",
       "<table border=\"1\" class=\"dataframe\">\n",
       "  <thead>\n",
       "    <tr style=\"text-align: right;\">\n",
       "      <th></th>\n",
       "      <th>days_exposition</th>\n",
       "    </tr>\n",
       "  </thead>\n",
       "  <tbody>\n",
       "    <tr>\n",
       "      <th>median</th>\n",
       "      <td>90.00000</td>\n",
       "    </tr>\n",
       "    <tr>\n",
       "      <th>mean</th>\n",
       "      <td>170.89222</td>\n",
       "    </tr>\n",
       "  </tbody>\n",
       "</table>\n",
       "</div>"
      ],
      "text/plain": [
       "        days_exposition\n",
       "median         90.00000\n",
       "mean          170.89222"
      ]
     },
     "execution_count": 49,
     "metadata": {},
     "output_type": "execute_result"
    }
   ],
   "source": [
    "data['days_exposition'].hist(bins=30,range=(0,400))\n",
    "plt.show()\n",
    "data.agg({'days_exposition':['median','mean']})\n"
   ]
  },
  {
   "cell_type": "code",
   "execution_count": 50,
   "metadata": {},
   "outputs": [
    {
     "data": {
      "image/png": "[encoded data removed]",
      "text/plain": [
       "<Figure size 432x288 with 1 Axes>"
      ]
     },
     "metadata": {
      "needs_background": "light"
     },
     "output_type": "display_data"
    },
    {
     "data": {
      "text/plain": [
       "count    18343.00000\n",
       "mean       170.89222\n",
       "std        208.27780\n",
       "min          1.00000\n",
       "25%         43.00000\n",
       "50%         90.00000\n",
       "75%        217.00000\n",
       "max       1580.00000\n",
       "Name: days_exposition, dtype: float64"
      ]
     },
     "execution_count": 50,
     "metadata": {},
     "output_type": "execute_result"
    }
   ],
   "source": [
    "data['days_exposition'].hist(bins=30)\n",
    "plt.show()\n",
    "data['days_exposition'].describe()"
   ]
  },
  {
   "cell_type": "markdown",
   "metadata": {},
   "source": [
    "В среднем продажа занимает 165 дней, но среднее достаточно большое, т.к. мы имеем большие выбросы , поэтому на гистограмме станет явно, что большое кол-во продаж выпадает на медианное значение , около 100 дней. За быстрые продажи можно принять знчение первого квартиля, за необычно долгие свыше 400 дней. Не стал отбрасывать данные с необычно долгими продажами, т.к такое вполне возможно."
   ]
  },
  {
   "cell_type": "code",
   "execution_count": 51,
   "metadata": {},
   "outputs": [
    {
     "data": {
      "text/plain": [
       "0.6578549626143642"
      ]
     },
     "execution_count": 51,
     "metadata": {},
     "output_type": "execute_result"
    },
    {
     "data": {
      "image/png": "[encoded data removed]",
      "text/plain": [
       "<Figure size 432x288 with 1 Axes>"
      ]
     },
     "metadata": {
      "needs_background": "light"
     },
     "output_type": "display_data"
    }
   ],
   "source": [
    "data.plot(x='total_area',y='last_price',kind='scatter',alpha=0.3)\n",
    "data['last_price'].corr(data['total_area'])"
   ]
  },
  {
   "cell_type": "code",
   "execution_count": 52,
   "metadata": {},
   "outputs": [
    {
     "data": {
      "image/png": "[encoded data removed]",
      "text/plain": [
       "<Figure size 576x432 with 2 Axes>"
      ]
     },
     "metadata": {
      "needs_background": "light"
     },
     "output_type": "display_data"
    }
   ],
   "source": [
    "data.plot(x='total_area',y='last_price',kind='hexbin', gridsize=20, figsize=(8, 6), sharex=False, grid=True)\n",
    "plt.show()"
   ]
  },
  {
   "cell_type": "code",
   "execution_count": 53,
   "metadata": {},
   "outputs": [
    {
     "data": {
      "text/plain": [
       "0.5423372242269136"
      ]
     },
     "execution_count": 53,
     "metadata": {},
     "output_type": "execute_result"
    },
    {
     "data": {
      "image/png": "[encoded data removed]",
      "text/plain": [
       "<Figure size 432x288 with 1 Axes>"
      ]
     },
     "metadata": {
      "needs_background": "light"
     },
     "output_type": "display_data"
    }
   ],
   "source": [
    "data.plot(x='living_area',y='last_price',kind='scatter',alpha=0.3)\n",
    "data['last_price'].corr(data['living_area'])"
   ]
  },
  {
   "cell_type": "code",
   "execution_count": 54,
   "metadata": {},
   "outputs": [
    {
     "data": {
      "image/png": "[encoded data removed]",
      "text/plain": [
       "<Figure size 576x432 with 2 Axes>"
      ]
     },
     "metadata": {
      "needs_background": "light"
     },
     "output_type": "display_data"
    }
   ],
   "source": [
    "data.plot(x='last_price',y='living_area',kind='hexbin', gridsize=20, figsize=(8, 6), sharex=False, grid=True)\n",
    "plt.show()"
   ]
  },
  {
   "cell_type": "code",
   "execution_count": 55,
   "metadata": {},
   "outputs": [
    {
     "data": {
      "text/plain": [
       "0.44500426234632423"
      ]
     },
     "execution_count": 55,
     "metadata": {},
     "output_type": "execute_result"
    },
    {
     "data": {
      "image/png": "[encoded data removed]",
      "text/plain": [
       "<Figure size 432x288 with 1 Axes>"
      ]
     },
     "metadata": {
      "needs_background": "light"
     },
     "output_type": "display_data"
    }
   ],
   "source": [
    "data.plot(x='kitchen_area',y='last_price',kind='scatter',alpha=0.3)\n",
    "data['last_price'].corr(data['kitchen_area'])\n"
   ]
  },
  {
   "cell_type": "code",
   "execution_count": 56,
   "metadata": {},
   "outputs": [
    {
     "data": {
      "image/png": "[encoded data removed]",
      "text/plain": [
       "<Figure size 576x432 with 2 Axes>"
      ]
     },
     "metadata": {
      "needs_background": "light"
     },
     "output_type": "display_data"
    }
   ],
   "source": [
    "data.plot(x='kitchen_area',y='last_price',kind='hexbin', gridsize=20, figsize=(8, 6), sharex=False, grid=True)\n",
    "plt.show()"
   ]
  },
  {
   "cell_type": "code",
   "execution_count": 57,
   "metadata": {},
   "outputs": [
    {
     "data": {
      "image/png": "[encoded data removed]",
      "text/plain": [
       "<Figure size 432x288 with 1 Axes>"
      ]
     },
     "metadata": {
      "needs_background": "light"
     },
     "output_type": "display_data"
    },
    {
     "data": {
      "text/plain": [
       "0.9818329379583977"
      ]
     },
     "execution_count": 57,
     "metadata": {},
     "output_type": "execute_result"
    }
   ],
   "source": [
    "price_mean_rooms = data.pivot_table(index='rooms', values='last_price', aggfunc='mean')\n",
    "price_mean_rooms = price_mean_rooms.reset_index()\n",
    "price_mean_rooms.plot(x='rooms', y='last_price', kind='bar',grid=True)\n",
    "plt.show()\n",
    "price_mean_rooms['last_price'].corr(price_mean_rooms['rooms'])"
   ]
  },
  {
   "cell_type": "code",
   "execution_count": 58,
   "metadata": {},
   "outputs": [
    {
     "data": {
      "image/png": "[encoded data removed]",
      "text/plain": [
       "<Figure size 432x288 with 1 Axes>"
      ]
     },
     "metadata": {
      "needs_background": "light"
     },
     "output_type": "display_data"
    }
   ],
   "source": [
    "sns.boxplot(x='rooms', y='last_price', data=data, palette='Set2')\n",
    "plt.show()"
   ]
  },
  {
   "cell_type": "code",
   "execution_count": 59,
   "metadata": {},
   "outputs": [
    {
     "data": {
      "image/png": "[encoded data removed]",
      "text/plain": [
       "<Figure size 432x288 with 1 Axes>"
      ]
     },
     "metadata": {
      "needs_background": "light"
     },
     "output_type": "display_data"
    },
    {
     "data": {
      "text/plain": [
       "-0.016074149168721887"
      ]
     },
     "execution_count": 59,
     "metadata": {},
     "output_type": "execute_result"
    }
   ],
   "source": [
    "sns.boxplot(x='week_days', y='last_price', data=data, palette='Set2')\n",
    "plt.show()\n",
    "data['last_price'].corr(data['week_days'])"
   ]
  },
  {
   "cell_type": "code",
   "execution_count": 60,
   "metadata": {},
   "outputs": [
    {
     "data": {
      "image/png": "[encoded data removed]",
      "text/plain": [
       "<Figure size 432x288 with 1 Axes>"
      ]
     },
     "metadata": {
      "needs_background": "light"
     },
     "output_type": "display_data"
    },
    {
     "data": {
      "text/plain": [
       "0.003445766319575182"
      ]
     },
     "execution_count": 60,
     "metadata": {},
     "output_type": "execute_result"
    }
   ],
   "source": [
    "sns.boxplot(x='month_exposition', y='last_price', data=data, palette='Set2')\n",
    "plt.show()\n",
    "data['last_price'].corr(data['month_exposition'])"
   ]
  },
  {
   "cell_type": "code",
   "execution_count": 61,
   "metadata": {},
   "outputs": [
    {
     "data": {
      "text/plain": [
       "0.00631905076598386"
      ]
     },
     "execution_count": 61,
     "metadata": {},
     "output_type": "execute_result"
    },
    {
     "data": {
      "image/png": "[encoded data removed]",
      "text/plain": [
       "<Figure size 432x288 with 1 Axes>"
      ]
     },
     "metadata": {
      "needs_background": "light"
     },
     "output_type": "display_data"
    }
   ],
   "source": [
    "sns.boxplot(x='year_exposition', y='last_price', data=data, palette='Set2')\n",
    "data['last_price'].corr(data['year_exposition'])"
   ]
  },
  {
   "cell_type": "code",
   "execution_count": null,
   "metadata": {},
   "outputs": [],
   "source": []
  },
  {
   "cell_type": "code",
   "execution_count": 62,
   "metadata": {},
   "outputs": [
    {
     "data": {
      "text/html": [
       "<div>\n",
       "<style scoped>\n",
       "    .dataframe tbody tr th:only-of-type {\n",
       "        vertical-align: middle;\n",
       "    }\n",
       "\n",
       "    .dataframe tbody tr th {\n",
       "        vertical-align: top;\n",
       "    }\n",
       "\n",
       "    .dataframe thead th {\n",
       "        text-align: right;\n",
       "    }\n",
       "</style>\n",
       "<table border=\"1\" class=\"dataframe\">\n",
       "  <thead>\n",
       "    <tr style=\"text-align: right;\">\n",
       "      <th></th>\n",
       "      <th>count</th>\n",
       "      <th>mean</th>\n",
       "    </tr>\n",
       "    <tr>\n",
       "      <th>locality_name</th>\n",
       "      <th></th>\n",
       "      <th></th>\n",
       "    </tr>\n",
       "  </thead>\n",
       "  <tbody>\n",
       "    <tr>\n",
       "      <th>Санкт-Петербург</th>\n",
       "      <td>12985</td>\n",
       "      <td>104260.444801</td>\n",
       "    </tr>\n",
       "    <tr>\n",
       "      <th>поселок Мурино</th>\n",
       "      <td>552</td>\n",
       "      <td>85629.568641</td>\n",
       "    </tr>\n",
       "    <tr>\n",
       "      <th>поселок Шушары</th>\n",
       "      <td>436</td>\n",
       "      <td>78482.992982</td>\n",
       "    </tr>\n",
       "    <tr>\n",
       "      <th>Всеволожск</th>\n",
       "      <td>392</td>\n",
       "      <td>66710.842577</td>\n",
       "    </tr>\n",
       "    <tr>\n",
       "      <th>Колпино</th>\n",
       "      <td>336</td>\n",
       "      <td>75185.478244</td>\n",
       "    </tr>\n",
       "    <tr>\n",
       "      <th>Пушкин</th>\n",
       "      <td>330</td>\n",
       "      <td>99901.719788</td>\n",
       "    </tr>\n",
       "    <tr>\n",
       "      <th>поселок Парголово</th>\n",
       "      <td>327</td>\n",
       "      <td>90175.913089</td>\n",
       "    </tr>\n",
       "    <tr>\n",
       "      <th>Гатчина</th>\n",
       "      <td>305</td>\n",
       "      <td>68421.902525</td>\n",
       "    </tr>\n",
       "    <tr>\n",
       "      <th>деревня Кудрово</th>\n",
       "      <td>296</td>\n",
       "      <td>92222.428041</td>\n",
       "    </tr>\n",
       "    <tr>\n",
       "      <th>Выборг</th>\n",
       "      <td>234</td>\n",
       "      <td>58027.737393</td>\n",
       "    </tr>\n",
       "  </tbody>\n",
       "</table>\n",
       "</div>"
      ],
      "text/plain": [
       "                   count           mean\n",
       "locality_name                          \n",
       "Санкт-Петербург    12985  104260.444801\n",
       "поселок Мурино       552   85629.568641\n",
       "поселок Шушары       436   78482.992982\n",
       "Всеволожск           392   66710.842577\n",
       "Колпино              336   75185.478244\n",
       "Пушкин               330   99901.719788\n",
       "поселок Парголово    327   90175.913089\n",
       "Гатчина              305   68421.902525\n",
       "деревня Кудрово      296   92222.428041\n",
       "Выборг               234   58027.737393"
      ]
     },
     "execution_count": 62,
     "metadata": {},
     "output_type": "execute_result"
    }
   ],
   "source": [
    "local_name = data.pivot_table(index='locality_name', values='price_one_square_meter', aggfunc=['count', 'mean'])\n",
    "local_name.columns = ['count', 'mean']\n",
    "local_name = local_name.sort_values(by='count',ascending=False)\n",
    "local_name = local_name[:10]\n",
    "local_name"
   ]
  },
  {
   "cell_type": "code",
   "execution_count": 63,
   "metadata": {},
   "outputs": [
    {
     "data": {
      "text/html": [
       "<div>\n",
       "<style scoped>\n",
       "    .dataframe tbody tr th:only-of-type {\n",
       "        vertical-align: middle;\n",
       "    }\n",
       "\n",
       "    .dataframe tbody tr th {\n",
       "        vertical-align: top;\n",
       "    }\n",
       "\n",
       "    .dataframe thead th {\n",
       "        text-align: right;\n",
       "    }\n",
       "</style>\n",
       "<table border=\"1\" class=\"dataframe\">\n",
       "  <thead>\n",
       "    <tr style=\"text-align: right;\">\n",
       "      <th></th>\n",
       "      <th>price_one_square_meter</th>\n",
       "    </tr>\n",
       "    <tr>\n",
       "      <th>cityCenters_nearest_km</th>\n",
       "      <th></th>\n",
       "    </tr>\n",
       "  </thead>\n",
       "  <tbody>\n",
       "    <tr>\n",
       "      <th>0.0</th>\n",
       "      <td>111429.8</td>\n",
       "    </tr>\n",
       "    <tr>\n",
       "      <th>1.0</th>\n",
       "      <td>114838.3</td>\n",
       "    </tr>\n",
       "    <tr>\n",
       "      <th>2.0</th>\n",
       "      <td>110713.8</td>\n",
       "    </tr>\n",
       "    <tr>\n",
       "      <th>3.0</th>\n",
       "      <td>106935.1</td>\n",
       "    </tr>\n",
       "    <tr>\n",
       "      <th>4.0</th>\n",
       "      <td>112600.1</td>\n",
       "    </tr>\n",
       "    <tr>\n",
       "      <th>5.0</th>\n",
       "      <td>118755.9</td>\n",
       "    </tr>\n",
       "    <tr>\n",
       "      <th>6.0</th>\n",
       "      <td>120536.0</td>\n",
       "    </tr>\n",
       "    <tr>\n",
       "      <th>7.0</th>\n",
       "      <td>114928.4</td>\n",
       "    </tr>\n",
       "    <tr>\n",
       "      <th>8.0</th>\n",
       "      <td>113380.3</td>\n",
       "    </tr>\n",
       "    <tr>\n",
       "      <th>9.0</th>\n",
       "      <td>105586.4</td>\n",
       "    </tr>\n",
       "    <tr>\n",
       "      <th>10.0</th>\n",
       "      <td>106775.0</td>\n",
       "    </tr>\n",
       "    <tr>\n",
       "      <th>11.0</th>\n",
       "      <td>103358.3</td>\n",
       "    </tr>\n",
       "    <tr>\n",
       "      <th>12.0</th>\n",
       "      <td>105046.4</td>\n",
       "    </tr>\n",
       "    <tr>\n",
       "      <th>13.0</th>\n",
       "      <td>105240.4</td>\n",
       "    </tr>\n",
       "    <tr>\n",
       "      <th>14.0</th>\n",
       "      <td>102955.6</td>\n",
       "    </tr>\n",
       "    <tr>\n",
       "      <th>15.0</th>\n",
       "      <td>101759.1</td>\n",
       "    </tr>\n",
       "    <tr>\n",
       "      <th>16.0</th>\n",
       "      <td>98924.0</td>\n",
       "    </tr>\n",
       "    <tr>\n",
       "      <th>17.0</th>\n",
       "      <td>94994.7</td>\n",
       "    </tr>\n",
       "    <tr>\n",
       "      <th>18.0</th>\n",
       "      <td>95716.0</td>\n",
       "    </tr>\n",
       "    <tr>\n",
       "      <th>19.0</th>\n",
       "      <td>97285.7</td>\n",
       "    </tr>\n",
       "    <tr>\n",
       "      <th>20.0</th>\n",
       "      <td>101562.8</td>\n",
       "    </tr>\n",
       "    <tr>\n",
       "      <th>21.0</th>\n",
       "      <td>93451.9</td>\n",
       "    </tr>\n",
       "    <tr>\n",
       "      <th>22.0</th>\n",
       "      <td>90522.5</td>\n",
       "    </tr>\n",
       "    <tr>\n",
       "      <th>23.0</th>\n",
       "      <td>91388.4</td>\n",
       "    </tr>\n",
       "    <tr>\n",
       "      <th>24.0</th>\n",
       "      <td>85736.9</td>\n",
       "    </tr>\n",
       "    <tr>\n",
       "      <th>25.0</th>\n",
       "      <td>91531.4</td>\n",
       "    </tr>\n",
       "    <tr>\n",
       "      <th>26.0</th>\n",
       "      <td>87798.9</td>\n",
       "    </tr>\n",
       "    <tr>\n",
       "      <th>27.0</th>\n",
       "      <td>70312.5</td>\n",
       "    </tr>\n",
       "    <tr>\n",
       "      <th>28.0</th>\n",
       "      <td>81161.9</td>\n",
       "    </tr>\n",
       "    <tr>\n",
       "      <th>29.0</th>\n",
       "      <td>72953.4</td>\n",
       "    </tr>\n",
       "  </tbody>\n",
       "</table>\n",
       "</div>"
      ],
      "text/plain": [
       "                        price_one_square_meter\n",
       "cityCenters_nearest_km                        \n",
       "0.0                                   111429.8\n",
       "1.0                                   114838.3\n",
       "2.0                                   110713.8\n",
       "3.0                                   106935.1\n",
       "4.0                                   112600.1\n",
       "5.0                                   118755.9\n",
       "6.0                                   120536.0\n",
       "7.0                                   114928.4\n",
       "8.0                                   113380.3\n",
       "9.0                                   105586.4\n",
       "10.0                                  106775.0\n",
       "11.0                                  103358.3\n",
       "12.0                                  105046.4\n",
       "13.0                                  105240.4\n",
       "14.0                                  102955.6\n",
       "15.0                                  101759.1\n",
       "16.0                                   98924.0\n",
       "17.0                                   94994.7\n",
       "18.0                                   95716.0\n",
       "19.0                                   97285.7\n",
       "20.0                                  101562.8\n",
       "21.0                                   93451.9\n",
       "22.0                                   90522.5\n",
       "23.0                                   91388.4\n",
       "24.0                                   85736.9\n",
       "25.0                                   91531.4\n",
       "26.0                                   87798.9\n",
       "27.0                                   70312.5\n",
       "28.0                                   81161.9\n",
       "29.0                                   72953.4"
      ]
     },
     "execution_count": 63,
     "metadata": {},
     "output_type": "execute_result"
    }
   ],
   "source": [
    "data_saintp_locality = data.query('\"Санкт-Петербург\" in locality_name').copy()\n",
    "price_forkm_sainpt = data_saintp_locality.pivot_table(index='cityCenters_nearest_km', values='price_one_square_meter', aggfunc=('mean'))\n",
    "price_forkm_sainpt['price_one_square_meter'] = price_forkm_sainpt['price_one_square_meter'].round(1)\n",
    "price_forkm_sainpt"
   ]
  },
  {
   "cell_type": "code",
   "execution_count": 64,
   "metadata": {},
   "outputs": [
    {
     "data": {
      "text/plain": [
       "-0.9153345492197021"
      ]
     },
     "execution_count": 64,
     "metadata": {},
     "output_type": "execute_result"
    },
    {
     "data": {
      "image/png": "[encoded data removed]",
      "text/plain": [
       "<Figure size 432x288 with 1 Axes>"
      ]
     },
     "metadata": {
      "needs_background": "light"
     },
     "output_type": "display_data"
    }
   ],
   "source": [
    "price_forkm_sainpt = price_forkm_sainpt.reset_index()\n",
    "price_forkm_sainpt.plot(x='cityCenters_nearest_km',y='price_one_square_meter',kind='scatter',alpha=0.4)\n",
    "price_forkm_sainpt['cityCenters_nearest_km'].corr(price_forkm_sainpt['price_one_square_meter'])"
   ]
  },
  {
   "cell_type": "code",
   "execution_count": 65,
   "metadata": {},
   "outputs": [
    {
     "data": {
      "text/plain": [
       "-0.9174877492503513"
      ]
     },
     "execution_count": 65,
     "metadata": {},
     "output_type": "execute_result"
    },
    {
     "data": {
      "image/png": "[encoded data removed]",
      "text/plain": [
       "<Figure size 432x288 with 1 Axes>"
      ]
     },
     "metadata": {
      "needs_background": "light"
     },
     "output_type": "display_data"
    }
   ],
   "source": [
    "final_data = data.merge(price_forkm_sainpt, on='cityCenters_nearest_km', how='outer')\n",
    "final_data.plot(x='cityCenters_nearest_km',y='price_one_square_meter_y',kind='scatter',alpha=0.1)\n",
    "final_data['cityCenters_nearest_km'].corr(final_data['price_one_square_meter_y'])"
   ]
  },
  {
   "cell_type": "markdown",
   "metadata": {},
   "source": [
    "**Вывод**\n",
    "\n",
    "**1.** Изучили каждый параметр с помощью гистограммы и методом describe. Применили фильтр к столбцу 'total_area', т.к. он имел аномальные выбросы  в min  и max значениях. Применил фильт к 'ceiling_height' , т.к.  потолки в 1 метр и 8 метров не вписываются в описание квартир. Избавились от выбросов в столбце 'floors_total'.\n",
    "\n",
    "**2.** Изучили как быстро продаются квартиры, в среднем это 169 дней, медианной значение это 95 дней. Бывают, что увартиры продаются через день, но и бывает необычно долго 1580 дней.\n",
    "\n",
    "**3.** В иследованных параметрах видно зависимость параметров к цене объекта. Самая явная это у общей площади и цены объекта.\n",
    "\n",
    "**4.** Определили средню стоимость км2 до центра в Санкт-Петербурге. На диаграмме рассеяния отчетлива видна зависимость стоимости объекта к расстоянию от центра."
   ]
  },
  {
   "cell_type": "markdown",
   "metadata": {},
   "source": [
    "### Общий вывод"
   ]
  },
  {
   "cell_type": "markdown",
   "metadata": {},
   "source": [
    "**Подведем итоги**\n",
    "* Выявили аномалии, такие как квартиры почти за миллиард рублей , площади почти одна тысяча квадртаных метров, потокли по восемь метров.\n",
    "* Узнали что в среднем квартиры продаются 169 дней, медианное значение 95 дней.\n",
    "* Определили что средняя цена квартир в регионе 4.5 миллиона рублей.\n",
    "* Нашли зависимость стоимости объекта и его площади. Самая большая зависимость это у общей площади, чем больше она , тем больше цена.\n",
    "* Большинство картир с 4мя и более комнатами дороже 4ех миллионов\n",
    "* Определили , что цена за квадрат значительно падает , если объект отдаляется от центра.\n",
    "\n",
    "\n"
   ]
  }
 ],
 "metadata": {
  "ExecuteTimeLog": [
   {
    "duration": 695,
    "start_time": "2022-11-09T13:08:06.820Z"
   },
   {
    "duration": 145,
    "start_time": "2022-11-09T13:08:19.483Z"
   },
   {
    "duration": 86,
    "start_time": "2022-11-09T13:08:22.583Z"
   },
   {
    "duration": 51,
    "start_time": "2022-11-09T13:08:36.035Z"
   },
   {
    "duration": 47,
    "start_time": "2022-11-09T13:08:49.867Z"
   },
   {
    "duration": 100,
    "start_time": "2022-11-09T13:09:30.595Z"
   },
   {
    "duration": 122,
    "start_time": "2022-11-09T13:09:36.314Z"
   },
   {
    "duration": 117,
    "start_time": "2022-11-09T13:17:57.635Z"
   },
   {
    "duration": 95,
    "start_time": "2022-11-09T13:18:04.791Z"
   },
   {
    "duration": 99,
    "start_time": "2022-11-09T13:20:24.745Z"
   },
   {
    "duration": 116,
    "start_time": "2022-11-09T13:20:38.323Z"
   },
   {
    "duration": 154,
    "start_time": "2022-11-09T13:23:55.692Z"
   },
   {
    "duration": 106,
    "start_time": "2022-11-09T13:24:02.681Z"
   },
   {
    "duration": 15,
    "start_time": "2022-11-09T13:25:25.772Z"
   },
   {
    "duration": 30,
    "start_time": "2022-11-09T13:26:17.907Z"
   },
   {
    "duration": 1730,
    "start_time": "2022-11-09T13:27:16.732Z"
   },
   {
    "duration": 2081,
    "start_time": "2022-11-09T13:28:13.601Z"
   },
   {
    "duration": 124,
    "start_time": "2022-11-09T13:41:38.077Z"
   },
   {
    "duration": 2115,
    "start_time": "2022-11-09T13:41:42.478Z"
   },
   {
    "duration": 901,
    "start_time": "2022-11-09T13:44:08.061Z"
   },
   {
    "duration": 2120,
    "start_time": "2022-11-09T13:44:58.141Z"
   },
   {
    "duration": 2130,
    "start_time": "2022-11-09T13:45:13.315Z"
   },
   {
    "duration": 1969,
    "start_time": "2022-11-09T13:45:28.415Z"
   },
   {
    "duration": 2084,
    "start_time": "2022-11-09T13:45:34.499Z"
   },
   {
    "duration": 96,
    "start_time": "2022-11-09T13:46:02.704Z"
   },
   {
    "duration": 2195,
    "start_time": "2022-11-09T13:46:06.214Z"
   },
   {
    "duration": 2256,
    "start_time": "2022-11-09T13:46:15.834Z"
   },
   {
    "duration": 1962,
    "start_time": "2022-11-09T13:46:21.720Z"
   },
   {
    "duration": 107,
    "start_time": "2022-11-09T13:47:29.731Z"
   },
   {
    "duration": 2184,
    "start_time": "2022-11-09T13:47:32.933Z"
   },
   {
    "duration": 221,
    "start_time": "2022-11-09T13:52:39.846Z"
   },
   {
    "duration": 116,
    "start_time": "2022-11-09T13:52:53.605Z"
   },
   {
    "duration": 164,
    "start_time": "2022-11-09T13:53:48.336Z"
   },
   {
    "duration": 159,
    "start_time": "2022-11-09T13:56:20.756Z"
   },
   {
    "duration": 139,
    "start_time": "2022-11-09T13:57:22.934Z"
   },
   {
    "duration": 138,
    "start_time": "2022-11-09T13:57:35.581Z"
   },
   {
    "duration": 132,
    "start_time": "2022-11-09T13:57:51.437Z"
   },
   {
    "duration": 139,
    "start_time": "2022-11-09T13:58:02.543Z"
   },
   {
    "duration": 236,
    "start_time": "2022-11-09T13:58:17.646Z"
   },
   {
    "duration": 220,
    "start_time": "2022-11-09T13:58:23.989Z"
   },
   {
    "duration": 139,
    "start_time": "2022-11-09T14:00:01.756Z"
   },
   {
    "duration": 174,
    "start_time": "2022-11-09T14:00:10.858Z"
   },
   {
    "duration": 201,
    "start_time": "2022-11-09T14:02:58.848Z"
   },
   {
    "duration": 181,
    "start_time": "2022-11-09T14:03:06.242Z"
   },
   {
    "duration": 150,
    "start_time": "2022-11-09T14:03:55.190Z"
   },
   {
    "duration": 153,
    "start_time": "2022-11-09T14:03:58.075Z"
   },
   {
    "duration": 10,
    "start_time": "2022-11-09T14:08:13.081Z"
   },
   {
    "duration": 7,
    "start_time": "2022-11-09T15:22:38.995Z"
   },
   {
    "duration": 4,
    "start_time": "2022-11-09T15:22:47.699Z"
   },
   {
    "duration": 13,
    "start_time": "2022-11-09T15:22:56.066Z"
   },
   {
    "duration": 5,
    "start_time": "2022-11-09T15:23:09.725Z"
   },
   {
    "duration": 6,
    "start_time": "2022-11-09T15:23:11.756Z"
   },
   {
    "duration": 853,
    "start_time": "2022-11-09T15:23:23.518Z"
   },
   {
    "duration": 22,
    "start_time": "2022-11-09T15:23:24.374Z"
   },
   {
    "duration": 2379,
    "start_time": "2022-11-09T15:23:24.399Z"
   },
   {
    "duration": 171,
    "start_time": "2022-11-09T15:23:26.780Z"
   },
   {
    "duration": 13,
    "start_time": "2022-11-09T15:23:26.955Z"
   },
   {
    "duration": 5,
    "start_time": "2022-11-09T15:23:48.557Z"
   },
   {
    "duration": 13,
    "start_time": "2022-11-09T15:24:05.266Z"
   },
   {
    "duration": 27,
    "start_time": "2022-11-09T15:47:23.589Z"
   },
   {
    "duration": 6,
    "start_time": "2022-11-09T15:49:36.383Z"
   },
   {
    "duration": 7,
    "start_time": "2022-11-09T15:49:43.624Z"
   },
   {
    "duration": 7,
    "start_time": "2022-11-09T16:01:47.407Z"
   },
   {
    "duration": 87,
    "start_time": "2022-11-09T16:05:14.785Z"
   },
   {
    "duration": 5,
    "start_time": "2022-11-09T16:05:26.930Z"
   },
   {
    "duration": 12,
    "start_time": "2022-11-09T16:05:39.172Z"
   },
   {
    "duration": 21,
    "start_time": "2022-11-09T17:07:41.631Z"
   },
   {
    "duration": 21,
    "start_time": "2022-11-09T17:09:08.622Z"
   },
   {
    "duration": 7,
    "start_time": "2022-11-09T17:10:00.842Z"
   },
   {
    "duration": 33,
    "start_time": "2022-11-09T17:12:33.443Z"
   },
   {
    "duration": 26,
    "start_time": "2022-11-09T17:14:09.059Z"
   },
   {
    "duration": 30,
    "start_time": "2022-11-09T17:20:02.825Z"
   },
   {
    "duration": 52,
    "start_time": "2022-11-09T17:22:10.266Z"
   },
   {
    "duration": 11,
    "start_time": "2022-11-09T17:22:16.171Z"
   },
   {
    "duration": 14,
    "start_time": "2022-11-09T17:22:37.374Z"
   },
   {
    "duration": 8,
    "start_time": "2022-11-09T17:23:03.323Z"
   },
   {
    "duration": 21,
    "start_time": "2022-11-09T17:23:05.624Z"
   },
   {
    "duration": 756,
    "start_time": "2022-11-09T17:23:26.072Z"
   },
   {
    "duration": 30,
    "start_time": "2022-11-09T17:23:26.831Z"
   },
   {
    "duration": 2403,
    "start_time": "2022-11-09T17:23:26.863Z"
   },
   {
    "duration": 177,
    "start_time": "2022-11-09T17:23:29.268Z"
   },
   {
    "duration": 21,
    "start_time": "2022-11-09T17:23:29.448Z"
   },
   {
    "duration": 14,
    "start_time": "2022-11-09T17:23:29.472Z"
   },
   {
    "duration": 12,
    "start_time": "2022-11-09T17:23:29.488Z"
   },
   {
    "duration": 10,
    "start_time": "2022-11-09T17:23:29.502Z"
   },
   {
    "duration": 22,
    "start_time": "2022-11-09T17:23:29.513Z"
   },
   {
    "duration": 55,
    "start_time": "2022-11-09T17:23:29.537Z"
   },
   {
    "duration": 0,
    "start_time": "2022-11-09T17:23:29.594Z"
   },
   {
    "duration": 33,
    "start_time": "2022-11-09T17:23:37.644Z"
   },
   {
    "duration": 15,
    "start_time": "2022-11-09T17:23:45.073Z"
   },
   {
    "duration": 16,
    "start_time": "2022-11-09T17:24:06.484Z"
   },
   {
    "duration": 14,
    "start_time": "2022-11-09T17:26:05.654Z"
   },
   {
    "duration": 8,
    "start_time": "2022-11-09T17:28:52.099Z"
   },
   {
    "duration": 15,
    "start_time": "2022-11-09T17:28:54.568Z"
   },
   {
    "duration": 16,
    "start_time": "2022-11-09T17:29:27.956Z"
   },
   {
    "duration": 12,
    "start_time": "2022-11-09T17:31:15.514Z"
   },
   {
    "duration": 15,
    "start_time": "2022-11-09T17:31:17.989Z"
   },
   {
    "duration": 11,
    "start_time": "2022-11-09T17:31:26.283Z"
   },
   {
    "duration": 18,
    "start_time": "2022-11-09T17:31:33.957Z"
   },
   {
    "duration": 82,
    "start_time": "2022-11-09T17:38:21.802Z"
   },
   {
    "duration": 9,
    "start_time": "2022-11-09T17:38:24.622Z"
   },
   {
    "duration": 16,
    "start_time": "2022-11-09T17:38:28.261Z"
   },
   {
    "duration": 11,
    "start_time": "2022-11-09T17:38:31.376Z"
   },
   {
    "duration": 6,
    "start_time": "2022-11-09T17:38:39.874Z"
   },
   {
    "duration": 11,
    "start_time": "2022-11-09T17:41:36.825Z"
   },
   {
    "duration": 7,
    "start_time": "2022-11-09T17:41:42.939Z"
   },
   {
    "duration": 53,
    "start_time": "2022-11-09T17:42:05.966Z"
   },
   {
    "duration": 12,
    "start_time": "2022-11-09T17:42:21.932Z"
   },
   {
    "duration": 45,
    "start_time": "2022-11-09T18:02:52.418Z"
   },
   {
    "duration": 7,
    "start_time": "2022-11-09T18:03:01.069Z"
   },
   {
    "duration": 5,
    "start_time": "2022-11-09T18:14:35.403Z"
   },
   {
    "duration": 11,
    "start_time": "2022-11-09T18:14:40.718Z"
   },
   {
    "duration": 765,
    "start_time": "2022-11-09T18:15:09.433Z"
   },
   {
    "duration": 27,
    "start_time": "2022-11-09T18:15:10.201Z"
   },
   {
    "duration": 2156,
    "start_time": "2022-11-09T18:15:10.230Z"
   },
   {
    "duration": 159,
    "start_time": "2022-11-09T18:15:12.388Z"
   },
   {
    "duration": 10,
    "start_time": "2022-11-09T18:15:12.549Z"
   },
   {
    "duration": 4,
    "start_time": "2022-11-09T18:15:12.560Z"
   },
   {
    "duration": 13,
    "start_time": "2022-11-09T18:15:12.566Z"
   },
   {
    "duration": 5,
    "start_time": "2022-11-09T18:15:12.581Z"
   },
   {
    "duration": 11,
    "start_time": "2022-11-09T18:15:12.587Z"
   },
   {
    "duration": 52,
    "start_time": "2022-11-09T18:15:12.601Z"
   },
   {
    "duration": 8,
    "start_time": "2022-11-09T18:15:12.655Z"
   },
   {
    "duration": 12,
    "start_time": "2022-11-09T18:15:12.665Z"
   },
   {
    "duration": 22,
    "start_time": "2022-11-09T18:15:12.679Z"
   },
   {
    "duration": 4,
    "start_time": "2022-11-09T18:16:03.055Z"
   },
   {
    "duration": 7,
    "start_time": "2022-11-09T18:16:13.735Z"
   },
   {
    "duration": 3,
    "start_time": "2022-11-09T18:23:07.641Z"
   },
   {
    "duration": 87,
    "start_time": "2022-11-09T18:23:40.081Z"
   },
   {
    "duration": 9,
    "start_time": "2022-11-09T18:23:50.465Z"
   },
   {
    "duration": 7,
    "start_time": "2022-11-09T18:23:58.505Z"
   },
   {
    "duration": 3,
    "start_time": "2022-11-09T18:25:37.599Z"
   },
   {
    "duration": 198,
    "start_time": "2022-11-09T18:25:41.246Z"
   },
   {
    "duration": 196,
    "start_time": "2022-11-09T18:26:25.659Z"
   },
   {
    "duration": 3,
    "start_time": "2022-11-09T18:27:21.818Z"
   },
   {
    "duration": 178,
    "start_time": "2022-11-09T18:27:23.862Z"
   },
   {
    "duration": 802,
    "start_time": "2022-11-09T18:27:37.263Z"
   },
   {
    "duration": 30,
    "start_time": "2022-11-09T18:27:38.068Z"
   },
   {
    "duration": 2310,
    "start_time": "2022-11-09T18:27:38.100Z"
   },
   {
    "duration": 187,
    "start_time": "2022-11-09T18:27:40.413Z"
   },
   {
    "duration": 10,
    "start_time": "2022-11-09T18:27:40.603Z"
   },
   {
    "duration": 16,
    "start_time": "2022-11-09T18:27:40.614Z"
   },
   {
    "duration": 9,
    "start_time": "2022-11-09T18:27:40.632Z"
   },
   {
    "duration": 12,
    "start_time": "2022-11-09T18:27:40.643Z"
   },
   {
    "duration": 14,
    "start_time": "2022-11-09T18:27:40.656Z"
   },
   {
    "duration": 59,
    "start_time": "2022-11-09T18:27:40.672Z"
   },
   {
    "duration": 10,
    "start_time": "2022-11-09T18:27:40.733Z"
   },
   {
    "duration": 9,
    "start_time": "2022-11-09T18:27:40.745Z"
   },
   {
    "duration": 15,
    "start_time": "2022-11-09T18:27:40.756Z"
   },
   {
    "duration": 12,
    "start_time": "2022-11-09T18:27:40.774Z"
   },
   {
    "duration": 286,
    "start_time": "2022-11-09T18:27:40.788Z"
   },
   {
    "duration": 0,
    "start_time": "2022-11-09T18:27:41.076Z"
   },
   {
    "duration": 0,
    "start_time": "2022-11-09T18:27:41.077Z"
   },
   {
    "duration": 6,
    "start_time": "2022-11-09T18:30:18.097Z"
   },
   {
    "duration": 9,
    "start_time": "2022-11-09T18:30:20.704Z"
   },
   {
    "duration": 8,
    "start_time": "2022-11-09T18:30:31.339Z"
   },
   {
    "duration": 5,
    "start_time": "2022-11-09T18:30:33.160Z"
   },
   {
    "duration": 254,
    "start_time": "2022-11-09T18:30:44.826Z"
   },
   {
    "duration": 217,
    "start_time": "2022-11-09T18:30:46.883Z"
   },
   {
    "duration": 739,
    "start_time": "2022-11-09T18:31:11.162Z"
   },
   {
    "duration": 23,
    "start_time": "2022-11-09T18:31:11.904Z"
   },
   {
    "duration": 2057,
    "start_time": "2022-11-09T18:31:11.929Z"
   },
   {
    "duration": 146,
    "start_time": "2022-11-09T18:31:13.988Z"
   },
   {
    "duration": 10,
    "start_time": "2022-11-09T18:31:14.135Z"
   },
   {
    "duration": 4,
    "start_time": "2022-11-09T18:31:14.146Z"
   },
   {
    "duration": 5,
    "start_time": "2022-11-09T18:31:14.152Z"
   },
   {
    "duration": 5,
    "start_time": "2022-11-09T18:31:14.159Z"
   },
   {
    "duration": 6,
    "start_time": "2022-11-09T18:31:14.165Z"
   },
   {
    "duration": 9,
    "start_time": "2022-11-09T18:31:14.174Z"
   },
   {
    "duration": 45,
    "start_time": "2022-11-09T18:31:14.185Z"
   },
   {
    "duration": 9,
    "start_time": "2022-11-09T18:31:14.231Z"
   },
   {
    "duration": 11,
    "start_time": "2022-11-09T18:31:14.241Z"
   },
   {
    "duration": 11,
    "start_time": "2022-11-09T18:31:14.254Z"
   },
   {
    "duration": 10,
    "start_time": "2022-11-09T18:31:14.267Z"
   },
   {
    "duration": 10,
    "start_time": "2022-11-09T18:31:14.279Z"
   },
   {
    "duration": 5,
    "start_time": "2022-11-09T18:31:14.291Z"
   },
   {
    "duration": 7,
    "start_time": "2022-11-09T18:31:14.297Z"
   },
   {
    "duration": 41,
    "start_time": "2022-11-09T18:31:33.281Z"
   },
   {
    "duration": 4,
    "start_time": "2022-11-09T18:32:00.851Z"
   },
   {
    "duration": 730,
    "start_time": "2022-11-09T18:32:06.961Z"
   },
   {
    "duration": 21,
    "start_time": "2022-11-09T18:32:07.693Z"
   },
   {
    "duration": 2134,
    "start_time": "2022-11-09T18:32:07.716Z"
   },
   {
    "duration": 144,
    "start_time": "2022-11-09T18:32:09.852Z"
   },
   {
    "duration": 11,
    "start_time": "2022-11-09T18:32:09.997Z"
   },
   {
    "duration": 19,
    "start_time": "2022-11-09T18:32:10.010Z"
   },
   {
    "duration": 8,
    "start_time": "2022-11-09T18:32:10.031Z"
   },
   {
    "duration": 7,
    "start_time": "2022-11-09T18:32:10.041Z"
   },
   {
    "duration": 7,
    "start_time": "2022-11-09T18:32:10.050Z"
   },
   {
    "duration": 11,
    "start_time": "2022-11-09T18:32:10.060Z"
   },
   {
    "duration": 54,
    "start_time": "2022-11-09T18:32:10.073Z"
   },
   {
    "duration": 10,
    "start_time": "2022-11-09T18:32:10.129Z"
   },
   {
    "duration": 8,
    "start_time": "2022-11-09T18:32:10.141Z"
   },
   {
    "duration": 9,
    "start_time": "2022-11-09T18:32:10.150Z"
   },
   {
    "duration": 4,
    "start_time": "2022-11-09T18:32:10.161Z"
   },
   {
    "duration": 10,
    "start_time": "2022-11-09T18:32:10.166Z"
   },
   {
    "duration": 14,
    "start_time": "2022-11-09T18:32:10.177Z"
   },
   {
    "duration": 71,
    "start_time": "2022-11-09T18:32:10.194Z"
   },
   {
    "duration": 7,
    "start_time": "2022-11-09T18:32:10.267Z"
   },
   {
    "duration": 6,
    "start_time": "2022-11-09T18:32:37.722Z"
   },
   {
    "duration": 76,
    "start_time": "2022-11-09T18:32:53.759Z"
   },
   {
    "duration": 63,
    "start_time": "2022-11-09T18:33:07.587Z"
   },
   {
    "duration": 8,
    "start_time": "2022-11-09T18:33:13.832Z"
   },
   {
    "duration": 13,
    "start_time": "2022-11-09T18:35:08.663Z"
   },
   {
    "duration": 9,
    "start_time": "2022-11-09T18:35:51.726Z"
   },
   {
    "duration": 8,
    "start_time": "2022-11-09T18:36:10.305Z"
   },
   {
    "duration": 8,
    "start_time": "2022-11-09T18:36:27.006Z"
   },
   {
    "duration": 749,
    "start_time": "2022-11-09T18:37:03.961Z"
   },
   {
    "duration": 23,
    "start_time": "2022-11-09T18:37:04.712Z"
   },
   {
    "duration": 2061,
    "start_time": "2022-11-09T18:37:04.737Z"
   },
   {
    "duration": 161,
    "start_time": "2022-11-09T18:37:06.800Z"
   },
   {
    "duration": 10,
    "start_time": "2022-11-09T18:37:06.963Z"
   },
   {
    "duration": 11,
    "start_time": "2022-11-09T18:37:06.975Z"
   },
   {
    "duration": 12,
    "start_time": "2022-11-09T18:37:06.988Z"
   },
   {
    "duration": 5,
    "start_time": "2022-11-09T18:37:07.002Z"
   },
   {
    "duration": 23,
    "start_time": "2022-11-09T18:37:07.009Z"
   },
   {
    "duration": 14,
    "start_time": "2022-11-09T18:37:07.035Z"
   },
   {
    "duration": 32,
    "start_time": "2022-11-09T18:37:07.051Z"
   },
   {
    "duration": 9,
    "start_time": "2022-11-09T18:37:07.085Z"
   },
   {
    "duration": 32,
    "start_time": "2022-11-09T18:37:07.095Z"
   },
   {
    "duration": 8,
    "start_time": "2022-11-09T18:37:07.129Z"
   },
   {
    "duration": 23,
    "start_time": "2022-11-09T18:37:07.138Z"
   },
   {
    "duration": 51,
    "start_time": "2022-11-09T18:37:07.162Z"
   },
   {
    "duration": 0,
    "start_time": "2022-11-09T18:37:07.215Z"
   },
   {
    "duration": 0,
    "start_time": "2022-11-09T18:37:07.216Z"
   },
   {
    "duration": 0,
    "start_time": "2022-11-09T18:37:07.218Z"
   },
   {
    "duration": 3,
    "start_time": "2022-11-09T18:37:36.028Z"
   },
   {
    "duration": 7,
    "start_time": "2022-11-09T18:37:39.879Z"
   },
   {
    "duration": 9,
    "start_time": "2022-11-09T18:37:42.266Z"
   },
   {
    "duration": 77,
    "start_time": "2022-11-09T18:40:11.307Z"
   },
   {
    "duration": 4,
    "start_time": "2022-11-09T18:40:21.007Z"
   },
   {
    "duration": 9,
    "start_time": "2022-11-09T18:40:22.806Z"
   },
   {
    "duration": 751,
    "start_time": "2022-11-09T18:40:34.536Z"
   },
   {
    "duration": 22,
    "start_time": "2022-11-09T18:40:35.289Z"
   },
   {
    "duration": 2121,
    "start_time": "2022-11-09T18:40:35.313Z"
   },
   {
    "duration": 151,
    "start_time": "2022-11-09T18:40:37.436Z"
   },
   {
    "duration": 10,
    "start_time": "2022-11-09T18:40:37.589Z"
   },
   {
    "duration": 7,
    "start_time": "2022-11-09T18:40:37.600Z"
   },
   {
    "duration": 25,
    "start_time": "2022-11-09T18:40:37.608Z"
   },
   {
    "duration": 17,
    "start_time": "2022-11-09T18:40:37.635Z"
   },
   {
    "duration": 7,
    "start_time": "2022-11-09T18:40:37.653Z"
   },
   {
    "duration": 16,
    "start_time": "2022-11-09T18:40:37.663Z"
   },
   {
    "duration": 32,
    "start_time": "2022-11-09T18:40:37.681Z"
   },
   {
    "duration": 20,
    "start_time": "2022-11-09T18:40:37.715Z"
   },
   {
    "duration": 8,
    "start_time": "2022-11-09T18:40:37.737Z"
   },
   {
    "duration": 10,
    "start_time": "2022-11-09T18:40:37.747Z"
   },
   {
    "duration": 11,
    "start_time": "2022-11-09T18:40:37.759Z"
   },
   {
    "duration": 4,
    "start_time": "2022-11-09T18:40:37.772Z"
   },
   {
    "duration": 10,
    "start_time": "2022-11-09T18:40:37.777Z"
   },
   {
    "duration": 5,
    "start_time": "2022-11-09T18:40:37.788Z"
   },
   {
    "duration": 2,
    "start_time": "2022-11-09T18:40:44.417Z"
   },
   {
    "duration": 8,
    "start_time": "2022-11-09T18:40:47.853Z"
   },
   {
    "duration": 4,
    "start_time": "2022-11-09T18:46:20.473Z"
   },
   {
    "duration": 8,
    "start_time": "2022-11-09T18:46:28.147Z"
   },
   {
    "duration": 8,
    "start_time": "2022-11-09T18:46:50.602Z"
   },
   {
    "duration": 8,
    "start_time": "2022-11-09T18:46:57.108Z"
   },
   {
    "duration": 73,
    "start_time": "2022-11-09T18:51:57.064Z"
   },
   {
    "duration": 7,
    "start_time": "2022-11-09T18:52:20.306Z"
   },
   {
    "duration": 7,
    "start_time": "2022-11-09T18:52:35.465Z"
   },
   {
    "duration": 10,
    "start_time": "2022-11-09T18:55:16.384Z"
   },
   {
    "duration": 9,
    "start_time": "2022-11-09T18:55:20.211Z"
   },
   {
    "duration": 10,
    "start_time": "2022-11-09T18:55:26.570Z"
   },
   {
    "duration": 10,
    "start_time": "2022-11-09T18:57:06.224Z"
   },
   {
    "duration": 16,
    "start_time": "2022-11-09T18:57:18.663Z"
   },
   {
    "duration": 10,
    "start_time": "2022-11-09T18:57:34.255Z"
   },
   {
    "duration": 17,
    "start_time": "2022-11-09T18:57:46.786Z"
   },
   {
    "duration": 46,
    "start_time": "2022-11-09T18:58:14.756Z"
   },
   {
    "duration": 938,
    "start_time": "2022-11-09T19:00:47.201Z"
   },
   {
    "duration": 798,
    "start_time": "2022-11-09T19:02:00.045Z"
   },
   {
    "duration": 5,
    "start_time": "2022-11-09T19:02:03.043Z"
   },
   {
    "duration": 8,
    "start_time": "2022-11-09T19:02:05.129Z"
   },
   {
    "duration": 746,
    "start_time": "2022-11-09T19:02:45.054Z"
   },
   {
    "duration": 27,
    "start_time": "2022-11-09T19:02:45.803Z"
   },
   {
    "duration": 2186,
    "start_time": "2022-11-09T19:02:45.832Z"
   },
   {
    "duration": 146,
    "start_time": "2022-11-09T19:02:48.020Z"
   },
   {
    "duration": 10,
    "start_time": "2022-11-09T19:02:48.168Z"
   },
   {
    "duration": 7,
    "start_time": "2022-11-09T19:02:48.180Z"
   },
   {
    "duration": 8,
    "start_time": "2022-11-09T19:02:48.189Z"
   },
   {
    "duration": 9,
    "start_time": "2022-11-09T19:02:48.198Z"
   },
   {
    "duration": 29,
    "start_time": "2022-11-09T19:02:48.209Z"
   },
   {
    "duration": 23,
    "start_time": "2022-11-09T19:02:48.240Z"
   },
   {
    "duration": 36,
    "start_time": "2022-11-09T19:02:48.266Z"
   },
   {
    "duration": 23,
    "start_time": "2022-11-09T19:02:48.304Z"
   },
   {
    "duration": 13,
    "start_time": "2022-11-09T19:02:48.329Z"
   },
   {
    "duration": 14,
    "start_time": "2022-11-09T19:02:48.345Z"
   },
   {
    "duration": 14,
    "start_time": "2022-11-09T19:02:48.361Z"
   },
   {
    "duration": 12,
    "start_time": "2022-11-09T19:02:48.378Z"
   },
   {
    "duration": 20,
    "start_time": "2022-11-09T19:02:48.392Z"
   },
   {
    "duration": 2,
    "start_time": "2022-11-09T19:02:48.427Z"
   },
   {
    "duration": 913,
    "start_time": "2022-11-09T19:03:14.620Z"
   },
   {
    "duration": 8,
    "start_time": "2022-11-09T19:03:22.827Z"
   },
   {
    "duration": 8,
    "start_time": "2022-11-09T19:08:29.782Z"
   },
   {
    "duration": 777,
    "start_time": "2022-11-09T19:08:39.222Z"
   },
   {
    "duration": 25,
    "start_time": "2022-11-09T19:08:40.002Z"
   },
   {
    "duration": 2117,
    "start_time": "2022-11-09T19:08:40.029Z"
   },
   {
    "duration": 155,
    "start_time": "2022-11-09T19:08:42.149Z"
   },
   {
    "duration": 10,
    "start_time": "2022-11-09T19:08:42.306Z"
   },
   {
    "duration": 42,
    "start_time": "2022-11-09T19:08:42.317Z"
   },
   {
    "duration": 27,
    "start_time": "2022-11-09T19:08:42.361Z"
   },
   {
    "duration": 32,
    "start_time": "2022-11-09T19:08:42.389Z"
   },
   {
    "duration": 27,
    "start_time": "2022-11-09T19:08:42.423Z"
   },
   {
    "duration": 35,
    "start_time": "2022-11-09T19:08:42.453Z"
   },
   {
    "duration": 30,
    "start_time": "2022-11-09T19:08:42.490Z"
   },
   {
    "duration": 10,
    "start_time": "2022-11-09T19:08:42.522Z"
   },
   {
    "duration": 56,
    "start_time": "2022-11-09T19:08:42.534Z"
   },
   {
    "duration": 18,
    "start_time": "2022-11-09T19:08:42.592Z"
   },
   {
    "duration": 24,
    "start_time": "2022-11-09T19:08:42.612Z"
   },
   {
    "duration": 22,
    "start_time": "2022-11-09T19:08:42.638Z"
   },
   {
    "duration": 34,
    "start_time": "2022-11-09T19:08:42.662Z"
   },
   {
    "duration": 10,
    "start_time": "2022-11-09T19:08:42.697Z"
   },
   {
    "duration": 8,
    "start_time": "2022-11-09T19:09:16.589Z"
   },
   {
    "duration": 8,
    "start_time": "2022-11-09T19:09:34.028Z"
   },
   {
    "duration": 12,
    "start_time": "2022-11-09T19:51:38.135Z"
   },
   {
    "duration": 10,
    "start_time": "2022-11-09T19:51:41.222Z"
   },
   {
    "duration": 8,
    "start_time": "2022-11-09T19:51:47.328Z"
   },
   {
    "duration": 10,
    "start_time": "2022-11-09T19:51:57.087Z"
   },
   {
    "duration": 1558,
    "start_time": "2022-11-10T02:09:15.397Z"
   },
   {
    "duration": 22,
    "start_time": "2022-11-10T02:09:16.957Z"
   },
   {
    "duration": 2016,
    "start_time": "2022-11-10T02:09:16.981Z"
   },
   {
    "duration": 151,
    "start_time": "2022-11-10T02:09:19.000Z"
   },
   {
    "duration": 14,
    "start_time": "2022-11-10T02:09:19.153Z"
   },
   {
    "duration": 5,
    "start_time": "2022-11-10T02:09:19.181Z"
   },
   {
    "duration": 14,
    "start_time": "2022-11-10T02:09:19.189Z"
   },
   {
    "duration": 6,
    "start_time": "2022-11-10T02:09:19.205Z"
   },
   {
    "duration": 10,
    "start_time": "2022-11-10T02:09:19.213Z"
   },
   {
    "duration": 18,
    "start_time": "2022-11-10T02:09:19.226Z"
   },
   {
    "duration": 44,
    "start_time": "2022-11-10T02:09:19.246Z"
   },
   {
    "duration": 12,
    "start_time": "2022-11-10T02:09:19.292Z"
   },
   {
    "duration": 9,
    "start_time": "2022-11-10T02:09:19.306Z"
   },
   {
    "duration": 14,
    "start_time": "2022-11-10T02:09:19.316Z"
   },
   {
    "duration": 13,
    "start_time": "2022-11-10T02:09:19.332Z"
   },
   {
    "duration": 12,
    "start_time": "2022-11-10T02:09:19.347Z"
   },
   {
    "duration": 32,
    "start_time": "2022-11-10T02:09:19.361Z"
   },
   {
    "duration": 71,
    "start_time": "2022-11-10T02:18:58.028Z"
   },
   {
    "duration": 14,
    "start_time": "2022-11-10T02:19:04.128Z"
   },
   {
    "duration": 14,
    "start_time": "2022-11-10T02:19:37.981Z"
   },
   {
    "duration": 8,
    "start_time": "2022-11-10T02:20:33.701Z"
   },
   {
    "duration": 11,
    "start_time": "2022-11-10T02:20:37.983Z"
   },
   {
    "duration": 11,
    "start_time": "2022-11-10T02:21:57.426Z"
   },
   {
    "duration": 13,
    "start_time": "2022-11-10T02:22:02.012Z"
   },
   {
    "duration": 14,
    "start_time": "2022-11-10T02:24:05.309Z"
   },
   {
    "duration": 45,
    "start_time": "2022-11-10T02:29:59.611Z"
   },
   {
    "duration": 13,
    "start_time": "2022-11-10T02:30:17.791Z"
   },
   {
    "duration": 47,
    "start_time": "2022-11-10T02:33:58.913Z"
   },
   {
    "duration": 10,
    "start_time": "2022-11-10T02:34:18.242Z"
   },
   {
    "duration": 72,
    "start_time": "2022-11-10T02:35:17.661Z"
   },
   {
    "duration": 5,
    "start_time": "2022-11-10T02:35:26.706Z"
   },
   {
    "duration": 16,
    "start_time": "2022-11-10T02:35:30.565Z"
   },
   {
    "duration": 12,
    "start_time": "2022-11-10T02:38:05.573Z"
   },
   {
    "duration": 16,
    "start_time": "2022-11-10T02:38:20.282Z"
   },
   {
    "duration": 7,
    "start_time": "2022-11-10T02:45:27.447Z"
   },
   {
    "duration": 10,
    "start_time": "2022-11-10T02:46:20.948Z"
   },
   {
    "duration": 8,
    "start_time": "2022-11-10T02:47:43.803Z"
   },
   {
    "duration": 7,
    "start_time": "2022-11-10T02:47:54.215Z"
   },
   {
    "duration": 7,
    "start_time": "2022-11-10T02:48:07.766Z"
   },
   {
    "duration": 9,
    "start_time": "2022-11-10T02:49:18.967Z"
   },
   {
    "duration": 7,
    "start_time": "2022-11-10T02:49:19.982Z"
   },
   {
    "duration": 7,
    "start_time": "2022-11-10T02:49:44.527Z"
   },
   {
    "duration": 8,
    "start_time": "2022-11-10T02:49:45.421Z"
   },
   {
    "duration": 12,
    "start_time": "2022-11-10T02:50:16.199Z"
   },
   {
    "duration": 13,
    "start_time": "2022-11-10T02:51:45.545Z"
   },
   {
    "duration": 8,
    "start_time": "2022-11-10T02:52:31.653Z"
   },
   {
    "duration": 12,
    "start_time": "2022-11-10T02:52:45.880Z"
   },
   {
    "duration": 8,
    "start_time": "2022-11-10T02:52:57.553Z"
   },
   {
    "duration": 8,
    "start_time": "2022-11-10T02:52:59.794Z"
   },
   {
    "duration": 7,
    "start_time": "2022-11-10T02:53:01.978Z"
   },
   {
    "duration": 16,
    "start_time": "2022-11-10T02:53:20.352Z"
   },
   {
    "duration": 5,
    "start_time": "2022-11-10T02:54:27.676Z"
   },
   {
    "duration": 12,
    "start_time": "2022-11-10T02:54:31.725Z"
   },
   {
    "duration": 6,
    "start_time": "2022-11-10T02:54:42.296Z"
   },
   {
    "duration": 7,
    "start_time": "2022-11-10T02:54:43.877Z"
   },
   {
    "duration": 16,
    "start_time": "2022-11-10T02:54:49.551Z"
   },
   {
    "duration": 7,
    "start_time": "2022-11-10T02:54:51.037Z"
   },
   {
    "duration": 16,
    "start_time": "2022-11-10T02:56:57.826Z"
   },
   {
    "duration": 12,
    "start_time": "2022-11-10T02:58:34.278Z"
   },
   {
    "duration": 12,
    "start_time": "2022-11-10T02:58:57.904Z"
   },
   {
    "duration": 13,
    "start_time": "2022-11-10T03:00:11.680Z"
   },
   {
    "duration": 15,
    "start_time": "2022-11-10T03:00:12.835Z"
   },
   {
    "duration": 16,
    "start_time": "2022-11-10T03:00:13.430Z"
   },
   {
    "duration": 14,
    "start_time": "2022-11-10T03:00:14.134Z"
   },
   {
    "duration": 8,
    "start_time": "2022-11-10T03:00:14.687Z"
   },
   {
    "duration": 686,
    "start_time": "2022-11-10T03:03:19.233Z"
   },
   {
    "duration": 986,
    "start_time": "2022-11-10T03:03:26.686Z"
   },
   {
    "duration": 6,
    "start_time": "2022-11-10T03:03:35.020Z"
   },
   {
    "duration": 86,
    "start_time": "2022-11-10T03:11:05.273Z"
   },
   {
    "duration": 6,
    "start_time": "2022-11-10T03:11:17.418Z"
   },
   {
    "duration": 679,
    "start_time": "2022-11-10T03:12:02.837Z"
   },
   {
    "duration": 21,
    "start_time": "2022-11-10T03:12:03.519Z"
   },
   {
    "duration": 1919,
    "start_time": "2022-11-10T03:12:03.542Z"
   },
   {
    "duration": 147,
    "start_time": "2022-11-10T03:12:05.464Z"
   },
   {
    "duration": 10,
    "start_time": "2022-11-10T03:12:05.612Z"
   },
   {
    "duration": 20,
    "start_time": "2022-11-10T03:12:05.624Z"
   },
   {
    "duration": 15,
    "start_time": "2022-11-10T03:12:05.645Z"
   },
   {
    "duration": 21,
    "start_time": "2022-11-10T03:12:05.661Z"
   },
   {
    "duration": 19,
    "start_time": "2022-11-10T03:12:05.683Z"
   },
   {
    "duration": 42,
    "start_time": "2022-11-10T03:12:05.704Z"
   },
   {
    "duration": 31,
    "start_time": "2022-11-10T03:12:05.749Z"
   },
   {
    "duration": 13,
    "start_time": "2022-11-10T03:12:05.782Z"
   },
   {
    "duration": 23,
    "start_time": "2022-11-10T03:12:05.797Z"
   },
   {
    "duration": 20,
    "start_time": "2022-11-10T03:12:05.821Z"
   },
   {
    "duration": 15,
    "start_time": "2022-11-10T03:12:05.843Z"
   },
   {
    "duration": 18,
    "start_time": "2022-11-10T03:12:05.860Z"
   },
   {
    "duration": 21,
    "start_time": "2022-11-10T03:12:05.880Z"
   },
   {
    "duration": 28,
    "start_time": "2022-11-10T03:12:05.903Z"
   },
   {
    "duration": 28,
    "start_time": "2022-11-10T03:12:05.932Z"
   },
   {
    "duration": 34,
    "start_time": "2022-11-10T03:12:05.961Z"
   },
   {
    "duration": 27,
    "start_time": "2022-11-10T03:12:05.997Z"
   },
   {
    "duration": 26,
    "start_time": "2022-11-10T03:12:06.025Z"
   },
   {
    "duration": 8,
    "start_time": "2022-11-10T03:12:06.053Z"
   },
   {
    "duration": 5,
    "start_time": "2022-11-10T03:12:06.063Z"
   },
   {
    "duration": 81,
    "start_time": "2022-11-10T03:12:28.691Z"
   },
   {
    "duration": 14,
    "start_time": "2022-11-10T03:15:03.507Z"
   },
   {
    "duration": 8,
    "start_time": "2022-11-10T03:15:04.709Z"
   },
   {
    "duration": 5,
    "start_time": "2022-11-10T03:15:07.637Z"
   },
   {
    "duration": 786,
    "start_time": "2022-11-10T03:17:28.039Z"
   },
   {
    "duration": 22,
    "start_time": "2022-11-10T03:17:28.827Z"
   },
   {
    "duration": 2050,
    "start_time": "2022-11-10T03:17:28.851Z"
   },
   {
    "duration": 148,
    "start_time": "2022-11-10T03:17:30.904Z"
   },
   {
    "duration": 10,
    "start_time": "2022-11-10T03:17:31.054Z"
   },
   {
    "duration": 29,
    "start_time": "2022-11-10T03:17:31.066Z"
   },
   {
    "duration": 27,
    "start_time": "2022-11-10T03:17:31.097Z"
   },
   {
    "duration": 12,
    "start_time": "2022-11-10T03:17:31.125Z"
   },
   {
    "duration": 17,
    "start_time": "2022-11-10T03:17:31.138Z"
   },
   {
    "duration": 35,
    "start_time": "2022-11-10T03:17:31.158Z"
   },
   {
    "duration": 47,
    "start_time": "2022-11-10T03:17:31.195Z"
   },
   {
    "duration": 9,
    "start_time": "2022-11-10T03:17:31.244Z"
   },
   {
    "duration": 27,
    "start_time": "2022-11-10T03:17:31.254Z"
   },
   {
    "duration": 35,
    "start_time": "2022-11-10T03:17:31.283Z"
   },
   {
    "duration": 31,
    "start_time": "2022-11-10T03:17:31.320Z"
   },
   {
    "duration": 41,
    "start_time": "2022-11-10T03:17:31.353Z"
   },
   {
    "duration": 16,
    "start_time": "2022-11-10T03:17:31.397Z"
   },
   {
    "duration": 34,
    "start_time": "2022-11-10T03:17:31.415Z"
   },
   {
    "duration": 43,
    "start_time": "2022-11-10T03:17:31.451Z"
   },
   {
    "duration": 30,
    "start_time": "2022-11-10T03:17:31.496Z"
   },
   {
    "duration": 63,
    "start_time": "2022-11-10T03:17:31.528Z"
   },
   {
    "duration": 77,
    "start_time": "2022-11-10T03:17:31.593Z"
   },
   {
    "duration": 34,
    "start_time": "2022-11-10T03:17:31.672Z"
   },
   {
    "duration": 25,
    "start_time": "2022-11-10T03:17:31.708Z"
   },
   {
    "duration": 11,
    "start_time": "2022-11-10T03:18:01.025Z"
   },
   {
    "duration": 751,
    "start_time": "2022-11-10T03:18:11.125Z"
   },
   {
    "duration": 21,
    "start_time": "2022-11-10T03:18:11.878Z"
   },
   {
    "duration": 2064,
    "start_time": "2022-11-10T03:18:11.906Z"
   },
   {
    "duration": 139,
    "start_time": "2022-11-10T03:18:13.972Z"
   },
   {
    "duration": 13,
    "start_time": "2022-11-10T03:18:14.113Z"
   },
   {
    "duration": 4,
    "start_time": "2022-11-10T03:18:14.129Z"
   },
   {
    "duration": 15,
    "start_time": "2022-11-10T03:18:14.134Z"
   },
   {
    "duration": 5,
    "start_time": "2022-11-10T03:18:14.151Z"
   },
   {
    "duration": 5,
    "start_time": "2022-11-10T03:18:14.179Z"
   },
   {
    "duration": 12,
    "start_time": "2022-11-10T03:18:14.186Z"
   },
   {
    "duration": 26,
    "start_time": "2022-11-10T03:18:14.199Z"
   },
   {
    "duration": 8,
    "start_time": "2022-11-10T03:18:14.227Z"
   },
   {
    "duration": 10,
    "start_time": "2022-11-10T03:18:14.236Z"
   },
   {
    "duration": 41,
    "start_time": "2022-11-10T03:18:14.247Z"
   },
   {
    "duration": 10,
    "start_time": "2022-11-10T03:18:14.290Z"
   },
   {
    "duration": 10,
    "start_time": "2022-11-10T03:18:14.302Z"
   },
   {
    "duration": 10,
    "start_time": "2022-11-10T03:18:14.314Z"
   },
   {
    "duration": 15,
    "start_time": "2022-11-10T03:18:14.325Z"
   },
   {
    "duration": 47,
    "start_time": "2022-11-10T03:18:14.342Z"
   },
   {
    "duration": 17,
    "start_time": "2022-11-10T03:18:14.391Z"
   },
   {
    "duration": 20,
    "start_time": "2022-11-10T03:18:14.410Z"
   },
   {
    "duration": 14,
    "start_time": "2022-11-10T03:18:14.432Z"
   },
   {
    "duration": 5,
    "start_time": "2022-11-10T03:18:14.448Z"
   },
   {
    "duration": 9,
    "start_time": "2022-11-10T03:18:14.455Z"
   },
   {
    "duration": 54,
    "start_time": "2022-11-10T03:18:26.812Z"
   },
   {
    "duration": 6,
    "start_time": "2022-11-10T03:18:43.358Z"
   },
   {
    "duration": 62,
    "start_time": "2022-11-10T03:20:21.693Z"
   },
   {
    "duration": 6,
    "start_time": "2022-11-10T03:20:33.313Z"
   },
   {
    "duration": 8,
    "start_time": "2022-11-10T03:20:35.872Z"
   },
   {
    "duration": 5,
    "start_time": "2022-11-10T03:21:13.858Z"
   },
   {
    "duration": 21,
    "start_time": "2022-11-10T03:22:43.840Z"
   },
   {
    "duration": 4,
    "start_time": "2022-11-10T03:22:53.325Z"
   },
   {
    "duration": 787,
    "start_time": "2022-11-10T03:23:00.163Z"
   },
   {
    "duration": 5,
    "start_time": "2022-11-10T03:23:04.224Z"
   },
   {
    "duration": 4,
    "start_time": "2022-11-10T03:23:23.728Z"
   },
   {
    "duration": 5,
    "start_time": "2022-11-10T03:23:37.943Z"
   },
   {
    "duration": 5,
    "start_time": "2022-11-10T03:23:49.227Z"
   },
   {
    "duration": 6,
    "start_time": "2022-11-10T03:24:17.012Z"
   },
   {
    "duration": 6,
    "start_time": "2022-11-10T03:24:32.845Z"
   },
   {
    "duration": 5,
    "start_time": "2022-11-10T03:24:57.324Z"
   },
   {
    "duration": 9,
    "start_time": "2022-11-10T03:25:07.611Z"
   },
   {
    "duration": 7,
    "start_time": "2022-11-10T03:25:20.240Z"
   },
   {
    "duration": 6,
    "start_time": "2022-11-10T03:25:30.585Z"
   },
   {
    "duration": 8,
    "start_time": "2022-11-10T03:25:38.404Z"
   },
   {
    "duration": 42,
    "start_time": "2022-11-10T03:25:49.896Z"
   },
   {
    "duration": 10,
    "start_time": "2022-11-10T03:25:54.872Z"
   },
   {
    "duration": 6,
    "start_time": "2022-11-10T03:26:01.017Z"
   },
   {
    "duration": 7,
    "start_time": "2022-11-10T03:28:21.121Z"
   },
   {
    "duration": 5,
    "start_time": "2022-11-10T03:28:32.152Z"
   },
   {
    "duration": 5,
    "start_time": "2022-11-10T03:28:53.091Z"
   },
   {
    "duration": 39,
    "start_time": "2022-11-10T03:30:53.903Z"
   },
   {
    "duration": 5,
    "start_time": "2022-11-10T03:32:18.429Z"
   },
   {
    "duration": 15,
    "start_time": "2022-11-10T03:33:44.003Z"
   },
   {
    "duration": 9,
    "start_time": "2022-11-10T03:34:18.313Z"
   },
   {
    "duration": 9,
    "start_time": "2022-11-10T03:34:48.357Z"
   },
   {
    "duration": 6,
    "start_time": "2022-11-10T03:36:07.074Z"
   },
   {
    "duration": 5,
    "start_time": "2022-11-10T03:36:11.453Z"
   },
   {
    "duration": 9,
    "start_time": "2022-11-10T03:36:26.545Z"
   },
   {
    "duration": 4,
    "start_time": "2022-11-10T03:39:30.762Z"
   },
   {
    "duration": 5,
    "start_time": "2022-11-10T03:39:43.188Z"
   },
   {
    "duration": 775,
    "start_time": "2022-11-10T11:55:46.075Z"
   },
   {
    "duration": 28,
    "start_time": "2022-11-10T11:55:46.852Z"
   },
   {
    "duration": 2132,
    "start_time": "2022-11-10T11:55:46.885Z"
   },
   {
    "duration": 156,
    "start_time": "2022-11-10T11:55:49.019Z"
   },
   {
    "duration": 21,
    "start_time": "2022-11-10T11:55:49.179Z"
   },
   {
    "duration": 12,
    "start_time": "2022-11-10T11:55:49.202Z"
   },
   {
    "duration": 20,
    "start_time": "2022-11-10T11:55:49.216Z"
   },
   {
    "duration": 20,
    "start_time": "2022-11-10T11:55:49.238Z"
   },
   {
    "duration": 34,
    "start_time": "2022-11-10T11:55:49.261Z"
   },
   {
    "duration": 33,
    "start_time": "2022-11-10T11:55:49.296Z"
   },
   {
    "duration": 40,
    "start_time": "2022-11-10T11:55:49.331Z"
   },
   {
    "duration": 9,
    "start_time": "2022-11-10T11:55:49.373Z"
   },
   {
    "duration": 29,
    "start_time": "2022-11-10T11:55:49.387Z"
   },
   {
    "duration": 19,
    "start_time": "2022-11-10T11:55:49.418Z"
   },
   {
    "duration": 26,
    "start_time": "2022-11-10T11:55:49.439Z"
   },
   {
    "duration": 24,
    "start_time": "2022-11-10T11:55:49.466Z"
   },
   {
    "duration": 25,
    "start_time": "2022-11-10T11:55:49.492Z"
   },
   {
    "duration": 29,
    "start_time": "2022-11-10T11:55:49.519Z"
   },
   {
    "duration": 22,
    "start_time": "2022-11-10T11:55:49.550Z"
   },
   {
    "duration": 33,
    "start_time": "2022-11-10T11:55:49.574Z"
   },
   {
    "duration": 32,
    "start_time": "2022-11-10T11:55:49.610Z"
   },
   {
    "duration": 32,
    "start_time": "2022-11-10T11:55:49.644Z"
   },
   {
    "duration": 35,
    "start_time": "2022-11-10T11:55:49.677Z"
   },
   {
    "duration": 20,
    "start_time": "2022-11-10T11:55:49.714Z"
   },
   {
    "duration": 35,
    "start_time": "2022-11-10T11:55:49.735Z"
   },
   {
    "duration": 22,
    "start_time": "2022-11-10T11:55:49.772Z"
   },
   {
    "duration": 9,
    "start_time": "2022-11-10T11:55:49.798Z"
   },
   {
    "duration": 17,
    "start_time": "2022-11-10T11:55:49.809Z"
   },
   {
    "duration": 5,
    "start_time": "2022-11-10T12:00:35.322Z"
   },
   {
    "duration": 19,
    "start_time": "2022-11-10T12:00:56.598Z"
   },
   {
    "duration": 52,
    "start_time": "2022-11-10T12:01:07.909Z"
   },
   {
    "duration": 18,
    "start_time": "2022-11-10T12:01:12.598Z"
   },
   {
    "duration": 6,
    "start_time": "2022-11-10T12:01:38.174Z"
   },
   {
    "duration": 4,
    "start_time": "2022-11-10T12:04:27.798Z"
   },
   {
    "duration": 50,
    "start_time": "2022-11-10T12:04:34.042Z"
   },
   {
    "duration": 80,
    "start_time": "2022-11-10T12:07:24.545Z"
   },
   {
    "duration": 4,
    "start_time": "2022-11-10T12:11:48.713Z"
   },
   {
    "duration": 45,
    "start_time": "2022-11-10T12:11:59.245Z"
   },
   {
    "duration": 4,
    "start_time": "2022-11-10T12:12:28.115Z"
   },
   {
    "duration": 39,
    "start_time": "2022-11-10T12:12:30.602Z"
   },
   {
    "duration": 6,
    "start_time": "2022-11-10T12:15:53.740Z"
   },
   {
    "duration": 58,
    "start_time": "2022-11-10T12:15:59.471Z"
   },
   {
    "duration": 8,
    "start_time": "2022-11-10T12:18:22.267Z"
   },
   {
    "duration": 6,
    "start_time": "2022-11-10T12:18:27.060Z"
   },
   {
    "duration": 40,
    "start_time": "2022-11-10T12:18:29.167Z"
   },
   {
    "duration": 9,
    "start_time": "2022-11-10T12:20:48.669Z"
   },
   {
    "duration": 10,
    "start_time": "2022-11-10T12:21:00.776Z"
   },
   {
    "duration": 5,
    "start_time": "2022-11-10T12:21:08.253Z"
   },
   {
    "duration": 24,
    "start_time": "2022-11-10T12:21:14.409Z"
   },
   {
    "duration": 37,
    "start_time": "2022-11-10T12:21:21.320Z"
   },
   {
    "duration": 6,
    "start_time": "2022-11-10T12:21:53.290Z"
   },
   {
    "duration": 42,
    "start_time": "2022-11-10T12:21:59.074Z"
   },
   {
    "duration": 3,
    "start_time": "2022-11-10T12:35:18.707Z"
   },
   {
    "duration": 66,
    "start_time": "2022-11-10T12:35:58.356Z"
   },
   {
    "duration": 104,
    "start_time": "2022-11-10T12:36:45.018Z"
   },
   {
    "duration": 8,
    "start_time": "2022-11-10T12:37:29.686Z"
   },
   {
    "duration": 182,
    "start_time": "2022-11-10T12:37:31.967Z"
   },
   {
    "duration": 59,
    "start_time": "2022-11-10T12:37:49.732Z"
   },
   {
    "duration": 3,
    "start_time": "2022-11-10T12:38:30.044Z"
   },
   {
    "duration": 53,
    "start_time": "2022-11-10T12:38:31.735Z"
   },
   {
    "duration": 112,
    "start_time": "2022-11-10T12:39:41.190Z"
   },
   {
    "duration": 3,
    "start_time": "2022-11-10T12:40:36.626Z"
   },
   {
    "duration": 97,
    "start_time": "2022-11-10T12:40:38.628Z"
   },
   {
    "duration": 3,
    "start_time": "2022-11-10T12:40:52.509Z"
   },
   {
    "duration": 98,
    "start_time": "2022-11-10T12:40:55.140Z"
   },
   {
    "duration": 10,
    "start_time": "2022-11-10T12:48:33.438Z"
   },
   {
    "duration": 304,
    "start_time": "2022-11-10T12:49:00.268Z"
   },
   {
    "duration": 8,
    "start_time": "2022-11-10T12:49:20.602Z"
   },
   {
    "duration": 6,
    "start_time": "2022-11-10T12:51:02.938Z"
   },
   {
    "duration": 933,
    "start_time": "2022-11-10T12:51:25.290Z"
   },
   {
    "duration": 6,
    "start_time": "2022-11-10T12:51:32.231Z"
   },
   {
    "duration": 9,
    "start_time": "2022-11-10T12:51:35.441Z"
   },
   {
    "duration": 3,
    "start_time": "2022-11-10T12:51:47.553Z"
   },
   {
    "duration": 9,
    "start_time": "2022-11-10T12:51:49.418Z"
   },
   {
    "duration": 3,
    "start_time": "2022-11-10T12:51:57.750Z"
   },
   {
    "duration": 180,
    "start_time": "2022-11-10T12:51:58.826Z"
   },
   {
    "duration": 739,
    "start_time": "2022-11-10T12:52:16.208Z"
   },
   {
    "duration": 53,
    "start_time": "2022-11-10T12:52:16.949Z"
   },
   {
    "duration": 2102,
    "start_time": "2022-11-10T12:52:17.004Z"
   },
   {
    "duration": 187,
    "start_time": "2022-11-10T12:52:19.108Z"
   },
   {
    "duration": 10,
    "start_time": "2022-11-10T12:52:19.298Z"
   },
   {
    "duration": 41,
    "start_time": "2022-11-10T12:52:19.310Z"
   },
   {
    "duration": 56,
    "start_time": "2022-11-10T12:52:19.353Z"
   },
   {
    "duration": 29,
    "start_time": "2022-11-10T12:52:19.411Z"
   },
   {
    "duration": 53,
    "start_time": "2022-11-10T12:52:19.442Z"
   },
   {
    "duration": 25,
    "start_time": "2022-11-10T12:52:19.498Z"
   },
   {
    "duration": 30,
    "start_time": "2022-11-10T12:52:19.524Z"
   },
   {
    "duration": 34,
    "start_time": "2022-11-10T12:52:19.556Z"
   },
   {
    "duration": 36,
    "start_time": "2022-11-10T12:52:19.592Z"
   },
   {
    "duration": 8,
    "start_time": "2022-11-10T12:52:19.630Z"
   },
   {
    "duration": 20,
    "start_time": "2022-11-10T12:52:19.639Z"
   },
   {
    "duration": 63,
    "start_time": "2022-11-10T12:52:19.660Z"
   },
   {
    "duration": 32,
    "start_time": "2022-11-10T12:52:19.725Z"
   },
   {
    "duration": 30,
    "start_time": "2022-11-10T12:52:19.759Z"
   },
   {
    "duration": 60,
    "start_time": "2022-11-10T12:52:19.791Z"
   },
   {
    "duration": 39,
    "start_time": "2022-11-10T12:52:19.853Z"
   },
   {
    "duration": 38,
    "start_time": "2022-11-10T12:52:19.894Z"
   },
   {
    "duration": 57,
    "start_time": "2022-11-10T12:52:19.933Z"
   },
   {
    "duration": 19,
    "start_time": "2022-11-10T12:52:19.992Z"
   },
   {
    "duration": 32,
    "start_time": "2022-11-10T12:52:20.013Z"
   },
   {
    "duration": 44,
    "start_time": "2022-11-10T12:52:20.047Z"
   },
   {
    "duration": 39,
    "start_time": "2022-11-10T12:52:20.092Z"
   },
   {
    "duration": 41,
    "start_time": "2022-11-10T12:52:20.132Z"
   },
   {
    "duration": 18,
    "start_time": "2022-11-10T12:52:20.177Z"
   },
   {
    "duration": 32,
    "start_time": "2022-11-10T12:52:20.196Z"
   },
   {
    "duration": 38,
    "start_time": "2022-11-10T12:52:20.230Z"
   },
   {
    "duration": 39,
    "start_time": "2022-11-10T12:52:20.270Z"
   },
   {
    "duration": 30,
    "start_time": "2022-11-10T12:52:20.311Z"
   },
   {
    "duration": 77,
    "start_time": "2022-11-10T12:52:20.342Z"
   },
   {
    "duration": 37,
    "start_time": "2022-11-10T12:52:20.421Z"
   },
   {
    "duration": 42,
    "start_time": "2022-11-10T12:52:20.459Z"
   },
   {
    "duration": 38,
    "start_time": "2022-11-10T12:52:20.502Z"
   },
   {
    "duration": 72,
    "start_time": "2022-11-10T12:52:20.542Z"
   },
   {
    "duration": 4,
    "start_time": "2022-11-10T12:52:20.616Z"
   },
   {
    "duration": 193,
    "start_time": "2022-11-10T12:52:20.622Z"
   },
   {
    "duration": 3,
    "start_time": "2022-11-10T13:15:59.467Z"
   },
   {
    "duration": 159,
    "start_time": "2022-11-10T13:16:02.000Z"
   },
   {
    "duration": 3,
    "start_time": "2022-11-10T13:19:26.270Z"
   },
   {
    "duration": 109,
    "start_time": "2022-11-10T13:19:28.559Z"
   },
   {
    "duration": 3,
    "start_time": "2022-11-10T13:20:46.806Z"
   },
   {
    "duration": 13,
    "start_time": "2022-11-10T13:20:47.648Z"
   },
   {
    "duration": 2434,
    "start_time": "2022-11-10T13:20:57.569Z"
   },
   {
    "duration": 2392,
    "start_time": "2022-11-10T13:21:20.605Z"
   },
   {
    "duration": 45,
    "start_time": "2022-11-10T13:24:13.780Z"
   },
   {
    "duration": 44,
    "start_time": "2022-11-10T13:24:38.824Z"
   },
   {
    "duration": 16,
    "start_time": "2022-11-10T13:25:08.033Z"
   },
   {
    "duration": 64,
    "start_time": "2022-11-10T13:25:42.260Z"
   },
   {
    "duration": 38,
    "start_time": "2022-11-10T13:25:50.034Z"
   },
   {
    "duration": 14,
    "start_time": "2022-11-10T13:26:09.311Z"
   },
   {
    "duration": 97,
    "start_time": "2022-11-10T13:26:17.337Z"
   },
   {
    "duration": 3,
    "start_time": "2022-11-10T13:26:28.430Z"
   },
   {
    "duration": 92,
    "start_time": "2022-11-10T13:26:29.304Z"
   },
   {
    "duration": 176,
    "start_time": "2022-11-10T13:26:39.534Z"
   },
   {
    "duration": 48,
    "start_time": "2022-11-10T13:26:53.412Z"
   },
   {
    "duration": 86,
    "start_time": "2022-11-10T13:26:57.618Z"
   },
   {
    "duration": 57,
    "start_time": "2022-11-10T13:27:14.157Z"
   },
   {
    "duration": 4,
    "start_time": "2022-11-10T13:27:18.635Z"
   },
   {
    "duration": 90,
    "start_time": "2022-11-10T13:27:22.845Z"
   },
   {
    "duration": 3,
    "start_time": "2022-11-10T13:28:11.752Z"
   },
   {
    "duration": 115,
    "start_time": "2022-11-10T13:28:15.275Z"
   },
   {
    "duration": 4,
    "start_time": "2022-11-10T13:28:36.137Z"
   },
   {
    "duration": 172,
    "start_time": "2022-11-10T13:28:37.102Z"
   },
   {
    "duration": 3,
    "start_time": "2022-11-10T13:35:16.018Z"
   },
   {
    "duration": 97,
    "start_time": "2022-11-10T13:35:17.154Z"
   },
   {
    "duration": 4,
    "start_time": "2022-11-10T13:39:30.600Z"
   },
   {
    "duration": 116,
    "start_time": "2022-11-10T13:39:31.202Z"
   },
   {
    "duration": 4,
    "start_time": "2022-11-10T13:41:04.772Z"
   },
   {
    "duration": 100,
    "start_time": "2022-11-10T13:41:06.355Z"
   },
   {
    "duration": 4,
    "start_time": "2022-11-10T13:42:18.010Z"
   },
   {
    "duration": 185,
    "start_time": "2022-11-10T13:42:18.721Z"
   },
   {
    "duration": 108,
    "start_time": "2022-11-10T13:42:35.318Z"
   },
   {
    "duration": 54,
    "start_time": "2022-11-10T13:45:22.957Z"
   },
   {
    "duration": 236,
    "start_time": "2022-11-10T13:45:33.099Z"
   },
   {
    "duration": 3,
    "start_time": "2022-11-10T13:45:47.210Z"
   },
   {
    "duration": 211,
    "start_time": "2022-11-10T13:45:49.403Z"
   },
   {
    "duration": 4,
    "start_time": "2022-11-10T13:50:31.243Z"
   },
   {
    "duration": 2689,
    "start_time": "2022-11-10T13:50:31.967Z"
   },
   {
    "duration": 2549,
    "start_time": "2022-11-10T13:51:18.748Z"
   },
   {
    "duration": 3,
    "start_time": "2022-11-10T13:52:33.675Z"
   },
   {
    "duration": 2500,
    "start_time": "2022-11-10T13:52:34.061Z"
   },
   {
    "duration": 2548,
    "start_time": "2022-11-10T13:52:41.752Z"
   },
   {
    "duration": 4,
    "start_time": "2022-11-10T13:53:15.117Z"
   },
   {
    "duration": 237,
    "start_time": "2022-11-10T13:53:15.481Z"
   },
   {
    "duration": 4,
    "start_time": "2022-11-10T13:55:07.143Z"
   },
   {
    "duration": 220,
    "start_time": "2022-11-10T13:55:08.128Z"
   },
   {
    "duration": 3,
    "start_time": "2022-11-10T13:55:17.434Z"
   },
   {
    "duration": 250,
    "start_time": "2022-11-10T13:55:18.368Z"
   },
   {
    "duration": 96,
    "start_time": "2022-11-10T13:55:41.913Z"
   },
   {
    "duration": 4,
    "start_time": "2022-11-10T13:55:44.345Z"
   },
   {
    "duration": 98,
    "start_time": "2022-11-10T13:55:44.754Z"
   },
   {
    "duration": 4,
    "start_time": "2022-11-10T13:56:27.694Z"
   },
   {
    "duration": 188,
    "start_time": "2022-11-10T13:56:27.912Z"
   },
   {
    "duration": 44,
    "start_time": "2022-11-10T13:58:16.234Z"
   },
   {
    "duration": 90,
    "start_time": "2022-11-10T13:58:16.420Z"
   },
   {
    "duration": 99,
    "start_time": "2022-11-10T14:00:31.628Z"
   },
   {
    "duration": 97,
    "start_time": "2022-11-10T14:00:32.014Z"
   },
   {
    "duration": 62,
    "start_time": "2022-11-10T14:00:42.405Z"
   },
   {
    "duration": 97,
    "start_time": "2022-11-10T14:00:43.059Z"
   },
   {
    "duration": 790,
    "start_time": "2022-11-10T14:00:56.227Z"
   },
   {
    "duration": 43,
    "start_time": "2022-11-10T14:00:57.019Z"
   },
   {
    "duration": 2077,
    "start_time": "2022-11-10T14:00:57.064Z"
   },
   {
    "duration": 151,
    "start_time": "2022-11-10T14:00:59.144Z"
   },
   {
    "duration": 10,
    "start_time": "2022-11-10T14:00:59.297Z"
   },
   {
    "duration": 10,
    "start_time": "2022-11-10T14:00:59.309Z"
   },
   {
    "duration": 18,
    "start_time": "2022-11-10T14:00:59.321Z"
   },
   {
    "duration": 26,
    "start_time": "2022-11-10T14:00:59.341Z"
   },
   {
    "duration": 34,
    "start_time": "2022-11-10T14:00:59.369Z"
   },
   {
    "duration": 19,
    "start_time": "2022-11-10T14:00:59.406Z"
   },
   {
    "duration": 19,
    "start_time": "2022-11-10T14:00:59.427Z"
   },
   {
    "duration": 29,
    "start_time": "2022-11-10T14:00:59.447Z"
   },
   {
    "duration": 48,
    "start_time": "2022-11-10T14:00:59.478Z"
   },
   {
    "duration": 8,
    "start_time": "2022-11-10T14:00:59.527Z"
   },
   {
    "duration": 15,
    "start_time": "2022-11-10T14:00:59.536Z"
   },
   {
    "duration": 22,
    "start_time": "2022-11-10T14:00:59.552Z"
   },
   {
    "duration": 27,
    "start_time": "2022-11-10T14:00:59.576Z"
   },
   {
    "duration": 19,
    "start_time": "2022-11-10T14:00:59.605Z"
   },
   {
    "duration": 11,
    "start_time": "2022-11-10T14:00:59.626Z"
   },
   {
    "duration": 33,
    "start_time": "2022-11-10T14:00:59.638Z"
   },
   {
    "duration": 24,
    "start_time": "2022-11-10T14:00:59.673Z"
   },
   {
    "duration": 26,
    "start_time": "2022-11-10T14:00:59.699Z"
   },
   {
    "duration": 35,
    "start_time": "2022-11-10T14:00:59.727Z"
   },
   {
    "duration": 16,
    "start_time": "2022-11-10T14:00:59.764Z"
   },
   {
    "duration": 25,
    "start_time": "2022-11-10T14:00:59.781Z"
   },
   {
    "duration": 31,
    "start_time": "2022-11-10T14:00:59.808Z"
   },
   {
    "duration": 27,
    "start_time": "2022-11-10T14:00:59.840Z"
   },
   {
    "duration": 21,
    "start_time": "2022-11-10T14:00:59.871Z"
   },
   {
    "duration": 22,
    "start_time": "2022-11-10T14:00:59.894Z"
   },
   {
    "duration": 15,
    "start_time": "2022-11-10T14:00:59.918Z"
   },
   {
    "duration": 18,
    "start_time": "2022-11-10T14:00:59.935Z"
   },
   {
    "duration": 11,
    "start_time": "2022-11-10T14:00:59.955Z"
   },
   {
    "duration": 60,
    "start_time": "2022-11-10T14:00:59.968Z"
   },
   {
    "duration": 14,
    "start_time": "2022-11-10T14:01:00.030Z"
   },
   {
    "duration": 48,
    "start_time": "2022-11-10T14:01:00.046Z"
   },
   {
    "duration": 22,
    "start_time": "2022-11-10T14:01:00.095Z"
   },
   {
    "duration": 54,
    "start_time": "2022-11-10T14:01:00.119Z"
   },
   {
    "duration": 137,
    "start_time": "2022-11-10T14:01:00.175Z"
   },
   {
    "duration": 0,
    "start_time": "2022-11-10T14:01:00.313Z"
   },
   {
    "duration": 0,
    "start_time": "2022-11-10T14:01:00.315Z"
   },
   {
    "duration": 4,
    "start_time": "2022-11-10T14:01:26.900Z"
   },
   {
    "duration": 197,
    "start_time": "2022-11-10T14:01:27.668Z"
   },
   {
    "duration": 3,
    "start_time": "2022-11-10T14:02:00.368Z"
   },
   {
    "duration": 197,
    "start_time": "2022-11-10T14:02:00.908Z"
   },
   {
    "duration": 786,
    "start_time": "2022-11-10T14:02:06.565Z"
   },
   {
    "duration": 52,
    "start_time": "2022-11-10T14:02:07.353Z"
   },
   {
    "duration": 2091,
    "start_time": "2022-11-10T14:02:07.406Z"
   },
   {
    "duration": 151,
    "start_time": "2022-11-10T14:02:09.500Z"
   },
   {
    "duration": 9,
    "start_time": "2022-11-10T14:02:09.652Z"
   },
   {
    "duration": 39,
    "start_time": "2022-11-10T14:02:09.663Z"
   },
   {
    "duration": 41,
    "start_time": "2022-11-10T14:02:09.704Z"
   },
   {
    "duration": 13,
    "start_time": "2022-11-10T14:02:09.747Z"
   },
   {
    "duration": 42,
    "start_time": "2022-11-10T14:02:09.762Z"
   },
   {
    "duration": 25,
    "start_time": "2022-11-10T14:02:09.807Z"
   },
   {
    "duration": 26,
    "start_time": "2022-11-10T14:02:09.833Z"
   },
   {
    "duration": 46,
    "start_time": "2022-11-10T14:02:09.861Z"
   },
   {
    "duration": 44,
    "start_time": "2022-11-10T14:02:09.909Z"
   },
   {
    "duration": 14,
    "start_time": "2022-11-10T14:02:09.955Z"
   },
   {
    "duration": 27,
    "start_time": "2022-11-10T14:02:09.970Z"
   },
   {
    "duration": 50,
    "start_time": "2022-11-10T14:02:09.999Z"
   },
   {
    "duration": 49,
    "start_time": "2022-11-10T14:02:10.050Z"
   },
   {
    "duration": 45,
    "start_time": "2022-11-10T14:02:10.100Z"
   },
   {
    "duration": 49,
    "start_time": "2022-11-10T14:02:10.146Z"
   },
   {
    "duration": 36,
    "start_time": "2022-11-10T14:02:10.197Z"
   },
   {
    "duration": 49,
    "start_time": "2022-11-10T14:02:10.235Z"
   },
   {
    "duration": 53,
    "start_time": "2022-11-10T14:02:10.285Z"
   },
   {
    "duration": 39,
    "start_time": "2022-11-10T14:02:10.340Z"
   },
   {
    "duration": 28,
    "start_time": "2022-11-10T14:02:10.384Z"
   },
   {
    "duration": 11,
    "start_time": "2022-11-10T14:02:10.414Z"
   },
   {
    "duration": 16,
    "start_time": "2022-11-10T14:02:10.426Z"
   },
   {
    "duration": 20,
    "start_time": "2022-11-10T14:02:10.443Z"
   },
   {
    "duration": 9,
    "start_time": "2022-11-10T14:02:10.465Z"
   },
   {
    "duration": 25,
    "start_time": "2022-11-10T14:02:10.476Z"
   },
   {
    "duration": 14,
    "start_time": "2022-11-10T14:02:10.503Z"
   },
   {
    "duration": 19,
    "start_time": "2022-11-10T14:02:10.519Z"
   },
   {
    "duration": 17,
    "start_time": "2022-11-10T14:02:10.540Z"
   },
   {
    "duration": 46,
    "start_time": "2022-11-10T14:02:10.559Z"
   },
   {
    "duration": 13,
    "start_time": "2022-11-10T14:02:10.607Z"
   },
   {
    "duration": 15,
    "start_time": "2022-11-10T14:02:10.621Z"
   },
   {
    "duration": 6,
    "start_time": "2022-11-10T14:02:10.638Z"
   },
   {
    "duration": 52,
    "start_time": "2022-11-10T14:02:10.646Z"
   },
   {
    "duration": 12,
    "start_time": "2022-11-10T14:02:10.699Z"
   },
   {
    "duration": 188,
    "start_time": "2022-11-10T14:02:10.712Z"
   },
   {
    "duration": 0,
    "start_time": "2022-11-10T14:02:10.901Z"
   },
   {
    "duration": 3,
    "start_time": "2022-11-10T14:03:04.574Z"
   },
   {
    "duration": 181,
    "start_time": "2022-11-10T14:03:05.023Z"
   },
   {
    "duration": 4,
    "start_time": "2022-11-10T14:03:59.676Z"
   },
   {
    "duration": 98,
    "start_time": "2022-11-10T14:04:00.109Z"
   },
   {
    "duration": 4,
    "start_time": "2022-11-10T14:05:02.893Z"
   },
   {
    "duration": 93,
    "start_time": "2022-11-10T14:05:03.280Z"
   },
   {
    "duration": 3,
    "start_time": "2022-11-10T14:05:25.823Z"
   },
   {
    "duration": 103,
    "start_time": "2022-11-10T14:05:26.228Z"
   },
   {
    "duration": 3,
    "start_time": "2022-11-10T14:06:15.209Z"
   },
   {
    "duration": 189,
    "start_time": "2022-11-10T14:06:15.574Z"
   },
   {
    "duration": 4,
    "start_time": "2022-11-10T14:06:39.995Z"
   },
   {
    "duration": 91,
    "start_time": "2022-11-10T14:06:40.448Z"
   },
   {
    "duration": 3,
    "start_time": "2022-11-10T14:08:11.463Z"
   },
   {
    "duration": 1012,
    "start_time": "2022-11-10T14:08:12.208Z"
   },
   {
    "duration": 3,
    "start_time": "2022-11-10T14:08:21.017Z"
   },
   {
    "duration": 87,
    "start_time": "2022-11-10T14:08:21.290Z"
   },
   {
    "duration": 3,
    "start_time": "2022-11-10T14:08:36.163Z"
   },
   {
    "duration": 172,
    "start_time": "2022-11-10T14:08:36.431Z"
   },
   {
    "duration": 5,
    "start_time": "2022-11-10T14:10:09.477Z"
   },
   {
    "duration": 961,
    "start_time": "2022-11-10T14:10:09.814Z"
   },
   {
    "duration": 8,
    "start_time": "2022-11-10T14:10:18.076Z"
   },
   {
    "duration": 103,
    "start_time": "2022-11-10T14:10:18.493Z"
   },
   {
    "duration": 41,
    "start_time": "2022-11-10T14:10:19.480Z"
   },
   {
    "duration": 3,
    "start_time": "2022-11-10T14:11:17.118Z"
   },
   {
    "duration": 108,
    "start_time": "2022-11-10T14:11:17.462Z"
   },
   {
    "duration": 4,
    "start_time": "2022-11-10T14:11:41.923Z"
   },
   {
    "duration": 185,
    "start_time": "2022-11-10T14:11:42.175Z"
   },
   {
    "duration": 3,
    "start_time": "2022-11-10T14:12:47.453Z"
   },
   {
    "duration": 1941,
    "start_time": "2022-11-10T14:12:47.759Z"
   },
   {
    "duration": 3,
    "start_time": "2022-11-10T14:12:55.755Z"
   },
   {
    "duration": 3,
    "start_time": "2022-11-10T14:12:59.495Z"
   },
   {
    "duration": 98,
    "start_time": "2022-11-10T14:12:59.894Z"
   },
   {
    "duration": 3,
    "start_time": "2022-11-10T14:13:55.792Z"
   },
   {
    "duration": 106,
    "start_time": "2022-11-10T14:13:56.163Z"
   },
   {
    "duration": 3,
    "start_time": "2022-11-10T14:14:19.220Z"
   },
   {
    "duration": 180,
    "start_time": "2022-11-10T14:14:19.551Z"
   },
   {
    "duration": 3,
    "start_time": "2022-11-10T14:15:44.845Z"
   },
   {
    "duration": 88,
    "start_time": "2022-11-10T14:15:45.177Z"
   },
   {
    "duration": 4,
    "start_time": "2022-11-10T14:16:51.821Z"
   },
   {
    "duration": 87,
    "start_time": "2022-11-10T14:16:52.190Z"
   },
   {
    "duration": 3,
    "start_time": "2022-11-10T15:05:23.204Z"
   },
   {
    "duration": 103,
    "start_time": "2022-11-10T15:05:23.657Z"
   },
   {
    "duration": 4,
    "start_time": "2022-11-10T15:05:31.240Z"
   },
   {
    "duration": 197,
    "start_time": "2022-11-10T15:05:31.737Z"
   },
   {
    "duration": 92,
    "start_time": "2022-11-10T15:05:34.211Z"
   },
   {
    "duration": 746,
    "start_time": "2022-11-10T15:06:43.195Z"
   },
   {
    "duration": 51,
    "start_time": "2022-11-10T15:06:43.943Z"
   },
   {
    "duration": 2057,
    "start_time": "2022-11-10T15:06:43.996Z"
   },
   {
    "duration": 149,
    "start_time": "2022-11-10T15:06:46.055Z"
   },
   {
    "duration": 9,
    "start_time": "2022-11-10T15:06:46.206Z"
   },
   {
    "duration": 12,
    "start_time": "2022-11-10T15:06:46.216Z"
   },
   {
    "duration": 9,
    "start_time": "2022-11-10T15:06:46.229Z"
   },
   {
    "duration": 7,
    "start_time": "2022-11-10T15:06:46.239Z"
   },
   {
    "duration": 13,
    "start_time": "2022-11-10T15:06:46.247Z"
   },
   {
    "duration": 31,
    "start_time": "2022-11-10T15:06:46.262Z"
   },
   {
    "duration": 10,
    "start_time": "2022-11-10T15:06:46.294Z"
   },
   {
    "duration": 17,
    "start_time": "2022-11-10T15:06:46.305Z"
   },
   {
    "duration": 27,
    "start_time": "2022-11-10T15:06:46.324Z"
   },
   {
    "duration": 8,
    "start_time": "2022-11-10T15:06:46.355Z"
   },
   {
    "duration": 14,
    "start_time": "2022-11-10T15:06:46.364Z"
   },
   {
    "duration": 38,
    "start_time": "2022-11-10T15:06:46.381Z"
   },
   {
    "duration": 18,
    "start_time": "2022-11-10T15:06:46.421Z"
   },
   {
    "duration": 15,
    "start_time": "2022-11-10T15:06:46.441Z"
   },
   {
    "duration": 13,
    "start_time": "2022-11-10T15:06:46.458Z"
   },
   {
    "duration": 38,
    "start_time": "2022-11-10T15:06:46.473Z"
   },
   {
    "duration": 17,
    "start_time": "2022-11-10T15:06:46.513Z"
   },
   {
    "duration": 27,
    "start_time": "2022-11-10T15:06:46.532Z"
   },
   {
    "duration": 43,
    "start_time": "2022-11-10T15:06:46.561Z"
   },
   {
    "duration": 12,
    "start_time": "2022-11-10T15:06:46.606Z"
   },
   {
    "duration": 14,
    "start_time": "2022-11-10T15:06:46.619Z"
   },
   {
    "duration": 12,
    "start_time": "2022-11-10T15:06:46.635Z"
   },
   {
    "duration": 24,
    "start_time": "2022-11-10T15:06:46.648Z"
   },
   {
    "duration": 29,
    "start_time": "2022-11-10T15:06:46.673Z"
   },
   {
    "duration": 12,
    "start_time": "2022-11-10T15:06:46.703Z"
   },
   {
    "duration": 7,
    "start_time": "2022-11-10T15:06:46.717Z"
   },
   {
    "duration": 20,
    "start_time": "2022-11-10T15:06:46.725Z"
   },
   {
    "duration": 13,
    "start_time": "2022-11-10T15:06:46.747Z"
   },
   {
    "duration": 52,
    "start_time": "2022-11-10T15:06:46.761Z"
   },
   {
    "duration": 8,
    "start_time": "2022-11-10T15:06:46.815Z"
   },
   {
    "duration": 16,
    "start_time": "2022-11-10T15:06:46.824Z"
   },
   {
    "duration": 13,
    "start_time": "2022-11-10T15:06:46.842Z"
   },
   {
    "duration": 40,
    "start_time": "2022-11-10T15:06:46.856Z"
   },
   {
    "duration": 3,
    "start_time": "2022-11-10T15:06:46.898Z"
   },
   {
    "duration": 188,
    "start_time": "2022-11-10T15:06:46.902Z"
   },
   {
    "duration": 0,
    "start_time": "2022-11-10T15:06:47.092Z"
   },
   {
    "duration": 3,
    "start_time": "2022-11-10T15:09:24.125Z"
   },
   {
    "duration": 176,
    "start_time": "2022-11-10T15:09:24.494Z"
   },
   {
    "duration": 3,
    "start_time": "2022-11-10T15:09:39.270Z"
   },
   {
    "duration": 221,
    "start_time": "2022-11-10T15:09:39.694Z"
   },
   {
    "duration": 31,
    "start_time": "2022-11-10T15:09:54.047Z"
   },
   {
    "duration": 3,
    "start_time": "2022-11-10T15:10:56.564Z"
   },
   {
    "duration": 97,
    "start_time": "2022-11-10T15:10:56.941Z"
   },
   {
    "duration": 3,
    "start_time": "2022-11-10T15:11:22.008Z"
   },
   {
    "duration": 109,
    "start_time": "2022-11-10T15:11:22.325Z"
   },
   {
    "duration": 49,
    "start_time": "2022-11-10T15:11:31.317Z"
   },
   {
    "duration": 175,
    "start_time": "2022-11-10T15:11:31.817Z"
   },
   {
    "duration": 3,
    "start_time": "2022-11-10T15:11:52.450Z"
   },
   {
    "duration": 92,
    "start_time": "2022-11-10T15:11:52.845Z"
   },
   {
    "duration": 3,
    "start_time": "2022-11-10T15:12:29.025Z"
   },
   {
    "duration": 2392,
    "start_time": "2022-11-10T15:12:29.172Z"
   },
   {
    "duration": 31,
    "start_time": "2022-11-10T15:12:31.924Z"
   },
   {
    "duration": 2705,
    "start_time": "2022-11-10T15:12:50.546Z"
   },
   {
    "duration": 2686,
    "start_time": "2022-11-10T15:12:56.706Z"
   },
   {
    "duration": 3,
    "start_time": "2022-11-10T15:13:39.345Z"
   },
   {
    "duration": 340,
    "start_time": "2022-11-10T15:13:40.050Z"
   },
   {
    "duration": 5,
    "start_time": "2022-11-10T15:22:30.220Z"
   },
   {
    "duration": 26,
    "start_time": "2022-11-10T15:22:39.491Z"
   },
   {
    "duration": 4,
    "start_time": "2022-11-10T15:23:54.201Z"
   },
   {
    "duration": 26,
    "start_time": "2022-11-10T15:23:54.745Z"
   },
   {
    "duration": 5,
    "start_time": "2022-11-10T15:25:07.963Z"
   },
   {
    "duration": 7,
    "start_time": "2022-11-10T15:25:18.653Z"
   },
   {
    "duration": 118,
    "start_time": "2022-11-10T15:25:21.743Z"
   },
   {
    "duration": 160,
    "start_time": "2022-11-10T15:25:48.815Z"
   },
   {
    "duration": 6,
    "start_time": "2022-11-10T15:26:23.998Z"
   },
   {
    "duration": 7,
    "start_time": "2022-11-10T15:26:32.107Z"
   },
   {
    "duration": 45,
    "start_time": "2022-11-10T15:27:01.589Z"
   },
   {
    "duration": 53,
    "start_time": "2022-11-10T15:27:13.274Z"
   },
   {
    "duration": 68,
    "start_time": "2022-11-10T15:27:27.424Z"
   },
   {
    "duration": 15,
    "start_time": "2022-11-10T15:29:02.202Z"
   },
   {
    "duration": 2774,
    "start_time": "2022-11-10T18:37:46.990Z"
   },
   {
    "duration": 47,
    "start_time": "2022-11-11T09:43:19.571Z"
   },
   {
    "duration": 942,
    "start_time": "2022-11-11T09:43:26.084Z"
   },
   {
    "duration": 39,
    "start_time": "2022-11-11T09:43:27.028Z"
   },
   {
    "duration": 1935,
    "start_time": "2022-11-11T09:43:27.068Z"
   },
   {
    "duration": 141,
    "start_time": "2022-11-11T09:43:29.005Z"
   },
   {
    "duration": 9,
    "start_time": "2022-11-11T09:43:29.148Z"
   },
   {
    "duration": 4,
    "start_time": "2022-11-11T09:43:29.159Z"
   },
   {
    "duration": 9,
    "start_time": "2022-11-11T09:43:29.165Z"
   },
   {
    "duration": 4,
    "start_time": "2022-11-11T09:43:29.175Z"
   },
   {
    "duration": 6,
    "start_time": "2022-11-11T09:43:29.181Z"
   },
   {
    "duration": 6,
    "start_time": "2022-11-11T09:43:29.189Z"
   },
   {
    "duration": 8,
    "start_time": "2022-11-11T09:43:29.197Z"
   },
   {
    "duration": 13,
    "start_time": "2022-11-11T09:43:29.206Z"
   },
   {
    "duration": 54,
    "start_time": "2022-11-11T09:43:29.220Z"
   },
   {
    "duration": 8,
    "start_time": "2022-11-11T09:43:29.275Z"
   },
   {
    "duration": 23,
    "start_time": "2022-11-11T09:43:29.284Z"
   },
   {
    "duration": 11,
    "start_time": "2022-11-11T09:43:29.309Z"
   },
   {
    "duration": 9,
    "start_time": "2022-11-11T09:43:29.321Z"
   },
   {
    "duration": 21,
    "start_time": "2022-11-11T09:43:29.332Z"
   },
   {
    "duration": 11,
    "start_time": "2022-11-11T09:43:29.355Z"
   },
   {
    "duration": 15,
    "start_time": "2022-11-11T09:43:29.368Z"
   },
   {
    "duration": 18,
    "start_time": "2022-11-11T09:43:29.384Z"
   },
   {
    "duration": 14,
    "start_time": "2022-11-11T09:43:29.404Z"
   },
   {
    "duration": 35,
    "start_time": "2022-11-11T09:43:29.420Z"
   },
   {
    "duration": 6,
    "start_time": "2022-11-11T09:43:29.457Z"
   },
   {
    "duration": 16,
    "start_time": "2022-11-11T09:43:29.465Z"
   },
   {
    "duration": 6,
    "start_time": "2022-11-11T09:43:29.483Z"
   },
   {
    "duration": 14,
    "start_time": "2022-11-11T09:43:29.491Z"
   },
   {
    "duration": 4,
    "start_time": "2022-11-11T09:43:29.508Z"
   },
   {
    "duration": 10,
    "start_time": "2022-11-11T09:43:29.513Z"
   },
   {
    "duration": 7,
    "start_time": "2022-11-11T09:43:29.525Z"
   },
   {
    "duration": 4,
    "start_time": "2022-11-11T09:43:29.552Z"
   },
   {
    "duration": 7,
    "start_time": "2022-11-11T09:43:29.558Z"
   },
   {
    "duration": 48,
    "start_time": "2022-11-11T09:43:29.566Z"
   },
   {
    "duration": 6,
    "start_time": "2022-11-11T09:43:29.616Z"
   },
   {
    "duration": 6,
    "start_time": "2022-11-11T09:43:29.623Z"
   },
   {
    "duration": 25,
    "start_time": "2022-11-11T09:43:29.630Z"
   },
   {
    "duration": 37,
    "start_time": "2022-11-11T09:43:29.656Z"
   },
   {
    "duration": 3,
    "start_time": "2022-11-11T09:43:29.694Z"
   },
   {
    "duration": 330,
    "start_time": "2022-11-11T09:43:29.699Z"
   },
   {
    "duration": 5,
    "start_time": "2022-11-11T09:43:30.031Z"
   },
   {
    "duration": 39,
    "start_time": "2022-11-11T09:43:30.038Z"
   },
   {
    "duration": 201,
    "start_time": "2022-11-11T09:43:30.079Z"
   },
   {
    "duration": 103,
    "start_time": "2022-11-11T09:43:42.028Z"
   },
   {
    "duration": 222,
    "start_time": "2022-11-11T09:46:26.669Z"
   },
   {
    "duration": 148,
    "start_time": "2022-11-11T09:46:58.595Z"
   },
   {
    "duration": 159,
    "start_time": "2022-11-11T09:48:10.415Z"
   },
   {
    "duration": 146,
    "start_time": "2022-11-11T09:49:29.065Z"
   },
   {
    "duration": 160,
    "start_time": "2022-11-11T09:49:37.892Z"
   },
   {
    "duration": 176,
    "start_time": "2022-11-11T09:57:54.695Z"
   },
   {
    "duration": 355,
    "start_time": "2022-11-11T10:01:12.080Z"
   },
   {
    "duration": 312,
    "start_time": "2022-11-11T10:01:16.865Z"
   },
   {
    "duration": 423,
    "start_time": "2022-11-11T10:01:20.225Z"
   },
   {
    "duration": 163,
    "start_time": "2022-11-11T10:02:00.076Z"
   },
   {
    "duration": 175,
    "start_time": "2022-11-11T10:02:40.087Z"
   },
   {
    "duration": 169,
    "start_time": "2022-11-11T10:02:44.652Z"
   },
   {
    "duration": 15,
    "start_time": "2022-11-11T10:20:08.708Z"
   },
   {
    "duration": 215,
    "start_time": "2022-11-11T10:20:32.546Z"
   },
   {
    "duration": 165,
    "start_time": "2022-11-11T10:20:43.267Z"
   },
   {
    "duration": 148,
    "start_time": "2022-11-11T10:21:18.577Z"
   },
   {
    "duration": 139,
    "start_time": "2022-11-11T10:21:38.921Z"
   },
   {
    "duration": 1117,
    "start_time": "2022-11-11T10:22:03.402Z"
   },
   {
    "duration": 6,
    "start_time": "2022-11-11T10:22:07.013Z"
   },
   {
    "duration": 287,
    "start_time": "2022-11-11T10:23:43.053Z"
   },
   {
    "duration": 279,
    "start_time": "2022-11-11T10:23:46.885Z"
   },
   {
    "duration": 316,
    "start_time": "2022-11-11T10:23:50.099Z"
   },
   {
    "duration": 152,
    "start_time": "2022-11-11T10:24:01.831Z"
   },
   {
    "duration": 5,
    "start_time": "2022-11-11T10:24:53.289Z"
   },
   {
    "duration": 139,
    "start_time": "2022-11-11T13:09:42.070Z"
   },
   {
    "duration": 144,
    "start_time": "2022-11-11T13:12:00.093Z"
   },
   {
    "duration": 219,
    "start_time": "2022-11-11T13:12:06.838Z"
   },
   {
    "duration": 199,
    "start_time": "2022-11-11T13:12:12.438Z"
   },
   {
    "duration": 187,
    "start_time": "2022-11-11T13:12:42.766Z"
   },
   {
    "duration": 154,
    "start_time": "2022-11-11T13:12:53.346Z"
   },
   {
    "duration": 150,
    "start_time": "2022-11-11T13:18:44.692Z"
   },
   {
    "duration": 148,
    "start_time": "2022-11-11T13:19:13.123Z"
   },
   {
    "duration": 148,
    "start_time": "2022-11-11T13:19:28.196Z"
   },
   {
    "duration": 177,
    "start_time": "2022-11-11T13:19:42.605Z"
   },
   {
    "duration": 154,
    "start_time": "2022-11-11T13:19:45.877Z"
   },
   {
    "duration": 147,
    "start_time": "2022-11-11T13:20:34.246Z"
   },
   {
    "duration": 141,
    "start_time": "2022-11-11T13:21:14.083Z"
   },
   {
    "duration": 220,
    "start_time": "2022-11-11T13:22:57.256Z"
   },
   {
    "duration": 120,
    "start_time": "2022-11-11T13:23:06.355Z"
   },
   {
    "duration": 93,
    "start_time": "2022-11-11T13:29:44.066Z"
   },
   {
    "duration": 147,
    "start_time": "2022-11-11T13:29:50.601Z"
   },
   {
    "duration": 149,
    "start_time": "2022-11-11T13:29:57.643Z"
   },
   {
    "duration": 143,
    "start_time": "2022-11-11T13:30:21.434Z"
   },
   {
    "duration": 119,
    "start_time": "2022-11-11T13:30:42.606Z"
   },
   {
    "duration": 131,
    "start_time": "2022-11-11T13:30:45.100Z"
   },
   {
    "duration": 14,
    "start_time": "2022-11-11T13:31:49.839Z"
   },
   {
    "duration": 126,
    "start_time": "2022-11-11T13:32:41.779Z"
   },
   {
    "duration": 153,
    "start_time": "2022-11-11T13:37:53.727Z"
   },
   {
    "duration": 154,
    "start_time": "2022-11-11T13:38:49.748Z"
   },
   {
    "duration": 148,
    "start_time": "2022-11-11T13:40:35.171Z"
   },
   {
    "duration": 235,
    "start_time": "2022-11-11T13:41:10.223Z"
   },
   {
    "duration": 141,
    "start_time": "2022-11-11T16:38:04.636Z"
   },
   {
    "duration": 127,
    "start_time": "2022-11-11T16:39:12.693Z"
   },
   {
    "duration": 126,
    "start_time": "2022-11-11T16:39:17.625Z"
   },
   {
    "duration": 14,
    "start_time": "2022-11-11T16:40:01.022Z"
   },
   {
    "duration": 74,
    "start_time": "2022-11-11T16:40:24.790Z"
   },
   {
    "duration": 155,
    "start_time": "2022-11-11T16:40:35.206Z"
   },
   {
    "duration": 125,
    "start_time": "2022-11-11T16:40:39.787Z"
   },
   {
    "duration": 124,
    "start_time": "2022-11-11T16:43:36.760Z"
   },
   {
    "duration": 149,
    "start_time": "2022-11-11T16:54:54.884Z"
   },
   {
    "duration": 171,
    "start_time": "2022-11-11T16:55:56.100Z"
   },
   {
    "duration": 5,
    "start_time": "2022-11-11T16:56:23.137Z"
   },
   {
    "duration": 9,
    "start_time": "2022-11-11T16:57:43.359Z"
   },
   {
    "duration": 48,
    "start_time": "2022-11-12T11:08:34.381Z"
   },
   {
    "duration": 1467,
    "start_time": "2022-11-12T11:08:41.087Z"
   },
   {
    "duration": 41,
    "start_time": "2022-11-12T11:08:42.556Z"
   },
   {
    "duration": 2028,
    "start_time": "2022-11-12T11:08:42.599Z"
   },
   {
    "duration": 157,
    "start_time": "2022-11-12T11:08:44.629Z"
   },
   {
    "duration": 12,
    "start_time": "2022-11-12T11:08:44.787Z"
   },
   {
    "duration": 4,
    "start_time": "2022-11-12T11:08:44.801Z"
   },
   {
    "duration": 35,
    "start_time": "2022-11-12T11:08:44.807Z"
   },
   {
    "duration": 4,
    "start_time": "2022-11-12T11:08:44.846Z"
   },
   {
    "duration": 7,
    "start_time": "2022-11-12T11:08:44.852Z"
   },
   {
    "duration": 5,
    "start_time": "2022-11-12T11:08:44.862Z"
   },
   {
    "duration": 9,
    "start_time": "2022-11-12T11:08:44.869Z"
   },
   {
    "duration": 18,
    "start_time": "2022-11-12T11:08:44.881Z"
   },
   {
    "duration": 8,
    "start_time": "2022-11-12T11:08:44.901Z"
   },
   {
    "duration": 51,
    "start_time": "2022-11-12T11:08:44.911Z"
   },
   {
    "duration": 10,
    "start_time": "2022-11-12T11:08:44.965Z"
   },
   {
    "duration": 45,
    "start_time": "2022-11-12T11:08:44.977Z"
   },
   {
    "duration": 33,
    "start_time": "2022-11-12T11:08:45.024Z"
   },
   {
    "duration": 17,
    "start_time": "2022-11-12T11:08:45.059Z"
   },
   {
    "duration": 21,
    "start_time": "2022-11-12T11:08:45.078Z"
   },
   {
    "duration": 9,
    "start_time": "2022-11-12T11:08:45.101Z"
   },
   {
    "duration": 20,
    "start_time": "2022-11-12T11:08:45.112Z"
   },
   {
    "duration": 47,
    "start_time": "2022-11-12T11:08:45.134Z"
   },
   {
    "duration": 16,
    "start_time": "2022-11-12T11:08:45.183Z"
   },
   {
    "duration": 19,
    "start_time": "2022-11-12T11:08:45.201Z"
   },
   {
    "duration": 7,
    "start_time": "2022-11-12T11:08:45.223Z"
   },
   {
    "duration": 15,
    "start_time": "2022-11-12T11:08:45.231Z"
   },
   {
    "duration": 23,
    "start_time": "2022-11-12T11:08:45.251Z"
   },
   {
    "duration": 31,
    "start_time": "2022-11-12T11:08:45.278Z"
   },
   {
    "duration": 5,
    "start_time": "2022-11-12T11:08:45.311Z"
   },
   {
    "duration": 9,
    "start_time": "2022-11-12T11:08:45.317Z"
   },
   {
    "duration": 23,
    "start_time": "2022-11-12T11:08:45.328Z"
   },
   {
    "duration": 5,
    "start_time": "2022-11-12T11:08:45.353Z"
   },
   {
    "duration": 9,
    "start_time": "2022-11-12T11:08:45.359Z"
   },
   {
    "duration": 44,
    "start_time": "2022-11-12T11:08:45.369Z"
   },
   {
    "duration": 5,
    "start_time": "2022-11-12T11:08:45.415Z"
   },
   {
    "duration": 26,
    "start_time": "2022-11-12T11:08:45.421Z"
   },
   {
    "duration": 7,
    "start_time": "2022-11-12T11:08:45.449Z"
   },
   {
    "duration": 33,
    "start_time": "2022-11-12T11:08:45.457Z"
   },
   {
    "duration": 3,
    "start_time": "2022-11-12T11:08:45.492Z"
   },
   {
    "duration": 372,
    "start_time": "2022-11-12T11:08:45.497Z"
   },
   {
    "duration": 6,
    "start_time": "2022-11-12T11:08:45.871Z"
   },
   {
    "duration": 33,
    "start_time": "2022-11-12T11:08:45.879Z"
   },
   {
    "duration": 35,
    "start_time": "2022-11-12T11:08:45.913Z"
   },
   {
    "duration": 192,
    "start_time": "2022-11-12T11:08:45.950Z"
   },
   {
    "duration": 246,
    "start_time": "2022-11-12T11:08:46.144Z"
   },
   {
    "duration": 161,
    "start_time": "2022-11-12T11:08:46.391Z"
   },
   {
    "duration": 154,
    "start_time": "2022-11-12T11:08:46.554Z"
   },
   {
    "duration": 170,
    "start_time": "2022-11-12T11:08:46.710Z"
   },
   {
    "duration": 177,
    "start_time": "2022-11-12T11:08:46.882Z"
   },
   {
    "duration": 136,
    "start_time": "2022-11-12T11:08:47.061Z"
   },
   {
    "duration": 155,
    "start_time": "2022-11-12T11:08:47.199Z"
   },
   {
    "duration": 137,
    "start_time": "2022-11-12T11:08:47.356Z"
   },
   {
    "duration": 169,
    "start_time": "2022-11-12T11:08:47.495Z"
   },
   {
    "duration": 148,
    "start_time": "2022-11-12T11:08:47.666Z"
   },
   {
    "duration": 150,
    "start_time": "2022-11-12T11:08:47.816Z"
   },
   {
    "duration": 217,
    "start_time": "2022-11-12T11:08:47.968Z"
   },
   {
    "duration": 161,
    "start_time": "2022-11-12T11:08:48.187Z"
   },
   {
    "duration": 41,
    "start_time": "2022-11-12T11:08:48.350Z"
   },
   {
    "duration": 0,
    "start_time": "2022-11-12T11:08:48.393Z"
   },
   {
    "duration": 75,
    "start_time": "2022-11-12T11:09:26.477Z"
   },
   {
    "duration": 13,
    "start_time": "2022-11-12T11:09:32.342Z"
   },
   {
    "duration": 4,
    "start_time": "2022-11-12T11:09:39.275Z"
   },
   {
    "duration": 11,
    "start_time": "2022-11-12T11:09:52.810Z"
   },
   {
    "duration": 49,
    "start_time": "2022-11-12T11:10:13.559Z"
   },
   {
    "duration": 171,
    "start_time": "2022-11-12T11:10:21.800Z"
   },
   {
    "duration": 202,
    "start_time": "2022-11-12T11:10:39.400Z"
   },
   {
    "duration": 207,
    "start_time": "2022-11-12T11:11:34.320Z"
   },
   {
    "duration": 176,
    "start_time": "2022-11-12T11:11:39.050Z"
   },
   {
    "duration": 46,
    "start_time": "2022-11-12T11:12:52.416Z"
   },
   {
    "duration": 38,
    "start_time": "2022-11-12T11:14:00.186Z"
   },
   {
    "duration": 25,
    "start_time": "2022-11-12T11:14:34.166Z"
   },
   {
    "duration": 34,
    "start_time": "2022-11-12T11:14:41.775Z"
   },
   {
    "duration": 36,
    "start_time": "2022-11-12T11:15:01.590Z"
   },
   {
    "duration": 35,
    "start_time": "2022-11-12T11:15:07.251Z"
   },
   {
    "duration": 168,
    "start_time": "2022-11-12T11:18:58.243Z"
   },
   {
    "duration": 48,
    "start_time": "2022-11-12T11:19:41.641Z"
   },
   {
    "duration": 137,
    "start_time": "2022-11-12T11:19:46.178Z"
   },
   {
    "duration": 198,
    "start_time": "2022-11-12T11:19:59.446Z"
   },
   {
    "duration": 181,
    "start_time": "2022-11-12T11:22:08.597Z"
   },
   {
    "duration": 199,
    "start_time": "2022-11-12T11:23:23.831Z"
   },
   {
    "duration": 243,
    "start_time": "2022-11-12T11:24:07.624Z"
   },
   {
    "duration": 197,
    "start_time": "2022-11-12T11:30:31.835Z"
   },
   {
    "duration": 542,
    "start_time": "2022-11-12T11:32:03.266Z"
   },
   {
    "duration": 15,
    "start_time": "2022-11-12T11:32:21.421Z"
   },
   {
    "duration": 423,
    "start_time": "2022-11-12T11:32:39.520Z"
   },
   {
    "duration": 11,
    "start_time": "2022-11-12T11:34:30.181Z"
   },
   {
    "duration": 16,
    "start_time": "2022-11-12T11:34:37.871Z"
   },
   {
    "duration": 11,
    "start_time": "2022-11-12T11:36:32.182Z"
   },
   {
    "duration": 10,
    "start_time": "2022-11-12T11:36:56.862Z"
   },
   {
    "duration": 9,
    "start_time": "2022-11-12T11:37:01.766Z"
   },
   {
    "duration": 5,
    "start_time": "2022-11-12T11:37:23.560Z"
   },
   {
    "duration": 15,
    "start_time": "2022-11-12T11:47:53.420Z"
   },
   {
    "duration": 11,
    "start_time": "2022-11-12T11:48:09.143Z"
   },
   {
    "duration": 176,
    "start_time": "2022-11-12T11:48:18.051Z"
   },
   {
    "duration": 175,
    "start_time": "2022-11-12T11:48:23.978Z"
   },
   {
    "duration": 822,
    "start_time": "2022-11-12T11:48:41.211Z"
   },
   {
    "duration": 59,
    "start_time": "2022-11-12T11:48:42.039Z"
   },
   {
    "duration": 2273,
    "start_time": "2022-11-12T11:48:42.101Z"
   },
   {
    "duration": 149,
    "start_time": "2022-11-12T11:48:44.378Z"
   },
   {
    "duration": 33,
    "start_time": "2022-11-12T11:48:44.529Z"
   },
   {
    "duration": 6,
    "start_time": "2022-11-12T11:48:44.563Z"
   },
   {
    "duration": 17,
    "start_time": "2022-11-12T11:48:44.571Z"
   },
   {
    "duration": 22,
    "start_time": "2022-11-12T11:48:44.589Z"
   },
   {
    "duration": 11,
    "start_time": "2022-11-12T11:48:44.613Z"
   },
   {
    "duration": 22,
    "start_time": "2022-11-12T11:48:44.627Z"
   },
   {
    "duration": 13,
    "start_time": "2022-11-12T11:48:44.651Z"
   },
   {
    "duration": 13,
    "start_time": "2022-11-12T11:48:44.666Z"
   },
   {
    "duration": 7,
    "start_time": "2022-11-12T11:48:44.681Z"
   },
   {
    "duration": 5,
    "start_time": "2022-11-12T11:48:44.690Z"
   },
   {
    "duration": 30,
    "start_time": "2022-11-12T11:48:44.696Z"
   },
   {
    "duration": 11,
    "start_time": "2022-11-12T11:48:44.728Z"
   },
   {
    "duration": 25,
    "start_time": "2022-11-12T11:48:44.740Z"
   },
   {
    "duration": 25,
    "start_time": "2022-11-12T11:48:44.766Z"
   },
   {
    "duration": 15,
    "start_time": "2022-11-12T11:48:44.795Z"
   },
   {
    "duration": 20,
    "start_time": "2022-11-12T11:48:44.812Z"
   },
   {
    "duration": 28,
    "start_time": "2022-11-12T11:48:44.834Z"
   },
   {
    "duration": 25,
    "start_time": "2022-11-12T11:48:44.864Z"
   },
   {
    "duration": 22,
    "start_time": "2022-11-12T11:48:44.895Z"
   },
   {
    "duration": 58,
    "start_time": "2022-11-12T11:48:44.921Z"
   },
   {
    "duration": 58,
    "start_time": "2022-11-12T11:48:44.981Z"
   },
   {
    "duration": 31,
    "start_time": "2022-11-12T11:48:45.041Z"
   },
   {
    "duration": 13,
    "start_time": "2022-11-12T11:48:45.074Z"
   },
   {
    "duration": 11,
    "start_time": "2022-11-12T11:48:45.093Z"
   },
   {
    "duration": 66,
    "start_time": "2022-11-12T11:48:45.107Z"
   },
   {
    "duration": 20,
    "start_time": "2022-11-12T11:48:45.176Z"
   },
   {
    "duration": 20,
    "start_time": "2022-11-12T11:48:45.198Z"
   },
   {
    "duration": 38,
    "start_time": "2022-11-12T11:48:45.220Z"
   },
   {
    "duration": 20,
    "start_time": "2022-11-12T11:48:45.260Z"
   },
   {
    "duration": 17,
    "start_time": "2022-11-12T11:48:45.282Z"
   },
   {
    "duration": 70,
    "start_time": "2022-11-12T11:48:45.301Z"
   },
   {
    "duration": 6,
    "start_time": "2022-11-12T11:48:45.373Z"
   },
   {
    "duration": 6,
    "start_time": "2022-11-12T11:48:45.380Z"
   },
   {
    "duration": 7,
    "start_time": "2022-11-12T11:48:45.388Z"
   },
   {
    "duration": 69,
    "start_time": "2022-11-12T11:48:45.396Z"
   },
   {
    "duration": 3,
    "start_time": "2022-11-12T11:48:45.467Z"
   },
   {
    "duration": 354,
    "start_time": "2022-11-12T11:48:45.472Z"
   },
   {
    "duration": 15,
    "start_time": "2022-11-12T11:48:45.827Z"
   },
   {
    "duration": 50,
    "start_time": "2022-11-12T11:48:45.844Z"
   },
   {
    "duration": 19,
    "start_time": "2022-11-12T11:48:45.896Z"
   },
   {
    "duration": 179,
    "start_time": "2022-11-12T11:48:45.916Z"
   },
   {
    "duration": 293,
    "start_time": "2022-11-12T11:48:46.097Z"
   },
   {
    "duration": 198,
    "start_time": "2022-11-12T11:48:46.392Z"
   },
   {
    "duration": 170,
    "start_time": "2022-11-12T11:48:46.591Z"
   },
   {
    "duration": 169,
    "start_time": "2022-11-12T11:48:46.763Z"
   },
   {
    "duration": 177,
    "start_time": "2022-11-12T11:48:46.938Z"
   },
   {
    "duration": 140,
    "start_time": "2022-11-12T11:48:47.117Z"
   },
   {
    "duration": 164,
    "start_time": "2022-11-12T11:48:47.259Z"
   },
   {
    "duration": 148,
    "start_time": "2022-11-12T11:48:47.429Z"
   },
   {
    "duration": 174,
    "start_time": "2022-11-12T11:48:47.578Z"
   },
   {
    "duration": 159,
    "start_time": "2022-11-12T11:48:47.754Z"
   },
   {
    "duration": 187,
    "start_time": "2022-11-12T11:48:47.915Z"
   },
   {
    "duration": 304,
    "start_time": "2022-11-12T11:48:48.104Z"
   },
   {
    "duration": 175,
    "start_time": "2022-11-12T11:48:48.410Z"
   },
   {
    "duration": 221,
    "start_time": "2022-11-12T11:48:48.587Z"
   },
   {
    "duration": 239,
    "start_time": "2022-11-12T11:48:48.810Z"
   },
   {
    "duration": 242,
    "start_time": "2022-11-12T11:48:49.056Z"
   },
   {
    "duration": 197,
    "start_time": "2022-11-12T11:48:49.300Z"
   },
   {
    "duration": 257,
    "start_time": "2022-11-12T11:48:49.499Z"
   },
   {
    "duration": 25,
    "start_time": "2022-11-12T11:48:49.758Z"
   },
   {
    "duration": 982,
    "start_time": "2022-11-12T11:48:49.784Z"
   },
   {
    "duration": 225,
    "start_time": "2022-11-12T11:50:09.214Z"
   },
   {
    "duration": 271,
    "start_time": "2022-11-12T11:50:31.269Z"
   },
   {
    "duration": 184,
    "start_time": "2022-11-12T11:50:45.822Z"
   },
   {
    "duration": 173,
    "start_time": "2022-11-12T11:53:03.227Z"
   },
   {
    "duration": 262,
    "start_time": "2022-11-12T11:53:49.146Z"
   },
   {
    "duration": 158,
    "start_time": "2022-11-12T11:54:00.145Z"
   },
   {
    "duration": 770,
    "start_time": "2022-11-12T11:54:20.283Z"
   },
   {
    "duration": 58,
    "start_time": "2022-11-12T11:54:21.056Z"
   },
   {
    "duration": 2023,
    "start_time": "2022-11-12T11:54:21.116Z"
   },
   {
    "duration": 173,
    "start_time": "2022-11-12T11:54:23.140Z"
   },
   {
    "duration": 20,
    "start_time": "2022-11-12T11:54:23.316Z"
   },
   {
    "duration": 3,
    "start_time": "2022-11-12T11:54:23.339Z"
   },
   {
    "duration": 11,
    "start_time": "2022-11-12T11:54:23.344Z"
   },
   {
    "duration": 10,
    "start_time": "2022-11-12T11:54:23.356Z"
   },
   {
    "duration": 15,
    "start_time": "2022-11-12T11:54:23.367Z"
   },
   {
    "duration": 11,
    "start_time": "2022-11-12T11:54:23.384Z"
   },
   {
    "duration": 13,
    "start_time": "2022-11-12T11:54:23.398Z"
   },
   {
    "duration": 24,
    "start_time": "2022-11-12T11:54:23.413Z"
   },
   {
    "duration": 7,
    "start_time": "2022-11-12T11:54:23.438Z"
   },
   {
    "duration": 5,
    "start_time": "2022-11-12T11:54:23.449Z"
   },
   {
    "duration": 43,
    "start_time": "2022-11-12T11:54:23.455Z"
   },
   {
    "duration": 33,
    "start_time": "2022-11-12T11:54:23.501Z"
   },
   {
    "duration": 11,
    "start_time": "2022-11-12T11:54:23.536Z"
   },
   {
    "duration": 12,
    "start_time": "2022-11-12T11:54:23.549Z"
   },
   {
    "duration": 16,
    "start_time": "2022-11-12T11:54:23.563Z"
   },
   {
    "duration": 11,
    "start_time": "2022-11-12T11:54:23.581Z"
   },
   {
    "duration": 10,
    "start_time": "2022-11-12T11:54:23.593Z"
   },
   {
    "duration": 39,
    "start_time": "2022-11-12T11:54:23.605Z"
   },
   {
    "duration": 18,
    "start_time": "2022-11-12T11:54:23.645Z"
   },
   {
    "duration": 27,
    "start_time": "2022-11-12T11:54:23.665Z"
   },
   {
    "duration": 36,
    "start_time": "2022-11-12T11:54:23.694Z"
   },
   {
    "duration": 14,
    "start_time": "2022-11-12T11:54:23.731Z"
   },
   {
    "duration": 11,
    "start_time": "2022-11-12T11:54:23.746Z"
   },
   {
    "duration": 9,
    "start_time": "2022-11-12T11:54:23.759Z"
   },
   {
    "duration": 26,
    "start_time": "2022-11-12T11:54:23.770Z"
   },
   {
    "duration": 6,
    "start_time": "2022-11-12T11:54:23.798Z"
   },
   {
    "duration": 14,
    "start_time": "2022-11-12T11:54:23.806Z"
   },
   {
    "duration": 10,
    "start_time": "2022-11-12T11:54:23.829Z"
   },
   {
    "duration": 26,
    "start_time": "2022-11-12T11:54:23.841Z"
   },
   {
    "duration": 18,
    "start_time": "2022-11-12T11:54:23.869Z"
   },
   {
    "duration": 45,
    "start_time": "2022-11-12T11:54:23.892Z"
   },
   {
    "duration": 10,
    "start_time": "2022-11-12T11:54:23.938Z"
   },
   {
    "duration": 5,
    "start_time": "2022-11-12T11:54:23.950Z"
   },
   {
    "duration": 7,
    "start_time": "2022-11-12T11:54:23.957Z"
   },
   {
    "duration": 39,
    "start_time": "2022-11-12T11:54:23.965Z"
   },
   {
    "duration": 3,
    "start_time": "2022-11-12T11:54:24.006Z"
   },
   {
    "duration": 321,
    "start_time": "2022-11-12T11:54:24.029Z"
   },
   {
    "duration": 5,
    "start_time": "2022-11-12T11:54:24.352Z"
   },
   {
    "duration": 28,
    "start_time": "2022-11-12T11:54:24.358Z"
   },
   {
    "duration": 15,
    "start_time": "2022-11-12T11:54:24.388Z"
   },
   {
    "duration": 186,
    "start_time": "2022-11-12T11:54:24.404Z"
   },
   {
    "duration": 164,
    "start_time": "2022-11-12T11:54:24.592Z"
   },
   {
    "duration": 367,
    "start_time": "2022-11-12T11:54:24.757Z"
   },
   {
    "duration": 159,
    "start_time": "2022-11-12T11:54:25.129Z"
   },
   {
    "duration": 226,
    "start_time": "2022-11-12T11:54:25.290Z"
   },
   {
    "duration": 183,
    "start_time": "2022-11-12T11:54:25.518Z"
   },
   {
    "duration": 174,
    "start_time": "2022-11-12T11:54:25.703Z"
   },
   {
    "duration": 180,
    "start_time": "2022-11-12T11:54:25.878Z"
   },
   {
    "duration": 193,
    "start_time": "2022-11-12T11:54:26.060Z"
   },
   {
    "duration": 208,
    "start_time": "2022-11-12T11:54:26.255Z"
   },
   {
    "duration": 169,
    "start_time": "2022-11-12T11:54:26.465Z"
   },
   {
    "duration": 172,
    "start_time": "2022-11-12T11:54:26.636Z"
   },
   {
    "duration": 181,
    "start_time": "2022-11-12T11:54:26.810Z"
   },
   {
    "duration": 248,
    "start_time": "2022-11-12T11:54:26.992Z"
   },
   {
    "duration": 142,
    "start_time": "2022-11-12T11:54:27.242Z"
   },
   {
    "duration": 195,
    "start_time": "2022-11-12T11:54:27.385Z"
   },
   {
    "duration": 197,
    "start_time": "2022-11-12T11:54:27.582Z"
   },
   {
    "duration": 199,
    "start_time": "2022-11-12T11:54:27.781Z"
   },
   {
    "duration": 196,
    "start_time": "2022-11-12T11:54:27.982Z"
   },
   {
    "duration": 196,
    "start_time": "2022-11-12T11:54:28.180Z"
   },
   {
    "duration": 14,
    "start_time": "2022-11-12T11:54:28.378Z"
   },
   {
    "duration": 808,
    "start_time": "2022-11-12T11:54:28.394Z"
   },
   {
    "duration": 468,
    "start_time": "2022-11-12T11:56:14.018Z"
   },
   {
    "duration": 408,
    "start_time": "2022-11-12T11:57:18.340Z"
   },
   {
    "duration": 8,
    "start_time": "2022-11-12T12:01:25.232Z"
   },
   {
    "duration": 335,
    "start_time": "2022-11-12T12:01:41.495Z"
   },
   {
    "duration": 9,
    "start_time": "2022-11-12T12:08:35.311Z"
   },
   {
    "duration": 9,
    "start_time": "2022-11-12T12:08:43.285Z"
   },
   {
    "duration": 358,
    "start_time": "2022-11-12T12:08:50.765Z"
   },
   {
    "duration": 425,
    "start_time": "2022-11-12T12:11:20.563Z"
   },
   {
    "duration": 28,
    "start_time": "2022-11-12T12:11:27.029Z"
   },
   {
    "duration": 120,
    "start_time": "2022-11-12T12:12:57.668Z"
   },
   {
    "duration": 33,
    "start_time": "2022-11-12T12:13:52.993Z"
   },
   {
    "duration": 33,
    "start_time": "2022-11-12T12:14:09.869Z"
   },
   {
    "duration": 27,
    "start_time": "2022-11-12T12:14:18.575Z"
   },
   {
    "duration": 21,
    "start_time": "2022-11-12T12:14:22.034Z"
   },
   {
    "duration": 25,
    "start_time": "2022-11-12T12:14:53.434Z"
   },
   {
    "duration": 144,
    "start_time": "2022-11-12T12:15:04.079Z"
   },
   {
    "duration": 777,
    "start_time": "2022-11-12T12:15:18.838Z"
   },
   {
    "duration": 41,
    "start_time": "2022-11-12T12:15:19.617Z"
   },
   {
    "duration": 1927,
    "start_time": "2022-11-12T12:15:19.659Z"
   },
   {
    "duration": 143,
    "start_time": "2022-11-12T12:15:21.588Z"
   },
   {
    "duration": 13,
    "start_time": "2022-11-12T12:15:21.734Z"
   },
   {
    "duration": 5,
    "start_time": "2022-11-12T12:15:21.748Z"
   },
   {
    "duration": 7,
    "start_time": "2022-11-12T12:15:21.754Z"
   },
   {
    "duration": 3,
    "start_time": "2022-11-12T12:15:21.763Z"
   },
   {
    "duration": 8,
    "start_time": "2022-11-12T12:15:21.768Z"
   },
   {
    "duration": 6,
    "start_time": "2022-11-12T12:15:21.778Z"
   },
   {
    "duration": 3,
    "start_time": "2022-11-12T12:15:21.786Z"
   },
   {
    "duration": 44,
    "start_time": "2022-11-12T12:15:21.791Z"
   },
   {
    "duration": 9,
    "start_time": "2022-11-12T12:15:21.839Z"
   },
   {
    "duration": 10,
    "start_time": "2022-11-12T12:15:21.854Z"
   },
   {
    "duration": 33,
    "start_time": "2022-11-12T12:15:21.865Z"
   },
   {
    "duration": 7,
    "start_time": "2022-11-12T12:15:21.900Z"
   },
   {
    "duration": 13,
    "start_time": "2022-11-12T12:15:21.909Z"
   },
   {
    "duration": 12,
    "start_time": "2022-11-12T12:15:21.923Z"
   },
   {
    "duration": 22,
    "start_time": "2022-11-12T12:15:21.936Z"
   },
   {
    "duration": 15,
    "start_time": "2022-11-12T12:15:21.959Z"
   },
   {
    "duration": 8,
    "start_time": "2022-11-12T12:15:21.975Z"
   },
   {
    "duration": 15,
    "start_time": "2022-11-12T12:15:21.985Z"
   },
   {
    "duration": 13,
    "start_time": "2022-11-12T12:15:22.002Z"
   },
   {
    "duration": 34,
    "start_time": "2022-11-12T12:15:22.017Z"
   },
   {
    "duration": 26,
    "start_time": "2022-11-12T12:15:22.053Z"
   },
   {
    "duration": 9,
    "start_time": "2022-11-12T12:15:22.081Z"
   },
   {
    "duration": 26,
    "start_time": "2022-11-12T12:15:22.092Z"
   },
   {
    "duration": 17,
    "start_time": "2022-11-12T12:15:22.119Z"
   },
   {
    "duration": 18,
    "start_time": "2022-11-12T12:15:22.138Z"
   },
   {
    "duration": 4,
    "start_time": "2022-11-12T12:15:22.158Z"
   },
   {
    "duration": 12,
    "start_time": "2022-11-12T12:15:22.164Z"
   },
   {
    "duration": 8,
    "start_time": "2022-11-12T12:15:22.178Z"
   },
   {
    "duration": 12,
    "start_time": "2022-11-12T12:15:22.188Z"
   },
   {
    "duration": 15,
    "start_time": "2022-11-12T12:15:22.203Z"
   },
   {
    "duration": 56,
    "start_time": "2022-11-12T12:15:22.220Z"
   },
   {
    "duration": 5,
    "start_time": "2022-11-12T12:15:22.278Z"
   },
   {
    "duration": 6,
    "start_time": "2022-11-12T12:15:22.284Z"
   },
   {
    "duration": 12,
    "start_time": "2022-11-12T12:15:22.291Z"
   },
   {
    "duration": 57,
    "start_time": "2022-11-12T12:15:22.305Z"
   },
   {
    "duration": 3,
    "start_time": "2022-11-12T12:15:22.364Z"
   },
   {
    "duration": 356,
    "start_time": "2022-11-12T12:15:22.370Z"
   },
   {
    "duration": 12,
    "start_time": "2022-11-12T12:15:22.729Z"
   },
   {
    "duration": 32,
    "start_time": "2022-11-12T12:15:22.742Z"
   },
   {
    "duration": 14,
    "start_time": "2022-11-12T12:15:22.775Z"
   },
   {
    "duration": 196,
    "start_time": "2022-11-12T12:15:22.790Z"
   },
   {
    "duration": 183,
    "start_time": "2022-11-12T12:15:22.987Z"
   },
   {
    "duration": 246,
    "start_time": "2022-11-12T12:15:23.172Z"
   },
   {
    "duration": 155,
    "start_time": "2022-11-12T12:15:23.419Z"
   },
   {
    "duration": 169,
    "start_time": "2022-11-12T12:15:23.575Z"
   },
   {
    "duration": 210,
    "start_time": "2022-11-12T12:15:23.746Z"
   },
   {
    "duration": 187,
    "start_time": "2022-11-12T12:15:23.958Z"
   },
   {
    "duration": 144,
    "start_time": "2022-11-12T12:15:24.147Z"
   },
   {
    "duration": 159,
    "start_time": "2022-11-12T12:15:24.293Z"
   },
   {
    "duration": 158,
    "start_time": "2022-11-12T12:15:24.454Z"
   },
   {
    "duration": 163,
    "start_time": "2022-11-12T12:15:24.614Z"
   },
   {
    "duration": 204,
    "start_time": "2022-11-12T12:15:24.779Z"
   },
   {
    "duration": 192,
    "start_time": "2022-11-12T12:15:24.985Z"
   },
   {
    "duration": 247,
    "start_time": "2022-11-12T12:15:25.179Z"
   },
   {
    "duration": 136,
    "start_time": "2022-11-12T12:15:25.429Z"
   },
   {
    "duration": 166,
    "start_time": "2022-11-12T12:15:25.567Z"
   },
   {
    "duration": 179,
    "start_time": "2022-11-12T12:15:25.736Z"
   },
   {
    "duration": 33,
    "start_time": "2022-11-12T12:15:25.917Z"
   },
   {
    "duration": 184,
    "start_time": "2022-11-12T12:15:25.951Z"
   },
   {
    "duration": 186,
    "start_time": "2022-11-12T12:15:26.142Z"
   },
   {
    "duration": 181,
    "start_time": "2022-11-12T12:15:26.329Z"
   },
   {
    "duration": 542,
    "start_time": "2022-11-12T12:15:26.512Z"
   },
   {
    "duration": 236,
    "start_time": "2022-11-12T12:19:09.658Z"
   },
   {
    "duration": 227,
    "start_time": "2022-11-12T12:19:57.887Z"
   },
   {
    "duration": 217,
    "start_time": "2022-11-12T12:20:32.462Z"
   },
   {
    "duration": 311,
    "start_time": "2022-11-12T12:21:32.945Z"
   },
   {
    "duration": 192,
    "start_time": "2022-11-12T12:22:02.841Z"
   },
   {
    "duration": 238,
    "start_time": "2022-11-12T12:22:23.398Z"
   },
   {
    "duration": 167,
    "start_time": "2022-11-12T16:03:57.098Z"
   },
   {
    "duration": 197,
    "start_time": "2022-11-12T16:04:17.492Z"
   },
   {
    "duration": 166,
    "start_time": "2022-11-12T16:05:17.050Z"
   },
   {
    "duration": 185,
    "start_time": "2022-11-12T16:05:59.420Z"
   },
   {
    "duration": 202,
    "start_time": "2022-11-12T16:06:19.036Z"
   },
   {
    "duration": 162,
    "start_time": "2022-11-12T16:06:28.343Z"
   },
   {
    "duration": 151,
    "start_time": "2022-11-12T16:06:48.482Z"
   },
   {
    "duration": 247,
    "start_time": "2022-11-12T16:07:48.039Z"
   },
   {
    "duration": 293,
    "start_time": "2022-11-12T16:08:24.618Z"
   },
   {
    "duration": 196,
    "start_time": "2022-11-12T16:09:03.691Z"
   },
   {
    "duration": 217,
    "start_time": "2022-11-12T16:09:35.839Z"
   },
   {
    "duration": 175,
    "start_time": "2022-11-12T16:09:52.539Z"
   },
   {
    "duration": 188,
    "start_time": "2022-11-12T16:10:23.911Z"
   },
   {
    "duration": 134,
    "start_time": "2022-11-12T16:12:59.087Z"
   },
   {
    "duration": 161,
    "start_time": "2022-11-12T16:13:21.511Z"
   },
   {
    "duration": 138,
    "start_time": "2022-11-12T16:14:24.427Z"
   },
   {
    "duration": 151,
    "start_time": "2022-11-12T16:14:31.593Z"
   },
   {
    "duration": 158,
    "start_time": "2022-11-12T16:14:35.878Z"
   },
   {
    "duration": 207,
    "start_time": "2022-11-12T16:15:46.409Z"
   },
   {
    "duration": 210,
    "start_time": "2022-11-12T16:17:10.652Z"
   },
   {
    "duration": 17,
    "start_time": "2022-11-12T16:21:35.691Z"
   },
   {
    "duration": 867,
    "start_time": "2022-11-12T16:40:12.092Z"
   },
   {
    "duration": 832,
    "start_time": "2022-11-12T16:40:22.782Z"
   },
   {
    "duration": 146,
    "start_time": "2022-11-12T16:40:36.874Z"
   },
   {
    "duration": 162,
    "start_time": "2022-11-12T16:40:40.569Z"
   },
   {
    "duration": 49,
    "start_time": "2022-11-13T10:55:22.176Z"
   },
   {
    "duration": 1124,
    "start_time": "2022-11-13T10:55:28.834Z"
   },
   {
    "duration": 40,
    "start_time": "2022-11-13T10:55:29.960Z"
   },
   {
    "duration": 1975,
    "start_time": "2022-11-13T10:55:30.002Z"
   },
   {
    "duration": 143,
    "start_time": "2022-11-13T10:55:31.979Z"
   },
   {
    "duration": 10,
    "start_time": "2022-11-13T10:55:32.124Z"
   },
   {
    "duration": 16,
    "start_time": "2022-11-13T10:55:32.135Z"
   },
   {
    "duration": 16,
    "start_time": "2022-11-13T10:55:32.153Z"
   },
   {
    "duration": 12,
    "start_time": "2022-11-13T10:55:32.171Z"
   },
   {
    "duration": 14,
    "start_time": "2022-11-13T10:55:32.185Z"
   },
   {
    "duration": 7,
    "start_time": "2022-11-13T10:55:32.201Z"
   },
   {
    "duration": 6,
    "start_time": "2022-11-13T10:55:32.210Z"
   },
   {
    "duration": 20,
    "start_time": "2022-11-13T10:55:32.218Z"
   },
   {
    "duration": 12,
    "start_time": "2022-11-13T10:55:32.240Z"
   },
   {
    "duration": 12,
    "start_time": "2022-11-13T10:55:32.254Z"
   },
   {
    "duration": 34,
    "start_time": "2022-11-13T10:55:32.267Z"
   },
   {
    "duration": 11,
    "start_time": "2022-11-13T10:55:32.303Z"
   },
   {
    "duration": 10,
    "start_time": "2022-11-13T10:55:32.316Z"
   },
   {
    "duration": 13,
    "start_time": "2022-11-13T10:55:32.328Z"
   },
   {
    "duration": 9,
    "start_time": "2022-11-13T10:55:32.343Z"
   },
   {
    "duration": 22,
    "start_time": "2022-11-13T10:55:32.354Z"
   },
   {
    "duration": 10,
    "start_time": "2022-11-13T10:55:32.378Z"
   },
   {
    "duration": 14,
    "start_time": "2022-11-13T10:55:32.390Z"
   },
   {
    "duration": 24,
    "start_time": "2022-11-13T10:55:32.406Z"
   },
   {
    "duration": 14,
    "start_time": "2022-11-13T10:55:32.432Z"
   },
   {
    "duration": 31,
    "start_time": "2022-11-13T10:55:32.448Z"
   },
   {
    "duration": 12,
    "start_time": "2022-11-13T10:55:32.481Z"
   },
   {
    "duration": 6,
    "start_time": "2022-11-13T10:55:32.495Z"
   },
   {
    "duration": 13,
    "start_time": "2022-11-13T10:55:32.506Z"
   },
   {
    "duration": 20,
    "start_time": "2022-11-13T10:55:32.520Z"
   },
   {
    "duration": 4,
    "start_time": "2022-11-13T10:55:32.541Z"
   },
   {
    "duration": 22,
    "start_time": "2022-11-13T10:55:32.547Z"
   },
   {
    "duration": 6,
    "start_time": "2022-11-13T10:55:32.570Z"
   },
   {
    "duration": 7,
    "start_time": "2022-11-13T10:55:32.577Z"
   },
   {
    "duration": 5,
    "start_time": "2022-11-13T10:55:32.586Z"
   },
   {
    "duration": 40,
    "start_time": "2022-11-13T10:55:32.592Z"
   },
   {
    "duration": 10,
    "start_time": "2022-11-13T10:55:32.633Z"
   },
   {
    "duration": 5,
    "start_time": "2022-11-13T10:55:32.668Z"
   },
   {
    "duration": 12,
    "start_time": "2022-11-13T10:55:32.674Z"
   },
   {
    "duration": 37,
    "start_time": "2022-11-13T10:55:32.687Z"
   },
   {
    "duration": 3,
    "start_time": "2022-11-13T10:55:32.726Z"
   },
   {
    "duration": 363,
    "start_time": "2022-11-13T10:55:32.730Z"
   },
   {
    "duration": 5,
    "start_time": "2022-11-13T10:55:33.094Z"
   },
   {
    "duration": 29,
    "start_time": "2022-11-13T10:55:33.100Z"
   },
   {
    "duration": 19,
    "start_time": "2022-11-13T10:55:33.131Z"
   },
   {
    "duration": 195,
    "start_time": "2022-11-13T10:55:33.152Z"
   },
   {
    "duration": 273,
    "start_time": "2022-11-13T10:55:33.349Z"
   },
   {
    "duration": 183,
    "start_time": "2022-11-13T10:55:33.624Z"
   },
   {
    "duration": 172,
    "start_time": "2022-11-13T10:55:33.808Z"
   },
   {
    "duration": 143,
    "start_time": "2022-11-13T10:55:33.981Z"
   },
   {
    "duration": 153,
    "start_time": "2022-11-13T10:55:34.125Z"
   },
   {
    "duration": 168,
    "start_time": "2022-11-13T10:55:34.280Z"
   },
   {
    "duration": 236,
    "start_time": "2022-11-13T10:55:34.450Z"
   },
   {
    "duration": 129,
    "start_time": "2022-11-13T10:55:34.688Z"
   },
   {
    "duration": 153,
    "start_time": "2022-11-13T10:55:34.818Z"
   },
   {
    "duration": 168,
    "start_time": "2022-11-13T10:55:34.973Z"
   },
   {
    "duration": 171,
    "start_time": "2022-11-13T10:55:35.142Z"
   },
   {
    "duration": 236,
    "start_time": "2022-11-13T10:55:35.315Z"
   },
   {
    "duration": 158,
    "start_time": "2022-11-13T10:55:35.552Z"
   },
   {
    "duration": 158,
    "start_time": "2022-11-13T10:55:35.713Z"
   },
   {
    "duration": 160,
    "start_time": "2022-11-13T10:55:35.873Z"
   },
   {
    "duration": 233,
    "start_time": "2022-11-13T10:55:36.035Z"
   },
   {
    "duration": 207,
    "start_time": "2022-11-13T10:55:36.270Z"
   },
   {
    "duration": 230,
    "start_time": "2022-11-13T10:55:36.479Z"
   },
   {
    "duration": 189,
    "start_time": "2022-11-13T10:55:36.711Z"
   },
   {
    "duration": 233,
    "start_time": "2022-11-13T10:55:36.902Z"
   },
   {
    "duration": 192,
    "start_time": "2022-11-13T10:55:37.136Z"
   },
   {
    "duration": 211,
    "start_time": "2022-11-13T10:55:37.330Z"
   },
   {
    "duration": 246,
    "start_time": "2022-11-13T10:55:37.542Z"
   },
   {
    "duration": 234,
    "start_time": "2022-11-13T10:55:37.790Z"
   },
   {
    "duration": 12,
    "start_time": "2022-11-13T10:55:38.026Z"
   },
   {
    "duration": 177,
    "start_time": "2022-11-13T10:55:38.040Z"
   },
   {
    "duration": 169,
    "start_time": "2022-11-13T10:55:38.219Z"
   },
   {
    "duration": 160,
    "start_time": "2022-11-13T10:55:47.490Z"
   },
   {
    "duration": 219,
    "start_time": "2022-11-13T10:57:27.456Z"
   },
   {
    "duration": 250,
    "start_time": "2022-11-13T10:57:41.272Z"
   },
   {
    "duration": 269,
    "start_time": "2022-11-13T10:58:54.146Z"
   },
   {
    "duration": 104,
    "start_time": "2022-11-13T10:59:10.325Z"
   },
   {
    "duration": 51,
    "start_time": "2022-11-13T11:02:12.760Z"
   },
   {
    "duration": 177,
    "start_time": "2022-11-13T11:02:24.069Z"
   },
   {
    "duration": 837,
    "start_time": "2022-11-13T11:05:40.424Z"
   },
   {
    "duration": 156,
    "start_time": "2022-11-13T11:10:20.934Z"
   },
   {
    "duration": 244,
    "start_time": "2022-11-13T11:12:29.912Z"
   },
   {
    "duration": 168,
    "start_time": "2022-11-13T11:12:47.670Z"
   },
   {
    "duration": 47,
    "start_time": "2022-11-13T11:12:49.706Z"
   },
   {
    "duration": 9,
    "start_time": "2022-11-13T11:12:52.613Z"
   },
   {
    "duration": 142,
    "start_time": "2022-11-13T11:13:25.097Z"
   },
   {
    "duration": 167,
    "start_time": "2022-11-13T11:13:33.244Z"
   },
   {
    "duration": 168,
    "start_time": "2022-11-13T11:13:59.967Z"
   },
   {
    "duration": 221,
    "start_time": "2022-11-13T11:14:26.147Z"
   },
   {
    "duration": 177,
    "start_time": "2022-11-13T11:14:34.870Z"
   },
   {
    "duration": 159,
    "start_time": "2022-11-13T11:25:45.646Z"
   },
   {
    "duration": 162,
    "start_time": "2022-11-13T11:26:30.836Z"
   },
   {
    "duration": 145,
    "start_time": "2022-11-13T11:27:43.376Z"
   },
   {
    "duration": 16,
    "start_time": "2022-11-13T11:31:28.097Z"
   },
   {
    "duration": 12,
    "start_time": "2022-11-13T11:31:47.307Z"
   },
   {
    "duration": 8,
    "start_time": "2022-11-13T11:33:06.666Z"
   },
   {
    "duration": 13,
    "start_time": "2022-11-13T11:35:22.494Z"
   },
   {
    "duration": 24,
    "start_time": "2022-11-13T11:36:07.765Z"
   },
   {
    "duration": 34,
    "start_time": "2022-11-13T11:38:38.992Z"
   },
   {
    "duration": 25,
    "start_time": "2022-11-13T11:39:04.230Z"
   },
   {
    "duration": 25,
    "start_time": "2022-11-13T11:40:08.163Z"
   },
   {
    "duration": 17,
    "start_time": "2022-11-13T11:43:55.506Z"
   },
   {
    "duration": 31,
    "start_time": "2022-11-13T11:44:04.444Z"
   },
   {
    "duration": 16,
    "start_time": "2022-11-13T11:44:53.976Z"
   },
   {
    "duration": 22,
    "start_time": "2022-11-13T11:44:59.067Z"
   },
   {
    "duration": 23,
    "start_time": "2022-11-13T11:45:02.394Z"
   },
   {
    "duration": 18,
    "start_time": "2022-11-13T11:45:29.085Z"
   },
   {
    "duration": 24,
    "start_time": "2022-11-13T11:45:34.815Z"
   },
   {
    "duration": 18,
    "start_time": "2022-11-13T11:46:10.059Z"
   },
   {
    "duration": 23,
    "start_time": "2022-11-13T11:46:16.335Z"
   },
   {
    "duration": 8,
    "start_time": "2022-11-13T12:33:41.893Z"
   },
   {
    "duration": 7,
    "start_time": "2022-11-13T12:34:33.734Z"
   },
   {
    "duration": 40,
    "start_time": "2022-11-13T12:34:40.898Z"
   },
   {
    "duration": 11,
    "start_time": "2022-11-13T12:35:18.036Z"
   },
   {
    "duration": 14,
    "start_time": "2022-11-13T12:41:08.797Z"
   },
   {
    "duration": 11,
    "start_time": "2022-11-13T12:43:19.965Z"
   },
   {
    "duration": 6,
    "start_time": "2022-11-13T12:43:25.795Z"
   },
   {
    "duration": 9,
    "start_time": "2022-11-13T13:11:27.205Z"
   },
   {
    "duration": 10,
    "start_time": "2022-11-13T13:11:28.808Z"
   },
   {
    "duration": 9,
    "start_time": "2022-11-13T13:16:46.452Z"
   },
   {
    "duration": 9,
    "start_time": "2022-11-13T13:16:46.769Z"
   },
   {
    "duration": 8,
    "start_time": "2022-11-13T13:54:30.872Z"
   },
   {
    "duration": 40,
    "start_time": "2022-11-13T13:54:46.850Z"
   },
   {
    "duration": 5,
    "start_time": "2022-11-13T13:56:25.441Z"
   },
   {
    "duration": 39,
    "start_time": "2022-11-13T13:56:28.134Z"
   },
   {
    "duration": 11,
    "start_time": "2022-11-13T13:57:47.198Z"
   },
   {
    "duration": 6,
    "start_time": "2022-11-13T13:57:54.031Z"
   },
   {
    "duration": 4,
    "start_time": "2022-11-13T13:58:06.953Z"
   },
   {
    "duration": 10,
    "start_time": "2022-11-13T13:58:27.018Z"
   },
   {
    "duration": 4,
    "start_time": "2022-11-13T13:58:34.661Z"
   },
   {
    "duration": 4,
    "start_time": "2022-11-13T13:58:44.699Z"
   },
   {
    "duration": 45,
    "start_time": "2022-11-13T13:58:47.741Z"
   },
   {
    "duration": 5,
    "start_time": "2022-11-13T14:00:22.336Z"
   },
   {
    "duration": 18,
    "start_time": "2022-11-13T14:02:30.554Z"
   },
   {
    "duration": 13,
    "start_time": "2022-11-13T14:02:53.113Z"
   },
   {
    "duration": 743,
    "start_time": "2022-11-13T14:03:34.041Z"
   },
   {
    "duration": 39,
    "start_time": "2022-11-13T14:03:34.786Z"
   },
   {
    "duration": 2030,
    "start_time": "2022-11-13T14:03:34.827Z"
   },
   {
    "duration": 144,
    "start_time": "2022-11-13T14:03:36.859Z"
   },
   {
    "duration": 9,
    "start_time": "2022-11-13T14:03:37.005Z"
   },
   {
    "duration": 7,
    "start_time": "2022-11-13T14:03:37.016Z"
   },
   {
    "duration": 12,
    "start_time": "2022-11-13T14:03:37.024Z"
   },
   {
    "duration": 5,
    "start_time": "2022-11-13T14:03:37.038Z"
   },
   {
    "duration": 24,
    "start_time": "2022-11-13T14:03:37.045Z"
   },
   {
    "duration": 11,
    "start_time": "2022-11-13T14:03:37.072Z"
   },
   {
    "duration": 4,
    "start_time": "2022-11-13T14:03:37.084Z"
   },
   {
    "duration": 11,
    "start_time": "2022-11-13T14:03:37.089Z"
   },
   {
    "duration": 5,
    "start_time": "2022-11-13T14:03:37.102Z"
   },
   {
    "duration": 3,
    "start_time": "2022-11-13T14:03:37.109Z"
   },
   {
    "duration": 28,
    "start_time": "2022-11-13T14:03:37.114Z"
   },
   {
    "duration": 9,
    "start_time": "2022-11-13T14:03:37.168Z"
   },
   {
    "duration": 10,
    "start_time": "2022-11-13T14:03:37.178Z"
   },
   {
    "duration": 8,
    "start_time": "2022-11-13T14:03:37.190Z"
   },
   {
    "duration": 11,
    "start_time": "2022-11-13T14:03:37.200Z"
   },
   {
    "duration": 11,
    "start_time": "2022-11-13T14:03:37.213Z"
   },
   {
    "duration": 10,
    "start_time": "2022-11-13T14:03:37.225Z"
   },
   {
    "duration": 42,
    "start_time": "2022-11-13T14:03:37.237Z"
   },
   {
    "duration": 16,
    "start_time": "2022-11-13T14:03:37.281Z"
   },
   {
    "duration": 17,
    "start_time": "2022-11-13T14:03:37.298Z"
   },
   {
    "duration": 27,
    "start_time": "2022-11-13T14:03:37.317Z"
   },
   {
    "duration": 10,
    "start_time": "2022-11-13T14:03:37.345Z"
   },
   {
    "duration": 6,
    "start_time": "2022-11-13T14:03:37.368Z"
   },
   {
    "duration": 6,
    "start_time": "2022-11-13T14:03:37.378Z"
   },
   {
    "duration": 24,
    "start_time": "2022-11-13T14:03:37.386Z"
   },
   {
    "duration": 4,
    "start_time": "2022-11-13T14:03:37.412Z"
   },
   {
    "duration": 8,
    "start_time": "2022-11-13T14:03:37.418Z"
   },
   {
    "duration": 4,
    "start_time": "2022-11-13T14:03:37.427Z"
   },
   {
    "duration": 6,
    "start_time": "2022-11-13T14:03:37.432Z"
   },
   {
    "duration": 30,
    "start_time": "2022-11-13T14:03:37.439Z"
   },
   {
    "duration": 41,
    "start_time": "2022-11-13T14:03:37.470Z"
   },
   {
    "duration": 6,
    "start_time": "2022-11-13T14:03:37.512Z"
   },
   {
    "duration": 10,
    "start_time": "2022-11-13T14:03:37.520Z"
   },
   {
    "duration": 7,
    "start_time": "2022-11-13T14:03:37.532Z"
   },
   {
    "duration": 60,
    "start_time": "2022-11-13T14:03:37.541Z"
   },
   {
    "duration": 3,
    "start_time": "2022-11-13T14:03:37.602Z"
   },
   {
    "duration": 329,
    "start_time": "2022-11-13T14:03:37.607Z"
   },
   {
    "duration": 5,
    "start_time": "2022-11-13T14:03:37.938Z"
   },
   {
    "duration": 36,
    "start_time": "2022-11-13T14:03:37.944Z"
   },
   {
    "duration": 6,
    "start_time": "2022-11-13T14:03:37.981Z"
   },
   {
    "duration": 3,
    "start_time": "2022-11-13T14:03:37.989Z"
   },
   {
    "duration": 17,
    "start_time": "2022-11-13T14:03:37.993Z"
   },
   {
    "duration": 189,
    "start_time": "2022-11-13T14:03:38.012Z"
   },
   {
    "duration": 247,
    "start_time": "2022-11-13T14:03:38.202Z"
   },
   {
    "duration": 178,
    "start_time": "2022-11-13T14:03:38.451Z"
   },
   {
    "duration": 165,
    "start_time": "2022-11-13T14:03:38.630Z"
   },
   {
    "duration": 158,
    "start_time": "2022-11-13T14:03:38.797Z"
   },
   {
    "duration": 161,
    "start_time": "2022-11-13T14:03:38.957Z"
   },
   {
    "duration": 170,
    "start_time": "2022-11-13T14:03:39.119Z"
   },
   {
    "duration": 162,
    "start_time": "2022-11-13T14:03:39.291Z"
   },
   {
    "duration": 132,
    "start_time": "2022-11-13T14:03:39.455Z"
   },
   {
    "duration": 147,
    "start_time": "2022-11-13T14:03:39.589Z"
   },
   {
    "duration": 171,
    "start_time": "2022-11-13T14:03:39.738Z"
   },
   {
    "duration": 169,
    "start_time": "2022-11-13T14:03:39.911Z"
   },
   {
    "duration": 236,
    "start_time": "2022-11-13T14:03:40.082Z"
   },
   {
    "duration": 156,
    "start_time": "2022-11-13T14:03:40.319Z"
   },
   {
    "duration": 160,
    "start_time": "2022-11-13T14:03:40.477Z"
   },
   {
    "duration": 161,
    "start_time": "2022-11-13T14:03:40.638Z"
   },
   {
    "duration": 174,
    "start_time": "2022-11-13T14:03:40.801Z"
   },
   {
    "duration": 176,
    "start_time": "2022-11-13T14:03:40.977Z"
   },
   {
    "duration": 206,
    "start_time": "2022-11-13T14:03:41.155Z"
   },
   {
    "duration": 237,
    "start_time": "2022-11-13T14:03:41.363Z"
   },
   {
    "duration": 199,
    "start_time": "2022-11-13T14:03:41.602Z"
   },
   {
    "duration": 216,
    "start_time": "2022-11-13T14:03:41.803Z"
   },
   {
    "duration": 188,
    "start_time": "2022-11-13T14:03:42.020Z"
   },
   {
    "duration": 300,
    "start_time": "2022-11-13T14:03:42.209Z"
   },
   {
    "duration": 185,
    "start_time": "2022-11-13T14:03:42.511Z"
   },
   {
    "duration": 231,
    "start_time": "2022-11-13T14:03:42.698Z"
   },
   {
    "duration": 158,
    "start_time": "2022-11-13T14:03:42.930Z"
   },
   {
    "duration": 24,
    "start_time": "2022-11-13T14:03:43.089Z"
   },
   {
    "duration": 12,
    "start_time": "2022-11-13T14:03:47.729Z"
   },
   {
    "duration": 86,
    "start_time": "2022-11-13T14:04:16.474Z"
   },
   {
    "duration": 11,
    "start_time": "2022-11-13T14:04:18.866Z"
   },
   {
    "duration": 43,
    "start_time": "2022-11-13T14:04:27.658Z"
   },
   {
    "duration": 61,
    "start_time": "2022-11-13T14:07:09.524Z"
   },
   {
    "duration": 10,
    "start_time": "2022-11-13T14:07:12.541Z"
   },
   {
    "duration": 45,
    "start_time": "2022-11-13T14:07:14.619Z"
   },
   {
    "duration": 49,
    "start_time": "2022-11-13T14:07:39.522Z"
   },
   {
    "duration": 800,
    "start_time": "2022-11-13T14:08:15.842Z"
   },
   {
    "duration": 45,
    "start_time": "2022-11-13T14:08:16.644Z"
   },
   {
    "duration": 2018,
    "start_time": "2022-11-13T14:08:16.691Z"
   },
   {
    "duration": 146,
    "start_time": "2022-11-13T14:08:18.711Z"
   },
   {
    "duration": 18,
    "start_time": "2022-11-13T14:08:18.858Z"
   },
   {
    "duration": 4,
    "start_time": "2022-11-13T14:08:18.877Z"
   },
   {
    "duration": 8,
    "start_time": "2022-11-13T14:08:18.882Z"
   },
   {
    "duration": 4,
    "start_time": "2022-11-13T14:08:18.895Z"
   },
   {
    "duration": 18,
    "start_time": "2022-11-13T14:08:18.901Z"
   },
   {
    "duration": 8,
    "start_time": "2022-11-13T14:08:18.923Z"
   },
   {
    "duration": 4,
    "start_time": "2022-11-13T14:08:18.933Z"
   },
   {
    "duration": 31,
    "start_time": "2022-11-13T14:08:18.939Z"
   },
   {
    "duration": 5,
    "start_time": "2022-11-13T14:08:18.972Z"
   },
   {
    "duration": 4,
    "start_time": "2022-11-13T14:08:18.979Z"
   },
   {
    "duration": 30,
    "start_time": "2022-11-13T14:08:18.984Z"
   },
   {
    "duration": 9,
    "start_time": "2022-11-13T14:08:19.017Z"
   },
   {
    "duration": 8,
    "start_time": "2022-11-13T14:08:19.028Z"
   },
   {
    "duration": 40,
    "start_time": "2022-11-13T14:08:19.038Z"
   },
   {
    "duration": 14,
    "start_time": "2022-11-13T14:08:19.080Z"
   },
   {
    "duration": 14,
    "start_time": "2022-11-13T14:08:19.096Z"
   },
   {
    "duration": 22,
    "start_time": "2022-11-13T14:08:19.112Z"
   },
   {
    "duration": 15,
    "start_time": "2022-11-13T14:08:19.136Z"
   },
   {
    "duration": 20,
    "start_time": "2022-11-13T14:08:19.153Z"
   },
   {
    "duration": 16,
    "start_time": "2022-11-13T14:08:19.175Z"
   },
   {
    "duration": 14,
    "start_time": "2022-11-13T14:08:19.192Z"
   },
   {
    "duration": 14,
    "start_time": "2022-11-13T14:08:19.207Z"
   },
   {
    "duration": 7,
    "start_time": "2022-11-13T14:08:19.223Z"
   },
   {
    "duration": 7,
    "start_time": "2022-11-13T14:08:19.235Z"
   },
   {
    "duration": 34,
    "start_time": "2022-11-13T14:08:19.243Z"
   },
   {
    "duration": 5,
    "start_time": "2022-11-13T14:08:19.280Z"
   },
   {
    "duration": 10,
    "start_time": "2022-11-13T14:08:19.287Z"
   },
   {
    "duration": 5,
    "start_time": "2022-11-13T14:08:19.298Z"
   },
   {
    "duration": 6,
    "start_time": "2022-11-13T14:08:19.305Z"
   },
   {
    "duration": 7,
    "start_time": "2022-11-13T14:08:19.313Z"
   },
   {
    "duration": 74,
    "start_time": "2022-11-13T14:08:19.322Z"
   },
   {
    "duration": 6,
    "start_time": "2022-11-13T14:08:19.398Z"
   },
   {
    "duration": 6,
    "start_time": "2022-11-13T14:08:19.405Z"
   },
   {
    "duration": 9,
    "start_time": "2022-11-13T14:08:19.412Z"
   },
   {
    "duration": 55,
    "start_time": "2022-11-13T14:08:19.422Z"
   },
   {
    "duration": 4,
    "start_time": "2022-11-13T14:08:19.478Z"
   },
   {
    "duration": 347,
    "start_time": "2022-11-13T14:08:19.484Z"
   },
   {
    "duration": 4,
    "start_time": "2022-11-13T14:08:19.833Z"
   },
   {
    "duration": 38,
    "start_time": "2022-11-13T14:08:19.838Z"
   },
   {
    "duration": 5,
    "start_time": "2022-11-13T14:08:19.877Z"
   },
   {
    "duration": 3,
    "start_time": "2022-11-13T14:08:19.884Z"
   },
   {
    "duration": 18,
    "start_time": "2022-11-13T14:08:19.888Z"
   },
   {
    "duration": 197,
    "start_time": "2022-11-13T14:08:19.908Z"
   },
   {
    "duration": 254,
    "start_time": "2022-11-13T14:08:20.107Z"
   },
   {
    "duration": 162,
    "start_time": "2022-11-13T14:08:20.368Z"
   },
   {
    "duration": 171,
    "start_time": "2022-11-13T14:08:20.532Z"
   },
   {
    "duration": 165,
    "start_time": "2022-11-13T14:08:20.705Z"
   },
   {
    "duration": 156,
    "start_time": "2022-11-13T14:08:20.872Z"
   },
   {
    "duration": 174,
    "start_time": "2022-11-13T14:08:21.030Z"
   },
   {
    "duration": 170,
    "start_time": "2022-11-13T14:08:21.206Z"
   },
   {
    "duration": 134,
    "start_time": "2022-11-13T14:08:21.378Z"
   },
   {
    "duration": 158,
    "start_time": "2022-11-13T14:08:21.514Z"
   },
   {
    "duration": 169,
    "start_time": "2022-11-13T14:08:21.674Z"
   },
   {
    "duration": 169,
    "start_time": "2022-11-13T14:08:21.845Z"
   },
   {
    "duration": 236,
    "start_time": "2022-11-13T14:08:22.017Z"
   },
   {
    "duration": 168,
    "start_time": "2022-11-13T14:08:22.255Z"
   },
   {
    "duration": 174,
    "start_time": "2022-11-13T14:08:22.425Z"
   },
   {
    "duration": 169,
    "start_time": "2022-11-13T14:08:22.602Z"
   },
   {
    "duration": 179,
    "start_time": "2022-11-13T14:08:22.773Z"
   },
   {
    "duration": 187,
    "start_time": "2022-11-13T14:08:22.954Z"
   },
   {
    "duration": 195,
    "start_time": "2022-11-13T14:08:23.142Z"
   },
   {
    "duration": 238,
    "start_time": "2022-11-13T14:08:23.339Z"
   },
   {
    "duration": 199,
    "start_time": "2022-11-13T14:08:23.579Z"
   },
   {
    "duration": 218,
    "start_time": "2022-11-13T14:08:23.779Z"
   },
   {
    "duration": 185,
    "start_time": "2022-11-13T14:08:23.999Z"
   },
   {
    "duration": 288,
    "start_time": "2022-11-13T14:08:24.186Z"
   },
   {
    "duration": 180,
    "start_time": "2022-11-13T14:08:24.476Z"
   },
   {
    "duration": 220,
    "start_time": "2022-11-13T14:08:24.658Z"
   },
   {
    "duration": 183,
    "start_time": "2022-11-13T14:08:24.880Z"
   },
   {
    "duration": 24,
    "start_time": "2022-11-13T14:08:25.067Z"
   },
   {
    "duration": 50,
    "start_time": "2022-11-13T14:08:55.282Z"
   },
   {
    "duration": 62,
    "start_time": "2022-11-13T14:09:06.046Z"
   },
   {
    "duration": 43,
    "start_time": "2022-11-13T14:09:49.708Z"
   },
   {
    "duration": 44,
    "start_time": "2022-11-13T14:10:39.108Z"
   },
   {
    "duration": 47,
    "start_time": "2022-11-13T14:11:07.834Z"
   },
   {
    "duration": 44,
    "start_time": "2022-11-13T14:11:22.867Z"
   },
   {
    "duration": 10,
    "start_time": "2022-11-13T14:13:37.308Z"
   },
   {
    "duration": 15,
    "start_time": "2022-11-13T14:13:42.705Z"
   },
   {
    "duration": 9,
    "start_time": "2022-11-13T14:14:22.451Z"
   },
   {
    "duration": 13,
    "start_time": "2022-11-13T14:14:26.683Z"
   },
   {
    "duration": 28,
    "start_time": "2022-11-13T14:15:29.380Z"
   },
   {
    "duration": 14,
    "start_time": "2022-11-13T14:19:55.391Z"
   },
   {
    "duration": 22,
    "start_time": "2022-11-13T14:20:04.723Z"
   },
   {
    "duration": 22,
    "start_time": "2022-11-13T14:20:48.635Z"
   },
   {
    "duration": 32,
    "start_time": "2022-11-13T14:20:54.815Z"
   },
   {
    "duration": 22,
    "start_time": "2022-11-13T14:21:13.109Z"
   },
   {
    "duration": 82,
    "start_time": "2022-11-13T14:22:35.984Z"
   },
   {
    "duration": 24,
    "start_time": "2022-11-13T14:22:46.398Z"
   },
   {
    "duration": 777,
    "start_time": "2022-11-13T14:23:17.482Z"
   },
   {
    "duration": 24,
    "start_time": "2022-11-13T14:23:43.408Z"
   },
   {
    "duration": 21,
    "start_time": "2022-11-13T14:23:52.921Z"
   },
   {
    "duration": 23,
    "start_time": "2022-11-13T14:23:56.103Z"
   },
   {
    "duration": 20,
    "start_time": "2022-11-13T14:24:01.113Z"
   },
   {
    "duration": 29,
    "start_time": "2022-11-13T14:24:06.130Z"
   },
   {
    "duration": 141,
    "start_time": "2022-11-13T14:24:43.498Z"
   },
   {
    "duration": 803,
    "start_time": "2022-11-13T14:26:11.317Z"
   },
   {
    "duration": 833,
    "start_time": "2022-11-13T14:26:17.415Z"
   },
   {
    "duration": 12,
    "start_time": "2022-11-13T14:26:29.597Z"
   },
   {
    "duration": 786,
    "start_time": "2022-11-13T14:27:21.608Z"
   },
   {
    "duration": 141,
    "start_time": "2022-11-13T14:27:59.247Z"
   },
   {
    "duration": 19,
    "start_time": "2022-11-13T14:33:19.277Z"
   },
   {
    "duration": 13,
    "start_time": "2022-11-13T14:34:21.569Z"
   },
   {
    "duration": 30,
    "start_time": "2022-11-13T14:41:09.157Z"
   },
   {
    "duration": 56,
    "start_time": "2022-11-13T14:41:15.097Z"
   },
   {
    "duration": 60,
    "start_time": "2022-11-13T14:42:10.440Z"
   },
   {
    "duration": 34,
    "start_time": "2022-11-13T14:44:18.373Z"
   },
   {
    "duration": 54,
    "start_time": "2022-11-13T14:45:00.671Z"
   },
   {
    "duration": 30,
    "start_time": "2022-11-13T14:45:49.695Z"
   },
   {
    "duration": 28,
    "start_time": "2022-11-13T14:45:52.986Z"
   },
   {
    "duration": 813,
    "start_time": "2022-11-13T14:47:51.513Z"
   },
   {
    "duration": 64,
    "start_time": "2022-11-13T14:48:45.329Z"
   },
   {
    "duration": 925,
    "start_time": "2022-11-13T14:49:32.615Z"
   },
   {
    "duration": 197,
    "start_time": "2022-11-13T14:49:52.074Z"
   },
   {
    "duration": 56,
    "start_time": "2022-11-13T17:49:42.766Z"
   },
   {
    "duration": 1185,
    "start_time": "2022-11-13T17:49:57.146Z"
   },
   {
    "duration": 43,
    "start_time": "2022-11-13T17:49:58.334Z"
   },
   {
    "duration": 2070,
    "start_time": "2022-11-13T17:49:58.378Z"
   },
   {
    "duration": 11,
    "start_time": "2022-11-13T17:50:00.450Z"
   },
   {
    "duration": 25,
    "start_time": "2022-11-13T17:50:00.464Z"
   },
   {
    "duration": 7,
    "start_time": "2022-11-13T17:50:00.491Z"
   },
   {
    "duration": 12,
    "start_time": "2022-11-13T17:50:00.500Z"
   },
   {
    "duration": 38,
    "start_time": "2022-11-13T17:50:00.514Z"
   },
   {
    "duration": 35,
    "start_time": "2022-11-13T17:50:00.553Z"
   },
   {
    "duration": 37,
    "start_time": "2022-11-13T17:50:00.590Z"
   },
   {
    "duration": 51,
    "start_time": "2022-11-13T17:50:00.628Z"
   },
   {
    "duration": 99,
    "start_time": "2022-11-13T17:50:00.683Z"
   },
   {
    "duration": 46,
    "start_time": "2022-11-13T17:50:00.784Z"
   },
   {
    "duration": 49,
    "start_time": "2022-11-13T17:50:00.834Z"
   },
   {
    "duration": 36,
    "start_time": "2022-11-13T17:50:00.886Z"
   },
   {
    "duration": 38,
    "start_time": "2022-11-13T17:50:00.924Z"
   },
   {
    "duration": 35,
    "start_time": "2022-11-13T17:50:00.964Z"
   },
   {
    "duration": 86,
    "start_time": "2022-11-13T17:50:01.001Z"
   },
   {
    "duration": 73,
    "start_time": "2022-11-13T17:50:01.089Z"
   },
   {
    "duration": 34,
    "start_time": "2022-11-13T17:50:01.164Z"
   },
   {
    "duration": 27,
    "start_time": "2022-11-13T17:50:01.200Z"
   },
   {
    "duration": 31,
    "start_time": "2022-11-13T17:50:01.229Z"
   },
   {
    "duration": 26,
    "start_time": "2022-11-13T17:50:01.262Z"
   },
   {
    "duration": 17,
    "start_time": "2022-11-13T17:50:01.290Z"
   },
   {
    "duration": 53,
    "start_time": "2022-11-13T17:50:01.309Z"
   },
   {
    "duration": 23,
    "start_time": "2022-11-13T17:50:01.364Z"
   },
   {
    "duration": 48,
    "start_time": "2022-11-13T17:50:01.389Z"
   },
   {
    "duration": 35,
    "start_time": "2022-11-13T17:50:01.439Z"
   },
   {
    "duration": 75,
    "start_time": "2022-11-13T17:50:01.476Z"
   },
   {
    "duration": 6,
    "start_time": "2022-11-13T17:50:01.552Z"
   },
   {
    "duration": 22,
    "start_time": "2022-11-13T17:50:01.560Z"
   },
   {
    "duration": 19,
    "start_time": "2022-11-13T17:50:01.584Z"
   },
   {
    "duration": 43,
    "start_time": "2022-11-13T17:50:01.604Z"
   },
   {
    "duration": 35,
    "start_time": "2022-11-13T17:50:01.650Z"
   },
   {
    "duration": 360,
    "start_time": "2022-11-13T17:50:01.687Z"
   },
   {
    "duration": 6,
    "start_time": "2022-11-13T17:50:02.049Z"
   },
   {
    "duration": 48,
    "start_time": "2022-11-13T17:50:02.057Z"
   },
   {
    "duration": 9,
    "start_time": "2022-11-13T17:50:02.108Z"
   },
   {
    "duration": 174,
    "start_time": "2022-11-13T17:50:02.118Z"
   },
   {
    "duration": 175,
    "start_time": "2022-11-13T17:50:02.293Z"
   },
   {
    "duration": 176,
    "start_time": "2022-11-13T17:50:02.472Z"
   },
   {
    "duration": 233,
    "start_time": "2022-11-13T17:50:02.649Z"
   },
   {
    "duration": 164,
    "start_time": "2022-11-13T17:50:02.884Z"
   },
   {
    "duration": 163,
    "start_time": "2022-11-13T17:50:03.050Z"
   },
   {
    "duration": 180,
    "start_time": "2022-11-13T17:50:03.215Z"
   },
   {
    "duration": 147,
    "start_time": "2022-11-13T17:50:03.396Z"
   },
   {
    "duration": 152,
    "start_time": "2022-11-13T17:50:03.547Z"
   },
   {
    "duration": 176,
    "start_time": "2022-11-13T17:50:03.701Z"
   },
   {
    "duration": 174,
    "start_time": "2022-11-13T17:50:03.879Z"
   },
   {
    "duration": 170,
    "start_time": "2022-11-13T17:50:04.054Z"
   },
   {
    "duration": 180,
    "start_time": "2022-11-13T17:50:04.225Z"
   },
   {
    "duration": 182,
    "start_time": "2022-11-13T17:50:04.407Z"
   },
   {
    "duration": 225,
    "start_time": "2022-11-13T17:50:04.591Z"
   },
   {
    "duration": 184,
    "start_time": "2022-11-13T17:50:04.818Z"
   },
   {
    "duration": 181,
    "start_time": "2022-11-13T17:50:05.003Z"
   },
   {
    "duration": 208,
    "start_time": "2022-11-13T17:50:05.186Z"
   },
   {
    "duration": 249,
    "start_time": "2022-11-13T17:50:05.396Z"
   },
   {
    "duration": 246,
    "start_time": "2022-11-13T17:50:05.649Z"
   },
   {
    "duration": 263,
    "start_time": "2022-11-13T17:50:05.897Z"
   },
   {
    "duration": 244,
    "start_time": "2022-11-13T17:50:06.161Z"
   },
   {
    "duration": 256,
    "start_time": "2022-11-13T17:50:06.407Z"
   },
   {
    "duration": 199,
    "start_time": "2022-11-13T17:50:06.665Z"
   },
   {
    "duration": 234,
    "start_time": "2022-11-13T17:50:06.866Z"
   },
   {
    "duration": 254,
    "start_time": "2022-11-13T17:50:07.102Z"
   },
   {
    "duration": 23,
    "start_time": "2022-11-13T17:50:07.357Z"
   },
   {
    "duration": 21,
    "start_time": "2022-11-13T17:50:07.381Z"
   },
   {
    "duration": 228,
    "start_time": "2022-11-13T17:50:07.403Z"
   },
   {
    "duration": 177,
    "start_time": "2022-11-13T17:52:10.879Z"
   },
   {
    "duration": 182,
    "start_time": "2022-11-13T17:53:08.626Z"
   },
   {
    "duration": 9,
    "start_time": "2022-11-13T18:00:08.550Z"
   },
   {
    "duration": 162,
    "start_time": "2022-11-13T18:00:31.348Z"
   },
   {
    "duration": 173,
    "start_time": "2022-11-13T18:00:40.591Z"
   },
   {
    "duration": 151,
    "start_time": "2022-11-13T18:03:15.413Z"
   },
   {
    "duration": 158,
    "start_time": "2022-11-13T18:03:19.692Z"
   },
   {
    "duration": 39,
    "start_time": "2022-11-13T18:03:52.310Z"
   },
   {
    "duration": 153,
    "start_time": "2022-11-13T18:06:46.334Z"
   },
   {
    "duration": 149,
    "start_time": "2022-11-13T18:06:55.168Z"
   },
   {
    "duration": 10,
    "start_time": "2022-11-13T18:09:01.200Z"
   },
   {
    "duration": 153,
    "start_time": "2022-11-13T18:09:13.926Z"
   },
   {
    "duration": 216,
    "start_time": "2022-11-13T18:09:29.128Z"
   },
   {
    "duration": 45,
    "start_time": "2022-11-13T18:10:44.755Z"
   },
   {
    "duration": 171,
    "start_time": "2022-11-13T18:11:08.098Z"
   },
   {
    "duration": 170,
    "start_time": "2022-11-13T18:12:07.808Z"
   },
   {
    "duration": 23,
    "start_time": "2022-11-13T18:14:52.293Z"
   },
   {
    "duration": 10,
    "start_time": "2022-11-13T18:15:29.158Z"
   },
   {
    "duration": 144,
    "start_time": "2022-11-13T18:16:06.859Z"
   },
   {
    "duration": 152,
    "start_time": "2022-11-13T18:16:15.421Z"
   },
   {
    "duration": 149,
    "start_time": "2022-11-13T18:16:29.408Z"
   },
   {
    "duration": 28,
    "start_time": "2022-11-13T18:16:51.604Z"
   },
   {
    "duration": 161,
    "start_time": "2022-11-13T18:17:22.078Z"
   },
   {
    "duration": 168,
    "start_time": "2022-11-13T18:17:44.179Z"
   },
   {
    "duration": 27,
    "start_time": "2022-11-13T18:18:23.211Z"
   },
   {
    "duration": 164,
    "start_time": "2022-11-13T18:19:25.031Z"
   },
   {
    "duration": 27,
    "start_time": "2022-11-13T18:20:01.481Z"
   },
   {
    "duration": 41,
    "start_time": "2022-11-13T18:22:13.130Z"
   },
   {
    "duration": 168,
    "start_time": "2022-11-13T18:22:40.853Z"
   },
   {
    "duration": 175,
    "start_time": "2022-11-13T18:22:52.772Z"
   },
   {
    "duration": 259,
    "start_time": "2022-11-13T18:24:38.509Z"
   },
   {
    "duration": 164,
    "start_time": "2022-11-13T18:28:09.163Z"
   },
   {
    "duration": 143,
    "start_time": "2022-11-13T18:28:22.045Z"
   },
   {
    "duration": 30,
    "start_time": "2022-11-13T18:28:53.019Z"
   },
   {
    "duration": 169,
    "start_time": "2022-11-13T18:32:12.640Z"
   },
   {
    "duration": 139,
    "start_time": "2022-11-13T18:32:17.055Z"
   },
   {
    "duration": 137,
    "start_time": "2022-11-13T18:32:28.463Z"
   },
   {
    "duration": 743,
    "start_time": "2022-11-13T18:32:44.345Z"
   },
   {
    "duration": 55,
    "start_time": "2022-11-13T18:32:45.090Z"
   },
   {
    "duration": 2038,
    "start_time": "2022-11-13T18:32:45.147Z"
   },
   {
    "duration": 11,
    "start_time": "2022-11-13T18:32:47.186Z"
   },
   {
    "duration": 4,
    "start_time": "2022-11-13T18:32:47.199Z"
   },
   {
    "duration": 18,
    "start_time": "2022-11-13T18:32:47.204Z"
   },
   {
    "duration": 3,
    "start_time": "2022-11-13T18:32:47.224Z"
   },
   {
    "duration": 20,
    "start_time": "2022-11-13T18:32:47.228Z"
   },
   {
    "duration": 6,
    "start_time": "2022-11-13T18:32:47.250Z"
   },
   {
    "duration": 4,
    "start_time": "2022-11-13T18:32:47.258Z"
   },
   {
    "duration": 6,
    "start_time": "2022-11-13T18:32:47.264Z"
   },
   {
    "duration": 7,
    "start_time": "2022-11-13T18:32:47.271Z"
   },
   {
    "duration": 11,
    "start_time": "2022-11-13T18:32:47.279Z"
   },
   {
    "duration": 5,
    "start_time": "2022-11-13T18:32:47.293Z"
   },
   {
    "duration": 14,
    "start_time": "2022-11-13T18:32:47.299Z"
   },
   {
    "duration": 9,
    "start_time": "2022-11-13T18:32:47.314Z"
   },
   {
    "duration": 20,
    "start_time": "2022-11-13T18:32:47.324Z"
   },
   {
    "duration": 17,
    "start_time": "2022-11-13T18:32:47.346Z"
   },
   {
    "duration": 14,
    "start_time": "2022-11-13T18:32:47.364Z"
   },
   {
    "duration": 16,
    "start_time": "2022-11-13T18:32:47.379Z"
   },
   {
    "duration": 18,
    "start_time": "2022-11-13T18:32:47.397Z"
   },
   {
    "duration": 23,
    "start_time": "2022-11-13T18:32:47.416Z"
   },
   {
    "duration": 16,
    "start_time": "2022-11-13T18:32:47.440Z"
   },
   {
    "duration": 5,
    "start_time": "2022-11-13T18:32:47.457Z"
   },
   {
    "duration": 14,
    "start_time": "2022-11-13T18:32:47.463Z"
   },
   {
    "duration": 9,
    "start_time": "2022-11-13T18:32:47.479Z"
   },
   {
    "duration": 3,
    "start_time": "2022-11-13T18:32:47.490Z"
   },
   {
    "duration": 9,
    "start_time": "2022-11-13T18:32:47.494Z"
   },
   {
    "duration": 54,
    "start_time": "2022-11-13T18:32:47.504Z"
   },
   {
    "duration": 5,
    "start_time": "2022-11-13T18:32:47.560Z"
   },
   {
    "duration": 13,
    "start_time": "2022-11-13T18:32:47.567Z"
   },
   {
    "duration": 5,
    "start_time": "2022-11-13T18:32:47.582Z"
   },
   {
    "duration": 48,
    "start_time": "2022-11-13T18:32:47.589Z"
   },
   {
    "duration": 3,
    "start_time": "2022-11-13T18:32:47.646Z"
   },
   {
    "duration": 347,
    "start_time": "2022-11-13T18:32:47.651Z"
   },
   {
    "duration": 4,
    "start_time": "2022-11-13T18:32:48.000Z"
   },
   {
    "duration": 10,
    "start_time": "2022-11-13T18:32:48.005Z"
   },
   {
    "duration": 11,
    "start_time": "2022-11-13T18:32:48.016Z"
   },
   {
    "duration": 182,
    "start_time": "2022-11-13T18:32:48.028Z"
   },
   {
    "duration": 182,
    "start_time": "2022-11-13T18:32:48.212Z"
   },
   {
    "duration": 167,
    "start_time": "2022-11-13T18:32:48.398Z"
   },
   {
    "duration": 268,
    "start_time": "2022-11-13T18:32:48.567Z"
   },
   {
    "duration": 131,
    "start_time": "2022-11-13T18:32:48.844Z"
   },
   {
    "duration": 183,
    "start_time": "2022-11-13T18:32:48.976Z"
   },
   {
    "duration": 8,
    "start_time": "2022-11-13T18:32:49.160Z"
   },
   {
    "duration": 193,
    "start_time": "2022-11-13T18:32:49.170Z"
   },
   {
    "duration": 132,
    "start_time": "2022-11-13T18:32:49.364Z"
   },
   {
    "duration": 169,
    "start_time": "2022-11-13T18:32:49.498Z"
   },
   {
    "duration": 15,
    "start_time": "2022-11-13T18:32:49.668Z"
   },
   {
    "duration": 175,
    "start_time": "2022-11-13T18:32:49.685Z"
   },
   {
    "duration": 172,
    "start_time": "2022-11-13T18:32:49.861Z"
   },
   {
    "duration": 170,
    "start_time": "2022-11-13T18:32:50.034Z"
   },
   {
    "duration": 159,
    "start_time": "2022-11-13T18:32:50.206Z"
   },
   {
    "duration": 143,
    "start_time": "2022-11-13T18:32:50.367Z"
   },
   {
    "duration": 254,
    "start_time": "2022-11-13T18:32:50.512Z"
   },
   {
    "duration": 206,
    "start_time": "2022-11-13T18:32:50.768Z"
   },
   {
    "duration": 201,
    "start_time": "2022-11-13T18:32:50.976Z"
   },
   {
    "duration": 225,
    "start_time": "2022-11-13T18:32:51.179Z"
   },
   {
    "duration": 247,
    "start_time": "2022-11-13T18:32:51.406Z"
   },
   {
    "duration": 211,
    "start_time": "2022-11-13T18:32:51.655Z"
   },
   {
    "duration": 247,
    "start_time": "2022-11-13T18:32:51.868Z"
   },
   {
    "duration": 201,
    "start_time": "2022-11-13T18:32:52.117Z"
   },
   {
    "duration": 245,
    "start_time": "2022-11-13T18:32:52.320Z"
   },
   {
    "duration": 212,
    "start_time": "2022-11-13T18:32:52.567Z"
   },
   {
    "duration": 267,
    "start_time": "2022-11-13T18:32:52.781Z"
   },
   {
    "duration": 245,
    "start_time": "2022-11-13T18:32:53.050Z"
   },
   {
    "duration": 23,
    "start_time": "2022-11-13T18:32:53.297Z"
   },
   {
    "duration": 42,
    "start_time": "2022-11-13T18:32:53.322Z"
   },
   {
    "duration": 206,
    "start_time": "2022-11-13T18:32:53.365Z"
   },
   {
    "duration": 24,
    "start_time": "2022-11-13T18:33:17.026Z"
   },
   {
    "duration": 170,
    "start_time": "2022-11-13T18:33:48.314Z"
   },
   {
    "duration": 165,
    "start_time": "2022-11-13T18:34:00.333Z"
   },
   {
    "duration": 98,
    "start_time": "2022-11-13T22:42:21.093Z"
   },
   {
    "duration": 34,
    "start_time": "2022-11-13T22:42:31.621Z"
   },
   {
    "duration": 13,
    "start_time": "2022-11-13T22:43:12.464Z"
   },
   {
    "duration": 8,
    "start_time": "2022-11-13T22:43:51.225Z"
   },
   {
    "duration": 183,
    "start_time": "2022-11-13T22:44:00.595Z"
   },
   {
    "duration": 147,
    "start_time": "2022-11-13T22:44:13.113Z"
   },
   {
    "duration": 23,
    "start_time": "2022-11-13T22:46:14.487Z"
   },
   {
    "duration": 178,
    "start_time": "2022-11-13T22:46:43.735Z"
   },
   {
    "duration": 146,
    "start_time": "2022-11-13T22:46:46.472Z"
   },
   {
    "duration": 170,
    "start_time": "2022-11-13T22:46:52.496Z"
   },
   {
    "duration": 8,
    "start_time": "2022-11-13T22:46:56.437Z"
   },
   {
    "duration": 16,
    "start_time": "2022-11-13T22:47:11.198Z"
   },
   {
    "duration": 24,
    "start_time": "2022-11-13T22:47:14.556Z"
   },
   {
    "duration": 28,
    "start_time": "2022-11-13T22:47:22.739Z"
   },
   {
    "duration": 155,
    "start_time": "2022-11-13T22:47:49.808Z"
   },
   {
    "duration": 157,
    "start_time": "2022-11-13T22:47:55.055Z"
   },
   {
    "duration": 54,
    "start_time": "2022-11-13T22:54:15.828Z"
   },
   {
    "duration": 223,
    "start_time": "2022-11-13T22:55:06.492Z"
   },
   {
    "duration": 142,
    "start_time": "2022-11-13T22:55:12.278Z"
   },
   {
    "duration": 134,
    "start_time": "2022-11-13T23:00:21.802Z"
   },
   {
    "duration": 129,
    "start_time": "2022-11-13T23:00:43.428Z"
   },
   {
    "duration": 132,
    "start_time": "2022-11-13T23:00:48.113Z"
   },
   {
    "duration": 201,
    "start_time": "2022-11-13T23:16:22.041Z"
   },
   {
    "duration": 226,
    "start_time": "2022-11-13T23:18:10.838Z"
   },
   {
    "duration": 6,
    "start_time": "2022-11-13T23:21:50.086Z"
   },
   {
    "duration": 4,
    "start_time": "2022-11-13T23:21:58.342Z"
   },
   {
    "duration": 129,
    "start_time": "2022-11-13T23:23:37.517Z"
   },
   {
    "duration": 138,
    "start_time": "2022-11-13T23:23:46.092Z"
   },
   {
    "duration": 744,
    "start_time": "2022-11-13T23:24:01.908Z"
   },
   {
    "duration": 42,
    "start_time": "2022-11-13T23:24:02.654Z"
   },
   {
    "duration": 1851,
    "start_time": "2022-11-13T23:24:02.698Z"
   },
   {
    "duration": 11,
    "start_time": "2022-11-13T23:24:04.552Z"
   },
   {
    "duration": 6,
    "start_time": "2022-11-13T23:24:04.565Z"
   },
   {
    "duration": 14,
    "start_time": "2022-11-13T23:24:04.573Z"
   },
   {
    "duration": 23,
    "start_time": "2022-11-13T23:24:04.589Z"
   },
   {
    "duration": 7,
    "start_time": "2022-11-13T23:24:04.614Z"
   },
   {
    "duration": 19,
    "start_time": "2022-11-13T23:24:04.623Z"
   },
   {
    "duration": 20,
    "start_time": "2022-11-13T23:24:04.646Z"
   },
   {
    "duration": 12,
    "start_time": "2022-11-13T23:24:04.668Z"
   },
   {
    "duration": 7,
    "start_time": "2022-11-13T23:24:04.682Z"
   },
   {
    "duration": 11,
    "start_time": "2022-11-13T23:24:04.690Z"
   },
   {
    "duration": 7,
    "start_time": "2022-11-13T23:24:04.703Z"
   },
   {
    "duration": 10,
    "start_time": "2022-11-13T23:24:04.712Z"
   },
   {
    "duration": 21,
    "start_time": "2022-11-13T23:24:04.724Z"
   },
   {
    "duration": 21,
    "start_time": "2022-11-13T23:24:04.747Z"
   },
   {
    "duration": 21,
    "start_time": "2022-11-13T23:24:04.770Z"
   },
   {
    "duration": 21,
    "start_time": "2022-11-13T23:24:04.793Z"
   },
   {
    "duration": 19,
    "start_time": "2022-11-13T23:24:04.816Z"
   },
   {
    "duration": 19,
    "start_time": "2022-11-13T23:24:04.837Z"
   },
   {
    "duration": 14,
    "start_time": "2022-11-13T23:24:04.858Z"
   },
   {
    "duration": 7,
    "start_time": "2022-11-13T23:24:04.874Z"
   },
   {
    "duration": 7,
    "start_time": "2022-11-13T23:24:04.882Z"
   },
   {
    "duration": 5,
    "start_time": "2022-11-13T23:24:04.891Z"
   },
   {
    "duration": 7,
    "start_time": "2022-11-13T23:24:04.897Z"
   },
   {
    "duration": 27,
    "start_time": "2022-11-13T23:24:04.905Z"
   },
   {
    "duration": 4,
    "start_time": "2022-11-13T23:24:04.937Z"
   },
   {
    "duration": 53,
    "start_time": "2022-11-13T23:24:04.942Z"
   },
   {
    "duration": 5,
    "start_time": "2022-11-13T23:24:04.997Z"
   },
   {
    "duration": 25,
    "start_time": "2022-11-13T23:24:05.003Z"
   },
   {
    "duration": 25,
    "start_time": "2022-11-13T23:24:05.029Z"
   },
   {
    "duration": 49,
    "start_time": "2022-11-13T23:24:05.056Z"
   },
   {
    "duration": 10,
    "start_time": "2022-11-13T23:24:05.106Z"
   },
   {
    "duration": 320,
    "start_time": "2022-11-13T23:24:05.117Z"
   },
   {
    "duration": 4,
    "start_time": "2022-11-13T23:24:05.438Z"
   },
   {
    "duration": 79,
    "start_time": "2022-11-13T23:24:05.444Z"
   },
   {
    "duration": 20,
    "start_time": "2022-11-13T23:24:05.525Z"
   },
   {
    "duration": 171,
    "start_time": "2022-11-13T23:24:05.546Z"
   },
   {
    "duration": 181,
    "start_time": "2022-11-13T23:24:05.719Z"
   },
   {
    "duration": 159,
    "start_time": "2022-11-13T23:24:05.901Z"
   },
   {
    "duration": 275,
    "start_time": "2022-11-13T23:24:06.062Z"
   },
   {
    "duration": 140,
    "start_time": "2022-11-13T23:24:06.338Z"
   },
   {
    "duration": 172,
    "start_time": "2022-11-13T23:24:06.479Z"
   },
   {
    "duration": 9,
    "start_time": "2022-11-13T23:24:06.653Z"
   },
   {
    "duration": 178,
    "start_time": "2022-11-13T23:24:06.665Z"
   },
   {
    "duration": 124,
    "start_time": "2022-11-13T23:24:06.844Z"
   },
   {
    "duration": 147,
    "start_time": "2022-11-13T23:24:06.970Z"
   },
   {
    "duration": 159,
    "start_time": "2022-11-13T23:24:07.118Z"
   },
   {
    "duration": 9,
    "start_time": "2022-11-13T23:24:07.279Z"
   },
   {
    "duration": 164,
    "start_time": "2022-11-13T23:24:07.289Z"
   },
   {
    "duration": 7,
    "start_time": "2022-11-13T23:24:07.455Z"
   },
   {
    "duration": 161,
    "start_time": "2022-11-13T23:24:07.464Z"
   },
   {
    "duration": 135,
    "start_time": "2022-11-13T23:24:07.632Z"
   },
   {
    "duration": 142,
    "start_time": "2022-11-13T23:24:07.768Z"
   },
   {
    "duration": 232,
    "start_time": "2022-11-13T23:24:07.911Z"
   },
   {
    "duration": 162,
    "start_time": "2022-11-13T23:24:08.145Z"
   },
   {
    "duration": 164,
    "start_time": "2022-11-13T23:24:08.309Z"
   },
   {
    "duration": 144,
    "start_time": "2022-11-13T23:24:08.474Z"
   },
   {
    "duration": 204,
    "start_time": "2022-11-13T23:24:08.619Z"
   },
   {
    "duration": 200,
    "start_time": "2022-11-13T23:24:08.824Z"
   },
   {
    "duration": 154,
    "start_time": "2022-11-13T23:24:09.026Z"
   },
   {
    "duration": 202,
    "start_time": "2022-11-13T23:24:09.182Z"
   },
   {
    "duration": 136,
    "start_time": "2022-11-13T23:24:09.385Z"
   },
   {
    "duration": 200,
    "start_time": "2022-11-13T23:24:09.522Z"
   },
   {
    "duration": 141,
    "start_time": "2022-11-13T23:24:09.724Z"
   },
   {
    "duration": 277,
    "start_time": "2022-11-13T23:24:09.867Z"
   },
   {
    "duration": 196,
    "start_time": "2022-11-13T23:24:10.146Z"
   },
   {
    "duration": 5,
    "start_time": "2022-11-13T23:24:10.344Z"
   },
   {
    "duration": 128,
    "start_time": "2022-11-13T23:24:10.351Z"
   },
   {
    "duration": 20,
    "start_time": "2022-11-13T23:24:10.481Z"
   },
   {
    "duration": 37,
    "start_time": "2022-11-13T23:24:10.503Z"
   },
   {
    "duration": 157,
    "start_time": "2022-11-13T23:24:10.541Z"
   },
   {
    "duration": 1157,
    "start_time": "2022-11-14T14:48:25.395Z"
   },
   {
    "duration": 42,
    "start_time": "2022-11-14T14:48:26.554Z"
   },
   {
    "duration": 1935,
    "start_time": "2022-11-14T14:48:26.598Z"
   },
   {
    "duration": 9,
    "start_time": "2022-11-14T14:48:28.535Z"
   },
   {
    "duration": 11,
    "start_time": "2022-11-14T14:48:28.545Z"
   },
   {
    "duration": 20,
    "start_time": "2022-11-14T14:48:28.557Z"
   },
   {
    "duration": 11,
    "start_time": "2022-11-14T14:48:28.579Z"
   },
   {
    "duration": 23,
    "start_time": "2022-11-14T14:48:28.592Z"
   },
   {
    "duration": 18,
    "start_time": "2022-11-14T14:48:28.617Z"
   },
   {
    "duration": 27,
    "start_time": "2022-11-14T14:48:28.638Z"
   },
   {
    "duration": 24,
    "start_time": "2022-11-14T14:48:28.666Z"
   },
   {
    "duration": 21,
    "start_time": "2022-11-14T14:48:28.692Z"
   },
   {
    "duration": 56,
    "start_time": "2022-11-14T14:48:53.129Z"
   },
   {
    "duration": 10,
    "start_time": "2022-11-14T14:52:36.196Z"
   },
   {
    "duration": 135,
    "start_time": "2022-11-14T15:08:47.285Z"
   },
   {
    "duration": 51,
    "start_time": "2022-11-14T15:08:47.423Z"
   },
   {
    "duration": 2021,
    "start_time": "2022-11-14T15:08:47.476Z"
   },
   {
    "duration": 9,
    "start_time": "2022-11-14T15:08:49.499Z"
   },
   {
    "duration": 4,
    "start_time": "2022-11-14T15:08:49.510Z"
   },
   {
    "duration": 8,
    "start_time": "2022-11-14T15:08:49.516Z"
   },
   {
    "duration": 4,
    "start_time": "2022-11-14T15:08:49.526Z"
   },
   {
    "duration": 7,
    "start_time": "2022-11-14T15:08:49.531Z"
   },
   {
    "duration": 31,
    "start_time": "2022-11-14T15:08:49.539Z"
   },
   {
    "duration": 5,
    "start_time": "2022-11-14T15:08:49.573Z"
   },
   {
    "duration": 10,
    "start_time": "2022-11-14T15:08:49.579Z"
   },
   {
    "duration": 4,
    "start_time": "2022-11-14T15:08:49.591Z"
   },
   {
    "duration": 14,
    "start_time": "2022-11-14T15:08:49.597Z"
   },
   {
    "duration": 12,
    "start_time": "2022-11-14T15:08:49.613Z"
   },
   {
    "duration": 9,
    "start_time": "2022-11-14T15:08:49.627Z"
   },
   {
    "duration": 11,
    "start_time": "2022-11-14T15:08:49.669Z"
   },
   {
    "duration": 13,
    "start_time": "2022-11-14T15:08:49.682Z"
   },
   {
    "duration": 19,
    "start_time": "2022-11-14T15:08:49.697Z"
   },
   {
    "duration": 50,
    "start_time": "2022-11-14T15:08:49.718Z"
   },
   {
    "duration": 25,
    "start_time": "2022-11-14T15:08:49.770Z"
   },
   {
    "duration": 15,
    "start_time": "2022-11-14T15:08:49.796Z"
   },
   {
    "duration": 18,
    "start_time": "2022-11-14T15:08:49.813Z"
   },
   {
    "duration": 10,
    "start_time": "2022-11-14T15:08:49.833Z"
   },
   {
    "duration": 28,
    "start_time": "2022-11-14T15:08:49.845Z"
   },
   {
    "duration": 6,
    "start_time": "2022-11-14T15:08:49.875Z"
   },
   {
    "duration": 6,
    "start_time": "2022-11-14T15:08:49.883Z"
   },
   {
    "duration": 7,
    "start_time": "2022-11-14T15:08:49.891Z"
   },
   {
    "duration": 10,
    "start_time": "2022-11-14T15:08:49.904Z"
   },
   {
    "duration": 16,
    "start_time": "2022-11-14T15:08:49.916Z"
   },
   {
    "duration": 66,
    "start_time": "2022-11-14T15:08:49.933Z"
   },
   {
    "duration": 5,
    "start_time": "2022-11-14T15:08:50.001Z"
   },
   {
    "duration": 11,
    "start_time": "2022-11-14T15:08:50.008Z"
   },
   {
    "duration": 7,
    "start_time": "2022-11-14T15:08:50.020Z"
   },
   {
    "duration": 53,
    "start_time": "2022-11-14T15:08:50.029Z"
   },
   {
    "duration": 8,
    "start_time": "2022-11-14T15:08:50.084Z"
   },
   {
    "duration": 346,
    "start_time": "2022-11-14T15:08:50.093Z"
   },
   {
    "duration": 4,
    "start_time": "2022-11-14T15:08:50.441Z"
   },
   {
    "duration": 23,
    "start_time": "2022-11-14T15:08:50.447Z"
   },
   {
    "duration": 22,
    "start_time": "2022-11-14T15:08:50.471Z"
   },
   {
    "duration": 182,
    "start_time": "2022-11-14T15:08:50.494Z"
   },
   {
    "duration": 211,
    "start_time": "2022-11-14T15:08:50.678Z"
   },
   {
    "duration": 185,
    "start_time": "2022-11-14T15:08:50.891Z"
   },
   {
    "duration": 167,
    "start_time": "2022-11-14T15:08:51.079Z"
   },
   {
    "duration": 165,
    "start_time": "2022-11-14T15:08:51.248Z"
   },
   {
    "duration": 330,
    "start_time": "2022-11-14T15:08:51.415Z"
   },
   {
    "duration": 9,
    "start_time": "2022-11-14T15:08:51.747Z"
   },
   {
    "duration": 210,
    "start_time": "2022-11-14T15:08:51.768Z"
   },
   {
    "duration": 169,
    "start_time": "2022-11-14T15:08:51.982Z"
   },
   {
    "duration": 170,
    "start_time": "2022-11-14T15:08:52.154Z"
   },
   {
    "duration": 173,
    "start_time": "2022-11-14T15:08:52.326Z"
   },
   {
    "duration": 8,
    "start_time": "2022-11-14T15:08:52.501Z"
   },
   {
    "duration": 165,
    "start_time": "2022-11-14T15:08:52.510Z"
   },
   {
    "duration": 9,
    "start_time": "2022-11-14T15:08:52.677Z"
   },
   {
    "duration": 175,
    "start_time": "2022-11-14T15:08:52.688Z"
   },
   {
    "duration": 154,
    "start_time": "2022-11-14T15:08:52.864Z"
   },
   {
    "duration": 174,
    "start_time": "2022-11-14T15:08:53.019Z"
   },
   {
    "duration": 205,
    "start_time": "2022-11-14T15:08:53.195Z"
   },
   {
    "duration": 181,
    "start_time": "2022-11-14T15:08:53.401Z"
   },
   {
    "duration": 285,
    "start_time": "2022-11-14T15:08:53.583Z"
   },
   {
    "duration": 190,
    "start_time": "2022-11-14T15:08:53.870Z"
   },
   {
    "duration": 221,
    "start_time": "2022-11-14T15:08:54.062Z"
   },
   {
    "duration": 170,
    "start_time": "2022-11-14T15:08:54.285Z"
   },
   {
    "duration": 250,
    "start_time": "2022-11-14T15:08:54.457Z"
   },
   {
    "duration": 165,
    "start_time": "2022-11-14T15:08:54.709Z"
   },
   {
    "duration": 239,
    "start_time": "2022-11-14T15:08:54.877Z"
   },
   {
    "duration": 169,
    "start_time": "2022-11-14T15:08:55.118Z"
   },
   {
    "duration": 261,
    "start_time": "2022-11-14T15:08:55.289Z"
   },
   {
    "duration": 141,
    "start_time": "2022-11-14T15:08:55.552Z"
   },
   {
    "duration": 26,
    "start_time": "2022-11-14T15:08:55.694Z"
   },
   {
    "duration": 55,
    "start_time": "2022-11-14T15:08:57.950Z"
   },
   {
    "duration": 9,
    "start_time": "2022-11-14T15:09:09.520Z"
   },
   {
    "duration": 48,
    "start_time": "2022-11-14T15:09:16.226Z"
   },
   {
    "duration": 100,
    "start_time": "2022-11-14T15:10:07.483Z"
   },
   {
    "duration": 42,
    "start_time": "2022-11-14T15:10:07.586Z"
   },
   {
    "duration": 1976,
    "start_time": "2022-11-14T15:10:07.630Z"
   },
   {
    "duration": 8,
    "start_time": "2022-11-14T15:10:09.608Z"
   },
   {
    "duration": 13,
    "start_time": "2022-11-14T15:10:09.618Z"
   },
   {
    "duration": 16,
    "start_time": "2022-11-14T15:10:09.632Z"
   },
   {
    "duration": 17,
    "start_time": "2022-11-14T15:10:09.650Z"
   },
   {
    "duration": 15,
    "start_time": "2022-11-14T15:10:09.669Z"
   },
   {
    "duration": 22,
    "start_time": "2022-11-14T15:10:09.685Z"
   },
   {
    "duration": 8,
    "start_time": "2022-11-14T15:10:09.710Z"
   },
   {
    "duration": 24,
    "start_time": "2022-11-14T15:10:09.719Z"
   },
   {
    "duration": 16,
    "start_time": "2022-11-14T15:10:09.745Z"
   },
   {
    "duration": 24,
    "start_time": "2022-11-14T15:10:09.762Z"
   },
   {
    "duration": 10,
    "start_time": "2022-11-14T15:10:09.787Z"
   },
   {
    "duration": 25,
    "start_time": "2022-11-14T15:10:09.799Z"
   },
   {
    "duration": 13,
    "start_time": "2022-11-14T15:10:09.825Z"
   },
   {
    "duration": 16,
    "start_time": "2022-11-14T15:10:09.840Z"
   },
   {
    "duration": 18,
    "start_time": "2022-11-14T15:10:09.858Z"
   },
   {
    "duration": 26,
    "start_time": "2022-11-14T15:10:09.878Z"
   },
   {
    "duration": 28,
    "start_time": "2022-11-14T15:10:09.906Z"
   },
   {
    "duration": 27,
    "start_time": "2022-11-14T15:10:09.936Z"
   },
   {
    "duration": 25,
    "start_time": "2022-11-14T15:10:09.964Z"
   },
   {
    "duration": 23,
    "start_time": "2022-11-14T15:10:09.990Z"
   },
   {
    "duration": 33,
    "start_time": "2022-11-14T15:10:10.015Z"
   },
   {
    "duration": 21,
    "start_time": "2022-11-14T15:10:10.050Z"
   },
   {
    "duration": 13,
    "start_time": "2022-11-14T15:10:10.073Z"
   },
   {
    "duration": 19,
    "start_time": "2022-11-14T15:10:10.088Z"
   },
   {
    "duration": 20,
    "start_time": "2022-11-14T15:10:10.110Z"
   },
   {
    "duration": 17,
    "start_time": "2022-11-14T15:10:10.132Z"
   },
   {
    "duration": 4,
    "start_time": "2022-11-14T15:10:13.176Z"
   },
   {
    "duration": 105,
    "start_time": "2022-11-14T15:10:32.316Z"
   },
   {
    "duration": 46,
    "start_time": "2022-11-14T15:10:32.423Z"
   },
   {
    "duration": 1932,
    "start_time": "2022-11-14T15:10:32.471Z"
   },
   {
    "duration": 14,
    "start_time": "2022-11-14T15:10:34.407Z"
   },
   {
    "duration": 4,
    "start_time": "2022-11-14T15:10:34.423Z"
   },
   {
    "duration": 6,
    "start_time": "2022-11-14T15:10:34.429Z"
   },
   {
    "duration": 32,
    "start_time": "2022-11-14T15:10:34.437Z"
   },
   {
    "duration": 7,
    "start_time": "2022-11-14T15:10:34.480Z"
   },
   {
    "duration": 9,
    "start_time": "2022-11-14T15:10:34.495Z"
   },
   {
    "duration": 8,
    "start_time": "2022-11-14T15:10:34.508Z"
   },
   {
    "duration": 12,
    "start_time": "2022-11-14T15:10:34.518Z"
   },
   {
    "duration": 6,
    "start_time": "2022-11-14T15:10:34.532Z"
   },
   {
    "duration": 19,
    "start_time": "2022-11-14T15:10:34.539Z"
   },
   {
    "duration": 10,
    "start_time": "2022-11-14T15:10:34.559Z"
   },
   {
    "duration": 7,
    "start_time": "2022-11-14T15:10:34.570Z"
   },
   {
    "duration": 14,
    "start_time": "2022-11-14T15:10:34.579Z"
   },
   {
    "duration": 9,
    "start_time": "2022-11-14T15:10:34.594Z"
   },
   {
    "duration": 11,
    "start_time": "2022-11-14T15:10:34.604Z"
   },
   {
    "duration": 26,
    "start_time": "2022-11-14T15:10:34.616Z"
   },
   {
    "duration": 33,
    "start_time": "2022-11-14T15:10:34.643Z"
   },
   {
    "duration": 16,
    "start_time": "2022-11-14T15:10:34.678Z"
   },
   {
    "duration": 15,
    "start_time": "2022-11-14T15:10:34.696Z"
   },
   {
    "duration": 11,
    "start_time": "2022-11-14T15:10:34.712Z"
   },
   {
    "duration": 6,
    "start_time": "2022-11-14T15:10:34.725Z"
   },
   {
    "duration": 36,
    "start_time": "2022-11-14T15:10:34.732Z"
   },
   {
    "duration": 9,
    "start_time": "2022-11-14T15:10:34.770Z"
   },
   {
    "duration": 10,
    "start_time": "2022-11-14T15:10:34.780Z"
   },
   {
    "duration": 5,
    "start_time": "2022-11-14T15:10:34.793Z"
   },
   {
    "duration": 6,
    "start_time": "2022-11-14T15:10:34.800Z"
   },
   {
    "duration": 63,
    "start_time": "2022-11-14T15:10:34.808Z"
   },
   {
    "duration": 6,
    "start_time": "2022-11-14T15:10:34.873Z"
   },
   {
    "duration": 11,
    "start_time": "2022-11-14T15:10:34.880Z"
   },
   {
    "duration": 6,
    "start_time": "2022-11-14T15:10:34.892Z"
   },
   {
    "duration": 37,
    "start_time": "2022-11-14T15:10:34.900Z"
   },
   {
    "duration": 30,
    "start_time": "2022-11-14T15:10:34.939Z"
   },
   {
    "duration": 329,
    "start_time": "2022-11-14T15:10:34.971Z"
   },
   {
    "duration": 5,
    "start_time": "2022-11-14T15:10:35.302Z"
   },
   {
    "duration": 10,
    "start_time": "2022-11-14T15:10:35.308Z"
   },
   {
    "duration": 6,
    "start_time": "2022-11-14T15:10:35.319Z"
   },
   {
    "duration": 5,
    "start_time": "2022-11-14T15:10:46.602Z"
   },
   {
    "duration": 1233,
    "start_time": "2022-11-14T15:38:21.359Z"
   },
   {
    "duration": 98,
    "start_time": "2022-11-14T15:38:22.594Z"
   },
   {
    "duration": 4211,
    "start_time": "2022-11-14T15:38:22.694Z"
   },
   {
    "duration": 14,
    "start_time": "2022-11-14T15:38:26.908Z"
   },
   {
    "duration": 46,
    "start_time": "2022-11-14T15:38:26.924Z"
   },
   {
    "duration": 11,
    "start_time": "2022-11-14T15:38:26.971Z"
   },
   {
    "duration": 19,
    "start_time": "2022-11-14T15:38:26.984Z"
   },
   {
    "duration": 11,
    "start_time": "2022-11-14T15:38:27.004Z"
   },
   {
    "duration": 55,
    "start_time": "2022-11-14T15:38:27.016Z"
   },
   {
    "duration": 3,
    "start_time": "2022-11-14T15:38:27.075Z"
   },
   {
    "duration": 8,
    "start_time": "2022-11-14T15:38:27.080Z"
   },
   {
    "duration": 8,
    "start_time": "2022-11-14T15:38:27.089Z"
   },
   {
    "duration": 11,
    "start_time": "2022-11-14T15:38:27.098Z"
   },
   {
    "duration": 9,
    "start_time": "2022-11-14T15:38:27.169Z"
   },
   {
    "duration": 14,
    "start_time": "2022-11-14T15:38:27.179Z"
   },
   {
    "duration": 11,
    "start_time": "2022-11-14T15:38:27.195Z"
   },
   {
    "duration": 69,
    "start_time": "2022-11-14T15:38:27.208Z"
   },
   {
    "duration": 11,
    "start_time": "2022-11-14T15:38:27.280Z"
   },
   {
    "duration": 76,
    "start_time": "2022-11-14T15:38:27.292Z"
   },
   {
    "duration": 14,
    "start_time": "2022-11-14T15:38:27.370Z"
   },
   {
    "duration": 16,
    "start_time": "2022-11-14T15:38:27.386Z"
   },
   {
    "duration": 75,
    "start_time": "2022-11-14T15:38:27.403Z"
   },
   {
    "duration": 9,
    "start_time": "2022-11-14T15:38:27.480Z"
   },
   {
    "duration": 7,
    "start_time": "2022-11-14T15:38:27.491Z"
   },
   {
    "duration": 71,
    "start_time": "2022-11-14T15:38:27.501Z"
   },
   {
    "duration": 6,
    "start_time": "2022-11-14T15:38:27.574Z"
   },
   {
    "duration": 9,
    "start_time": "2022-11-14T15:38:27.582Z"
   },
   {
    "duration": 6,
    "start_time": "2022-11-14T15:38:27.595Z"
   },
   {
    "duration": 7,
    "start_time": "2022-11-14T15:38:27.602Z"
   },
   {
    "duration": 159,
    "start_time": "2022-11-14T15:38:27.611Z"
   },
   {
    "duration": 6,
    "start_time": "2022-11-14T15:38:27.772Z"
   },
   {
    "duration": 6,
    "start_time": "2022-11-14T15:38:27.779Z"
   },
   {
    "duration": 7,
    "start_time": "2022-11-14T15:38:27.787Z"
   },
   {
    "duration": 96,
    "start_time": "2022-11-14T15:38:27.795Z"
   },
   {
    "duration": 3,
    "start_time": "2022-11-14T15:38:27.893Z"
   },
   {
    "duration": 693,
    "start_time": "2022-11-14T15:38:27.897Z"
   },
   {
    "duration": 5,
    "start_time": "2022-11-14T15:38:28.592Z"
   },
   {
    "duration": 10,
    "start_time": "2022-11-14T15:38:28.598Z"
   },
   {
    "duration": 4,
    "start_time": "2022-11-14T15:38:28.669Z"
   },
   {
    "duration": 408,
    "start_time": "2022-11-14T15:38:28.675Z"
   },
   {
    "duration": 394,
    "start_time": "2022-11-14T15:38:29.085Z"
   },
   {
    "duration": 306,
    "start_time": "2022-11-14T15:38:29.481Z"
   },
   {
    "duration": 503,
    "start_time": "2022-11-14T15:38:29.789Z"
   },
   {
    "duration": 318,
    "start_time": "2022-11-14T15:38:30.294Z"
   },
   {
    "duration": 334,
    "start_time": "2022-11-14T15:38:30.669Z"
   },
   {
    "duration": 68,
    "start_time": "2022-11-14T15:38:31.005Z"
   },
   {
    "duration": 395,
    "start_time": "2022-11-14T15:38:31.075Z"
   },
   {
    "duration": 241,
    "start_time": "2022-11-14T15:38:31.472Z"
   },
   {
    "duration": 363,
    "start_time": "2022-11-14T15:38:31.715Z"
   },
   {
    "duration": 334,
    "start_time": "2022-11-14T15:38:32.079Z"
   },
   {
    "duration": 11,
    "start_time": "2022-11-14T15:38:32.468Z"
   },
   {
    "duration": 325,
    "start_time": "2022-11-14T15:38:32.481Z"
   },
   {
    "duration": 66,
    "start_time": "2022-11-14T15:38:32.808Z"
   },
   {
    "duration": 330,
    "start_time": "2022-11-14T15:38:32.875Z"
   },
   {
    "duration": 298,
    "start_time": "2022-11-14T15:38:33.207Z"
   },
   {
    "duration": 310,
    "start_time": "2022-11-14T15:38:33.506Z"
   },
   {
    "duration": 501,
    "start_time": "2022-11-14T15:38:33.868Z"
   },
   {
    "duration": 339,
    "start_time": "2022-11-14T15:38:34.371Z"
   },
   {
    "duration": 393,
    "start_time": "2022-11-14T15:38:34.712Z"
   },
   {
    "duration": 361,
    "start_time": "2022-11-14T15:38:35.107Z"
   },
   {
    "duration": 426,
    "start_time": "2022-11-14T15:38:35.471Z"
   },
   {
    "duration": 404,
    "start_time": "2022-11-14T15:38:35.900Z"
   },
   {
    "duration": 669,
    "start_time": "2022-11-14T15:38:36.306Z"
   },
   {
    "duration": 396,
    "start_time": "2022-11-14T15:38:36.976Z"
   },
   {
    "duration": 423,
    "start_time": "2022-11-14T15:38:37.373Z"
   },
   {
    "duration": 310,
    "start_time": "2022-11-14T15:38:37.798Z"
   },
   {
    "duration": 494,
    "start_time": "2022-11-14T15:38:38.110Z"
   },
   {
    "duration": 497,
    "start_time": "2022-11-14T15:38:38.606Z"
   },
   {
    "duration": 78,
    "start_time": "2022-11-14T15:38:39.105Z"
   },
   {
    "duration": 21,
    "start_time": "2022-11-14T15:38:39.184Z"
   },
   {
    "duration": 388,
    "start_time": "2022-11-14T15:38:39.207Z"
   },
   {
    "duration": 79,
    "start_time": "2022-11-14T17:36:38.220Z"
   },
   {
    "duration": 1165,
    "start_time": "2022-11-14T17:45:30.744Z"
   },
   {
    "duration": 45,
    "start_time": "2022-11-14T17:45:31.910Z"
   },
   {
    "duration": 1879,
    "start_time": "2022-11-14T17:45:31.956Z"
   },
   {
    "duration": 8,
    "start_time": "2022-11-14T17:45:33.838Z"
   },
   {
    "duration": 7,
    "start_time": "2022-11-14T17:45:33.848Z"
   },
   {
    "duration": 5,
    "start_time": "2022-11-14T17:45:33.856Z"
   },
   {
    "duration": 9,
    "start_time": "2022-11-14T17:45:33.863Z"
   },
   {
    "duration": 13,
    "start_time": "2022-11-14T17:45:33.873Z"
   },
   {
    "duration": 7,
    "start_time": "2022-11-14T17:45:33.888Z"
   },
   {
    "duration": 846,
    "start_time": "2022-11-14T17:45:33.897Z"
   },
   {
    "duration": 0,
    "start_time": "2022-11-14T17:45:34.745Z"
   },
   {
    "duration": 0,
    "start_time": "2022-11-14T17:45:34.747Z"
   },
   {
    "duration": 0,
    "start_time": "2022-11-14T17:45:34.748Z"
   },
   {
    "duration": 0,
    "start_time": "2022-11-14T17:45:34.749Z"
   },
   {
    "duration": 0,
    "start_time": "2022-11-14T17:45:34.750Z"
   },
   {
    "duration": 0,
    "start_time": "2022-11-14T17:45:34.751Z"
   },
   {
    "duration": 0,
    "start_time": "2022-11-14T17:45:34.752Z"
   },
   {
    "duration": 0,
    "start_time": "2022-11-14T17:45:34.753Z"
   },
   {
    "duration": 0,
    "start_time": "2022-11-14T17:45:34.754Z"
   },
   {
    "duration": 0,
    "start_time": "2022-11-14T17:45:34.755Z"
   },
   {
    "duration": 0,
    "start_time": "2022-11-14T17:45:34.756Z"
   },
   {
    "duration": 0,
    "start_time": "2022-11-14T17:45:34.757Z"
   },
   {
    "duration": 0,
    "start_time": "2022-11-14T17:45:34.759Z"
   },
   {
    "duration": 0,
    "start_time": "2022-11-14T17:45:34.760Z"
   },
   {
    "duration": 0,
    "start_time": "2022-11-14T17:45:34.761Z"
   },
   {
    "duration": 0,
    "start_time": "2022-11-14T17:45:34.762Z"
   },
   {
    "duration": 0,
    "start_time": "2022-11-14T17:45:34.763Z"
   },
   {
    "duration": 0,
    "start_time": "2022-11-14T17:45:34.764Z"
   },
   {
    "duration": 0,
    "start_time": "2022-11-14T17:45:34.765Z"
   },
   {
    "duration": 0,
    "start_time": "2022-11-14T17:45:34.766Z"
   },
   {
    "duration": 0,
    "start_time": "2022-11-14T17:45:34.767Z"
   },
   {
    "duration": 0,
    "start_time": "2022-11-14T17:45:34.768Z"
   },
   {
    "duration": 0,
    "start_time": "2022-11-14T17:45:34.769Z"
   },
   {
    "duration": 0,
    "start_time": "2022-11-14T17:45:34.770Z"
   },
   {
    "duration": 0,
    "start_time": "2022-11-14T17:45:34.771Z"
   },
   {
    "duration": 0,
    "start_time": "2022-11-14T17:45:34.772Z"
   },
   {
    "duration": 0,
    "start_time": "2022-11-14T17:45:34.773Z"
   },
   {
    "duration": 0,
    "start_time": "2022-11-14T17:45:34.774Z"
   },
   {
    "duration": 0,
    "start_time": "2022-11-14T17:45:34.775Z"
   },
   {
    "duration": 0,
    "start_time": "2022-11-14T17:45:34.776Z"
   },
   {
    "duration": 0,
    "start_time": "2022-11-14T17:45:34.778Z"
   },
   {
    "duration": 0,
    "start_time": "2022-11-14T17:45:34.778Z"
   },
   {
    "duration": 0,
    "start_time": "2022-11-14T17:45:34.780Z"
   },
   {
    "duration": 0,
    "start_time": "2022-11-14T17:45:34.781Z"
   },
   {
    "duration": 0,
    "start_time": "2022-11-14T17:45:34.782Z"
   },
   {
    "duration": 0,
    "start_time": "2022-11-14T17:45:34.820Z"
   },
   {
    "duration": 0,
    "start_time": "2022-11-14T17:45:34.827Z"
   },
   {
    "duration": 0,
    "start_time": "2022-11-14T17:45:34.828Z"
   },
   {
    "duration": 0,
    "start_time": "2022-11-14T17:45:34.829Z"
   },
   {
    "duration": 0,
    "start_time": "2022-11-14T17:45:34.829Z"
   },
   {
    "duration": 0,
    "start_time": "2022-11-14T17:45:34.830Z"
   },
   {
    "duration": 0,
    "start_time": "2022-11-14T17:45:34.831Z"
   },
   {
    "duration": 0,
    "start_time": "2022-11-14T17:45:34.832Z"
   },
   {
    "duration": 0,
    "start_time": "2022-11-14T17:45:34.834Z"
   },
   {
    "duration": 0,
    "start_time": "2022-11-14T17:45:34.834Z"
   },
   {
    "duration": 0,
    "start_time": "2022-11-14T17:45:34.836Z"
   },
   {
    "duration": 0,
    "start_time": "2022-11-14T17:45:34.836Z"
   },
   {
    "duration": 0,
    "start_time": "2022-11-14T17:45:34.837Z"
   },
   {
    "duration": 0,
    "start_time": "2022-11-14T17:45:34.838Z"
   },
   {
    "duration": 0,
    "start_time": "2022-11-14T17:45:34.839Z"
   },
   {
    "duration": 0,
    "start_time": "2022-11-14T17:45:34.840Z"
   },
   {
    "duration": 0,
    "start_time": "2022-11-14T17:45:34.841Z"
   },
   {
    "duration": 0,
    "start_time": "2022-11-14T17:45:34.842Z"
   },
   {
    "duration": 0,
    "start_time": "2022-11-14T17:45:34.843Z"
   },
   {
    "duration": 0,
    "start_time": "2022-11-14T17:45:34.844Z"
   },
   {
    "duration": 0,
    "start_time": "2022-11-14T17:45:34.845Z"
   },
   {
    "duration": 0,
    "start_time": "2022-11-14T17:45:34.846Z"
   },
   {
    "duration": 5,
    "start_time": "2022-11-14T17:45:57.347Z"
   },
   {
    "duration": 8,
    "start_time": "2022-11-14T17:45:57.931Z"
   },
   {
    "duration": 23,
    "start_time": "2022-11-14T17:47:30.512Z"
   },
   {
    "duration": 12,
    "start_time": "2022-11-14T17:47:40.598Z"
   },
   {
    "duration": 5,
    "start_time": "2022-11-14T17:48:34.387Z"
   },
   {
    "duration": 6,
    "start_time": "2022-11-14T17:48:37.232Z"
   },
   {
    "duration": 13,
    "start_time": "2022-11-14T17:52:08.718Z"
   },
   {
    "duration": 6,
    "start_time": "2022-11-14T17:52:09.140Z"
   },
   {
    "duration": 6,
    "start_time": "2022-11-14T17:56:07.155Z"
   },
   {
    "duration": 6,
    "start_time": "2022-11-14T17:56:17.047Z"
   },
   {
    "duration": 15,
    "start_time": "2022-11-14T18:03:14.204Z"
   },
   {
    "duration": 43,
    "start_time": "2022-11-14T18:03:24.833Z"
   },
   {
    "duration": 9,
    "start_time": "2022-11-14T18:03:40.741Z"
   },
   {
    "duration": 47,
    "start_time": "2022-11-14T18:04:17.085Z"
   },
   {
    "duration": 7,
    "start_time": "2022-11-14T18:06:12.238Z"
   },
   {
    "duration": 81,
    "start_time": "2022-11-14T18:06:21.588Z"
   },
   {
    "duration": 9,
    "start_time": "2022-11-14T18:12:03.076Z"
   },
   {
    "duration": 4,
    "start_time": "2022-11-14T18:14:38.888Z"
   },
   {
    "duration": 5,
    "start_time": "2022-11-14T18:14:44.259Z"
   },
   {
    "duration": 12,
    "start_time": "2022-11-14T18:15:57.079Z"
   },
   {
    "duration": 37,
    "start_time": "2022-11-14T18:16:10.832Z"
   },
   {
    "duration": 40,
    "start_time": "2022-11-14T18:16:44.155Z"
   },
   {
    "duration": 38,
    "start_time": "2022-11-14T18:16:52.453Z"
   },
   {
    "duration": 39,
    "start_time": "2022-11-14T18:17:07.840Z"
   },
   {
    "duration": 45,
    "start_time": "2022-11-14T18:17:18.920Z"
   },
   {
    "duration": 809,
    "start_time": "2022-11-14T18:18:33.393Z"
   },
   {
    "duration": 40,
    "start_time": "2022-11-14T18:19:03.613Z"
   },
   {
    "duration": 4,
    "start_time": "2022-11-14T18:19:48.356Z"
   },
   {
    "duration": 45,
    "start_time": "2022-11-14T18:19:58.778Z"
   },
   {
    "duration": 44,
    "start_time": "2022-11-14T18:20:09.218Z"
   },
   {
    "duration": 43,
    "start_time": "2022-11-14T18:20:34.452Z"
   },
   {
    "duration": 40,
    "start_time": "2022-11-14T18:21:13.007Z"
   },
   {
    "duration": 16,
    "start_time": "2022-11-14T18:21:16.539Z"
   },
   {
    "duration": 40,
    "start_time": "2022-11-14T18:21:17.597Z"
   },
   {
    "duration": 20,
    "start_time": "2022-11-14T18:21:51.450Z"
   },
   {
    "duration": 38,
    "start_time": "2022-11-14T18:21:52.461Z"
   },
   {
    "duration": 170,
    "start_time": "2022-11-14T18:22:41.998Z"
   },
   {
    "duration": 184,
    "start_time": "2022-11-14T18:22:44.180Z"
   },
   {
    "duration": 22,
    "start_time": "2022-11-14T18:24:43.848Z"
   },
   {
    "duration": 35,
    "start_time": "2022-11-14T18:24:44.168Z"
   },
   {
    "duration": 20,
    "start_time": "2022-11-14T18:25:09.135Z"
   },
   {
    "duration": 39,
    "start_time": "2022-11-14T18:25:09.964Z"
   },
   {
    "duration": 685,
    "start_time": "2022-11-14T18:25:23.468Z"
   },
   {
    "duration": 39,
    "start_time": "2022-11-14T18:25:24.154Z"
   },
   {
    "duration": 1922,
    "start_time": "2022-11-14T18:25:24.194Z"
   },
   {
    "duration": 19,
    "start_time": "2022-11-14T18:25:26.117Z"
   },
   {
    "duration": 19,
    "start_time": "2022-11-14T18:25:26.138Z"
   },
   {
    "duration": 17,
    "start_time": "2022-11-14T18:25:26.159Z"
   },
   {
    "duration": 15,
    "start_time": "2022-11-14T18:25:26.178Z"
   },
   {
    "duration": 15,
    "start_time": "2022-11-14T18:25:26.195Z"
   },
   {
    "duration": 35,
    "start_time": "2022-11-14T18:25:26.212Z"
   },
   {
    "duration": 29,
    "start_time": "2022-11-14T18:25:26.251Z"
   },
   {
    "duration": 31,
    "start_time": "2022-11-14T18:25:26.282Z"
   },
   {
    "duration": 26,
    "start_time": "2022-11-14T18:25:26.315Z"
   },
   {
    "duration": 22,
    "start_time": "2022-11-14T18:25:26.343Z"
   },
   {
    "duration": 75,
    "start_time": "2022-11-14T18:25:26.367Z"
   },
   {
    "duration": 14,
    "start_time": "2022-11-14T18:25:26.443Z"
   },
   {
    "duration": 20,
    "start_time": "2022-11-14T18:25:26.459Z"
   },
   {
    "duration": 13,
    "start_time": "2022-11-14T18:25:26.480Z"
   },
   {
    "duration": 15,
    "start_time": "2022-11-14T18:25:26.494Z"
   },
   {
    "duration": 21,
    "start_time": "2022-11-14T18:25:26.511Z"
   },
   {
    "duration": 14,
    "start_time": "2022-11-14T18:25:26.534Z"
   },
   {
    "duration": 6,
    "start_time": "2022-11-14T18:25:26.550Z"
   },
   {
    "duration": 10,
    "start_time": "2022-11-14T18:25:26.557Z"
   },
   {
    "duration": 12,
    "start_time": "2022-11-14T18:25:26.568Z"
   },
   {
    "duration": 6,
    "start_time": "2022-11-14T18:25:26.581Z"
   },
   {
    "duration": 34,
    "start_time": "2022-11-14T18:25:26.589Z"
   },
   {
    "duration": 40,
    "start_time": "2022-11-14T18:25:26.626Z"
   },
   {
    "duration": 35,
    "start_time": "2022-11-14T18:25:26.669Z"
   },
   {
    "duration": 14,
    "start_time": "2022-11-14T18:25:26.708Z"
   },
   {
    "duration": 23,
    "start_time": "2022-11-14T18:25:26.723Z"
   },
   {
    "duration": 8,
    "start_time": "2022-11-14T18:25:26.748Z"
   },
   {
    "duration": 37,
    "start_time": "2022-11-14T18:25:26.757Z"
   },
   {
    "duration": 3,
    "start_time": "2022-11-14T18:25:26.796Z"
   },
   {
    "duration": 291,
    "start_time": "2022-11-14T18:25:26.801Z"
   },
   {
    "duration": 4,
    "start_time": "2022-11-14T18:25:27.094Z"
   },
   {
    "duration": 179,
    "start_time": "2022-11-14T18:25:27.099Z"
   },
   {
    "duration": 143,
    "start_time": "2022-11-14T18:25:27.280Z"
   },
   {
    "duration": 160,
    "start_time": "2022-11-14T18:25:27.425Z"
   },
   {
    "duration": 256,
    "start_time": "2022-11-14T18:25:27.587Z"
   },
   {
    "duration": 159,
    "start_time": "2022-11-14T18:25:27.845Z"
   },
   {
    "duration": 29,
    "start_time": "2022-11-14T18:25:28.006Z"
   },
   {
    "duration": 159,
    "start_time": "2022-11-14T18:25:28.037Z"
   },
   {
    "duration": 129,
    "start_time": "2022-11-14T18:25:28.197Z"
   },
   {
    "duration": 150,
    "start_time": "2022-11-14T18:25:28.327Z"
   },
   {
    "duration": 168,
    "start_time": "2022-11-14T18:25:28.479Z"
   },
   {
    "duration": 8,
    "start_time": "2022-11-14T18:25:28.648Z"
   },
   {
    "duration": 160,
    "start_time": "2022-11-14T18:25:28.657Z"
   },
   {
    "duration": 19,
    "start_time": "2022-11-14T18:25:28.822Z"
   },
   {
    "duration": 159,
    "start_time": "2022-11-14T18:25:28.843Z"
   },
   {
    "duration": 153,
    "start_time": "2022-11-14T18:25:29.003Z"
   },
   {
    "duration": 144,
    "start_time": "2022-11-14T18:25:29.158Z"
   },
   {
    "duration": 160,
    "start_time": "2022-11-14T18:25:29.303Z"
   },
   {
    "duration": 232,
    "start_time": "2022-11-14T18:25:29.465Z"
   },
   {
    "duration": 166,
    "start_time": "2022-11-14T18:25:29.699Z"
   },
   {
    "duration": 154,
    "start_time": "2022-11-14T18:25:29.866Z"
   },
   {
    "duration": 200,
    "start_time": "2022-11-14T18:25:30.026Z"
   },
   {
    "duration": 139,
    "start_time": "2022-11-14T18:25:30.232Z"
   },
   {
    "duration": 201,
    "start_time": "2022-11-14T18:25:30.374Z"
   },
   {
    "duration": 140,
    "start_time": "2022-11-14T18:25:30.577Z"
   },
   {
    "duration": 218,
    "start_time": "2022-11-14T18:25:30.718Z"
   },
   {
    "duration": 128,
    "start_time": "2022-11-14T18:25:30.937Z"
   },
   {
    "duration": 204,
    "start_time": "2022-11-14T18:25:31.067Z"
   },
   {
    "duration": 117,
    "start_time": "2022-11-14T18:25:31.272Z"
   },
   {
    "duration": 18,
    "start_time": "2022-11-14T18:25:31.390Z"
   },
   {
    "duration": 111,
    "start_time": "2022-11-14T18:25:31.409Z"
   },
   {
    "duration": 155,
    "start_time": "2022-11-14T18:25:31.532Z"
   },
   {
    "duration": 23,
    "start_time": "2022-11-14T18:26:43.196Z"
   },
   {
    "duration": 33,
    "start_time": "2022-11-14T18:26:43.836Z"
   },
   {
    "duration": 753,
    "start_time": "2022-11-14T18:28:21.133Z"
   },
   {
    "duration": 52,
    "start_time": "2022-11-14T18:28:21.888Z"
   },
   {
    "duration": 1847,
    "start_time": "2022-11-14T18:28:21.941Z"
   },
   {
    "duration": 10,
    "start_time": "2022-11-14T18:28:23.790Z"
   },
   {
    "duration": 7,
    "start_time": "2022-11-14T18:28:23.801Z"
   },
   {
    "duration": 6,
    "start_time": "2022-11-14T18:28:23.809Z"
   },
   {
    "duration": 18,
    "start_time": "2022-11-14T18:28:23.816Z"
   },
   {
    "duration": 11,
    "start_time": "2022-11-14T18:28:23.836Z"
   },
   {
    "duration": 11,
    "start_time": "2022-11-14T18:28:23.848Z"
   },
   {
    "duration": 6,
    "start_time": "2022-11-14T18:28:23.862Z"
   },
   {
    "duration": 9,
    "start_time": "2022-11-14T18:28:23.870Z"
   },
   {
    "duration": 7,
    "start_time": "2022-11-14T18:28:23.880Z"
   },
   {
    "duration": 9,
    "start_time": "2022-11-14T18:28:23.888Z"
   },
   {
    "duration": 26,
    "start_time": "2022-11-14T18:28:23.899Z"
   },
   {
    "duration": 16,
    "start_time": "2022-11-14T18:28:23.926Z"
   },
   {
    "duration": 20,
    "start_time": "2022-11-14T18:28:23.944Z"
   },
   {
    "duration": 20,
    "start_time": "2022-11-14T18:28:23.966Z"
   },
   {
    "duration": 14,
    "start_time": "2022-11-14T18:28:23.987Z"
   },
   {
    "duration": 28,
    "start_time": "2022-11-14T18:28:24.002Z"
   },
   {
    "duration": 14,
    "start_time": "2022-11-14T18:28:24.031Z"
   },
   {
    "duration": 6,
    "start_time": "2022-11-14T18:28:24.047Z"
   },
   {
    "duration": 6,
    "start_time": "2022-11-14T18:28:24.055Z"
   },
   {
    "duration": 9,
    "start_time": "2022-11-14T18:28:24.063Z"
   },
   {
    "duration": 5,
    "start_time": "2022-11-14T18:28:24.074Z"
   },
   {
    "duration": 29,
    "start_time": "2022-11-14T18:28:24.080Z"
   },
   {
    "duration": 51,
    "start_time": "2022-11-14T18:28:24.110Z"
   },
   {
    "duration": 40,
    "start_time": "2022-11-14T18:28:24.163Z"
   },
   {
    "duration": 11,
    "start_time": "2022-11-14T18:28:24.224Z"
   },
   {
    "duration": 10,
    "start_time": "2022-11-14T18:28:24.237Z"
   },
   {
    "duration": 14,
    "start_time": "2022-11-14T18:28:24.249Z"
   },
   {
    "duration": 33,
    "start_time": "2022-11-14T18:28:24.265Z"
   },
   {
    "duration": 2,
    "start_time": "2022-11-14T18:28:24.300Z"
   },
   {
    "duration": 296,
    "start_time": "2022-11-14T18:28:24.303Z"
   },
   {
    "duration": 4,
    "start_time": "2022-11-14T18:28:24.601Z"
   },
   {
    "duration": 228,
    "start_time": "2022-11-14T18:28:24.607Z"
   },
   {
    "duration": 133,
    "start_time": "2022-11-14T18:28:24.836Z"
   },
   {
    "duration": 161,
    "start_time": "2022-11-14T18:28:24.971Z"
   },
   {
    "duration": 269,
    "start_time": "2022-11-14T18:28:25.134Z"
   },
   {
    "duration": 178,
    "start_time": "2022-11-14T18:28:25.406Z"
   },
   {
    "duration": 7,
    "start_time": "2022-11-14T18:28:25.586Z"
   },
   {
    "duration": 178,
    "start_time": "2022-11-14T18:28:25.595Z"
   },
   {
    "duration": 129,
    "start_time": "2022-11-14T18:28:25.775Z"
   },
   {
    "duration": 149,
    "start_time": "2022-11-14T18:28:25.905Z"
   },
   {
    "duration": 157,
    "start_time": "2022-11-14T18:28:26.056Z"
   },
   {
    "duration": 149,
    "start_time": "2022-11-14T18:28:26.227Z"
   },
   {
    "duration": 194,
    "start_time": "2022-11-14T18:28:26.378Z"
   },
   {
    "duration": 202,
    "start_time": "2022-11-14T18:28:26.574Z"
   },
   {
    "duration": 163,
    "start_time": "2022-11-14T18:28:26.778Z"
   },
   {
    "duration": 148,
    "start_time": "2022-11-14T18:28:26.943Z"
   },
   {
    "duration": 276,
    "start_time": "2022-11-14T18:28:27.092Z"
   },
   {
    "duration": 176,
    "start_time": "2022-11-14T18:28:27.370Z"
   },
   {
    "duration": 197,
    "start_time": "2022-11-14T18:28:27.548Z"
   },
   {
    "duration": 227,
    "start_time": "2022-11-14T18:28:27.746Z"
   },
   {
    "duration": 195,
    "start_time": "2022-11-14T18:28:27.974Z"
   },
   {
    "duration": 228,
    "start_time": "2022-11-14T18:28:28.170Z"
   },
   {
    "duration": 181,
    "start_time": "2022-11-14T18:28:28.399Z"
   },
   {
    "duration": 216,
    "start_time": "2022-11-14T18:28:28.582Z"
   },
   {
    "duration": 175,
    "start_time": "2022-11-14T18:28:28.800Z"
   },
   {
    "duration": 225,
    "start_time": "2022-11-14T18:28:28.976Z"
   },
   {
    "duration": 164,
    "start_time": "2022-11-14T18:28:29.202Z"
   },
   {
    "duration": 25,
    "start_time": "2022-11-14T18:28:29.368Z"
   },
   {
    "duration": 108,
    "start_time": "2022-11-14T18:28:29.395Z"
   },
   {
    "duration": 189,
    "start_time": "2022-11-14T18:28:29.504Z"
   },
   {
    "duration": 71,
    "start_time": "2022-11-14T18:34:33.915Z"
   },
   {
    "duration": 4,
    "start_time": "2022-11-14T18:35:09.147Z"
   },
   {
    "duration": 7,
    "start_time": "2022-11-14T18:39:11.392Z"
   },
   {
    "duration": 4,
    "start_time": "2022-11-14T18:39:15.300Z"
   },
   {
    "duration": 163,
    "start_time": "2022-11-14T18:41:57.142Z"
   },
   {
    "duration": 736,
    "start_time": "2022-11-14T18:42:05.148Z"
   },
   {
    "duration": 50,
    "start_time": "2022-11-14T18:42:05.885Z"
   },
   {
    "duration": 1955,
    "start_time": "2022-11-14T18:42:05.937Z"
   },
   {
    "duration": 11,
    "start_time": "2022-11-14T18:42:07.894Z"
   },
   {
    "duration": 12,
    "start_time": "2022-11-14T18:42:07.906Z"
   },
   {
    "duration": 36,
    "start_time": "2022-11-14T18:42:07.919Z"
   },
   {
    "duration": 16,
    "start_time": "2022-11-14T18:42:07.957Z"
   },
   {
    "duration": 11,
    "start_time": "2022-11-14T18:42:07.975Z"
   },
   {
    "duration": 19,
    "start_time": "2022-11-14T18:42:07.987Z"
   },
   {
    "duration": 17,
    "start_time": "2022-11-14T18:42:08.009Z"
   },
   {
    "duration": 31,
    "start_time": "2022-11-14T18:42:08.032Z"
   },
   {
    "duration": 21,
    "start_time": "2022-11-14T18:42:08.065Z"
   },
   {
    "duration": 16,
    "start_time": "2022-11-14T18:42:08.087Z"
   },
   {
    "duration": 30,
    "start_time": "2022-11-14T18:42:08.105Z"
   },
   {
    "duration": 29,
    "start_time": "2022-11-14T18:42:08.137Z"
   },
   {
    "duration": 29,
    "start_time": "2022-11-14T18:42:08.168Z"
   },
   {
    "duration": 35,
    "start_time": "2022-11-14T18:42:08.199Z"
   },
   {
    "duration": 25,
    "start_time": "2022-11-14T18:42:08.236Z"
   },
   {
    "duration": 20,
    "start_time": "2022-11-14T18:42:08.262Z"
   },
   {
    "duration": 25,
    "start_time": "2022-11-14T18:42:08.283Z"
   },
   {
    "duration": 27,
    "start_time": "2022-11-14T18:42:08.309Z"
   },
   {
    "duration": 34,
    "start_time": "2022-11-14T18:42:08.337Z"
   },
   {
    "duration": 26,
    "start_time": "2022-11-14T18:42:08.373Z"
   },
   {
    "duration": 6,
    "start_time": "2022-11-14T18:42:08.401Z"
   },
   {
    "duration": 51,
    "start_time": "2022-11-14T18:42:08.409Z"
   },
   {
    "duration": 4,
    "start_time": "2022-11-14T18:42:08.461Z"
   },
   {
    "duration": 69,
    "start_time": "2022-11-14T18:42:08.466Z"
   },
   {
    "duration": 6,
    "start_time": "2022-11-14T18:42:08.540Z"
   },
   {
    "duration": 22,
    "start_time": "2022-11-14T18:42:08.548Z"
   },
   {
    "duration": 28,
    "start_time": "2022-11-14T18:42:08.572Z"
   },
   {
    "duration": 57,
    "start_time": "2022-11-14T18:42:08.602Z"
   },
   {
    "duration": 3,
    "start_time": "2022-11-14T18:42:08.661Z"
   },
   {
    "duration": 310,
    "start_time": "2022-11-14T18:42:08.666Z"
   },
   {
    "duration": 4,
    "start_time": "2022-11-14T18:42:08.978Z"
   },
   {
    "duration": 204,
    "start_time": "2022-11-14T18:42:08.984Z"
   },
   {
    "duration": 146,
    "start_time": "2022-11-14T18:42:09.190Z"
   },
   {
    "duration": 156,
    "start_time": "2022-11-14T18:42:09.338Z"
   },
   {
    "duration": 235,
    "start_time": "2022-11-14T18:42:09.495Z"
   },
   {
    "duration": 159,
    "start_time": "2022-11-14T18:42:09.735Z"
   },
   {
    "duration": 7,
    "start_time": "2022-11-14T18:42:09.895Z"
   },
   {
    "duration": 179,
    "start_time": "2022-11-14T18:42:09.904Z"
   },
   {
    "duration": 124,
    "start_time": "2022-11-14T18:42:10.084Z"
   },
   {
    "duration": 150,
    "start_time": "2022-11-14T18:42:10.209Z"
   },
   {
    "duration": 175,
    "start_time": "2022-11-14T18:42:10.361Z"
   },
   {
    "duration": 152,
    "start_time": "2022-11-14T18:42:10.538Z"
   },
   {
    "duration": 156,
    "start_time": "2022-11-14T18:42:10.692Z"
   },
   {
    "duration": 186,
    "start_time": "2022-11-14T18:42:10.850Z"
   },
   {
    "duration": 137,
    "start_time": "2022-11-14T18:42:11.038Z"
   },
   {
    "duration": 150,
    "start_time": "2022-11-14T18:42:11.176Z"
   },
   {
    "duration": 254,
    "start_time": "2022-11-14T18:42:11.328Z"
   },
   {
    "duration": 174,
    "start_time": "2022-11-14T18:42:11.583Z"
   },
   {
    "duration": 182,
    "start_time": "2022-11-14T18:42:11.759Z"
   },
   {
    "duration": 215,
    "start_time": "2022-11-14T18:42:11.943Z"
   },
   {
    "duration": 186,
    "start_time": "2022-11-14T18:42:12.159Z"
   },
   {
    "duration": 208,
    "start_time": "2022-11-14T18:42:12.347Z"
   },
   {
    "duration": 184,
    "start_time": "2022-11-14T18:42:12.557Z"
   },
   {
    "duration": 223,
    "start_time": "2022-11-14T18:42:12.743Z"
   },
   {
    "duration": 174,
    "start_time": "2022-11-14T18:42:12.967Z"
   },
   {
    "duration": 229,
    "start_time": "2022-11-14T18:42:13.143Z"
   },
   {
    "duration": 165,
    "start_time": "2022-11-14T18:42:13.373Z"
   },
   {
    "duration": 24,
    "start_time": "2022-11-14T18:42:13.541Z"
   },
   {
    "duration": 97,
    "start_time": "2022-11-14T18:42:13.567Z"
   },
   {
    "duration": 190,
    "start_time": "2022-11-14T18:42:13.665Z"
   },
   {
    "duration": 15,
    "start_time": "2022-11-14T18:42:39.118Z"
   },
   {
    "duration": 73,
    "start_time": "2022-11-14T18:50:43.667Z"
   },
   {
    "duration": 9,
    "start_time": "2022-11-14T18:53:22.109Z"
   },
   {
    "duration": 15,
    "start_time": "2022-11-14T18:53:32.784Z"
   },
   {
    "duration": 131,
    "start_time": "2022-11-14T18:53:46.484Z"
   },
   {
    "duration": 145,
    "start_time": "2022-11-14T18:54:04.058Z"
   },
   {
    "duration": 12,
    "start_time": "2022-11-14T18:54:37.932Z"
   },
   {
    "duration": 21,
    "start_time": "2022-11-14T18:55:49.688Z"
   },
   {
    "duration": 18,
    "start_time": "2022-11-14T18:56:08.065Z"
   },
   {
    "duration": 26,
    "start_time": "2022-11-14T18:56:13.613Z"
   },
   {
    "duration": 22,
    "start_time": "2022-11-14T18:56:16.085Z"
   },
   {
    "duration": 21,
    "start_time": "2022-11-14T18:56:33.685Z"
   },
   {
    "duration": 10,
    "start_time": "2022-11-14T18:56:43.534Z"
   },
   {
    "duration": 20,
    "start_time": "2022-11-14T18:59:05.840Z"
   },
   {
    "duration": 19,
    "start_time": "2022-11-14T18:59:10.269Z"
   },
   {
    "duration": 6,
    "start_time": "2022-11-14T19:00:57.394Z"
   },
   {
    "duration": 21,
    "start_time": "2022-11-14T19:01:18.351Z"
   },
   {
    "duration": 13,
    "start_time": "2022-11-14T19:03:16.483Z"
   },
   {
    "duration": 1087,
    "start_time": "2022-11-14T19:04:32.209Z"
   },
   {
    "duration": 20,
    "start_time": "2022-11-14T19:04:46.412Z"
   },
   {
    "duration": 21,
    "start_time": "2022-11-14T19:05:23.432Z"
   },
   {
    "duration": 6,
    "start_time": "2022-11-14T19:05:35.425Z"
   },
   {
    "duration": 5,
    "start_time": "2022-11-14T19:05:44.440Z"
   },
   {
    "duration": 13,
    "start_time": "2022-11-14T19:05:51.544Z"
   },
   {
    "duration": 11,
    "start_time": "2022-11-14T19:07:47.888Z"
   },
   {
    "duration": 4,
    "start_time": "2022-11-14T19:07:57.476Z"
   },
   {
    "duration": 8,
    "start_time": "2022-11-14T19:08:17.746Z"
   },
   {
    "duration": 21,
    "start_time": "2022-11-14T19:08:30.233Z"
   },
   {
    "duration": 26,
    "start_time": "2022-11-14T19:08:32.900Z"
   },
   {
    "duration": 9,
    "start_time": "2022-11-14T19:08:43.668Z"
   },
   {
    "duration": 17,
    "start_time": "2022-11-14T19:09:26.938Z"
   },
   {
    "duration": 8,
    "start_time": "2022-11-14T19:10:07.269Z"
   },
   {
    "duration": 26,
    "start_time": "2022-11-14T19:12:47.617Z"
   },
   {
    "duration": 21,
    "start_time": "2022-11-14T19:12:51.397Z"
   },
   {
    "duration": 4,
    "start_time": "2022-11-14T19:13:05.365Z"
   },
   {
    "duration": 7,
    "start_time": "2022-11-14T19:13:09.678Z"
   },
   {
    "duration": 7,
    "start_time": "2022-11-14T19:13:19.351Z"
   },
   {
    "duration": 5,
    "start_time": "2022-11-14T19:13:36.431Z"
   },
   {
    "duration": 11,
    "start_time": "2022-11-14T19:18:14.766Z"
   },
   {
    "duration": 3,
    "start_time": "2022-11-14T19:18:29.167Z"
   },
   {
    "duration": 10,
    "start_time": "2022-11-14T19:18:36.243Z"
   },
   {
    "duration": 15,
    "start_time": "2022-11-14T19:18:45.485Z"
   },
   {
    "duration": 25,
    "start_time": "2022-11-14T19:18:55.467Z"
   },
   {
    "duration": 10,
    "start_time": "2022-11-14T19:19:33.032Z"
   },
   {
    "duration": 10,
    "start_time": "2022-11-14T19:20:03.965Z"
   },
   {
    "duration": 1399,
    "start_time": "2022-11-14T19:20:22.571Z"
   },
   {
    "duration": 133,
    "start_time": "2022-11-14T19:20:47.804Z"
   },
   {
    "duration": 124,
    "start_time": "2022-11-14T19:21:08.789Z"
   },
   {
    "duration": 8,
    "start_time": "2022-11-14T19:27:02.676Z"
   },
   {
    "duration": 103,
    "start_time": "2022-11-14T19:27:12.100Z"
   },
   {
    "duration": 20,
    "start_time": "2022-11-14T19:30:05.415Z"
   },
   {
    "duration": 9,
    "start_time": "2022-11-14T19:30:39.244Z"
   },
   {
    "duration": 12,
    "start_time": "2022-11-14T19:30:46.365Z"
   },
   {
    "duration": 125,
    "start_time": "2022-11-14T19:30:56.136Z"
   },
   {
    "duration": 131,
    "start_time": "2022-11-14T19:31:20.612Z"
   },
   {
    "duration": 143,
    "start_time": "2022-11-14T19:31:24.136Z"
   },
   {
    "duration": 61,
    "start_time": "2022-11-14T19:31:53.132Z"
   },
   {
    "duration": 218,
    "start_time": "2022-11-14T19:31:57.864Z"
   },
   {
    "duration": 861,
    "start_time": "2022-11-14T19:32:25.140Z"
   },
   {
    "duration": 1277,
    "start_time": "2022-11-14T19:32:34.593Z"
   },
   {
    "duration": 682,
    "start_time": "2022-11-14T19:32:37.918Z"
   },
   {
    "duration": 11,
    "start_time": "2022-11-14T19:32:45.073Z"
   },
   {
    "duration": 114,
    "start_time": "2022-11-14T19:33:38.979Z"
   },
   {
    "duration": 169,
    "start_time": "2022-11-14T19:33:42.234Z"
   },
   {
    "duration": 34,
    "start_time": "2022-11-14T19:35:46.209Z"
   },
   {
    "duration": 56,
    "start_time": "2022-11-14T19:36:06.757Z"
   },
   {
    "duration": 9,
    "start_time": "2022-11-14T19:36:25.143Z"
   },
   {
    "duration": 7,
    "start_time": "2022-11-14T19:43:46.072Z"
   },
   {
    "duration": 92,
    "start_time": "2022-11-14T19:43:50.415Z"
   },
   {
    "duration": 135,
    "start_time": "2022-11-14T19:44:40.864Z"
   },
   {
    "duration": 137,
    "start_time": "2022-11-14T19:44:49.995Z"
   },
   {
    "duration": 10,
    "start_time": "2022-11-14T19:46:36.033Z"
   },
   {
    "duration": 9,
    "start_time": "2022-11-14T19:46:44.197Z"
   },
   {
    "duration": 12,
    "start_time": "2022-11-14T19:46:49.457Z"
   },
   {
    "duration": 89,
    "start_time": "2022-11-14T19:47:10.134Z"
   },
   {
    "duration": 9,
    "start_time": "2022-11-14T19:47:42.394Z"
   },
   {
    "duration": 13,
    "start_time": "2022-11-14T19:47:46.669Z"
   },
   {
    "duration": 158,
    "start_time": "2022-11-14T19:50:11.432Z"
   },
   {
    "duration": 320,
    "start_time": "2022-11-14T19:50:42.507Z"
   },
   {
    "duration": 218,
    "start_time": "2022-11-14T19:51:15.833Z"
   },
   {
    "duration": 491,
    "start_time": "2022-11-14T19:51:31.209Z"
   },
   {
    "duration": 13,
    "start_time": "2022-11-14T19:53:26.349Z"
   },
   {
    "duration": 123,
    "start_time": "2022-11-14T19:53:30.966Z"
   },
   {
    "duration": 946,
    "start_time": "2022-11-14T20:01:25.936Z"
   },
   {
    "duration": 828,
    "start_time": "2022-11-14T20:02:01.267Z"
   },
   {
    "duration": 975,
    "start_time": "2022-11-14T20:02:21.072Z"
   },
   {
    "duration": 131,
    "start_time": "2022-11-14T20:02:37.532Z"
   },
   {
    "duration": 117,
    "start_time": "2022-11-14T20:02:53.022Z"
   },
   {
    "duration": 15,
    "start_time": "2022-11-14T20:09:30.901Z"
   },
   {
    "duration": 159,
    "start_time": "2022-11-14T20:12:57.748Z"
   },
   {
    "duration": 166,
    "start_time": "2022-11-14T20:13:11.711Z"
   },
   {
    "duration": 1594,
    "start_time": "2022-11-14T20:13:33.645Z"
   },
   {
    "duration": 158,
    "start_time": "2022-11-14T20:13:39.485Z"
   },
   {
    "duration": 172,
    "start_time": "2022-11-14T20:16:29.318Z"
   },
   {
    "duration": 164,
    "start_time": "2022-11-14T20:17:18.040Z"
   },
   {
    "duration": 169,
    "start_time": "2022-11-14T20:17:35.540Z"
   },
   {
    "duration": 250,
    "start_time": "2022-11-14T20:17:43.937Z"
   },
   {
    "duration": 165,
    "start_time": "2022-11-14T20:17:50.999Z"
   },
   {
    "duration": 59,
    "start_time": "2022-11-14T20:24:10.034Z"
   },
   {
    "duration": 8,
    "start_time": "2022-11-14T20:24:13.985Z"
   },
   {
    "duration": 9,
    "start_time": "2022-11-14T20:26:27.227Z"
   },
   {
    "duration": 784,
    "start_time": "2022-11-14T20:29:18.132Z"
   },
   {
    "duration": 49,
    "start_time": "2022-11-14T20:29:18.918Z"
   },
   {
    "duration": 2034,
    "start_time": "2022-11-14T20:29:18.970Z"
   },
   {
    "duration": 9,
    "start_time": "2022-11-14T20:29:21.006Z"
   },
   {
    "duration": 14,
    "start_time": "2022-11-14T20:29:21.017Z"
   },
   {
    "duration": 10,
    "start_time": "2022-11-14T20:29:21.032Z"
   },
   {
    "duration": 8,
    "start_time": "2022-11-14T20:29:21.043Z"
   },
   {
    "duration": 6,
    "start_time": "2022-11-14T20:29:21.053Z"
   },
   {
    "duration": 11,
    "start_time": "2022-11-14T20:29:21.060Z"
   },
   {
    "duration": 9,
    "start_time": "2022-11-14T20:29:21.073Z"
   },
   {
    "duration": 9,
    "start_time": "2022-11-14T20:29:21.083Z"
   },
   {
    "duration": 5,
    "start_time": "2022-11-14T20:29:21.093Z"
   },
   {
    "duration": 10,
    "start_time": "2022-11-14T20:29:21.100Z"
   },
   {
    "duration": 13,
    "start_time": "2022-11-14T20:29:21.121Z"
   },
   {
    "duration": 17,
    "start_time": "2022-11-14T20:29:21.135Z"
   },
   {
    "duration": 14,
    "start_time": "2022-11-14T20:29:21.154Z"
   },
   {
    "duration": 14,
    "start_time": "2022-11-14T20:29:21.170Z"
   },
   {
    "duration": 14,
    "start_time": "2022-11-14T20:29:21.186Z"
   },
   {
    "duration": 42,
    "start_time": "2022-11-14T20:29:21.201Z"
   },
   {
    "duration": 9,
    "start_time": "2022-11-14T20:29:21.245Z"
   },
   {
    "duration": 6,
    "start_time": "2022-11-14T20:29:21.256Z"
   },
   {
    "duration": 7,
    "start_time": "2022-11-14T20:29:21.263Z"
   },
   {
    "duration": 10,
    "start_time": "2022-11-14T20:29:21.271Z"
   },
   {
    "duration": 4,
    "start_time": "2022-11-14T20:29:21.282Z"
   },
   {
    "duration": 44,
    "start_time": "2022-11-14T20:29:21.287Z"
   },
   {
    "duration": 5,
    "start_time": "2022-11-14T20:29:21.333Z"
   },
   {
    "duration": 43,
    "start_time": "2022-11-14T20:29:21.339Z"
   },
   {
    "duration": 4,
    "start_time": "2022-11-14T20:29:21.386Z"
   },
   {
    "duration": 9,
    "start_time": "2022-11-14T20:29:21.392Z"
   },
   {
    "duration": 10,
    "start_time": "2022-11-14T20:29:21.402Z"
   },
   {
    "duration": 45,
    "start_time": "2022-11-14T20:29:21.413Z"
   },
   {
    "duration": 3,
    "start_time": "2022-11-14T20:29:21.460Z"
   },
   {
    "duration": 313,
    "start_time": "2022-11-14T20:29:21.464Z"
   },
   {
    "duration": 7,
    "start_time": "2022-11-14T20:29:21.779Z"
   },
   {
    "duration": 181,
    "start_time": "2022-11-14T20:29:21.788Z"
   },
   {
    "duration": 139,
    "start_time": "2022-11-14T20:29:21.971Z"
   },
   {
    "duration": 161,
    "start_time": "2022-11-14T20:29:22.112Z"
   },
   {
    "duration": 233,
    "start_time": "2022-11-14T20:29:22.274Z"
   },
   {
    "duration": 168,
    "start_time": "2022-11-14T20:29:22.509Z"
   },
   {
    "duration": 176,
    "start_time": "2022-11-14T20:29:22.678Z"
   },
   {
    "duration": 126,
    "start_time": "2022-11-14T20:29:22.856Z"
   },
   {
    "duration": 159,
    "start_time": "2022-11-14T20:29:22.983Z"
   },
   {
    "duration": 157,
    "start_time": "2022-11-14T20:29:23.144Z"
   },
   {
    "duration": 156,
    "start_time": "2022-11-14T20:29:23.303Z"
   },
   {
    "duration": 148,
    "start_time": "2022-11-14T20:29:23.460Z"
   },
   {
    "duration": 152,
    "start_time": "2022-11-14T20:29:23.609Z"
   },
   {
    "duration": 146,
    "start_time": "2022-11-14T20:29:23.763Z"
   },
   {
    "duration": 150,
    "start_time": "2022-11-14T20:29:23.911Z"
   },
   {
    "duration": 272,
    "start_time": "2022-11-14T20:29:24.063Z"
   },
   {
    "duration": 163,
    "start_time": "2022-11-14T20:29:24.338Z"
   },
   {
    "duration": 205,
    "start_time": "2022-11-14T20:29:24.502Z"
   },
   {
    "duration": 230,
    "start_time": "2022-11-14T20:29:24.709Z"
   },
   {
    "duration": 178,
    "start_time": "2022-11-14T20:29:24.941Z"
   },
   {
    "duration": 228,
    "start_time": "2022-11-14T20:29:25.127Z"
   },
   {
    "duration": 221,
    "start_time": "2022-11-14T20:29:25.357Z"
   },
   {
    "duration": 227,
    "start_time": "2022-11-14T20:29:25.580Z"
   },
   {
    "duration": 761,
    "start_time": "2022-11-14T20:31:57.519Z"
   },
   {
    "duration": 54,
    "start_time": "2022-11-14T20:31:58.282Z"
   },
   {
    "duration": 1858,
    "start_time": "2022-11-14T20:31:58.338Z"
   },
   {
    "duration": 8,
    "start_time": "2022-11-14T20:32:00.198Z"
   },
   {
    "duration": 12,
    "start_time": "2022-11-14T20:32:00.208Z"
   },
   {
    "duration": 29,
    "start_time": "2022-11-14T20:32:00.221Z"
   },
   {
    "duration": 23,
    "start_time": "2022-11-14T20:32:00.251Z"
   },
   {
    "duration": 30,
    "start_time": "2022-11-14T20:32:00.275Z"
   },
   {
    "duration": 42,
    "start_time": "2022-11-14T20:32:00.307Z"
   },
   {
    "duration": 17,
    "start_time": "2022-11-14T20:32:00.351Z"
   },
   {
    "duration": 17,
    "start_time": "2022-11-14T20:32:00.369Z"
   },
   {
    "duration": 28,
    "start_time": "2022-11-14T20:32:00.388Z"
   },
   {
    "duration": 27,
    "start_time": "2022-11-14T20:32:00.417Z"
   },
   {
    "duration": 24,
    "start_time": "2022-11-14T20:32:00.446Z"
   },
   {
    "duration": 25,
    "start_time": "2022-11-14T20:32:00.471Z"
   },
   {
    "duration": 49,
    "start_time": "2022-11-14T20:32:00.498Z"
   },
   {
    "duration": 37,
    "start_time": "2022-11-14T20:32:00.548Z"
   },
   {
    "duration": 27,
    "start_time": "2022-11-14T20:32:00.586Z"
   },
   {
    "duration": 51,
    "start_time": "2022-11-14T20:32:00.615Z"
   },
   {
    "duration": 34,
    "start_time": "2022-11-14T20:32:00.668Z"
   },
   {
    "duration": 18,
    "start_time": "2022-11-14T20:32:00.703Z"
   },
   {
    "duration": 42,
    "start_time": "2022-11-14T20:32:00.732Z"
   },
   {
    "duration": 17,
    "start_time": "2022-11-14T20:32:00.775Z"
   },
   {
    "duration": 23,
    "start_time": "2022-11-14T20:32:00.793Z"
   },
   {
    "duration": 52,
    "start_time": "2022-11-14T20:32:00.818Z"
   },
   {
    "duration": 14,
    "start_time": "2022-11-14T20:32:00.872Z"
   },
   {
    "duration": 69,
    "start_time": "2022-11-14T20:32:00.888Z"
   },
   {
    "duration": 5,
    "start_time": "2022-11-14T20:32:00.960Z"
   },
   {
    "duration": 32,
    "start_time": "2022-11-14T20:32:00.967Z"
   },
   {
    "duration": 38,
    "start_time": "2022-11-14T20:32:01.001Z"
   },
   {
    "duration": 68,
    "start_time": "2022-11-14T20:32:01.041Z"
   },
   {
    "duration": 7,
    "start_time": "2022-11-14T20:32:01.111Z"
   },
   {
    "duration": 317,
    "start_time": "2022-11-14T20:32:01.119Z"
   },
   {
    "duration": 7,
    "start_time": "2022-11-14T20:32:01.437Z"
   },
   {
    "duration": 200,
    "start_time": "2022-11-14T20:32:01.446Z"
   },
   {
    "duration": 143,
    "start_time": "2022-11-14T20:32:01.648Z"
   },
   {
    "duration": 165,
    "start_time": "2022-11-14T20:32:01.792Z"
   },
   {
    "duration": 225,
    "start_time": "2022-11-14T20:32:01.959Z"
   },
   {
    "duration": 175,
    "start_time": "2022-11-14T20:32:02.185Z"
   },
   {
    "duration": 173,
    "start_time": "2022-11-14T20:32:02.361Z"
   },
   {
    "duration": 131,
    "start_time": "2022-11-14T20:32:02.536Z"
   },
   {
    "duration": 148,
    "start_time": "2022-11-14T20:32:02.669Z"
   },
   {
    "duration": 169,
    "start_time": "2022-11-14T20:32:02.821Z"
   },
   {
    "duration": 160,
    "start_time": "2022-11-14T20:32:02.991Z"
   },
   {
    "duration": 173,
    "start_time": "2022-11-14T20:32:03.153Z"
   },
   {
    "duration": 148,
    "start_time": "2022-11-14T20:32:03.332Z"
   },
   {
    "duration": 154,
    "start_time": "2022-11-14T20:32:03.482Z"
   },
   {
    "duration": 128,
    "start_time": "2022-11-14T20:32:03.638Z"
   },
   {
    "duration": 246,
    "start_time": "2022-11-14T20:32:03.767Z"
   },
   {
    "duration": 157,
    "start_time": "2022-11-14T20:32:04.021Z"
   },
   {
    "duration": 192,
    "start_time": "2022-11-14T20:32:04.179Z"
   },
   {
    "duration": 224,
    "start_time": "2022-11-14T20:32:04.373Z"
   },
   {
    "duration": 175,
    "start_time": "2022-11-14T20:32:04.599Z"
   },
   {
    "duration": 202,
    "start_time": "2022-11-14T20:32:04.775Z"
   },
   {
    "duration": 180,
    "start_time": "2022-11-14T20:32:04.979Z"
   },
   {
    "duration": 208,
    "start_time": "2022-11-14T20:32:05.160Z"
   },
   {
    "duration": 232083,
    "start_time": "2022-11-14T20:32:05.370Z"
   },
   {
    "duration": 216,
    "start_time": "2022-11-14T20:35:57.460Z"
   },
   {
    "duration": 71,
    "start_time": "2022-11-14T20:35:57.677Z"
   },
   {
    "duration": 0,
    "start_time": "2022-11-14T20:35:57.750Z"
   },
   {
    "duration": 0,
    "start_time": "2022-11-14T20:35:57.751Z"
   },
   {
    "duration": 0,
    "start_time": "2022-11-14T20:35:57.752Z"
   },
   {
    "duration": 0,
    "start_time": "2022-11-14T20:35:57.754Z"
   },
   {
    "duration": 0,
    "start_time": "2022-11-14T20:35:57.755Z"
   },
   {
    "duration": 0,
    "start_time": "2022-11-14T20:35:57.756Z"
   },
   {
    "duration": 0,
    "start_time": "2022-11-14T20:35:57.757Z"
   },
   {
    "duration": 0,
    "start_time": "2022-11-14T20:35:57.758Z"
   },
   {
    "duration": 0,
    "start_time": "2022-11-14T20:35:57.760Z"
   },
   {
    "duration": 708,
    "start_time": "2022-11-14T21:20:58.341Z"
   },
   {
    "duration": 40,
    "start_time": "2022-11-14T21:20:59.050Z"
   },
   {
    "duration": 1857,
    "start_time": "2022-11-14T21:20:59.091Z"
   },
   {
    "duration": 10,
    "start_time": "2022-11-14T21:21:00.950Z"
   },
   {
    "duration": 25,
    "start_time": "2022-11-14T21:21:00.962Z"
   },
   {
    "duration": 17,
    "start_time": "2022-11-14T21:21:00.988Z"
   },
   {
    "duration": 39,
    "start_time": "2022-11-14T21:21:01.007Z"
   },
   {
    "duration": 23,
    "start_time": "2022-11-14T21:21:01.047Z"
   },
   {
    "duration": 17,
    "start_time": "2022-11-14T21:21:01.071Z"
   },
   {
    "duration": 17,
    "start_time": "2022-11-14T21:21:01.089Z"
   },
   {
    "duration": 10,
    "start_time": "2022-11-14T21:21:01.107Z"
   },
   {
    "duration": 18,
    "start_time": "2022-11-14T21:21:01.118Z"
   },
   {
    "duration": 123,
    "start_time": "2022-11-14T21:21:01.138Z"
   },
   {
    "duration": 20,
    "start_time": "2022-11-14T21:21:01.264Z"
   },
   {
    "duration": 16,
    "start_time": "2022-11-14T21:21:01.285Z"
   },
   {
    "duration": 47,
    "start_time": "2022-11-14T21:21:01.302Z"
   },
   {
    "duration": 24,
    "start_time": "2022-11-14T21:21:01.351Z"
   },
   {
    "duration": 20,
    "start_time": "2022-11-14T21:21:01.376Z"
   },
   {
    "duration": 22,
    "start_time": "2022-11-14T21:21:01.397Z"
   },
   {
    "duration": 30,
    "start_time": "2022-11-14T21:21:01.421Z"
   },
   {
    "duration": 11,
    "start_time": "2022-11-14T21:21:01.453Z"
   },
   {
    "duration": 15,
    "start_time": "2022-11-14T21:21:01.466Z"
   },
   {
    "duration": 13,
    "start_time": "2022-11-14T21:21:01.483Z"
   },
   {
    "duration": 14,
    "start_time": "2022-11-14T21:21:01.498Z"
   },
   {
    "duration": 33,
    "start_time": "2022-11-14T21:21:01.514Z"
   },
   {
    "duration": 48,
    "start_time": "2022-11-14T21:21:01.549Z"
   },
   {
    "duration": 53,
    "start_time": "2022-11-14T21:21:01.599Z"
   },
   {
    "duration": 6,
    "start_time": "2022-11-14T21:21:01.654Z"
   },
   {
    "duration": 42,
    "start_time": "2022-11-14T21:21:01.661Z"
   },
   {
    "duration": 22,
    "start_time": "2022-11-14T21:21:01.704Z"
   },
   {
    "duration": 138,
    "start_time": "2022-11-14T21:21:01.728Z"
   },
   {
    "duration": 30,
    "start_time": "2022-11-14T21:21:01.868Z"
   },
   {
    "duration": 296,
    "start_time": "2022-11-14T21:21:01.900Z"
   },
   {
    "duration": 6,
    "start_time": "2022-11-14T21:21:02.197Z"
   },
   {
    "duration": 195,
    "start_time": "2022-11-14T21:21:02.205Z"
   },
   {
    "duration": 146,
    "start_time": "2022-11-14T21:21:02.402Z"
   },
   {
    "duration": 154,
    "start_time": "2022-11-14T21:21:02.549Z"
   },
   {
    "duration": 235,
    "start_time": "2022-11-14T21:21:02.705Z"
   },
   {
    "duration": 162,
    "start_time": "2022-11-14T21:21:02.941Z"
   },
   {
    "duration": 167,
    "start_time": "2022-11-14T21:21:03.104Z"
   },
   {
    "duration": 136,
    "start_time": "2022-11-14T21:21:03.275Z"
   },
   {
    "duration": 147,
    "start_time": "2022-11-14T21:21:03.413Z"
   },
   {
    "duration": 145,
    "start_time": "2022-11-14T21:21:03.562Z"
   },
   {
    "duration": 155,
    "start_time": "2022-11-14T21:21:03.709Z"
   },
   {
    "duration": 169,
    "start_time": "2022-11-14T21:21:03.865Z"
   },
   {
    "duration": 135,
    "start_time": "2022-11-14T21:21:04.036Z"
   },
   {
    "duration": 140,
    "start_time": "2022-11-14T21:21:04.173Z"
   },
   {
    "duration": 140,
    "start_time": "2022-11-14T21:21:04.321Z"
   },
   {
    "duration": 280,
    "start_time": "2022-11-14T21:21:04.462Z"
   },
   {
    "duration": 191,
    "start_time": "2022-11-14T21:21:04.745Z"
   },
   {
    "duration": 177,
    "start_time": "2022-11-14T21:21:04.938Z"
   },
   {
    "duration": 263,
    "start_time": "2022-11-14T21:21:05.117Z"
   },
   {
    "duration": 207,
    "start_time": "2022-11-14T21:21:05.384Z"
   },
   {
    "duration": 208,
    "start_time": "2022-11-14T21:21:05.592Z"
   },
   {
    "duration": 186,
    "start_time": "2022-11-14T21:21:05.801Z"
   },
   {
    "duration": 205,
    "start_time": "2022-11-14T21:21:05.988Z"
   },
   {
    "duration": 247,
    "start_time": "2022-11-14T21:25:03.716Z"
   },
   {
    "duration": 50,
    "start_time": "2022-11-14T21:25:03.964Z"
   },
   {
    "duration": 0,
    "start_time": "2022-11-14T21:25:04.017Z"
   },
   {
    "duration": 0,
    "start_time": "2022-11-14T21:25:04.019Z"
   },
   {
    "duration": 0,
    "start_time": "2022-11-14T21:25:04.020Z"
   },
   {
    "duration": 0,
    "start_time": "2022-11-14T21:25:04.022Z"
   },
   {
    "duration": 0,
    "start_time": "2022-11-14T21:25:04.023Z"
   },
   {
    "duration": 0,
    "start_time": "2022-11-14T21:25:04.025Z"
   },
   {
    "duration": 0,
    "start_time": "2022-11-14T21:25:04.026Z"
   },
   {
    "duration": 0,
    "start_time": "2022-11-14T21:25:04.033Z"
   },
   {
    "duration": 0,
    "start_time": "2022-11-14T21:25:04.040Z"
   },
   {
    "duration": 754,
    "start_time": "2022-11-14T21:40:12.493Z"
   },
   {
    "duration": 35,
    "start_time": "2022-11-14T21:40:13.249Z"
   },
   {
    "duration": 1851,
    "start_time": "2022-11-14T21:40:13.285Z"
   },
   {
    "duration": 8,
    "start_time": "2022-11-14T21:40:15.138Z"
   },
   {
    "duration": 23,
    "start_time": "2022-11-14T21:40:15.148Z"
   },
   {
    "duration": 14,
    "start_time": "2022-11-14T21:40:15.173Z"
   },
   {
    "duration": 20,
    "start_time": "2022-11-14T21:40:15.188Z"
   },
   {
    "duration": 26,
    "start_time": "2022-11-14T21:40:15.209Z"
   },
   {
    "duration": 14,
    "start_time": "2022-11-14T21:40:15.237Z"
   },
   {
    "duration": 7,
    "start_time": "2022-11-14T21:40:15.253Z"
   },
   {
    "duration": 9,
    "start_time": "2022-11-14T21:40:15.261Z"
   },
   {
    "duration": 7,
    "start_time": "2022-11-14T21:40:15.272Z"
   },
   {
    "duration": 9,
    "start_time": "2022-11-14T21:40:15.280Z"
   },
   {
    "duration": 8,
    "start_time": "2022-11-14T21:40:15.291Z"
   },
   {
    "duration": 11,
    "start_time": "2022-11-14T21:40:15.300Z"
   },
   {
    "duration": 16,
    "start_time": "2022-11-14T21:40:15.329Z"
   },
   {
    "duration": 21,
    "start_time": "2022-11-14T21:40:15.346Z"
   },
   {
    "duration": 14,
    "start_time": "2022-11-14T21:40:15.369Z"
   },
   {
    "duration": 12,
    "start_time": "2022-11-14T21:40:15.385Z"
   },
   {
    "duration": 10,
    "start_time": "2022-11-14T21:40:15.399Z"
   },
   {
    "duration": 17,
    "start_time": "2022-11-14T21:40:15.410Z"
   },
   {
    "duration": 7,
    "start_time": "2022-11-14T21:40:15.441Z"
   },
   {
    "duration": 8,
    "start_time": "2022-11-14T21:40:15.450Z"
   },
   {
    "duration": 17,
    "start_time": "2022-11-14T21:40:15.460Z"
   },
   {
    "duration": 30,
    "start_time": "2022-11-14T21:40:15.479Z"
   },
   {
    "duration": 4,
    "start_time": "2022-11-14T21:40:15.512Z"
   },
   {
    "duration": 64,
    "start_time": "2022-11-14T21:40:15.518Z"
   },
   {
    "duration": 6,
    "start_time": "2022-11-14T21:40:15.586Z"
   },
   {
    "duration": 15,
    "start_time": "2022-11-14T21:40:15.593Z"
   },
   {
    "duration": 9,
    "start_time": "2022-11-14T21:40:15.609Z"
   },
   {
    "duration": 65,
    "start_time": "2022-11-14T21:40:15.619Z"
   },
   {
    "duration": 8,
    "start_time": "2022-11-14T21:40:15.686Z"
   },
   {
    "duration": 289,
    "start_time": "2022-11-14T21:40:15.695Z"
   },
   {
    "duration": 7,
    "start_time": "2022-11-14T21:40:15.985Z"
   },
   {
    "duration": 179,
    "start_time": "2022-11-14T21:40:15.994Z"
   },
   {
    "duration": 157,
    "start_time": "2022-11-14T21:40:16.174Z"
   },
   {
    "duration": 140,
    "start_time": "2022-11-14T21:40:16.333Z"
   },
   {
    "duration": 218,
    "start_time": "2022-11-14T21:40:16.474Z"
   },
   {
    "duration": 167,
    "start_time": "2022-11-14T21:40:16.694Z"
   },
   {
    "duration": 193,
    "start_time": "2022-11-14T21:40:16.863Z"
   },
   {
    "duration": 134,
    "start_time": "2022-11-14T21:40:17.057Z"
   },
   {
    "duration": 163,
    "start_time": "2022-11-14T21:40:17.192Z"
   },
   {
    "duration": 151,
    "start_time": "2022-11-14T21:40:17.357Z"
   },
   {
    "duration": 155,
    "start_time": "2022-11-14T21:40:17.509Z"
   },
   {
    "duration": 164,
    "start_time": "2022-11-14T21:40:17.666Z"
   },
   {
    "duration": 133,
    "start_time": "2022-11-14T21:40:17.833Z"
   },
   {
    "duration": 146,
    "start_time": "2022-11-14T21:40:17.967Z"
   },
   {
    "duration": 133,
    "start_time": "2022-11-14T21:40:18.126Z"
   },
   {
    "duration": 239,
    "start_time": "2022-11-14T21:40:18.260Z"
   },
   {
    "duration": 166,
    "start_time": "2022-11-14T21:40:18.501Z"
   },
   {
    "duration": 209,
    "start_time": "2022-11-14T21:40:18.669Z"
   },
   {
    "duration": 238,
    "start_time": "2022-11-14T21:40:18.879Z"
   },
   {
    "duration": 197,
    "start_time": "2022-11-14T21:40:19.123Z"
   },
   {
    "duration": 224,
    "start_time": "2022-11-14T21:40:19.322Z"
   },
   {
    "duration": 190,
    "start_time": "2022-11-14T21:40:19.548Z"
   },
   {
    "duration": 198,
    "start_time": "2022-11-14T21:40:19.739Z"
   },
   {
    "duration": 230462,
    "start_time": "2022-11-14T21:40:19.939Z"
   },
   {
    "duration": 215,
    "start_time": "2022-11-14T21:44:10.403Z"
   },
   {
    "duration": 53,
    "start_time": "2022-11-14T21:44:10.620Z"
   },
   {
    "duration": 0,
    "start_time": "2022-11-14T21:44:10.675Z"
   },
   {
    "duration": 0,
    "start_time": "2022-11-14T21:44:10.676Z"
   },
   {
    "duration": 0,
    "start_time": "2022-11-14T21:44:10.677Z"
   },
   {
    "duration": 0,
    "start_time": "2022-11-14T21:44:10.678Z"
   },
   {
    "duration": 0,
    "start_time": "2022-11-14T21:44:10.680Z"
   },
   {
    "duration": 0,
    "start_time": "2022-11-14T21:44:10.681Z"
   },
   {
    "duration": 0,
    "start_time": "2022-11-14T21:44:10.681Z"
   },
   {
    "duration": 0,
    "start_time": "2022-11-14T21:44:10.682Z"
   },
   {
    "duration": 687,
    "start_time": "2022-11-14T21:48:26.679Z"
   },
   {
    "duration": 36,
    "start_time": "2022-11-14T21:48:27.368Z"
   },
   {
    "duration": 1896,
    "start_time": "2022-11-14T21:48:27.406Z"
   },
   {
    "duration": 9,
    "start_time": "2022-11-14T21:48:29.304Z"
   },
   {
    "duration": 6,
    "start_time": "2022-11-14T21:48:29.314Z"
   },
   {
    "duration": 19,
    "start_time": "2022-11-14T21:48:29.321Z"
   },
   {
    "duration": 7,
    "start_time": "2022-11-14T21:48:29.342Z"
   },
   {
    "duration": 8,
    "start_time": "2022-11-14T21:48:29.351Z"
   },
   {
    "duration": 12,
    "start_time": "2022-11-14T21:48:29.360Z"
   },
   {
    "duration": 8,
    "start_time": "2022-11-14T21:48:29.374Z"
   },
   {
    "duration": 11,
    "start_time": "2022-11-14T21:48:29.384Z"
   },
   {
    "duration": 5,
    "start_time": "2022-11-14T21:48:29.396Z"
   },
   {
    "duration": 15,
    "start_time": "2022-11-14T21:48:29.402Z"
   },
   {
    "duration": 28,
    "start_time": "2022-11-14T21:48:29.419Z"
   },
   {
    "duration": 17,
    "start_time": "2022-11-14T21:48:29.448Z"
   },
   {
    "duration": 22,
    "start_time": "2022-11-14T21:48:29.467Z"
   },
   {
    "duration": 45,
    "start_time": "2022-11-14T21:48:29.491Z"
   },
   {
    "duration": 23,
    "start_time": "2022-11-14T21:48:29.538Z"
   },
   {
    "duration": 21,
    "start_time": "2022-11-14T21:48:29.563Z"
   },
   {
    "duration": 10,
    "start_time": "2022-11-14T21:48:29.585Z"
   },
   {
    "duration": 7,
    "start_time": "2022-11-14T21:48:29.596Z"
   },
   {
    "duration": 9,
    "start_time": "2022-11-14T21:48:29.604Z"
   },
   {
    "duration": 8,
    "start_time": "2022-11-14T21:48:29.614Z"
   },
   {
    "duration": 15,
    "start_time": "2022-11-14T21:48:29.624Z"
   },
   {
    "duration": 26,
    "start_time": "2022-11-14T21:48:29.641Z"
   },
   {
    "duration": 4,
    "start_time": "2022-11-14T21:48:29.668Z"
   },
   {
    "duration": 41,
    "start_time": "2022-11-14T21:48:29.673Z"
   },
   {
    "duration": 8,
    "start_time": "2022-11-14T21:48:29.722Z"
   },
   {
    "duration": 14,
    "start_time": "2022-11-14T21:48:29.731Z"
   },
   {
    "duration": 8,
    "start_time": "2022-11-14T21:48:29.747Z"
   },
   {
    "duration": 31,
    "start_time": "2022-11-14T21:48:29.756Z"
   },
   {
    "duration": 3,
    "start_time": "2022-11-14T21:48:29.788Z"
   },
   {
    "duration": 284,
    "start_time": "2022-11-14T21:48:29.792Z"
   },
   {
    "duration": 5,
    "start_time": "2022-11-14T21:48:30.079Z"
   },
   {
    "duration": 176,
    "start_time": "2022-11-14T21:48:30.086Z"
   },
   {
    "duration": 173,
    "start_time": "2022-11-14T21:48:30.264Z"
   },
   {
    "duration": 160,
    "start_time": "2022-11-14T21:48:30.440Z"
   },
   {
    "duration": 212,
    "start_time": "2022-11-14T21:48:30.602Z"
   },
   {
    "duration": 166,
    "start_time": "2022-11-14T21:48:30.816Z"
   },
   {
    "duration": 172,
    "start_time": "2022-11-14T21:48:30.983Z"
   },
   {
    "duration": 121,
    "start_time": "2022-11-14T21:48:31.156Z"
   },
   {
    "duration": 151,
    "start_time": "2022-11-14T21:48:31.278Z"
   },
   {
    "duration": 168,
    "start_time": "2022-11-14T21:48:31.430Z"
   },
   {
    "duration": 166,
    "start_time": "2022-11-14T21:48:31.599Z"
   },
   {
    "duration": 148,
    "start_time": "2022-11-14T21:48:31.766Z"
   },
   {
    "duration": 147,
    "start_time": "2022-11-14T21:48:31.920Z"
   },
   {
    "duration": 144,
    "start_time": "2022-11-14T21:48:32.069Z"
   },
   {
    "duration": 139,
    "start_time": "2022-11-14T21:48:32.214Z"
   },
   {
    "duration": 243,
    "start_time": "2022-11-14T21:48:32.354Z"
   },
   {
    "duration": 167,
    "start_time": "2022-11-14T21:48:32.599Z"
   },
   {
    "duration": 204,
    "start_time": "2022-11-14T21:48:32.768Z"
   },
   {
    "duration": 200,
    "start_time": "2022-11-14T21:48:32.974Z"
   },
   {
    "duration": 180,
    "start_time": "2022-11-14T21:48:33.176Z"
   },
   {
    "duration": 197,
    "start_time": "2022-11-14T21:48:33.358Z"
   },
   {
    "duration": 182,
    "start_time": "2022-11-14T21:48:33.557Z"
   },
   {
    "duration": 203,
    "start_time": "2022-11-14T21:48:33.741Z"
   },
   {
    "duration": 229148,
    "start_time": "2022-11-14T21:48:33.946Z"
   },
   {
    "duration": 220,
    "start_time": "2022-11-14T21:52:23.095Z"
   },
   {
    "duration": 56,
    "start_time": "2022-11-14T21:52:23.318Z"
   },
   {
    "duration": 0,
    "start_time": "2022-11-14T21:52:23.376Z"
   },
   {
    "duration": 0,
    "start_time": "2022-11-14T21:52:23.378Z"
   },
   {
    "duration": 0,
    "start_time": "2022-11-14T21:52:23.379Z"
   },
   {
    "duration": 0,
    "start_time": "2022-11-14T21:52:23.381Z"
   },
   {
    "duration": 0,
    "start_time": "2022-11-14T21:52:23.383Z"
   },
   {
    "duration": 0,
    "start_time": "2022-11-14T21:52:23.384Z"
   },
   {
    "duration": 0,
    "start_time": "2022-11-14T21:52:23.385Z"
   },
   {
    "duration": 0,
    "start_time": "2022-11-14T21:52:23.387Z"
   },
   {
    "duration": 1332,
    "start_time": "2022-11-14T21:54:27.511Z"
   },
   {
    "duration": 188,
    "start_time": "2022-11-14T21:54:37.947Z"
   },
   {
    "duration": 182,
    "start_time": "2022-11-14T21:56:42.437Z"
   },
   {
    "duration": 194,
    "start_time": "2022-11-14T21:57:07.054Z"
   },
   {
    "duration": 179,
    "start_time": "2022-11-14T21:57:29.794Z"
   },
   {
    "duration": 171,
    "start_time": "2022-11-14T21:58:09.094Z"
   },
   {
    "duration": 12,
    "start_time": "2022-11-14T21:59:55.535Z"
   },
   {
    "duration": 10,
    "start_time": "2022-11-14T22:00:04.901Z"
   },
   {
    "duration": 185,
    "start_time": "2022-11-14T22:00:42.341Z"
   },
   {
    "duration": 174,
    "start_time": "2022-11-14T22:01:02.261Z"
   },
   {
    "duration": 175,
    "start_time": "2022-11-14T22:01:32.333Z"
   },
   {
    "duration": 149,
    "start_time": "2022-11-14T22:03:35.698Z"
   },
   {
    "duration": 143,
    "start_time": "2022-11-14T22:04:49.610Z"
   },
   {
    "duration": 197,
    "start_time": "2022-11-14T22:06:02.440Z"
   },
   {
    "duration": 798,
    "start_time": "2022-11-14T22:10:56.027Z"
   },
   {
    "duration": 47,
    "start_time": "2022-11-14T22:10:56.828Z"
   },
   {
    "duration": 1891,
    "start_time": "2022-11-14T22:10:56.877Z"
   },
   {
    "duration": 9,
    "start_time": "2022-11-14T22:10:58.770Z"
   },
   {
    "duration": 8,
    "start_time": "2022-11-14T22:10:58.780Z"
   },
   {
    "duration": 8,
    "start_time": "2022-11-14T22:10:58.789Z"
   },
   {
    "duration": 9,
    "start_time": "2022-11-14T22:10:58.798Z"
   },
   {
    "duration": 16,
    "start_time": "2022-11-14T22:10:58.808Z"
   },
   {
    "duration": 18,
    "start_time": "2022-11-14T22:10:58.825Z"
   },
   {
    "duration": 8,
    "start_time": "2022-11-14T22:10:58.846Z"
   },
   {
    "duration": 11,
    "start_time": "2022-11-14T22:10:58.856Z"
   },
   {
    "duration": 10,
    "start_time": "2022-11-14T22:10:58.868Z"
   },
   {
    "duration": 9,
    "start_time": "2022-11-14T22:10:58.879Z"
   },
   {
    "duration": 12,
    "start_time": "2022-11-14T22:10:58.890Z"
   },
   {
    "duration": 15,
    "start_time": "2022-11-14T22:10:58.925Z"
   },
   {
    "duration": 13,
    "start_time": "2022-11-14T22:10:58.942Z"
   },
   {
    "duration": 16,
    "start_time": "2022-11-14T22:10:58.956Z"
   },
   {
    "duration": 16,
    "start_time": "2022-11-14T22:10:58.973Z"
   },
   {
    "duration": 14,
    "start_time": "2022-11-14T22:10:58.991Z"
   },
   {
    "duration": 12,
    "start_time": "2022-11-14T22:10:59.022Z"
   },
   {
    "duration": 14,
    "start_time": "2022-11-14T22:10:59.037Z"
   },
   {
    "duration": 5,
    "start_time": "2022-11-14T22:10:59.052Z"
   },
   {
    "duration": 6,
    "start_time": "2022-11-14T22:10:59.059Z"
   },
   {
    "duration": 6,
    "start_time": "2022-11-14T22:10:59.067Z"
   },
   {
    "duration": 60,
    "start_time": "2022-11-14T22:10:59.074Z"
   },
   {
    "duration": 4,
    "start_time": "2022-11-14T22:10:59.139Z"
   },
   {
    "duration": 42,
    "start_time": "2022-11-14T22:10:59.145Z"
   },
   {
    "duration": 5,
    "start_time": "2022-11-14T22:10:59.190Z"
   },
   {
    "duration": 26,
    "start_time": "2022-11-14T22:10:59.196Z"
   },
   {
    "duration": 20,
    "start_time": "2022-11-14T22:10:59.224Z"
   },
   {
    "duration": 31,
    "start_time": "2022-11-14T22:10:59.246Z"
   },
   {
    "duration": 2,
    "start_time": "2022-11-14T22:10:59.279Z"
   },
   {
    "duration": 297,
    "start_time": "2022-11-14T22:10:59.283Z"
   },
   {
    "duration": 6,
    "start_time": "2022-11-14T22:10:59.582Z"
   },
   {
    "duration": 184,
    "start_time": "2022-11-14T22:10:59.589Z"
   },
   {
    "duration": 149,
    "start_time": "2022-11-14T22:10:59.775Z"
   },
   {
    "duration": 155,
    "start_time": "2022-11-14T22:10:59.929Z"
   },
   {
    "duration": 266,
    "start_time": "2022-11-14T22:11:00.085Z"
   },
   {
    "duration": 179,
    "start_time": "2022-11-14T22:11:00.353Z"
   },
   {
    "duration": 166,
    "start_time": "2022-11-14T22:11:00.534Z"
   },
   {
    "duration": 142,
    "start_time": "2022-11-14T22:11:00.702Z"
   },
   {
    "duration": 156,
    "start_time": "2022-11-14T22:11:00.846Z"
   },
   {
    "duration": 174,
    "start_time": "2022-11-14T22:11:01.004Z"
   },
   {
    "duration": 171,
    "start_time": "2022-11-14T22:11:01.180Z"
   },
   {
    "duration": 178,
    "start_time": "2022-11-14T22:11:01.353Z"
   },
   {
    "duration": 158,
    "start_time": "2022-11-14T22:11:01.538Z"
   },
   {
    "duration": 169,
    "start_time": "2022-11-14T22:11:01.698Z"
   },
   {
    "duration": 192,
    "start_time": "2022-11-14T22:11:01.869Z"
   },
   {
    "duration": 280,
    "start_time": "2022-11-14T22:11:02.063Z"
   },
   {
    "duration": 165,
    "start_time": "2022-11-14T22:11:02.345Z"
   },
   {
    "duration": 217,
    "start_time": "2022-11-14T22:11:02.512Z"
   },
   {
    "duration": 231,
    "start_time": "2022-11-14T22:11:02.731Z"
   },
   {
    "duration": 198,
    "start_time": "2022-11-14T22:11:02.964Z"
   },
   {
    "duration": 214,
    "start_time": "2022-11-14T22:11:03.164Z"
   },
   {
    "duration": 180,
    "start_time": "2022-11-14T22:11:03.380Z"
   },
   {
    "duration": 215,
    "start_time": "2022-11-14T22:11:03.562Z"
   },
   {
    "duration": 164,
    "start_time": "2022-11-14T22:11:03.779Z"
   },
   {
    "duration": 193,
    "start_time": "2022-11-14T22:11:03.945Z"
   },
   {
    "duration": 241611,
    "start_time": "2022-11-14T22:11:04.139Z"
   },
   {
    "duration": 191,
    "start_time": "2022-11-14T22:15:05.751Z"
   },
   {
    "duration": 166,
    "start_time": "2022-11-14T22:15:05.943Z"
   },
   {
    "duration": 37,
    "start_time": "2022-11-14T22:15:06.111Z"
   },
   {
    "duration": 20,
    "start_time": "2022-11-14T22:15:06.150Z"
   },
   {
    "duration": 153,
    "start_time": "2022-11-14T22:15:06.173Z"
   },
   {
    "duration": 205,
    "start_time": "2022-11-14T22:15:06.330Z"
   },
   {
    "duration": 574,
    "start_time": "2022-11-14T22:17:29.964Z"
   },
   {
    "duration": 304,
    "start_time": "2022-11-14T22:19:17.564Z"
   },
   {
    "duration": 175,
    "start_time": "2022-11-14T22:20:46.120Z"
   },
   {
    "duration": 6,
    "start_time": "2022-11-14T22:21:13.608Z"
   },
   {
    "duration": 24,
    "start_time": "2022-11-14T22:21:52.979Z"
   },
   {
    "duration": 4,
    "start_time": "2022-11-14T22:22:04.009Z"
   },
   {
    "duration": 76,
    "start_time": "2022-11-14T22:22:17.080Z"
   },
   {
    "duration": 29,
    "start_time": "2022-11-14T22:22:24.537Z"
   },
   {
    "duration": 6,
    "start_time": "2022-11-14T22:22:25.241Z"
   },
   {
    "duration": 3,
    "start_time": "2022-11-14T22:23:10.943Z"
   },
   {
    "duration": 1245,
    "start_time": "2022-11-14T22:23:34.415Z"
   },
   {
    "duration": 39,
    "start_time": "2022-11-14T22:23:35.662Z"
   },
   {
    "duration": 1854,
    "start_time": "2022-11-14T22:23:35.702Z"
   },
   {
    "duration": 9,
    "start_time": "2022-11-14T22:23:37.557Z"
   },
   {
    "duration": 5,
    "start_time": "2022-11-14T22:23:37.567Z"
   },
   {
    "duration": 4,
    "start_time": "2022-11-14T22:23:37.573Z"
   },
   {
    "duration": 8,
    "start_time": "2022-11-14T22:23:37.578Z"
   },
   {
    "duration": 8,
    "start_time": "2022-11-14T22:23:37.587Z"
   },
   {
    "duration": 12,
    "start_time": "2022-11-14T22:23:37.596Z"
   },
   {
    "duration": 7,
    "start_time": "2022-11-14T22:23:37.610Z"
   },
   {
    "duration": 22,
    "start_time": "2022-11-14T22:23:37.621Z"
   },
   {
    "duration": 6,
    "start_time": "2022-11-14T22:23:37.644Z"
   },
   {
    "duration": 9,
    "start_time": "2022-11-14T22:23:37.651Z"
   },
   {
    "duration": 8,
    "start_time": "2022-11-14T22:23:37.662Z"
   },
   {
    "duration": 11,
    "start_time": "2022-11-14T22:23:37.672Z"
   },
   {
    "duration": 38,
    "start_time": "2022-11-14T22:23:37.684Z"
   },
   {
    "duration": 27,
    "start_time": "2022-11-14T22:23:37.724Z"
   },
   {
    "duration": 21,
    "start_time": "2022-11-14T22:23:37.753Z"
   },
   {
    "duration": 13,
    "start_time": "2022-11-14T22:23:37.776Z"
   },
   {
    "duration": 10,
    "start_time": "2022-11-14T22:23:37.791Z"
   },
   {
    "duration": 11,
    "start_time": "2022-11-14T22:23:37.802Z"
   },
   {
    "duration": 17,
    "start_time": "2022-11-14T22:23:37.814Z"
   },
   {
    "duration": 8,
    "start_time": "2022-11-14T22:23:37.833Z"
   },
   {
    "duration": 5,
    "start_time": "2022-11-14T22:23:37.843Z"
   },
   {
    "duration": 27,
    "start_time": "2022-11-14T22:23:37.849Z"
   },
   {
    "duration": 4,
    "start_time": "2022-11-14T22:23:37.877Z"
   },
   {
    "duration": 57,
    "start_time": "2022-11-14T22:23:37.882Z"
   },
   {
    "duration": 5,
    "start_time": "2022-11-14T22:23:37.943Z"
   },
   {
    "duration": 8,
    "start_time": "2022-11-14T22:23:37.949Z"
   },
   {
    "duration": 5,
    "start_time": "2022-11-14T22:23:37.958Z"
   },
   {
    "duration": 37,
    "start_time": "2022-11-14T22:23:37.964Z"
   },
   {
    "duration": 9,
    "start_time": "2022-11-14T22:23:38.021Z"
   },
   {
    "duration": 293,
    "start_time": "2022-11-14T22:23:38.031Z"
   },
   {
    "duration": 9,
    "start_time": "2022-11-14T22:23:38.331Z"
   },
   {
    "duration": 163,
    "start_time": "2022-11-14T22:23:38.341Z"
   },
   {
    "duration": 161,
    "start_time": "2022-11-14T22:23:38.506Z"
   },
   {
    "duration": 169,
    "start_time": "2022-11-14T22:23:38.668Z"
   },
   {
    "duration": 138,
    "start_time": "2022-11-14T22:23:38.839Z"
   },
   {
    "duration": 169,
    "start_time": "2022-11-14T22:23:38.979Z"
   },
   {
    "duration": 164,
    "start_time": "2022-11-14T22:23:39.150Z"
   },
   {
    "duration": 121,
    "start_time": "2022-11-14T22:23:39.321Z"
   },
   {
    "duration": 253,
    "start_time": "2022-11-14T22:23:39.443Z"
   },
   {
    "duration": 169,
    "start_time": "2022-11-14T22:23:39.697Z"
   },
   {
    "duration": 176,
    "start_time": "2022-11-14T22:23:39.867Z"
   },
   {
    "duration": 150,
    "start_time": "2022-11-14T22:23:40.044Z"
   },
   {
    "duration": 153,
    "start_time": "2022-11-14T22:23:40.195Z"
   },
   {
    "duration": 150,
    "start_time": "2022-11-14T22:23:40.350Z"
   },
   {
    "duration": 157,
    "start_time": "2022-11-14T22:23:40.502Z"
   },
   {
    "duration": 183,
    "start_time": "2022-11-14T22:23:40.661Z"
   },
   {
    "duration": 167,
    "start_time": "2022-11-14T22:23:40.845Z"
   },
   {
    "duration": 182,
    "start_time": "2022-11-14T22:23:41.026Z"
   },
   {
    "duration": 211,
    "start_time": "2022-11-14T22:23:41.210Z"
   },
   {
    "duration": 277,
    "start_time": "2022-11-14T22:23:41.424Z"
   },
   {
    "duration": 206,
    "start_time": "2022-11-14T22:23:41.703Z"
   },
   {
    "duration": 187,
    "start_time": "2022-11-14T22:23:41.910Z"
   },
   {
    "duration": 210,
    "start_time": "2022-11-14T22:23:42.098Z"
   },
   {
    "duration": 150,
    "start_time": "2022-11-14T22:23:42.310Z"
   },
   {
    "duration": 178,
    "start_time": "2022-11-14T22:23:42.462Z"
   },
   {
    "duration": 194,
    "start_time": "2022-11-14T22:23:42.641Z"
   },
   {
    "duration": 174,
    "start_time": "2022-11-14T22:23:42.837Z"
   },
   {
    "duration": 237700,
    "start_time": "2022-11-14T22:23:43.012Z"
   },
   {
    "duration": 173,
    "start_time": "2022-11-14T22:27:40.713Z"
   },
   {
    "duration": 171,
    "start_time": "2022-11-14T22:27:40.888Z"
   },
   {
    "duration": 22,
    "start_time": "2022-11-14T22:27:41.060Z"
   },
   {
    "duration": 42,
    "start_time": "2022-11-14T22:27:41.084Z"
   },
   {
    "duration": 145,
    "start_time": "2022-11-14T22:27:41.128Z"
   },
   {
    "duration": 189,
    "start_time": "2022-11-14T22:27:41.274Z"
   },
   {
    "duration": 54,
    "start_time": "2022-11-14T22:27:41.468Z"
   },
   {
    "duration": 181,
    "start_time": "2022-11-14T22:28:45.654Z"
   },
   {
    "duration": 179,
    "start_time": "2022-11-14T22:29:11.218Z"
   },
   {
    "duration": 239,
    "start_time": "2022-11-14T22:32:24.239Z"
   },
   {
    "duration": 169,
    "start_time": "2022-11-14T22:33:33.208Z"
   },
   {
    "duration": 74,
    "start_time": "2022-11-14T22:41:44.905Z"
   },
   {
    "duration": 1866,
    "start_time": "2022-11-15T11:07:45.068Z"
   },
   {
    "duration": 48,
    "start_time": "2022-11-15T11:07:46.945Z"
   },
   {
    "duration": 2045,
    "start_time": "2022-11-15T11:07:46.994Z"
   },
   {
    "duration": 21,
    "start_time": "2022-11-15T11:07:49.041Z"
   },
   {
    "duration": 10,
    "start_time": "2022-11-15T11:07:49.063Z"
   },
   {
    "duration": 5,
    "start_time": "2022-11-15T11:07:49.075Z"
   },
   {
    "duration": 7,
    "start_time": "2022-11-15T11:07:49.082Z"
   },
   {
    "duration": 7,
    "start_time": "2022-11-15T11:07:49.090Z"
   },
   {
    "duration": 10,
    "start_time": "2022-11-15T11:07:49.099Z"
   },
   {
    "duration": 16,
    "start_time": "2022-11-15T11:07:49.111Z"
   },
   {
    "duration": 38,
    "start_time": "2022-11-15T11:07:49.133Z"
   },
   {
    "duration": 4,
    "start_time": "2022-11-15T11:07:49.173Z"
   },
   {
    "duration": 15,
    "start_time": "2022-11-15T11:07:49.179Z"
   },
   {
    "duration": 12,
    "start_time": "2022-11-15T11:07:49.196Z"
   },
   {
    "duration": 19,
    "start_time": "2022-11-15T11:07:49.210Z"
   },
   {
    "duration": 54,
    "start_time": "2022-11-15T11:07:49.232Z"
   },
   {
    "duration": 14,
    "start_time": "2022-11-15T11:07:49.287Z"
   },
   {
    "duration": 23,
    "start_time": "2022-11-15T11:07:49.303Z"
   },
   {
    "duration": 44,
    "start_time": "2022-11-15T11:07:49.327Z"
   },
   {
    "duration": 11,
    "start_time": "2022-11-15T11:07:49.373Z"
   },
   {
    "duration": 6,
    "start_time": "2022-11-15T11:07:49.386Z"
   },
   {
    "duration": 6,
    "start_time": "2022-11-15T11:07:49.393Z"
   },
   {
    "duration": 5,
    "start_time": "2022-11-15T11:07:49.400Z"
   },
   {
    "duration": 6,
    "start_time": "2022-11-15T11:07:49.407Z"
   },
   {
    "duration": 37,
    "start_time": "2022-11-15T11:07:49.415Z"
   },
   {
    "duration": 17,
    "start_time": "2022-11-15T11:07:49.453Z"
   },
   {
    "duration": 37,
    "start_time": "2022-11-15T11:07:49.472Z"
   },
   {
    "duration": 5,
    "start_time": "2022-11-15T11:07:49.512Z"
   },
   {
    "duration": 14,
    "start_time": "2022-11-15T11:07:49.518Z"
   },
   {
    "duration": 21,
    "start_time": "2022-11-15T11:07:49.539Z"
   },
   {
    "duration": 34,
    "start_time": "2022-11-15T11:07:49.561Z"
   },
   {
    "duration": 4,
    "start_time": "2022-11-15T11:07:49.596Z"
   },
   {
    "duration": 314,
    "start_time": "2022-11-15T11:07:49.601Z"
   },
   {
    "duration": 27,
    "start_time": "2022-11-15T11:07:49.917Z"
   },
   {
    "duration": 194,
    "start_time": "2022-11-15T11:07:49.954Z"
   },
   {
    "duration": 147,
    "start_time": "2022-11-15T11:07:50.149Z"
   },
   {
    "duration": 170,
    "start_time": "2022-11-15T11:07:50.297Z"
   },
   {
    "duration": 174,
    "start_time": "2022-11-15T11:07:50.469Z"
   },
   {
    "duration": 185,
    "start_time": "2022-11-15T11:07:50.652Z"
   },
   {
    "duration": 183,
    "start_time": "2022-11-15T11:07:50.847Z"
   },
   {
    "duration": 133,
    "start_time": "2022-11-15T11:07:51.036Z"
   },
   {
    "duration": 284,
    "start_time": "2022-11-15T11:07:51.170Z"
   },
   {
    "duration": 182,
    "start_time": "2022-11-15T11:07:51.456Z"
   },
   {
    "duration": 158,
    "start_time": "2022-11-15T11:07:51.645Z"
   },
   {
    "duration": 175,
    "start_time": "2022-11-15T11:07:51.804Z"
   },
   {
    "duration": 176,
    "start_time": "2022-11-15T11:07:51.980Z"
   },
   {
    "duration": 176,
    "start_time": "2022-11-15T11:07:52.158Z"
   },
   {
    "duration": 159,
    "start_time": "2022-11-15T11:07:52.336Z"
   },
   {
    "duration": 199,
    "start_time": "2022-11-15T11:07:52.496Z"
   },
   {
    "duration": 191,
    "start_time": "2022-11-15T11:07:52.697Z"
   },
   {
    "duration": 202,
    "start_time": "2022-11-15T11:07:52.889Z"
   },
   {
    "duration": 220,
    "start_time": "2022-11-15T11:07:53.093Z"
   },
   {
    "duration": 287,
    "start_time": "2022-11-15T11:07:53.315Z"
   },
   {
    "duration": 231,
    "start_time": "2022-11-15T11:07:53.603Z"
   },
   {
    "duration": 199,
    "start_time": "2022-11-15T11:07:53.835Z"
   },
   {
    "duration": 227,
    "start_time": "2022-11-15T11:07:54.035Z"
   },
   {
    "duration": 174,
    "start_time": "2022-11-15T11:07:54.266Z"
   },
   {
    "duration": 188,
    "start_time": "2022-11-15T11:07:54.442Z"
   },
   {
    "duration": 180,
    "start_time": "2022-11-15T11:07:54.634Z"
   },
   {
    "duration": 272,
    "start_time": "2022-11-15T11:07:54.815Z"
   },
   {
    "duration": 1625,
    "start_time": "2022-11-15T14:24:28.078Z"
   },
   {
    "duration": 46,
    "start_time": "2022-11-15T14:24:29.705Z"
   },
   {
    "duration": 2168,
    "start_time": "2022-11-15T14:24:29.753Z"
   },
   {
    "duration": 10,
    "start_time": "2022-11-15T14:24:31.924Z"
   },
   {
    "duration": 20,
    "start_time": "2022-11-15T14:24:31.935Z"
   },
   {
    "duration": 12,
    "start_time": "2022-11-15T14:24:31.956Z"
   },
   {
    "duration": 15,
    "start_time": "2022-11-15T14:24:31.970Z"
   },
   {
    "duration": 35,
    "start_time": "2022-11-15T14:24:31.986Z"
   },
   {
    "duration": 14,
    "start_time": "2022-11-15T14:24:32.023Z"
   },
   {
    "duration": 55,
    "start_time": "2022-11-15T14:24:32.040Z"
   },
   {
    "duration": 28,
    "start_time": "2022-11-15T14:24:32.097Z"
   },
   {
    "duration": 11,
    "start_time": "2022-11-15T14:24:32.127Z"
   },
   {
    "duration": 12,
    "start_time": "2022-11-15T14:24:32.140Z"
   },
   {
    "duration": 12,
    "start_time": "2022-11-15T14:24:32.154Z"
   },
   {
    "duration": 13,
    "start_time": "2022-11-15T14:24:32.168Z"
   },
   {
    "duration": 21,
    "start_time": "2022-11-15T14:24:32.183Z"
   },
   {
    "duration": 19,
    "start_time": "2022-11-15T14:24:32.205Z"
   },
   {
    "duration": 19,
    "start_time": "2022-11-15T14:24:32.226Z"
   },
   {
    "duration": 21,
    "start_time": "2022-11-15T14:24:32.247Z"
   },
   {
    "duration": 14,
    "start_time": "2022-11-15T14:24:32.270Z"
   },
   {
    "duration": 8,
    "start_time": "2022-11-15T14:24:32.287Z"
   },
   {
    "duration": 6,
    "start_time": "2022-11-15T14:24:32.297Z"
   },
   {
    "duration": 5,
    "start_time": "2022-11-15T14:24:32.305Z"
   },
   {
    "duration": 4,
    "start_time": "2022-11-15T14:24:32.311Z"
   },
   {
    "duration": 62,
    "start_time": "2022-11-15T14:24:32.316Z"
   },
   {
    "duration": 4,
    "start_time": "2022-11-15T14:24:32.380Z"
   },
   {
    "duration": 49,
    "start_time": "2022-11-15T14:24:32.385Z"
   },
   {
    "duration": 6,
    "start_time": "2022-11-15T14:24:32.438Z"
   },
   {
    "duration": 7,
    "start_time": "2022-11-15T14:24:32.445Z"
   },
   {
    "duration": 28,
    "start_time": "2022-11-15T14:24:32.454Z"
   },
   {
    "duration": 100,
    "start_time": "2022-11-15T14:24:32.484Z"
   },
   {
    "duration": 6,
    "start_time": "2022-11-15T14:24:32.587Z"
   },
   {
    "duration": 325,
    "start_time": "2022-11-15T14:24:32.595Z"
   },
   {
    "duration": 8,
    "start_time": "2022-11-15T14:24:32.921Z"
   },
   {
    "duration": 205,
    "start_time": "2022-11-15T14:24:32.931Z"
   },
   {
    "duration": 165,
    "start_time": "2022-11-15T14:24:33.137Z"
   },
   {
    "duration": 178,
    "start_time": "2022-11-15T14:24:33.304Z"
   },
   {
    "duration": 158,
    "start_time": "2022-11-15T14:24:33.484Z"
   },
   {
    "duration": 194,
    "start_time": "2022-11-15T14:24:33.643Z"
   },
   {
    "duration": 213,
    "start_time": "2022-11-15T14:24:33.839Z"
   },
   {
    "duration": 183,
    "start_time": "2022-11-15T14:24:34.055Z"
   },
   {
    "duration": 317,
    "start_time": "2022-11-15T14:24:34.240Z"
   },
   {
    "duration": 180,
    "start_time": "2022-11-15T14:24:34.559Z"
   },
   {
    "duration": 181,
    "start_time": "2022-11-15T14:24:34.741Z"
   },
   {
    "duration": 178,
    "start_time": "2022-11-15T14:24:34.924Z"
   },
   {
    "duration": 167,
    "start_time": "2022-11-15T14:24:35.104Z"
   },
   {
    "duration": 163,
    "start_time": "2022-11-15T14:24:35.278Z"
   },
   {
    "duration": 175,
    "start_time": "2022-11-15T14:24:35.443Z"
   },
   {
    "duration": 198,
    "start_time": "2022-11-15T14:24:35.620Z"
   },
   {
    "duration": 195,
    "start_time": "2022-11-15T14:24:35.820Z"
   },
   {
    "duration": 221,
    "start_time": "2022-11-15T14:24:36.018Z"
   },
   {
    "duration": 247,
    "start_time": "2022-11-15T14:24:36.241Z"
   },
   {
    "duration": 302,
    "start_time": "2022-11-15T14:24:36.490Z"
   },
   {
    "duration": 238,
    "start_time": "2022-11-15T14:24:36.794Z"
   },
   {
    "duration": 202,
    "start_time": "2022-11-15T14:24:37.034Z"
   },
   {
    "duration": 230,
    "start_time": "2022-11-15T14:24:37.237Z"
   },
   {
    "duration": 171,
    "start_time": "2022-11-15T14:24:37.468Z"
   },
   {
    "duration": 191,
    "start_time": "2022-11-15T14:24:37.641Z"
   },
   {
    "duration": 189,
    "start_time": "2022-11-15T14:24:37.834Z"
   },
   {
    "duration": 273,
    "start_time": "2022-11-15T14:24:38.024Z"
   },
   {
    "duration": 194,
    "start_time": "2022-11-15T14:24:38.299Z"
   },
   {
    "duration": 27,
    "start_time": "2022-11-15T14:24:38.494Z"
   },
   {
    "duration": 23,
    "start_time": "2022-11-15T14:24:38.523Z"
   },
   {
    "duration": 166,
    "start_time": "2022-11-15T14:24:38.548Z"
   },
   {
    "duration": 307,
    "start_time": "2022-11-15T14:24:38.715Z"
   },
   {
    "duration": 71,
    "start_time": "2022-11-15T14:24:39.024Z"
   },
   {
    "duration": 44,
    "start_time": "2022-11-15T14:24:47.227Z"
   },
   {
    "duration": 41,
    "start_time": "2022-11-15T14:25:07.561Z"
   }
  ],
  "kernelspec": {
   "display_name": "Python 3 (ipykernel)",
   "language": "python",
   "name": "python3"
  },
  "language_info": {
   "codemirror_mode": {
    "name": "ipython",
    "version": 3
   },
   "file_extension": ".py",
   "mimetype": "text/x-python",
   "name": "python",
   "nbconvert_exporter": "python",
   "pygments_lexer": "ipython3",
   "version": "3.11.4"
  },
  "toc": {
   "base_numbering": 1,
   "nav_menu": {},
   "number_sections": true,
   "sideBar": true,
   "skip_h1_title": true,
   "title_cell": "Table of Contents",
   "title_sidebar": "Contents",
   "toc_cell": false,
   "toc_position": {},
   "toc_section_display": true,
   "toc_window_display": false
  }
 },
 "nbformat": 4,
 "nbformat_minor": 2
}
